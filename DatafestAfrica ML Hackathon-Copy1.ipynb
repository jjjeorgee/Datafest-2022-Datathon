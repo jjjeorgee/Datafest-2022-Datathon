{
 "cells": [
  {
   "cell_type": "markdown",
   "id": "41313177",
   "metadata": {},
   "source": [
    "# DatafestAfrica ML Hackathon Submission for Analytical Minds\n",
    "\n",
    "### Zion Oluwasegun, Neto Anyama and Oladimeji Olaniyan\n",
    "\n"
   ]
  },
  {
   "cell_type": "code",
   "execution_count": null,
   "id": "6c2f8cb2",
   "metadata": {},
   "outputs": [],
   "source": [
    "# Importing libraries\n",
    "import numpy as np\n",
    "import pandas as pd\n",
    "import matplotlib.pyplot as plt\n",
    "import seaborn as sns\n",
    "\n",
    "from sklearn.metrics import roc_auc_score\n",
    "from sklearn.model_selection import KFold\n",
    "import lightgbm\n",
    "from lightgbm import LGBMClassifier\n",
    "\n",
    "# set plot style\n",
    "sns.set_theme(style = 'darkgrid')\n",
    "sns.set_context('paper')\n",
    "base_color = sns.color_palette()[0]\n",
    "\n",
    "%matplotlib inline\n",
    "\n",
    "# To suppress all warnings\n",
    "import warnings\n",
    "warnings.filterwarnings('ignore')"
   ]
  },
  {
   "cell_type": "markdown",
   "id": "63da3ea2",
   "metadata": {},
   "source": [
    "## Table of Contents\n",
    "\n",
    "<ul>\n",
    "<li><a href=\"#intro\">Abstract</a></li>\n",
    "<li><a href=\"#wrangling\">Data Wrangling</a></li>\n",
    "<li><a href=\"#eda\">Exploratory Data Analysis</a></li>\n",
    "<li><a href=\"#ml\">Machine Learning Model</a></li>\n",
    "<li><a href=\"#conclusions\">Conclusions</a></li>\n",
    "<li><a href=\"#references\">References</a></li>\n",
    "</ul>\n"
   ]
  },
  {
   "cell_type": "markdown",
   "id": "c24c9596",
   "metadata": {},
   "source": [
    "<a id='intro'></a>\n",
    "\n",
    "## Abstract\n",
    " The aim of this project is to train a Machine Learning model to help a Financial Industry predict who is likely to complete an E-process application."
   ]
  },
  {
   "cell_type": "markdown",
   "id": "892d5c3f",
   "metadata": {},
   "source": [
    "<a id='wrangling'></a>\n",
    "## Data  Wrangling\n",
    "\n",
    "To gather the data used, we downloaded the train and test datasets from [here](https://www.kaggle.com/competitions/datafestafrica-ml-hackathon/data). Afterwards, we read the csv file using pandas.\n"
   ]
  },
  {
   "cell_type": "code",
   "execution_count": null,
   "id": "75126ed4",
   "metadata": {},
   "outputs": [],
   "source": [
    "# downloading the datasets by importing them using the pandas library\n",
    "df_test = pd.read_csv('test.csv')\n",
    "df_train = pd.read_csv('train.csv')"
   ]
  },
  {
   "cell_type": "markdown",
   "id": "951e5ae3",
   "metadata": {},
   "source": [
    "We will be performing our wrangling on the train dataset."
   ]
  },
  {
   "cell_type": "markdown",
   "id": "f7f34b84",
   "metadata": {},
   "source": [
    "### Assessing"
   ]
  },
  {
   "cell_type": "markdown",
   "id": "4c2d30f8",
   "metadata": {},
   "source": [
    " We employed visual and programmatic assessments to review the dataset and check for errors. Programmatic methods we used were: `info`, `duplicated`, `head`, `describe`."
   ]
  },
  {
   "cell_type": "code",
   "execution_count": null,
   "id": "94bbdaed",
   "metadata": {
    "scrolled": false
   },
   "outputs": [],
   "source": [
    "# creating a simple function to return basic information on the dataset\n",
    "def info(df):\n",
    "    print(df.shape),\n",
    "    print('*' *40),\n",
    "    print(df.info())\n",
    "    print('*' *40)\n",
    "    print(df.nunique())\n",
    "    \n",
    "info(df_train)\n",
    "df_train.sample(5)"
   ]
  },
  {
   "cell_type": "code",
   "execution_count": null,
   "id": "481d2902",
   "metadata": {},
   "outputs": [],
   "source": [
    "# creating a dataframe to house key numerical variables in the dataset \n",
    "num_vars = pd.DataFrame()\n",
    "num_vars['age'] = df_train['age']\n",
    "num_vars['income'] = df_train['income']\n",
    "num_vars['amount_requested'] = df_train['amount_requested']\n",
    "num_vars['risk_score'] = df_train['risk_score']"
   ]
  },
  {
   "cell_type": "code",
   "execution_count": null,
   "id": "9274d49e",
   "metadata": {},
   "outputs": [],
   "source": [
    "# this returns summary statistics on key numerical variables in the dataset.\n",
    "num_vars.describe()"
   ]
  },
  {
   "cell_type": "code",
   "execution_count": null,
   "id": "12d463d6",
   "metadata": {
    "scrolled": false
   },
   "outputs": [],
   "source": [
    "# creating a simple visualization of these numerical variables\n",
    "num_vars.hist(figsize=(20, 8));"
   ]
  },
  {
   "cell_type": "markdown",
   "id": "340926f4",
   "metadata": {},
   "source": [
    "### Quick Observations\n",
    "\n",
    "- Most customers appear to be middle aged, as the mean age is 43 years.\n",
    "- The distribution of income is slightly skewed to the right and has a long tail, suggesting potential ouliers.\n",
    "- There is some imbalance in the distribution of amount_requested.\n",
    "- The risk_score is slightly skewed to the left"
   ]
  },
  {
   "cell_type": "code",
   "execution_count": null,
   "id": "ca2f5bf3",
   "metadata": {},
   "outputs": [],
   "source": [
    "# checking key columns for dulicate entries\n",
    "df_train.Entry_id.duplicated().value_counts()"
   ]
  },
  {
   "cell_type": "markdown",
   "id": "6ffa99b7",
   "metadata": {},
   "source": [
    "### Issues\n",
    "\n",
    "1. Duplicate entries in the `Entry_id` column\n",
    "2. The `months_employed` and `years_employed` columns should be merged into one.\n",
    "3. The `personal_account_m` and `personal_account_y` columns should be merged into one.\n",
    "4. The datatype of the `entry_id` column needed to be changed to object.\n",
    "5. In `home_owner`, `has_debt`, and `e_signed` columns, we needed to replace 0 and 1 with no and yes respectively.\n",
    "6. risk_score column should be a float and not an integer."
   ]
  },
  {
   "cell_type": "markdown",
   "id": "9b7ab0a2",
   "metadata": {},
   "source": [
    "### Cleaning\n",
    "\n",
    "Before we commence cleaning, it is best to create a copy of the dataset upon which the cleaning will be done."
   ]
  },
  {
   "cell_type": "code",
   "execution_count": null,
   "id": "a7363ee5",
   "metadata": {},
   "outputs": [],
   "source": [
    "df_train_eda = df_train.copy()"
   ]
  },
  {
   "cell_type": "markdown",
   "id": "d5f4e358",
   "metadata": {},
   "source": [
    "#### Issue 1:\n",
    "Duplicate entries in the Entry_id column\n",
    "\n",
    "#### Define: \n",
    "The entry id column contains some duplicate entries that need to be dropped."
   ]
  },
  {
   "cell_type": "markdown",
   "id": "5b3f9203",
   "metadata": {},
   "source": [
    "#### Code "
   ]
  },
  {
   "cell_type": "code",
   "execution_count": null,
   "id": "6a41eeb6",
   "metadata": {},
   "outputs": [],
   "source": [
    "#test\n",
    "sum(df_train_eda.Entry_id.duplicated())"
   ]
  },
  {
   "cell_type": "code",
   "execution_count": null,
   "id": "e3b642db",
   "metadata": {},
   "outputs": [],
   "source": [
    "df_train_eda.drop_duplicates(subset= 'Entry_id', inplace = True)"
   ]
  },
  {
   "cell_type": "code",
   "execution_count": null,
   "id": "96b4082c",
   "metadata": {},
   "outputs": [],
   "source": [
    "# confirmation \n",
    "sum(df_train_eda.Entry_id.duplicated())"
   ]
  },
  {
   "cell_type": "markdown",
   "id": "41b6ebcf",
   "metadata": {},
   "source": [
    "#### Issue 2: \n",
    "The months_employed and years_employed columns should be merged into one column.\n",
    "\n",
    "#### Define:\n",
    "The months_employed and years_employed columns should be merged to make it easier to work with them. This column will be represented in months"
   ]
  },
  {
   "cell_type": "markdown",
   "id": "98d0f89c",
   "metadata": {},
   "source": [
    "#### Code"
   ]
  },
  {
   "cell_type": "code",
   "execution_count": null,
   "id": "66586fb7",
   "metadata": {},
   "outputs": [],
   "source": [
    "# test\n",
    "df_train_eda.sample(3)"
   ]
  },
  {
   "cell_type": "code",
   "execution_count": null,
   "id": "21fc89ac",
   "metadata": {},
   "outputs": [],
   "source": [
    "df_train_eda['total_months_employed'] = (df_train_eda['years_employed']*12) + df_train_eda['months_employed']"
   ]
  },
  {
   "cell_type": "code",
   "execution_count": null,
   "id": "72822b9e",
   "metadata": {
    "scrolled": false
   },
   "outputs": [],
   "source": [
    "# confirmation\n",
    "df_train_eda.sample(3)"
   ]
  },
  {
   "cell_type": "markdown",
   "id": "b0f93c2f",
   "metadata": {},
   "source": [
    "#### Issue 3: \n",
    "The personal_account_m and personal_account_y columns should be merged into one.\n",
    "\n",
    "\n",
    "#### Define:\n",
    "The personal_account_m and personal_account_y columns should be merged to make it easier to work with them. This column will be represented in months"
   ]
  },
  {
   "cell_type": "markdown",
   "id": "8debf0d9",
   "metadata": {},
   "source": [
    "#### Code"
   ]
  },
  {
   "cell_type": "code",
   "execution_count": null,
   "id": "631af6b8",
   "metadata": {},
   "outputs": [],
   "source": [
    "# test\n",
    "df_train_eda.sample(3)"
   ]
  },
  {
   "cell_type": "code",
   "execution_count": null,
   "id": "c3562b84",
   "metadata": {},
   "outputs": [],
   "source": [
    "df_train_eda['personal_account_duration'] = (df_train_eda['personal_account_y']*12) + df_train_eda['personal_account_m']"
   ]
  },
  {
   "cell_type": "code",
   "execution_count": null,
   "id": "c0964946",
   "metadata": {
    "scrolled": true
   },
   "outputs": [],
   "source": [
    "# confirmation\n",
    "df_train_eda.sample(3)"
   ]
  },
  {
   "cell_type": "markdown",
   "id": "bcce1dd1",
   "metadata": {},
   "source": [
    "#### Issue 4:\n",
    "The datatype of the `entry_id` column needed to be changed to object.\n",
    "\n",
    "#### Define:\n",
    "Changing the datatype of entry_id from integer to string."
   ]
  },
  {
   "cell_type": "markdown",
   "id": "5c03bdc8",
   "metadata": {},
   "source": [
    "#### Code"
   ]
  },
  {
   "cell_type": "code",
   "execution_count": null,
   "id": "fc3d479b",
   "metadata": {},
   "outputs": [],
   "source": [
    "#test\n",
    "df_train_eda.Entry_id.info()"
   ]
  },
  {
   "cell_type": "code",
   "execution_count": null,
   "id": "bacfe05a",
   "metadata": {},
   "outputs": [],
   "source": [
    "df_train_eda = df_train_eda.astype({'Entry_id':'object'})"
   ]
  },
  {
   "cell_type": "code",
   "execution_count": null,
   "id": "a6e7df7b",
   "metadata": {},
   "outputs": [],
   "source": [
    "#confirmation\n",
    "df_train_eda.Entry_id.info()"
   ]
  },
  {
   "cell_type": "markdown",
   "id": "dd5ee5e3",
   "metadata": {},
   "source": [
    "#### Issue 5:\n",
    "In `home_owner`, `has_debt`, and `e_signed` columns, we needed to replace 0 and 1 with yes and no respectively.\n",
    "\n",
    "#### Define:\n",
    "Replacing 0 and 1 in these 2 columns with yes or no"
   ]
  },
  {
   "cell_type": "markdown",
   "id": "610878fa",
   "metadata": {},
   "source": [
    "#### Code"
   ]
  },
  {
   "cell_type": "code",
   "execution_count": null,
   "id": "fc7042c7",
   "metadata": {},
   "outputs": [],
   "source": [
    "#test\n",
    "df_train_eda.sample(3)"
   ]
  },
  {
   "cell_type": "code",
   "execution_count": null,
   "id": "6838242a",
   "metadata": {},
   "outputs": [],
   "source": [
    "df_train_eda.home_owner.replace({0:'No', 1:'Yes'}, inplace=True)\n",
    "df_train_eda.has_debt.replace({0:'No', 1:'Yes'}, inplace=True)\n",
    "df_train_eda.e_signed.replace({0:'No', 1:'Yes'}, inplace=True)"
   ]
  },
  {
   "cell_type": "code",
   "execution_count": null,
   "id": "7fb3c064",
   "metadata": {
    "scrolled": false
   },
   "outputs": [],
   "source": [
    "#confirmation\n",
    "df_train_eda.sample(3)"
   ]
  },
  {
   "cell_type": "markdown",
   "id": "7353317b",
   "metadata": {},
   "source": [
    "#### Issue 6:\n",
    "`risk_score` column should be a float and not an integer.\n",
    "\n",
    "#### Define:\n",
    "This is to make the risk_score columns match up"
   ]
  },
  {
   "cell_type": "code",
   "execution_count": null,
   "id": "aad8e212",
   "metadata": {},
   "outputs": [],
   "source": [
    "#test\n",
    "df_train_eda.risk_score.sample(3)"
   ]
  },
  {
   "cell_type": "code",
   "execution_count": null,
   "id": "8bc246d0",
   "metadata": {},
   "outputs": [],
   "source": [
    "df_train_eda['risk_score_n'] = (df_train_eda.risk_score / 100000)"
   ]
  },
  {
   "cell_type": "code",
   "execution_count": null,
   "id": "3fce61f2",
   "metadata": {},
   "outputs": [],
   "source": [
    "#confirmation\n",
    "df_train_eda.risk_score_n.sample(3)"
   ]
  },
  {
   "cell_type": "markdown",
   "id": "68caeef7",
   "metadata": {},
   "source": [
    "### Structure of the dataset\n",
    "\n",
    "The train dataset intially contained 12,516 rows, and 21 columns. After assessing and cleaning the data, it now contains 12,510 rows and 23 columns."
   ]
  },
  {
   "cell_type": "markdown",
   "id": "e982856a",
   "metadata": {},
   "source": [
    "<a id='eda'></a>\n",
    "## <u>Exploratory Data Analysis."
   ]
  },
  {
   "cell_type": "markdown",
   "id": "47e58c6a",
   "metadata": {},
   "source": [
    "In this section of the project, we are going to be exploring multiple variables from the train dataset.\n",
    "\n"
   ]
  },
  {
   "cell_type": "markdown",
   "id": "2e9c2b0c",
   "metadata": {},
   "source": [
    "## Univariate Exploration"
   ]
  },
  {
   "cell_type": "markdown",
   "id": "4d64d1ec",
   "metadata": {},
   "source": [
    "### Distribution of ages in the dataset."
   ]
  },
  {
   "cell_type": "code",
   "execution_count": null,
   "id": "a360bc9b",
   "metadata": {},
   "outputs": [],
   "source": [
    "plt.figure(figsize=(10,5))\n",
    "plt.hist(df_train_eda.age, color = base_color, bins = 20);\n",
    "plt.yticks(fontsize=14)\n",
    "plt.xticks(fontsize=14)\n",
    "plt.xlabel('Age of Applicant', fontsize=13)\n",
    "plt.title('Distribution of Applicant Age', fontsize=20);"
   ]
  },
  {
   "cell_type": "markdown",
   "id": "097acdfc",
   "metadata": {},
   "source": [
    "The age distribution is slightly skewed right suggesting that there are more younger to middle aged customers i.e 30 to 40, than there are older customers i.e 50 to 90. \n",
    "\n",
    "To get a clearer picture of the distribution of ages, we will place them into age brackets."
   ]
  },
  {
   "cell_type": "code",
   "execution_count": null,
   "id": "b9c49797",
   "metadata": {},
   "outputs": [],
   "source": [
    "def prop_(x):\n",
    "    \n",
    "    '''To calculate proportions of values in a column.\n",
    "    x will be df.col or df['col']'''\n",
    "    \n",
    "    max_var_count = x.value_counts()[0]\n",
    "    var_sum = x.value_counts().sum()\n",
    "    max_prop = max_var_count/var_sum\n",
    "    tick_props = np.arange(0,max_prop+0.05, 0.05)\n",
    "    tick_names = ['{:0.2f}'.format(v) for v in tick_props]\n",
    "    \n",
    "    return [tick_props, tick_names, var_sum]"
   ]
  },
  {
   "cell_type": "code",
   "execution_count": null,
   "id": "c9b2d216",
   "metadata": {
    "scrolled": false
   },
   "outputs": [],
   "source": [
    "bins= [10,20,30,40,50,60,70,80,90]\n",
    "labels = ['10-20','21-30','31-40','41-50','51-60', '61-70','71-80', '81-90']\n",
    "df_train_eda['age_group'] = pd.cut(df_train_eda['age'], bins=bins, labels=labels, right=False)\n",
    "plt.figure(figsize=(8,8))\n",
    "\n",
    "tick_props, tick_names, var_sum = prop_(df_train_eda.age_group)\n",
    "sns.countplot(data=df_train_eda, x ='age_group', color=base_color);\n",
    "plt.ylabel('Proportion', fontsize=13)\n",
    "plt.xlabel('Age Bracket', fontsize=13)\n",
    "plt.yticks(tick_props * var_sum, tick_names, fontsize=11);\n",
    "plt.xticks(fontsize=12);"
   ]
  },
  {
   "cell_type": "markdown",
   "id": "ecf33155",
   "metadata": {},
   "source": [
    "The 10-20 age bracket contains 18 to 20 year olds as 18 is the legal age of employment."
   ]
  },
  {
   "cell_type": "markdown",
   "id": "1cf1429f",
   "metadata": {},
   "source": [
    "### Distribution of applicant income "
   ]
  },
  {
   "cell_type": "code",
   "execution_count": null,
   "id": "6cdc464f",
   "metadata": {
    "scrolled": false
   },
   "outputs": [],
   "source": [
    "plt.figure(figsize=(10,5))\n",
    "plt.hist(df_train_eda.income, color = base_color, bins = 50);\n",
    "plt.yticks(fontsize=14)\n",
    "plt.xticks(fontsize=14)\n",
    "plt.xlabel('Income ($)', fontsize=12)\n",
    "plt.title('Distribution of Applicant Income', fontsize=20);"
   ]
  },
  {
   "cell_type": "markdown",
   "id": "f793ef2f",
   "metadata": {},
   "source": [
    "The distribution of applicant incomes is slightly skewed to the right suggesting that most applicants earn less 6000 per month.<br> The long tail of the histogram also suggests a few applicants earning far above the rest."
   ]
  },
  {
   "cell_type": "markdown",
   "id": "9e44bcef",
   "metadata": {},
   "source": [
    "### Distribution of amount_requested"
   ]
  },
  {
   "cell_type": "code",
   "execution_count": null,
   "id": "53c1dfa8",
   "metadata": {
    "scrolled": false
   },
   "outputs": [],
   "source": [
    "plt.figure(figsize=(10,5))\n",
    "plt.hist(df_train_eda.amount_requested, color = base_color, bins = 50);\n",
    "plt.yticks(fontsize=14)\n",
    "plt.xticks(fontsize=14)\n",
    "plt.xlabel('Amount requested($)', fontsize=12)\n",
    "plt.title('Distribution of Amount Requested', fontsize=20);"
   ]
  },
  {
   "cell_type": "markdown",
   "id": "c47c212f",
   "metadata": {},
   "source": [
    "As early stated, the distribution of amount requested is very imbalanced as it is very skewed to the right suggesting a lot amounts requested falling below 2000"
   ]
  },
  {
   "cell_type": "markdown",
   "id": "3dfd271e",
   "metadata": {},
   "source": [
    "### Distribution of risk_score"
   ]
  },
  {
   "cell_type": "code",
   "execution_count": null,
   "id": "64889cff",
   "metadata": {
    "scrolled": false
   },
   "outputs": [],
   "source": [
    "plt.figure(figsize=(10,5))\n",
    "plt.hist(df_train_eda.risk_score_n, color = base_color, bins = 50);\n",
    "plt.yticks(fontsize=14)\n",
    "plt.xticks(fontsize=14)\n",
    "plt.xlabel('Applicant risks score', fontsize=12)\n",
    "plt.title('Distribution of Risk Score', fontsize=20);"
   ]
  },
  {
   "cell_type": "markdown",
   "id": "716f5df0",
   "metadata": {},
   "source": [
    "### Number of applicants that signed electronically."
   ]
  },
  {
   "cell_type": "code",
   "execution_count": null,
   "id": "6fbeaf93",
   "metadata": {},
   "outputs": [],
   "source": [
    "plt.figure(figsize=[6,5])\n",
    "\n",
    "freq = df_train_eda['e_signed'].value_counts()\n",
    "gen_order = freq.index\n",
    "\n",
    "ax = sns.countplot(data = df_train_eda, x = 'e_signed', color=sns.color_palette()[0], order = gen_order)\n",
    "plt.xticks()\n",
    "plt.xlabel('E-signed Status', fontsize=13)\n",
    "plt.title('How Many Applicants Signed Electronically?', fontsize=18);\n",
    "ax.bar_label(ax.containers[0], label_type='edge');"
   ]
  },
  {
   "cell_type": "markdown",
   "id": "dbe9197a",
   "metadata": {},
   "source": [
    "It can be inferred that most applicants have risk scores of 0.7 or less, making them less of a possible liability to the company and more eligible for loans."
   ]
  },
  {
   "cell_type": "markdown",
   "id": "5fa68c54",
   "metadata": {},
   "source": [
    "## Bivariate Exploration\n",
    "\n",
    "For this section, we are going to explore the relationships between the e_signed column and the numerical variables in the dataset."
   ]
  },
  {
   "cell_type": "code",
   "execution_count": null,
   "id": "b9c9b0c5",
   "metadata": {},
   "outputs": [],
   "source": [
    "# creating a variable that contains all applicants that signed electronically\n",
    "yes_electronic = df_train_eda.query('e_signed == \"Yes\"')"
   ]
  },
  {
   "cell_type": "markdown",
   "id": "98e89b59",
   "metadata": {},
   "source": [
    "### Relationship between applicant age and e_signed column"
   ]
  },
  {
   "cell_type": "code",
   "execution_count": null,
   "id": "8bffd756",
   "metadata": {},
   "outputs": [],
   "source": [
    "plt.figure(figsize=[8,8])\n",
    "\n",
    "freq = yes_electronic['age_group'].value_counts()\n",
    "gen_order = freq.index\n",
    "\n",
    "ax = sns.countplot(data = yes_electronic, x = 'age_group', color=sns.color_palette()[0], order = gen_order)\n",
    "plt.xticks(fontsize=11)\n",
    "plt.xlabel('Age Groups', fontsize=12)\n",
    "plt.title('Age Groups of Applicants that Signed Electronically?', fontsize=20);\n",
    "ax.bar_label(ax.containers[0], label_type='edge');"
   ]
  },
  {
   "cell_type": "markdown",
   "id": "17562f9a",
   "metadata": {},
   "source": [
    "### Relationship between amount requested and e_signed column"
   ]
  },
  {
   "cell_type": "code",
   "execution_count": null,
   "id": "24680ba8",
   "metadata": {},
   "outputs": [],
   "source": [
    "bins = np.arange(0, yes_electronic['amount_requested'].max()+100, 100)\n",
    "\n",
    "plt.figure(figsize=[8, 8])\n",
    "plt.hist(data = yes_electronic, x = 'amount_requested', bins = bins)\n",
    "plt.xlabel('Amount Requested ($)', fontsize=12)\n",
    "plt.title('Distribution of Amount Requested Among Applicants that Signed Electronically', fontsize=20)\n",
    "plt.show()"
   ]
  },
  {
   "cell_type": "markdown",
   "id": "3e68549f",
   "metadata": {},
   "source": [
    "It can be seen from the above histogram that we have a multimodal distribution that is strongly skewed to the right. Furthermore, applicants that signed electronically are mainly those that requested for a loan of about \\\\$1500 or less. It can therefore be inferred that applicants requesting for higher amounts are less likely to sign electronically.\n"
   ]
  },
  {
   "cell_type": "markdown",
   "id": "17d2c2ac",
   "metadata": {},
   "source": [
    "### Relationship between applicant income and e_signed column"
   ]
  },
  {
   "cell_type": "code",
   "execution_count": null,
   "id": "57d484b1",
   "metadata": {},
   "outputs": [],
   "source": [
    "bins = np.arange(0, yes_electronic['income'].max()+250, 250)\n",
    "\n",
    "plt.figure(figsize=[8, 8])\n",
    "plt.hist(data = yes_electronic, x = 'income', bins = bins)\n",
    "plt.xlabel('Income ($)', fontsize = 12)\n",
    "plt.title('Distribution of Income Among Applicants that Signed Electronically', fontsize = 20)\n",
    "plt.show()"
   ]
  },
  {
   "cell_type": "markdown",
   "id": "f0eb5a40",
   "metadata": {},
   "source": [
    "We have a highly multimodal distribution that is also skewed to the right. Applicants that signed electronically are mainly those with an income of about \\\\$6000 or less. It can therefore be inferred that applicants with higher incomes are less likely to sign electronically."
   ]
  },
  {
   "cell_type": "markdown",
   "id": "bbf24967",
   "metadata": {},
   "source": [
    "### Relationship between risk_score and e_signed column"
   ]
  },
  {
   "cell_type": "code",
   "execution_count": null,
   "id": "339b3851",
   "metadata": {
    "scrolled": false
   },
   "outputs": [],
   "source": [
    "bins = np.arange(0, yes_electronic['risk_score_n'].max()+0.05, 0.05)\n",
    "\n",
    "plt.figure(figsize=[8, 8])\n",
    "plt.hist(data = yes_electronic, x = 'risk_score_n', bins = bins)\n",
    "plt.xlabel('Risk Score', fontsize=12)\n",
    "plt.title('Distribution of Risk Scores Among Applicants that Signed Electronically', fontsize=20)\n",
    "plt.show()\n"
   ]
  },
  {
   "cell_type": "markdown",
   "id": "5b7d2b0a",
   "metadata": {},
   "source": [
    "The histogram is slightly skewed to the left suggesting that most of the applicants that signed up electronically are high risk individuals."
   ]
  },
  {
   "cell_type": "markdown",
   "id": "ec99f78d",
   "metadata": {},
   "source": [
    "### How many home owners signed up electronically?"
   ]
  },
  {
   "cell_type": "code",
   "execution_count": null,
   "id": "bce25884",
   "metadata": {},
   "outputs": [],
   "source": [
    "plt.figure(figsize=[8,8])\n",
    "\n",
    "freq = yes_electronic['home_owner'].value_counts()\n",
    "gen_order = freq.index\n",
    "\n",
    "ax = sns.countplot(data = yes_electronic, x = 'home_owner', color=sns.color_palette()[0], order = gen_order)\n",
    "plt.xticks()\n",
    "plt.xlabel('Homeowner Status', fontsize=12)\n",
    "plt.title('How Many Applicants Were Homeowners?', fontsize=20);\n",
    "ax.bar_label(ax.containers[0], label_type='edge');"
   ]
  },
  {
   "cell_type": "markdown",
   "id": "f210198c",
   "metadata": {},
   "source": [
    "The bar chart shows that **4,059 (60%)** of all applicants who signed electronically were _not_ homeowners."
   ]
  },
  {
   "cell_type": "markdown",
   "id": "fad0cdf1",
   "metadata": {},
   "source": [
    "<a id='ml'></a>\n",
    "## <u> Machine Learning Model"
   ]
  },
  {
   "cell_type": "markdown",
   "id": "58ba6d54",
   "metadata": {},
   "source": [
    "For the machine learning model, not all changes made for EDA will be applied here, so we preprocess the train and test datasets again."
   ]
  },
  {
   "cell_type": "code",
   "execution_count": null,
   "id": "28bc1e64",
   "metadata": {},
   "outputs": [],
   "source": [
    "df_train_copy = df_train.copy()"
   ]
  },
  {
   "cell_type": "code",
   "execution_count": null,
   "id": "8f6a788f",
   "metadata": {},
   "outputs": [],
   "source": [
    "# Drop duplicate Entry IDs\n",
    "df_train_copy.drop_duplicates('Entry_id', inplace=True)\n",
    "df_train_copy = df_train_copy.reset_index(drop=True)"
   ]
  },
  {
   "cell_type": "code",
   "execution_count": null,
   "id": "07e29e2f",
   "metadata": {},
   "outputs": [],
   "source": [
    "# Merge years_employed and months_employed\n",
    "df_train_copy['total_months_employed'] = (df_train_copy['years_employed']*12) + df_train_copy['months_employed']\n",
    "df_train_copy=df_train_copy.drop(['years_employed', 'months_employed'], axis=1)"
   ]
  },
  {
   "cell_type": "code",
   "execution_count": null,
   "id": "69c3c041",
   "metadata": {},
   "outputs": [],
   "source": [
    "# Merge personal_account_y and personal_account_m\n",
    "df_train_copy['personal_account_duration'] = (df_train_copy['personal_account_y']*12) + df_train_copy['personal_account_m']\n",
    "df_train_copy=df_train_copy.drop(['personal_account_y', 'personal_account_m'], axis=1)"
   ]
  },
  {
   "cell_type": "markdown",
   "id": "10383474",
   "metadata": {},
   "source": [
    "For the model, we'll need only numerical variables, so string values of categorical variables won't work here. To fix this, we can OneHotEncode the categorical variable, or create dummy columns of the categoriacl variable. For this project, we'll be using dummy columns."
   ]
  },
  {
   "cell_type": "code",
   "execution_count": null,
   "id": "b59e8ab1",
   "metadata": {},
   "outputs": [],
   "source": [
    "# To create dummy columns for the categorical variable pay_schedule\n",
    "dummies = pd.get_dummies(df_train_copy['pay_schedule'])\n",
    "dummies.head()"
   ]
  },
  {
   "cell_type": "code",
   "execution_count": null,
   "id": "13b99a92",
   "metadata": {},
   "outputs": [],
   "source": [
    "# Merge dummy to original dataframe\n",
    "df_train_dummy = pd.concat([df_train_copy, dummies],axis='columns')\n",
    "\n",
    "# Drop original categorical variable and anyone of the dummy columns; 'monthly' in this case\n",
    "df_train_dummy = df_train_dummy.drop(['pay_schedule', 'monthly'],axis='columns')\n",
    "df_train_dummy.head()"
   ]
  },
  {
   "cell_type": "markdown",
   "id": "a3c1e114",
   "metadata": {},
   "source": [
    "###### Perform similar operations on the test data"
   ]
  },
  {
   "cell_type": "code",
   "execution_count": null,
   "id": "6255518b",
   "metadata": {},
   "outputs": [],
   "source": [
    "df_test_copy = df_test.copy()"
   ]
  },
  {
   "cell_type": "code",
   "execution_count": null,
   "id": "fd7a8dd6",
   "metadata": {},
   "outputs": [],
   "source": [
    "df_test_copy['total_months_employed'] = (df_test_copy['years_employed']*12) + df_test_copy['months_employed']\n",
    "df_test_copy=df_test_copy.drop(['years_employed', 'months_employed'], axis=1)"
   ]
  },
  {
   "cell_type": "code",
   "execution_count": null,
   "id": "5f941306",
   "metadata": {},
   "outputs": [],
   "source": [
    "df_test_copy['personal_account_duration'] = (df_test_copy['personal_account_y']*12) + df_test_copy['personal_account_m']\n",
    "df_test_copy=df_test_copy.drop(['personal_account_y', 'personal_account_m'], axis=1)"
   ]
  },
  {
   "cell_type": "code",
   "execution_count": null,
   "id": "a902e240",
   "metadata": {},
   "outputs": [],
   "source": [
    "dummies = pd.get_dummies(df_test_copy['pay_schedule'])\n",
    "dummies.head()"
   ]
  },
  {
   "cell_type": "code",
   "execution_count": null,
   "id": "fe07a05c",
   "metadata": {},
   "outputs": [],
   "source": [
    "df_test_dummy = pd.concat([df_test_copy, dummies],axis='columns')\n",
    "df_test_dummy = df_test_dummy.drop(['pay_schedule', 'monthly'],axis='columns')\n",
    "df_test_dummy.head()"
   ]
  },
  {
   "cell_type": "markdown",
   "id": "596d2710",
   "metadata": {},
   "source": [
    "### Using cross validation with LighthGBM"
   ]
  },
  {
   "cell_type": "code",
   "execution_count": null,
   "id": "c0740649",
   "metadata": {},
   "outputs": [],
   "source": [
    "df_train_dummy['kfold'] = -1"
   ]
  },
  {
   "cell_type": "code",
   "execution_count": null,
   "id": "b96bfbac",
   "metadata": {},
   "outputs": [],
   "source": [
    "kf = KFold(n_splits = 6, shuffle = True, random_state = 50)\n",
    "for fold, (train_indices, valid_indices) in enumerate(kf.split(X = df_train_dummy)):\n",
    "    df_train_dummy.loc[valid_indices, 'kfold'] = fold"
   ]
  },
  {
   "cell_type": "code",
   "execution_count": null,
   "id": "a0b0fd32",
   "metadata": {},
   "outputs": [],
   "source": [
    "useful_features = df_train_dummy.columns.difference(['Entry_id', 'risk_score_4', 'risk_score_5',\n",
    "                                                     'e_signed', 'total_months_employed','kfold'])\n",
    "test = df_test_dummy[df_test_dummy.columns.difference(['Entry_id','risk_score_4', 'risk_score_5',\n",
    "                                                       'e_signed', 'total_months_employed', 'kfold'])]\n",
    "predictions = []"
   ]
  },
  {
   "cell_type": "code",
   "execution_count": null,
   "id": "9fd03891",
   "metadata": {},
   "outputs": [],
   "source": [
    "lgb_score = []\n",
    "for fold in range(6):\n",
    "    x_train = df_train_dummy[df_train_dummy['kfold'] != fold].reset_index(drop = True)\n",
    "    x_valid = df_train_dummy[df_train_dummy['kfold'] == fold].reset_index(drop = True)\n",
    "    \n",
    "    y_train = x_train['e_signed']\n",
    "    y_valid = x_valid['e_signed']\n",
    "    \n",
    "    x_train = x_train[useful_features]\n",
    "    x_valid = x_valid[useful_features]\n",
    "\n",
    "    \n",
    "    model = LGBMClassifier(random_state = 42, n_jobs = -1, n_estimators = 1474, learning_rate = 0.03372831097120445,\n",
    "                           colsample_bytree = 0.7257259813712209, max_depth = 6)\n",
    "    model.fit(x_train, y_train, early_stopping_rounds = 300, eval_set = [(x_valid, y_valid)], verbose = 1000)\n",
    "    y_pred = model.predict_proba(x_valid)\n",
    "    test_pred = model.predict_proba(test)\n",
    "    predictions.append(test_pred[:, -1])\n",
    "    score = roc_auc_score( y_valid, y_pred[:,-1])\n",
    "    lgb_score.append(score)\n",
    "    print(fold, score)\n",
    "print(np.mean(lgb_score))"
   ]
  },
  {
   "cell_type": "code",
   "execution_count": null,
   "id": "9c5de711",
   "metadata": {},
   "outputs": [],
   "source": [
    "final_prediction = np.mean(np.column_stack(predictions), axis = 1)\n",
    "\n",
    "final_prediction = np.where(final_prediction >= 0.5, 1,0)\n",
    "\n",
    "Entry_id = df_test[['Entry_id']]\n",
    "e_signed = pd.DataFrame({'e_signed' : final_prediction})\n",
    "\n",
    "lgbm_cv_sub = pd.concat([Entry_id, e_signed], axis = 1)"
   ]
  },
  {
   "cell_type": "code",
   "execution_count": null,
   "id": "53e41cd6",
   "metadata": {},
   "outputs": [],
   "source": [
    "lgbm_cv_sub.to_csv('lgbm_CV_sub.csv', index = False)"
   ]
  },
  {
   "cell_type": "markdown",
   "id": "417c136b",
   "metadata": {},
   "source": [
    "<a id='conclusions'></a>\n",
    "## <u> Conclusion"
   ]
  },
  {
   "cell_type": "markdown",
   "id": "5e31bb93",
   "metadata": {},
   "source": [
    "After carrying out this exploratory data analysis, the following conclusions were made:<br>\n",
    "1. Most applicants fall within the age brackets of **41-50(3,575/28.58%)** and **31-40(3,499/27.97%)**\n",
    "2. **6,766/54.06%** of all applicants signed electronically.\n",
    "3. Applicants requesting for higher amounts (>\\\\$1500) are less likely to sign electronically.\n",
    "4. Applicants with higher incomes are less likely to sign electronically.\n",
    "5. **4,059 (60%)** of all applicants who signed electronically were _not_ homeowners."
   ]
  },
  {
   "cell_type": "markdown",
   "id": "cac42f39",
   "metadata": {},
   "source": [
    "<a id='references'></a>\n",
    "## <u> References"
   ]
  },
  {
   "cell_type": "markdown",
   "id": "a25c1511",
   "metadata": {},
   "source": [
    "- [Stackoverflow](https://stackoverflow.com/)\n",
    "- [Youtube](https://youtube.com)\n",
    "- [Lightgbm](https://lightgbm.readthedocs.io/en/v3.3.2/)"
   ]
  },
  {
   "cell_type": "code",
   "execution_count": null,
   "id": "fe46e149",
   "metadata": {},
   "outputs": [],
   "source": []
  }
 ],
 "metadata": {
  "kernelspec": {
   "display_name": "Python 3 (ipykernel)",
   "language": "python",
   "name": "python3"
  },
  "language_info": {
   "codemirror_mode": {
    "name": "ipython",
    "version": 3
   },
   "file_extension": ".py",
   "mimetype": "text/x-python",
   "name": "python",
   "nbconvert_exporter": "python",
   "pygments_lexer": "ipython3",
   "version": "3.8.13"
  },
  "toc": {
   "base_numbering": 1,
   "nav_menu": {},
   "number_sections": true,
   "sideBar": true,
   "skip_h1_title": false,
   "title_cell": "Table of Contents",
   "title_sidebar": "Contents",
   "toc_cell": false,
   "toc_position": {},
   "toc_section_display": true,
   "toc_window_display": false
  }
 },
 "nbformat": 4,
 "nbformat_minor": 5
}
