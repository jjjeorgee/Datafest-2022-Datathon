{
 "cells": [
  {
   "cell_type": "markdown",
   "id": "41313177",
   "metadata": {},
   "source": [
    "## DatafestAfrica ML Hackathon"
   ]
  },
  {
   "cell_type": "code",
   "execution_count": 2,
   "id": "6c2f8cb2",
   "metadata": {},
   "outputs": [],
   "source": [
    "# Importing libraries\n",
    "import numpy as np\n",
    "import pandas as pd\n",
    "import matplotlib.pyplot as plt\n",
    "import seaborn as sns\n",
    "sns.set_theme(style = 'darkgrid')\n",
    "sns.set_context('paper')\n",
    "base_color = sns.color_palette()[0]\n",
    "\n",
    "%matplotlib inline"
   ]
  },
  {
   "cell_type": "markdown",
   "id": "63da3ea2",
   "metadata": {},
   "source": [
    "## Table of Content( to be worked on later)\n",
    "Abstract\n",
    "\n",
    "wrangling\n",
    "\n",
    "eda"
   ]
  },
  {
   "cell_type": "markdown",
   "id": "c24c9596",
   "metadata": {},
   "source": [
    "## Abstract\n",
    " The aim of this project is to train a Machine Learning model to help a Financial Industry predict who is likely to complete an E-process application."
   ]
  },
  {
   "cell_type": "markdown",
   "id": "892d5c3f",
   "metadata": {},
   "source": [
    "## Preliminary  Wrangling"
   ]
  },
  {
   "cell_type": "code",
   "execution_count": 3,
   "id": "75126ed4",
   "metadata": {},
   "outputs": [],
   "source": [
    "# downloading the datasets programmatically (from Zion)\n",
    "test = pd.read_csv('test.csv')\n",
    "train = pd.read_csv('train.csv')"
   ]
  },
  {
   "cell_type": "markdown",
   "id": "1e83f024",
   "metadata": {},
   "source": [
    "We will be performing our wrangling on the train dataset."
   ]
  },
  {
   "cell_type": "markdown",
   "id": "f7f34b84",
   "metadata": {},
   "source": [
    "### Assessing"
   ]
  },
  {
   "cell_type": "code",
   "execution_count": 4,
   "id": "94bbdaed",
   "metadata": {
    "scrolled": false
   },
   "outputs": [
    {
     "name": "stdout",
     "output_type": "stream",
     "text": [
      "(12516, 21)\n",
      "****************************************\n",
      "<class 'pandas.core.frame.DataFrame'>\n",
      "RangeIndex: 12516 entries, 0 to 12515\n",
      "Data columns (total 21 columns):\n",
      " #   Column                Non-Null Count  Dtype  \n",
      "---  ------                --------------  -----  \n",
      " 0   Entry_id              12516 non-null  int64  \n",
      " 1   age                   12516 non-null  int64  \n",
      " 2   pay_schedule          12516 non-null  object \n",
      " 3   home_owner            12516 non-null  int64  \n",
      " 4   income                12516 non-null  int64  \n",
      " 5   months_employed       12516 non-null  int64  \n",
      " 6   years_employed        12516 non-null  int64  \n",
      " 7   current_address_year  12516 non-null  int64  \n",
      " 8   personal_account_m    12516 non-null  int64  \n",
      " 9   personal_account_y    12516 non-null  int64  \n",
      " 10  has_debt              12516 non-null  int64  \n",
      " 11  amount_requested      12516 non-null  int64  \n",
      " 12  risk_score            12516 non-null  int64  \n",
      " 13  risk_score_2          12516 non-null  float64\n",
      " 14  risk_score_3          12516 non-null  float64\n",
      " 15  risk_score_4          12516 non-null  float64\n",
      " 16  risk_score_5          12516 non-null  float64\n",
      " 17  ext_quality_score     12516 non-null  float64\n",
      " 18  ext_quality_score_2   12516 non-null  float64\n",
      " 19  inquiries_last_month  12516 non-null  int64  \n",
      " 20  e_signed              12516 non-null  int64  \n",
      "dtypes: float64(6), int64(14), object(1)\n",
      "memory usage: 2.0+ MB\n",
      "None\n",
      "****************************************\n",
      "Entry_id                12510\n",
      "age                        72\n",
      "pay_schedule                4\n",
      "home_owner                  2\n",
      "income                   1940\n",
      "months_employed            12\n",
      "years_employed             17\n",
      "current_address_year       13\n",
      "personal_account_m         12\n",
      "personal_account_y         15\n",
      "has_debt                    2\n",
      "amount_requested           93\n",
      "risk_score               1370\n",
      "risk_score_2            12307\n",
      "risk_score_3             3548\n",
      "risk_score_4            12388\n",
      "risk_score_5            12339\n",
      "ext_quality_score       12308\n",
      "ext_quality_score_2     12312\n",
      "inquiries_last_month       30\n",
      "e_signed                    2\n",
      "dtype: int64\n"
     ]
    },
    {
     "data": {
      "text/html": [
       "<div>\n",
       "<style scoped>\n",
       "    .dataframe tbody tr th:only-of-type {\n",
       "        vertical-align: middle;\n",
       "    }\n",
       "\n",
       "    .dataframe tbody tr th {\n",
       "        vertical-align: top;\n",
       "    }\n",
       "\n",
       "    .dataframe thead th {\n",
       "        text-align: right;\n",
       "    }\n",
       "</style>\n",
       "<table border=\"1\" class=\"dataframe\">\n",
       "  <thead>\n",
       "    <tr style=\"text-align: right;\">\n",
       "      <th></th>\n",
       "      <th>Entry_id</th>\n",
       "      <th>age</th>\n",
       "      <th>pay_schedule</th>\n",
       "      <th>home_owner</th>\n",
       "      <th>income</th>\n",
       "      <th>months_employed</th>\n",
       "      <th>years_employed</th>\n",
       "      <th>current_address_year</th>\n",
       "      <th>personal_account_m</th>\n",
       "      <th>personal_account_y</th>\n",
       "      <th>...</th>\n",
       "      <th>amount_requested</th>\n",
       "      <th>risk_score</th>\n",
       "      <th>risk_score_2</th>\n",
       "      <th>risk_score_3</th>\n",
       "      <th>risk_score_4</th>\n",
       "      <th>risk_score_5</th>\n",
       "      <th>ext_quality_score</th>\n",
       "      <th>ext_quality_score_2</th>\n",
       "      <th>inquiries_last_month</th>\n",
       "      <th>e_signed</th>\n",
       "    </tr>\n",
       "  </thead>\n",
       "  <tbody>\n",
       "    <tr>\n",
       "      <th>8225</th>\n",
       "      <td>6516387</td>\n",
       "      <td>53</td>\n",
       "      <td>bi-weekly</td>\n",
       "      <td>0</td>\n",
       "      <td>6580</td>\n",
       "      <td>0</td>\n",
       "      <td>4</td>\n",
       "      <td>5</td>\n",
       "      <td>7</td>\n",
       "      <td>3</td>\n",
       "      <td>...</td>\n",
       "      <td>1100</td>\n",
       "      <td>72450</td>\n",
       "      <td>0.636979</td>\n",
       "      <td>0.873350</td>\n",
       "      <td>0.653664</td>\n",
       "      <td>0.725736</td>\n",
       "      <td>0.498138</td>\n",
       "      <td>0.798138</td>\n",
       "      <td>11</td>\n",
       "      <td>0</td>\n",
       "    </tr>\n",
       "    <tr>\n",
       "      <th>11374</th>\n",
       "      <td>1356734</td>\n",
       "      <td>33</td>\n",
       "      <td>semi-monthly</td>\n",
       "      <td>1</td>\n",
       "      <td>5245</td>\n",
       "      <td>0</td>\n",
       "      <td>2</td>\n",
       "      <td>0</td>\n",
       "      <td>7</td>\n",
       "      <td>3</td>\n",
       "      <td>...</td>\n",
       "      <td>700</td>\n",
       "      <td>72750</td>\n",
       "      <td>0.767004</td>\n",
       "      <td>0.985377</td>\n",
       "      <td>0.462496</td>\n",
       "      <td>0.689427</td>\n",
       "      <td>0.776121</td>\n",
       "      <td>0.676121</td>\n",
       "      <td>9</td>\n",
       "      <td>1</td>\n",
       "    </tr>\n",
       "    <tr>\n",
       "      <th>3763</th>\n",
       "      <td>2858964</td>\n",
       "      <td>42</td>\n",
       "      <td>weekly</td>\n",
       "      <td>1</td>\n",
       "      <td>3770</td>\n",
       "      <td>1</td>\n",
       "      <td>8</td>\n",
       "      <td>8</td>\n",
       "      <td>2</td>\n",
       "      <td>7</td>\n",
       "      <td>...</td>\n",
       "      <td>600</td>\n",
       "      <td>45450</td>\n",
       "      <td>0.655511</td>\n",
       "      <td>0.897906</td>\n",
       "      <td>0.581544</td>\n",
       "      <td>0.642913</td>\n",
       "      <td>0.700943</td>\n",
       "      <td>0.800943</td>\n",
       "      <td>6</td>\n",
       "      <td>0</td>\n",
       "    </tr>\n",
       "    <tr>\n",
       "      <th>11655</th>\n",
       "      <td>8535255</td>\n",
       "      <td>58</td>\n",
       "      <td>bi-weekly</td>\n",
       "      <td>1</td>\n",
       "      <td>4680</td>\n",
       "      <td>0</td>\n",
       "      <td>2</td>\n",
       "      <td>3</td>\n",
       "      <td>5</td>\n",
       "      <td>3</td>\n",
       "      <td>...</td>\n",
       "      <td>400</td>\n",
       "      <td>95900</td>\n",
       "      <td>0.821906</td>\n",
       "      <td>0.867716</td>\n",
       "      <td>0.750369</td>\n",
       "      <td>0.829022</td>\n",
       "      <td>0.861019</td>\n",
       "      <td>0.561019</td>\n",
       "      <td>5</td>\n",
       "      <td>1</td>\n",
       "    </tr>\n",
       "    <tr>\n",
       "      <th>9465</th>\n",
       "      <td>6098053</td>\n",
       "      <td>33</td>\n",
       "      <td>bi-weekly</td>\n",
       "      <td>0</td>\n",
       "      <td>1695</td>\n",
       "      <td>0</td>\n",
       "      <td>5</td>\n",
       "      <td>9</td>\n",
       "      <td>2</td>\n",
       "      <td>7</td>\n",
       "      <td>...</td>\n",
       "      <td>500</td>\n",
       "      <td>59850</td>\n",
       "      <td>0.759294</td>\n",
       "      <td>0.901374</td>\n",
       "      <td>0.453519</td>\n",
       "      <td>0.732491</td>\n",
       "      <td>0.863283</td>\n",
       "      <td>0.863283</td>\n",
       "      <td>3</td>\n",
       "      <td>1</td>\n",
       "    </tr>\n",
       "  </tbody>\n",
       "</table>\n",
       "<p>5 rows × 21 columns</p>\n",
       "</div>"
      ],
      "text/plain": [
       "       Entry_id  age  pay_schedule  home_owner  income  months_employed  \\\n",
       "8225    6516387   53     bi-weekly           0    6580                0   \n",
       "11374   1356734   33  semi-monthly           1    5245                0   \n",
       "3763    2858964   42        weekly           1    3770                1   \n",
       "11655   8535255   58     bi-weekly           1    4680                0   \n",
       "9465    6098053   33     bi-weekly           0    1695                0   \n",
       "\n",
       "       years_employed  current_address_year  personal_account_m  \\\n",
       "8225                4                     5                   7   \n",
       "11374               2                     0                   7   \n",
       "3763                8                     8                   2   \n",
       "11655               2                     3                   5   \n",
       "9465                5                     9                   2   \n",
       "\n",
       "       personal_account_y  ...  amount_requested  risk_score  risk_score_2  \\\n",
       "8225                    3  ...              1100       72450      0.636979   \n",
       "11374                   3  ...               700       72750      0.767004   \n",
       "3763                    7  ...               600       45450      0.655511   \n",
       "11655                   3  ...               400       95900      0.821906   \n",
       "9465                    7  ...               500       59850      0.759294   \n",
       "\n",
       "       risk_score_3  risk_score_4  risk_score_5  ext_quality_score  \\\n",
       "8225       0.873350      0.653664      0.725736           0.498138   \n",
       "11374      0.985377      0.462496      0.689427           0.776121   \n",
       "3763       0.897906      0.581544      0.642913           0.700943   \n",
       "11655      0.867716      0.750369      0.829022           0.861019   \n",
       "9465       0.901374      0.453519      0.732491           0.863283   \n",
       "\n",
       "       ext_quality_score_2  inquiries_last_month  e_signed  \n",
       "8225              0.798138                    11         0  \n",
       "11374             0.676121                     9         1  \n",
       "3763              0.800943                     6         0  \n",
       "11655             0.561019                     5         1  \n",
       "9465              0.863283                     3         1  \n",
       "\n",
       "[5 rows x 21 columns]"
      ]
     },
     "execution_count": 4,
     "metadata": {},
     "output_type": "execute_result"
    }
   ],
   "source": [
    "# creating a simple function to return basic information on the dataset\n",
    "def info(df):\n",
    "    print(df.shape),\n",
    "    print('*' *40),\n",
    "    print(df.info())\n",
    "    print('*' *40)\n",
    "    print(df.nunique())\n",
    "    \n",
    "info(train)\n",
    "train.sample(5)"
   ]
  },
  {
   "cell_type": "code",
   "execution_count": 5,
   "id": "481d2902",
   "metadata": {},
   "outputs": [],
   "source": [
    "# creating a dataframe to house key numerical variables in the dataset \n",
    "num_vars = pd.DataFrame()\n",
    "num_vars['age'] = train['age']\n",
    "num_vars['income'] = train['income']\n",
    "num_vars['amount_requested'] = train['amount_requested']\n",
    "num_vars['risk_score'] = train['risk_score']"
   ]
  },
  {
   "cell_type": "code",
   "execution_count": 6,
   "id": "9274d49e",
   "metadata": {},
   "outputs": [
    {
     "data": {
      "text/html": [
       "<div>\n",
       "<style scoped>\n",
       "    .dataframe tbody tr th:only-of-type {\n",
       "        vertical-align: middle;\n",
       "    }\n",
       "\n",
       "    .dataframe tbody tr th {\n",
       "        vertical-align: top;\n",
       "    }\n",
       "\n",
       "    .dataframe thead th {\n",
       "        text-align: right;\n",
       "    }\n",
       "</style>\n",
       "<table border=\"1\" class=\"dataframe\">\n",
       "  <thead>\n",
       "    <tr style=\"text-align: right;\">\n",
       "      <th></th>\n",
       "      <th>age</th>\n",
       "      <th>income</th>\n",
       "      <th>amount_requested</th>\n",
       "      <th>risk_score</th>\n",
       "    </tr>\n",
       "  </thead>\n",
       "  <tbody>\n",
       "    <tr>\n",
       "      <th>count</th>\n",
       "      <td>12516.000000</td>\n",
       "      <td>12516.000000</td>\n",
       "      <td>12516.000000</td>\n",
       "      <td>12516.000000</td>\n",
       "    </tr>\n",
       "    <tr>\n",
       "      <th>mean</th>\n",
       "      <td>43.026766</td>\n",
       "      <td>3654.110658</td>\n",
       "      <td>950.251518</td>\n",
       "      <td>61133.401246</td>\n",
       "    </tr>\n",
       "    <tr>\n",
       "      <th>std</th>\n",
       "      <td>11.865891</td>\n",
       "      <td>1508.072163</td>\n",
       "      <td>706.915146</td>\n",
       "      <td>15396.809340</td>\n",
       "    </tr>\n",
       "    <tr>\n",
       "      <th>min</th>\n",
       "      <td>18.000000</td>\n",
       "      <td>905.000000</td>\n",
       "      <td>350.000000</td>\n",
       "      <td>2100.000000</td>\n",
       "    </tr>\n",
       "    <tr>\n",
       "      <th>25%</th>\n",
       "      <td>34.000000</td>\n",
       "      <td>2575.000000</td>\n",
       "      <td>600.000000</td>\n",
       "      <td>49450.000000</td>\n",
       "    </tr>\n",
       "    <tr>\n",
       "      <th>50%</th>\n",
       "      <td>42.000000</td>\n",
       "      <td>3255.000000</td>\n",
       "      <td>700.000000</td>\n",
       "      <td>61200.000000</td>\n",
       "    </tr>\n",
       "    <tr>\n",
       "      <th>75%</th>\n",
       "      <td>51.000000</td>\n",
       "      <td>4661.250000</td>\n",
       "      <td>1100.000000</td>\n",
       "      <td>72750.000000</td>\n",
       "    </tr>\n",
       "    <tr>\n",
       "      <th>max</th>\n",
       "      <td>96.000000</td>\n",
       "      <td>9985.000000</td>\n",
       "      <td>10200.000000</td>\n",
       "      <td>99750.000000</td>\n",
       "    </tr>\n",
       "  </tbody>\n",
       "</table>\n",
       "</div>"
      ],
      "text/plain": [
       "                age        income  amount_requested    risk_score\n",
       "count  12516.000000  12516.000000      12516.000000  12516.000000\n",
       "mean      43.026766   3654.110658        950.251518  61133.401246\n",
       "std       11.865891   1508.072163        706.915146  15396.809340\n",
       "min       18.000000    905.000000        350.000000   2100.000000\n",
       "25%       34.000000   2575.000000        600.000000  49450.000000\n",
       "50%       42.000000   3255.000000        700.000000  61200.000000\n",
       "75%       51.000000   4661.250000       1100.000000  72750.000000\n",
       "max       96.000000   9985.000000      10200.000000  99750.000000"
      ]
     },
     "execution_count": 6,
     "metadata": {},
     "output_type": "execute_result"
    }
   ],
   "source": [
    "# this returns summary statistics on key numerical variables in the dataset.\n",
    "num_vars.describe()"
   ]
  },
  {
   "cell_type": "code",
   "execution_count": 7,
   "id": "12d463d6",
   "metadata": {
    "scrolled": false
   },
   "outputs": [
    {
     "data": {
      "image/png": "[encoded data removed]",
      "text/plain": [
       "<Figure size 1440x576 with 4 Axes>"
      ]
     },
     "metadata": {
      "needs_background": "light"
     },
     "output_type": "display_data"
    }
   ],
   "source": [
    "# creating a simple visualization of these numerical variables\n",
    "num_vars.hist(figsize=(20, 8));"
   ]
  },
  {
   "cell_type": "code",
   "execution_count": 8,
   "id": "2cebfb66",
   "metadata": {},
   "outputs": [
    {
     "data": {
      "text/plain": [
       "43    402\n",
       "37    392\n",
       "42    388\n",
       "39    384\n",
       "34    382\n",
       "     ... \n",
       "86      2\n",
       "96      1\n",
       "83      1\n",
       "89      1\n",
       "87      1\n",
       "Name: age, Length: 72, dtype: int64"
      ]
     },
     "execution_count": 8,
     "metadata": {},
     "output_type": "execute_result"
    }
   ],
   "source": [
    "train.age.value_counts()"
   ]
  },
  {
   "cell_type": "markdown",
   "id": "340926f4",
   "metadata": {},
   "source": [
    "### Quick Observations\n",
    "\n",
    "- Most customers appear to be middle aged, as the mean age is 43 years.\n",
    "- "
   ]
  },
  {
   "cell_type": "code",
   "execution_count": 9,
   "id": "ca2f5bf3",
   "metadata": {},
   "outputs": [
    {
     "data": {
      "text/plain": [
       "False    12510\n",
       "True         6\n",
       "Name: Entry_id, dtype: int64"
      ]
     },
     "execution_count": 9,
     "metadata": {},
     "output_type": "execute_result"
    }
   ],
   "source": [
    "# checking key columns for dulicate entries\n",
    "train.Entry_id.duplicated().value_counts()"
   ]
  },
  {
   "cell_type": "markdown",
   "id": "6ffa99b7",
   "metadata": {},
   "source": [
    "### Issues\n",
    "\n",
    "- duplicate entries in the Entry_id column\n",
    "- The months_employed and years_employed columns should be merged into 1"
   ]
  },
  {
   "cell_type": "markdown",
   "id": "273d22df",
   "metadata": {},
   "source": [
    "### Cleaning\n",
    "\n",
    "Before we commence cleaning, it is best to create a copy of the dataset upon which the cleaning will be done."
   ]
  },
  {
   "cell_type": "code",
   "execution_count": 10,
   "id": "6c247eed",
   "metadata": {},
   "outputs": [],
   "source": [
    "train_copy = train.copy()"
   ]
  },
  {
   "cell_type": "markdown",
   "id": "d5f4e358",
   "metadata": {},
   "source": [
    "#### 1. Duplicate entries in the Entry_id column\n",
    "\n",
    "#### Define: The entry id column contains some duplicate entries that need to be dropped."
   ]
  },
  {
   "cell_type": "markdown",
   "id": "5b3f9203",
   "metadata": {},
   "source": [
    "#### Code "
   ]
  },
  {
   "cell_type": "code",
   "execution_count": 11,
   "id": "6a41eeb6",
   "metadata": {},
   "outputs": [
    {
     "data": {
      "text/plain": [
       "6"
      ]
     },
     "execution_count": 11,
     "metadata": {},
     "output_type": "execute_result"
    }
   ],
   "source": [
    "#test\n",
    "sum(train_copy.Entry_id.duplicated())"
   ]
  },
  {
   "cell_type": "code",
   "execution_count": 12,
   "id": "e3b642db",
   "metadata": {},
   "outputs": [],
   "source": [
    "train_copy.drop_duplicates(subset= 'Entry_id', inplace = True)"
   ]
  },
  {
   "cell_type": "code",
   "execution_count": 13,
   "id": "96b4082c",
   "metadata": {},
   "outputs": [
    {
     "data": {
      "text/plain": [
       "0"
      ]
     },
     "execution_count": 13,
     "metadata": {},
     "output_type": "execute_result"
    }
   ],
   "source": [
    "# confirmation \n",
    "sum(train_copy.Entry_id.duplicated())"
   ]
  },
  {
   "cell_type": "markdown",
   "id": "6f193805",
   "metadata": {},
   "source": [
    "#### 2. The months_employed and years_employed columns should be merged into 1\n",
    "\n",
    "#### Define: the columns should be merged to make it easier to work with them."
   ]
  },
  {
   "cell_type": "code",
   "execution_count": 25,
   "id": "72822b9e",
   "metadata": {},
   "outputs": [
    {
     "name": "stdout",
     "output_type": "stream",
     "text": [
      "<class 'pandas.core.frame.DataFrame'>\n",
      "Int64Index: 12510 entries, 0 to 12515\n",
      "Data columns (total 21 columns):\n",
      " #   Column                Non-Null Count  Dtype  \n",
      "---  ------                --------------  -----  \n",
      " 0   Entry_id              12510 non-null  int64  \n",
      " 1   age                   12510 non-null  int64  \n",
      " 2   pay_schedule          12510 non-null  object \n",
      " 3   home_owner            12510 non-null  int64  \n",
      " 4   income                12510 non-null  int64  \n",
      " 5   months_employed       12510 non-null  int64  \n",
      " 6   years_employed        12510 non-null  int64  \n",
      " 7   current_address_year  12510 non-null  int64  \n",
      " 8   personal_account_m    12510 non-null  int64  \n",
      " 9   personal_account_y    12510 non-null  int64  \n",
      " 10  has_debt              12510 non-null  int64  \n",
      " 11  amount_requested      12510 non-null  int64  \n",
      " 12  risk_score            12510 non-null  int64  \n",
      " 13  risk_score_2          12510 non-null  float64\n",
      " 14  risk_score_3          12510 non-null  float64\n",
      " 15  risk_score_4          12510 non-null  float64\n",
      " 16  risk_score_5          12510 non-null  float64\n",
      " 17  ext_quality_score     12510 non-null  float64\n",
      " 18  ext_quality_score_2   12510 non-null  float64\n",
      " 19  inquiries_last_month  12510 non-null  int64  \n",
      " 20  e_signed              12510 non-null  int64  \n",
      "dtypes: float64(6), int64(14), object(1)\n",
      "memory usage: 2.1+ MB\n"
     ]
    }
   ],
   "source": [
    "train.info()"
   ]
  },
  {
   "cell_type": "markdown",
   "id": "68caeef7",
   "metadata": {},
   "source": [
    "### Structure of the dataset\n",
    "\n",
    "The train dataset intially contained 12,516 rows, and 21 columns. After assessing and cleaning the data, it now contains 12,510 rows and 21 columns."
   ]
  },
  {
   "cell_type": "markdown",
   "id": "e982856a",
   "metadata": {},
   "source": [
    "## <u>Exploratory Data Analysis."
   ]
  },
  {
   "cell_type": "markdown",
   "id": "47e58c6a",
   "metadata": {},
   "source": [
    "In this section of the project, we are going to be exploring multiple variables from the train dataset."
   ]
  },
  {
   "cell_type": "markdown",
   "id": "2e9c2b0c",
   "metadata": {},
   "source": [
    "## Univariate Exploration"
   ]
  },
  {
   "cell_type": "markdown",
   "id": "4d64d1ec",
   "metadata": {},
   "source": [
    "### Distribution of ages in the dataset."
   ]
  },
  {
   "cell_type": "code",
   "execution_count": 28,
   "id": "a360bc9b",
   "metadata": {},
   "outputs": [
    {
     "data": {
      "image/png": "[encoded data removed]",
      "text/plain": [
       "<Figure size 720x360 with 1 Axes>"
      ]
     },
     "metadata": {
      "needs_background": "light"
     },
     "output_type": "display_data"
    }
   ],
   "source": [
    "plt.figure(figsize=(10,5))\n",
    "plt.hist(train.age, color = base_color, bins = 20);\n",
    "plt.yticks(fontsize=14)\n",
    "plt.xticks(fontsize=14);"
   ]
  },
  {
   "cell_type": "markdown",
   "id": "097acdfc",
   "metadata": {},
   "source": [
    "The age distribution is slightly skewed right "
   ]
  },
  {
   "cell_type": "code",
   "execution_count": null,
   "id": "b9fa36dd",
   "metadata": {},
   "outputs": [],
   "source": []
  }
 ],
 "metadata": {
  "kernelspec": {
   "display_name": "Python 3 (ipykernel)",
   "language": "python",
   "name": "python3"
  },
  "language_info": {
   "codemirror_mode": {
    "name": "ipython",
    "version": 3
   },
   "file_extension": ".py",
   "mimetype": "text/x-python",
   "name": "python",
   "nbconvert_exporter": "python",
   "pygments_lexer": "ipython3",
   "version": "3.9.12"
  },
  "toc": {
   "base_numbering": 1,
   "nav_menu": {},
   "number_sections": true,
   "sideBar": true,
   "skip_h1_title": false,
   "title_cell": "Table of Contents",
   "title_sidebar": "Contents",
   "toc_cell": false,
   "toc_position": {},
   "toc_section_display": true,
   "toc_window_display": false
  }
 },
 "nbformat": 4,
 "nbformat_minor": 5
}
