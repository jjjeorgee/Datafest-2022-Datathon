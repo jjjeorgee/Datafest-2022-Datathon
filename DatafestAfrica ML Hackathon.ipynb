{
 "cells": [
  {
   "cell_type": "markdown",
   "id": "41313177",
   "metadata": {},
   "source": [
    "## DatafestAfrica ML Hackathon\n",
    "### By Zion Oluwasegun, Neto Anyama and Oladimeji Olaniyan"
   ]
  },
  {
   "cell_type": "code",
   "execution_count": 14,
   "id": "6c2f8cb2",
   "metadata": {},
   "outputs": [],
   "source": [
    "# Importing libraries\n",
    "import numpy as np\n",
    "import pandas as pd\n",
    "import matplotlib.pyplot as plt\n",
    "import seaborn as sns\n",
    "sns.set_theme(style = 'darkgrid')\n",
    "sns.set_context('paper')\n",
    "base_color = sns.color_palette()[0]\n",
    "\n",
    "%matplotlib inline"
   ]
  },
  {
   "cell_type": "markdown",
   "id": "63da3ea2",
   "metadata": {},
   "source": [
    "## Table of Contents\n",
    "\n",
    "<ul>\n",
    "<li><a href=\"#intro\">Abstract</a></li>\n",
    "<li><a href=\"#wrangling\">Data Wrangling</a></li>\n",
    "<li><a href=\"#eda\">Exploratory Data Analysis</a></li>\n",
    "<li><a href=\"#ml\">Machine Learning Model</a></li>\n",
    "<li><a href=\"#conclusions\">Conclusions</a></li>\n",
    "<li><a href=\"#references\">References</a></li>\n",
    "</ul>\n"
   ]
  },
  {
   "cell_type": "markdown",
   "id": "c24c9596",
   "metadata": {},
   "source": [
    "<a id='intro'></a>\n",
    "\n",
    "## Abstract\n",
    " The aim of this project is to train a Machine Learning model to help a Financial Industry predict who is likely to complete an E-process application."
   ]
  },
  {
   "cell_type": "markdown",
   "id": "892d5c3f",
   "metadata": {},
   "source": [
    "<a id='wrangling'></a>\n",
    "## Data  Wrangling\n",
    "\n",
    "To gather the data used, we downloaded the train and test datasets from [here](https://www.kaggle.com/competitions/datafestafrica-ml-hackathon/data). Afterwards, we read the csv file using pandas.\n"
   ]
  },
  {
   "cell_type": "code",
   "execution_count": 83,
   "id": "75126ed4",
   "metadata": {},
   "outputs": [],
   "source": [
    "# downloading the datasets by importing them using the pandas library\n",
    "test = pd.read_csv('test.csv')\n",
    "train = pd.read_csv('train.csv')"
   ]
  },
  {
   "cell_type": "markdown",
   "id": "f75f2803",
   "metadata": {},
   "source": [
    "We will be performing our wrangling on the train dataset."
   ]
  },
  {
   "cell_type": "markdown",
   "id": "f7f34b84",
   "metadata": {},
   "source": [
    "### Assessing"
   ]
  },
  {
   "cell_type": "markdown",
   "id": "1af4917a",
   "metadata": {},
   "source": [
    " We employed visual and programmatic assessments to review the dataset and check for errors. Programmatic methods we used were: `info`, `duplicated`, `head`, `describe`."
   ]
  },
  {
   "cell_type": "code",
   "execution_count": 16,
   "id": "94bbdaed",
   "metadata": {
    "scrolled": false
   },
   "outputs": [
    {
     "name": "stdout",
     "output_type": "stream",
     "text": [
      "(12516, 21)\n",
      "****************************************\n",
      "<class 'pandas.core.frame.DataFrame'>\n",
      "RangeIndex: 12516 entries, 0 to 12515\n",
      "Data columns (total 21 columns):\n",
      " #   Column                Non-Null Count  Dtype  \n",
      "---  ------                --------------  -----  \n",
      " 0   Entry_id              12516 non-null  int64  \n",
      " 1   age                   12516 non-null  int64  \n",
      " 2   pay_schedule          12516 non-null  object \n",
      " 3   home_owner            12516 non-null  int64  \n",
      " 4   income                12516 non-null  int64  \n",
      " 5   months_employed       12516 non-null  int64  \n",
      " 6   years_employed        12516 non-null  int64  \n",
      " 7   current_address_year  12516 non-null  int64  \n",
      " 8   personal_account_m    12516 non-null  int64  \n",
      " 9   personal_account_y    12516 non-null  int64  \n",
      " 10  has_debt              12516 non-null  int64  \n",
      " 11  amount_requested      12516 non-null  int64  \n",
      " 12  risk_score            12516 non-null  int64  \n",
      " 13  risk_score_2          12516 non-null  float64\n",
      " 14  risk_score_3          12516 non-null  float64\n",
      " 15  risk_score_4          12516 non-null  float64\n",
      " 16  risk_score_5          12516 non-null  float64\n",
      " 17  ext_quality_score     12516 non-null  float64\n",
      " 18  ext_quality_score_2   12516 non-null  float64\n",
      " 19  inquiries_last_month  12516 non-null  int64  \n",
      " 20  e_signed              12516 non-null  int64  \n",
      "dtypes: float64(6), int64(14), object(1)\n",
      "memory usage: 2.0+ MB\n",
      "None\n",
      "****************************************\n",
      "Entry_id                12510\n",
      "age                        72\n",
      "pay_schedule                4\n",
      "home_owner                  2\n",
      "income                   1940\n",
      "months_employed            12\n",
      "years_employed             17\n",
      "current_address_year       13\n",
      "personal_account_m         12\n",
      "personal_account_y         15\n",
      "has_debt                    2\n",
      "amount_requested           93\n",
      "risk_score               1370\n",
      "risk_score_2            12307\n",
      "risk_score_3             3548\n",
      "risk_score_4            12388\n",
      "risk_score_5            12339\n",
      "ext_quality_score       12308\n",
      "ext_quality_score_2     12312\n",
      "inquiries_last_month       30\n",
      "e_signed                    2\n",
      "dtype: int64\n"
     ]
    },
    {
     "data": {
      "text/html": [
       "<div>\n",
       "<style scoped>\n",
       "    .dataframe tbody tr th:only-of-type {\n",
       "        vertical-align: middle;\n",
       "    }\n",
       "\n",
       "    .dataframe tbody tr th {\n",
       "        vertical-align: top;\n",
       "    }\n",
       "\n",
       "    .dataframe thead th {\n",
       "        text-align: right;\n",
       "    }\n",
       "</style>\n",
       "<table border=\"1\" class=\"dataframe\">\n",
       "  <thead>\n",
       "    <tr style=\"text-align: right;\">\n",
       "      <th></th>\n",
       "      <th>Entry_id</th>\n",
       "      <th>age</th>\n",
       "      <th>pay_schedule</th>\n",
       "      <th>home_owner</th>\n",
       "      <th>income</th>\n",
       "      <th>months_employed</th>\n",
       "      <th>years_employed</th>\n",
       "      <th>current_address_year</th>\n",
       "      <th>personal_account_m</th>\n",
       "      <th>personal_account_y</th>\n",
       "      <th>...</th>\n",
       "      <th>amount_requested</th>\n",
       "      <th>risk_score</th>\n",
       "      <th>risk_score_2</th>\n",
       "      <th>risk_score_3</th>\n",
       "      <th>risk_score_4</th>\n",
       "      <th>risk_score_5</th>\n",
       "      <th>ext_quality_score</th>\n",
       "      <th>ext_quality_score_2</th>\n",
       "      <th>inquiries_last_month</th>\n",
       "      <th>e_signed</th>\n",
       "    </tr>\n",
       "  </thead>\n",
       "  <tbody>\n",
       "    <tr>\n",
       "      <th>4175</th>\n",
       "      <td>2849543</td>\n",
       "      <td>50</td>\n",
       "      <td>weekly</td>\n",
       "      <td>1</td>\n",
       "      <td>3710</td>\n",
       "      <td>0</td>\n",
       "      <td>4</td>\n",
       "      <td>1</td>\n",
       "      <td>1</td>\n",
       "      <td>3</td>\n",
       "      <td>...</td>\n",
       "      <td>900</td>\n",
       "      <td>62500</td>\n",
       "      <td>0.773731</td>\n",
       "      <td>0.884539</td>\n",
       "      <td>0.644390</td>\n",
       "      <td>0.794508</td>\n",
       "      <td>0.725098</td>\n",
       "      <td>0.425098</td>\n",
       "      <td>3</td>\n",
       "      <td>1</td>\n",
       "    </tr>\n",
       "    <tr>\n",
       "      <th>4174</th>\n",
       "      <td>4203470</td>\n",
       "      <td>58</td>\n",
       "      <td>bi-weekly</td>\n",
       "      <td>1</td>\n",
       "      <td>3515</td>\n",
       "      <td>0</td>\n",
       "      <td>2</td>\n",
       "      <td>2</td>\n",
       "      <td>1</td>\n",
       "      <td>3</td>\n",
       "      <td>...</td>\n",
       "      <td>500</td>\n",
       "      <td>63150</td>\n",
       "      <td>0.692906</td>\n",
       "      <td>0.951719</td>\n",
       "      <td>0.791394</td>\n",
       "      <td>0.769415</td>\n",
       "      <td>0.767963</td>\n",
       "      <td>0.767963</td>\n",
       "      <td>9</td>\n",
       "      <td>0</td>\n",
       "    </tr>\n",
       "    <tr>\n",
       "      <th>268</th>\n",
       "      <td>1115491</td>\n",
       "      <td>32</td>\n",
       "      <td>bi-weekly</td>\n",
       "      <td>1</td>\n",
       "      <td>2150</td>\n",
       "      <td>0</td>\n",
       "      <td>4</td>\n",
       "      <td>5</td>\n",
       "      <td>2</td>\n",
       "      <td>4</td>\n",
       "      <td>...</td>\n",
       "      <td>500</td>\n",
       "      <td>45350</td>\n",
       "      <td>0.678445</td>\n",
       "      <td>0.875494</td>\n",
       "      <td>0.321949</td>\n",
       "      <td>0.388685</td>\n",
       "      <td>0.520434</td>\n",
       "      <td>0.320434</td>\n",
       "      <td>4</td>\n",
       "      <td>1</td>\n",
       "    </tr>\n",
       "    <tr>\n",
       "      <th>7059</th>\n",
       "      <td>8813284</td>\n",
       "      <td>44</td>\n",
       "      <td>weekly</td>\n",
       "      <td>1</td>\n",
       "      <td>2600</td>\n",
       "      <td>0</td>\n",
       "      <td>5</td>\n",
       "      <td>6</td>\n",
       "      <td>0</td>\n",
       "      <td>0</td>\n",
       "      <td>...</td>\n",
       "      <td>1200</td>\n",
       "      <td>60600</td>\n",
       "      <td>0.673059</td>\n",
       "      <td>0.935065</td>\n",
       "      <td>0.567890</td>\n",
       "      <td>0.773975</td>\n",
       "      <td>0.580461</td>\n",
       "      <td>0.680461</td>\n",
       "      <td>11</td>\n",
       "      <td>1</td>\n",
       "    </tr>\n",
       "    <tr>\n",
       "      <th>767</th>\n",
       "      <td>2525287</td>\n",
       "      <td>43</td>\n",
       "      <td>semi-monthly</td>\n",
       "      <td>0</td>\n",
       "      <td>4085</td>\n",
       "      <td>0</td>\n",
       "      <td>3</td>\n",
       "      <td>1</td>\n",
       "      <td>3</td>\n",
       "      <td>2</td>\n",
       "      <td>...</td>\n",
       "      <td>900</td>\n",
       "      <td>53300</td>\n",
       "      <td>0.554636</td>\n",
       "      <td>0.911340</td>\n",
       "      <td>0.576491</td>\n",
       "      <td>0.525849</td>\n",
       "      <td>0.276971</td>\n",
       "      <td>0.576971</td>\n",
       "      <td>12</td>\n",
       "      <td>1</td>\n",
       "    </tr>\n",
       "  </tbody>\n",
       "</table>\n",
       "<p>5 rows × 21 columns</p>\n",
       "</div>"
      ],
      "text/plain": [
       "      Entry_id  age  pay_schedule  home_owner  income  months_employed  \\\n",
       "4175   2849543   50        weekly           1    3710                0   \n",
       "4174   4203470   58     bi-weekly           1    3515                0   \n",
       "268    1115491   32     bi-weekly           1    2150                0   \n",
       "7059   8813284   44        weekly           1    2600                0   \n",
       "767    2525287   43  semi-monthly           0    4085                0   \n",
       "\n",
       "      years_employed  current_address_year  personal_account_m  \\\n",
       "4175               4                     1                   1   \n",
       "4174               2                     2                   1   \n",
       "268                4                     5                   2   \n",
       "7059               5                     6                   0   \n",
       "767                3                     1                   3   \n",
       "\n",
       "      personal_account_y  ...  amount_requested  risk_score  risk_score_2  \\\n",
       "4175                   3  ...               900       62500      0.773731   \n",
       "4174                   3  ...               500       63150      0.692906   \n",
       "268                    4  ...               500       45350      0.678445   \n",
       "7059                   0  ...              1200       60600      0.673059   \n",
       "767                    2  ...               900       53300      0.554636   \n",
       "\n",
       "      risk_score_3  risk_score_4  risk_score_5  ext_quality_score  \\\n",
       "4175      0.884539      0.644390      0.794508           0.725098   \n",
       "4174      0.951719      0.791394      0.769415           0.767963   \n",
       "268       0.875494      0.321949      0.388685           0.520434   \n",
       "7059      0.935065      0.567890      0.773975           0.580461   \n",
       "767       0.911340      0.576491      0.525849           0.276971   \n",
       "\n",
       "      ext_quality_score_2  inquiries_last_month  e_signed  \n",
       "4175             0.425098                     3         1  \n",
       "4174             0.767963                     9         0  \n",
       "268              0.320434                     4         1  \n",
       "7059             0.680461                    11         1  \n",
       "767              0.576971                    12         1  \n",
       "\n",
       "[5 rows x 21 columns]"
      ]
     },
     "execution_count": 16,
     "metadata": {},
     "output_type": "execute_result"
    }
   ],
   "source": [
    "# creating a simple function to return basic information on the dataset\n",
    "def info(df):\n",
    "    print(df.shape),\n",
    "    print('*' *40),\n",
    "    print(df.info())\n",
    "    print('*' *40)\n",
    "    print(df.nunique())\n",
    "    \n",
    "info(train)\n",
    "train.sample(5)"
   ]
  },
  {
   "cell_type": "code",
   "execution_count": 17,
   "id": "481d2902",
   "metadata": {},
   "outputs": [],
   "source": [
    "# creating a dataframe to house key numerical variables in the dataset \n",
    "num_vars = pd.DataFrame()\n",
    "num_vars['age'] = train['age']\n",
    "num_vars['income'] = train['income']\n",
    "num_vars['amount_requested'] = train['amount_requested']\n",
    "num_vars['risk_score'] = train['risk_score']"
   ]
  },
  {
   "cell_type": "code",
   "execution_count": 18,
   "id": "9274d49e",
   "metadata": {},
   "outputs": [
    {
     "data": {
      "text/html": [
       "<div>\n",
       "<style scoped>\n",
       "    .dataframe tbody tr th:only-of-type {\n",
       "        vertical-align: middle;\n",
       "    }\n",
       "\n",
       "    .dataframe tbody tr th {\n",
       "        vertical-align: top;\n",
       "    }\n",
       "\n",
       "    .dataframe thead th {\n",
       "        text-align: right;\n",
       "    }\n",
       "</style>\n",
       "<table border=\"1\" class=\"dataframe\">\n",
       "  <thead>\n",
       "    <tr style=\"text-align: right;\">\n",
       "      <th></th>\n",
       "      <th>age</th>\n",
       "      <th>income</th>\n",
       "      <th>amount_requested</th>\n",
       "      <th>risk_score</th>\n",
       "    </tr>\n",
       "  </thead>\n",
       "  <tbody>\n",
       "    <tr>\n",
       "      <th>count</th>\n",
       "      <td>12516.000000</td>\n",
       "      <td>12516.000000</td>\n",
       "      <td>12516.000000</td>\n",
       "      <td>12516.000000</td>\n",
       "    </tr>\n",
       "    <tr>\n",
       "      <th>mean</th>\n",
       "      <td>43.026766</td>\n",
       "      <td>3654.110658</td>\n",
       "      <td>950.251518</td>\n",
       "      <td>61133.401246</td>\n",
       "    </tr>\n",
       "    <tr>\n",
       "      <th>std</th>\n",
       "      <td>11.865891</td>\n",
       "      <td>1508.072163</td>\n",
       "      <td>706.915146</td>\n",
       "      <td>15396.809340</td>\n",
       "    </tr>\n",
       "    <tr>\n",
       "      <th>min</th>\n",
       "      <td>18.000000</td>\n",
       "      <td>905.000000</td>\n",
       "      <td>350.000000</td>\n",
       "      <td>2100.000000</td>\n",
       "    </tr>\n",
       "    <tr>\n",
       "      <th>25%</th>\n",
       "      <td>34.000000</td>\n",
       "      <td>2575.000000</td>\n",
       "      <td>600.000000</td>\n",
       "      <td>49450.000000</td>\n",
       "    </tr>\n",
       "    <tr>\n",
       "      <th>50%</th>\n",
       "      <td>42.000000</td>\n",
       "      <td>3255.000000</td>\n",
       "      <td>700.000000</td>\n",
       "      <td>61200.000000</td>\n",
       "    </tr>\n",
       "    <tr>\n",
       "      <th>75%</th>\n",
       "      <td>51.000000</td>\n",
       "      <td>4661.250000</td>\n",
       "      <td>1100.000000</td>\n",
       "      <td>72750.000000</td>\n",
       "    </tr>\n",
       "    <tr>\n",
       "      <th>max</th>\n",
       "      <td>96.000000</td>\n",
       "      <td>9985.000000</td>\n",
       "      <td>10200.000000</td>\n",
       "      <td>99750.000000</td>\n",
       "    </tr>\n",
       "  </tbody>\n",
       "</table>\n",
       "</div>"
      ],
      "text/plain": [
       "                age        income  amount_requested    risk_score\n",
       "count  12516.000000  12516.000000      12516.000000  12516.000000\n",
       "mean      43.026766   3654.110658        950.251518  61133.401246\n",
       "std       11.865891   1508.072163        706.915146  15396.809340\n",
       "min       18.000000    905.000000        350.000000   2100.000000\n",
       "25%       34.000000   2575.000000        600.000000  49450.000000\n",
       "50%       42.000000   3255.000000        700.000000  61200.000000\n",
       "75%       51.000000   4661.250000       1100.000000  72750.000000\n",
       "max       96.000000   9985.000000      10200.000000  99750.000000"
      ]
     },
     "execution_count": 18,
     "metadata": {},
     "output_type": "execute_result"
    }
   ],
   "source": [
    "# this returns summary statistics on key numerical variables in the dataset.\n",
    "num_vars.describe()"
   ]
  },
  {
   "cell_type": "code",
   "execution_count": 19,
   "id": "12d463d6",
   "metadata": {
    "scrolled": false
   },
   "outputs": [
    {
     "data": {
      "image/png": "[encoded data removed]",
      "text/plain": [
       "<Figure size 1440x576 with 4 Axes>"
      ]
     },
     "metadata": {
      "needs_background": "light"
     },
     "output_type": "display_data"
    }
   ],
   "source": [
    "# creating a simple visualization of these numerical variables\n",
    "num_vars.hist(figsize=(20, 8));"
   ]
  },
  {
   "cell_type": "markdown",
   "id": "340926f4",
   "metadata": {},
   "source": [
    "### Quick Observations\n",
    "\n",
    "- Most customers appear to be middle aged, as the mean age is 43 years.\n",
    "- The distribution of income is slightly skewed to the right and has a long tail, suggesting potential ouliers.\n",
    "- There is some imbalance in the distribution of amount_requested.\n",
    "- The risk_score is slightly skewed to the left"
   ]
  },
  {
   "cell_type": "code",
   "execution_count": 21,
   "id": "ca2f5bf3",
   "metadata": {},
   "outputs": [
    {
     "data": {
      "text/plain": [
       "False    12510\n",
       "True         6\n",
       "Name: Entry_id, dtype: int64"
      ]
     },
     "execution_count": 21,
     "metadata": {},
     "output_type": "execute_result"
    }
   ],
   "source": [
    "# checking key columns for dulicate entries\n",
    "train.Entry_id.duplicated().value_counts()"
   ]
  },
  {
   "cell_type": "markdown",
   "id": "6ffa99b7",
   "metadata": {},
   "source": [
    "### Issues\n",
    "\n",
    "- Duplicate entries in the `Entry_id` column\n",
    "- The `months_employed` and `years_employed` columns should be merged into one.\n",
    "- The `personal_account_m` and `personal_account_y` columns should be merged into one.\n",
    "- The datatype of the `entry_id` column needed to be changed to object.\n",
    "- In `home_owner`, `has_debt`, and `e_signed` columns, we needed to replace 0 and 1 with yes and no respectively.\n",
    "- risk_score column should be a float and not an integer."
   ]
  },
  {
   "cell_type": "markdown",
   "id": "9b7ab0a2",
   "metadata": {},
   "source": [
    "### Cleaning\n",
    "\n",
    "Before we commence cleaning, it is best to create a copy of the dataset upon which the cleaning will be done."
   ]
  },
  {
   "cell_type": "code",
   "execution_count": 105,
   "id": "a7363ee5",
   "metadata": {},
   "outputs": [],
   "source": [
    "train_copy = train.copy()"
   ]
  },
  {
   "cell_type": "markdown",
   "id": "d5f4e358",
   "metadata": {},
   "source": [
    "#### 1. Duplicate entries in the Entry_id column\n",
    "\n",
    "#### Define: The entry id column contains some duplicate entries that need to be dropped."
   ]
  },
  {
   "cell_type": "markdown",
   "id": "5b3f9203",
   "metadata": {},
   "source": [
    "#### Code "
   ]
  },
  {
   "cell_type": "code",
   "execution_count": 106,
   "id": "6a41eeb6",
   "metadata": {},
   "outputs": [
    {
     "data": {
      "text/plain": [
       "6"
      ]
     },
     "execution_count": 106,
     "metadata": {},
     "output_type": "execute_result"
    }
   ],
   "source": [
    "#test\n",
    "sum(train_copy.Entry_id.duplicated())"
   ]
  },
  {
   "cell_type": "code",
   "execution_count": 107,
   "id": "e3b642db",
   "metadata": {},
   "outputs": [],
   "source": [
    "train_copy.drop_duplicates(subset= 'Entry_id', inplace = True)"
   ]
  },
  {
   "cell_type": "code",
   "execution_count": 108,
   "id": "96b4082c",
   "metadata": {},
   "outputs": [
    {
     "data": {
      "text/plain": [
       "0"
      ]
     },
     "execution_count": 108,
     "metadata": {},
     "output_type": "execute_result"
    }
   ],
   "source": [
    "# confirmation \n",
    "sum(train_copy.Entry_id.duplicated())"
   ]
  },
  {
   "cell_type": "markdown",
   "id": "41b6ebcf",
   "metadata": {},
   "source": [
    "#### 2. The months_employed and years_employed columns should be merged into one column.\n",
    "\n",
    "#### Define: The months_employed and years_employed columns should be merged to make it easier to work with them. This column will be represented in months"
   ]
  },
  {
   "cell_type": "markdown",
   "id": "98d0f89c",
   "metadata": {},
   "source": [
    "#### Code"
   ]
  },
  {
   "cell_type": "code",
   "execution_count": 109,
   "id": "66586fb7",
   "metadata": {},
   "outputs": [
    {
     "data": {
      "text/html": [
       "<div>\n",
       "<style scoped>\n",
       "    .dataframe tbody tr th:only-of-type {\n",
       "        vertical-align: middle;\n",
       "    }\n",
       "\n",
       "    .dataframe tbody tr th {\n",
       "        vertical-align: top;\n",
       "    }\n",
       "\n",
       "    .dataframe thead th {\n",
       "        text-align: right;\n",
       "    }\n",
       "</style>\n",
       "<table border=\"1\" class=\"dataframe\">\n",
       "  <thead>\n",
       "    <tr style=\"text-align: right;\">\n",
       "      <th></th>\n",
       "      <th>Entry_id</th>\n",
       "      <th>age</th>\n",
       "      <th>pay_schedule</th>\n",
       "      <th>home_owner</th>\n",
       "      <th>income</th>\n",
       "      <th>months_employed</th>\n",
       "      <th>years_employed</th>\n",
       "      <th>current_address_year</th>\n",
       "      <th>personal_account_m</th>\n",
       "      <th>personal_account_y</th>\n",
       "      <th>...</th>\n",
       "      <th>amount_requested</th>\n",
       "      <th>risk_score</th>\n",
       "      <th>risk_score_2</th>\n",
       "      <th>risk_score_3</th>\n",
       "      <th>risk_score_4</th>\n",
       "      <th>risk_score_5</th>\n",
       "      <th>ext_quality_score</th>\n",
       "      <th>ext_quality_score_2</th>\n",
       "      <th>inquiries_last_month</th>\n",
       "      <th>e_signed</th>\n",
       "    </tr>\n",
       "  </thead>\n",
       "  <tbody>\n",
       "    <tr>\n",
       "      <th>1749</th>\n",
       "      <td>7939008</td>\n",
       "      <td>55</td>\n",
       "      <td>bi-weekly</td>\n",
       "      <td>0</td>\n",
       "      <td>4720</td>\n",
       "      <td>1</td>\n",
       "      <td>2</td>\n",
       "      <td>2</td>\n",
       "      <td>4</td>\n",
       "      <td>1</td>\n",
       "      <td>...</td>\n",
       "      <td>700</td>\n",
       "      <td>62850</td>\n",
       "      <td>0.826568</td>\n",
       "      <td>0.885505</td>\n",
       "      <td>0.661020</td>\n",
       "      <td>0.871527</td>\n",
       "      <td>0.531001</td>\n",
       "      <td>0.631001</td>\n",
       "      <td>9</td>\n",
       "      <td>0</td>\n",
       "    </tr>\n",
       "    <tr>\n",
       "      <th>4822</th>\n",
       "      <td>9686040</td>\n",
       "      <td>34</td>\n",
       "      <td>bi-weekly</td>\n",
       "      <td>1</td>\n",
       "      <td>3085</td>\n",
       "      <td>4</td>\n",
       "      <td>1</td>\n",
       "      <td>1</td>\n",
       "      <td>6</td>\n",
       "      <td>2</td>\n",
       "      <td>...</td>\n",
       "      <td>2700</td>\n",
       "      <td>82350</td>\n",
       "      <td>0.744095</td>\n",
       "      <td>0.912630</td>\n",
       "      <td>0.522641</td>\n",
       "      <td>0.743952</td>\n",
       "      <td>0.708525</td>\n",
       "      <td>0.708525</td>\n",
       "      <td>4</td>\n",
       "      <td>1</td>\n",
       "    </tr>\n",
       "    <tr>\n",
       "      <th>11160</th>\n",
       "      <td>6464076</td>\n",
       "      <td>48</td>\n",
       "      <td>bi-weekly</td>\n",
       "      <td>0</td>\n",
       "      <td>3535</td>\n",
       "      <td>0</td>\n",
       "      <td>3</td>\n",
       "      <td>3</td>\n",
       "      <td>6</td>\n",
       "      <td>3</td>\n",
       "      <td>...</td>\n",
       "      <td>700</td>\n",
       "      <td>75500</td>\n",
       "      <td>0.627061</td>\n",
       "      <td>0.945109</td>\n",
       "      <td>0.612316</td>\n",
       "      <td>0.753020</td>\n",
       "      <td>0.408577</td>\n",
       "      <td>0.608577</td>\n",
       "      <td>8</td>\n",
       "      <td>0</td>\n",
       "    </tr>\n",
       "  </tbody>\n",
       "</table>\n",
       "<p>3 rows × 21 columns</p>\n",
       "</div>"
      ],
      "text/plain": [
       "       Entry_id  age pay_schedule  home_owner  income  months_employed  \\\n",
       "1749    7939008   55    bi-weekly           0    4720                1   \n",
       "4822    9686040   34    bi-weekly           1    3085                4   \n",
       "11160   6464076   48    bi-weekly           0    3535                0   \n",
       "\n",
       "       years_employed  current_address_year  personal_account_m  \\\n",
       "1749                2                     2                   4   \n",
       "4822                1                     1                   6   \n",
       "11160               3                     3                   6   \n",
       "\n",
       "       personal_account_y  ...  amount_requested  risk_score  risk_score_2  \\\n",
       "1749                    1  ...               700       62850      0.826568   \n",
       "4822                    2  ...              2700       82350      0.744095   \n",
       "11160                   3  ...               700       75500      0.627061   \n",
       "\n",
       "       risk_score_3  risk_score_4  risk_score_5  ext_quality_score  \\\n",
       "1749       0.885505      0.661020      0.871527           0.531001   \n",
       "4822       0.912630      0.522641      0.743952           0.708525   \n",
       "11160      0.945109      0.612316      0.753020           0.408577   \n",
       "\n",
       "       ext_quality_score_2  inquiries_last_month  e_signed  \n",
       "1749              0.631001                     9         0  \n",
       "4822              0.708525                     4         1  \n",
       "11160             0.608577                     8         0  \n",
       "\n",
       "[3 rows x 21 columns]"
      ]
     },
     "execution_count": 109,
     "metadata": {},
     "output_type": "execute_result"
    }
   ],
   "source": [
    "# test\n",
    "train_copy.sample(3)"
   ]
  },
  {
   "cell_type": "code",
   "execution_count": 110,
   "id": "21fc89ac",
   "metadata": {},
   "outputs": [],
   "source": [
    "train_copy['total_months_employed'] = (train_copy['years_employed']*12) + train_copy['months_employed']"
   ]
  },
  {
   "cell_type": "code",
   "execution_count": 111,
   "id": "72822b9e",
   "metadata": {
    "scrolled": false
   },
   "outputs": [
    {
     "data": {
      "text/html": [
       "<div>\n",
       "<style scoped>\n",
       "    .dataframe tbody tr th:only-of-type {\n",
       "        vertical-align: middle;\n",
       "    }\n",
       "\n",
       "    .dataframe tbody tr th {\n",
       "        vertical-align: top;\n",
       "    }\n",
       "\n",
       "    .dataframe thead th {\n",
       "        text-align: right;\n",
       "    }\n",
       "</style>\n",
       "<table border=\"1\" class=\"dataframe\">\n",
       "  <thead>\n",
       "    <tr style=\"text-align: right;\">\n",
       "      <th></th>\n",
       "      <th>Entry_id</th>\n",
       "      <th>age</th>\n",
       "      <th>pay_schedule</th>\n",
       "      <th>home_owner</th>\n",
       "      <th>income</th>\n",
       "      <th>months_employed</th>\n",
       "      <th>years_employed</th>\n",
       "      <th>current_address_year</th>\n",
       "      <th>personal_account_m</th>\n",
       "      <th>personal_account_y</th>\n",
       "      <th>...</th>\n",
       "      <th>risk_score</th>\n",
       "      <th>risk_score_2</th>\n",
       "      <th>risk_score_3</th>\n",
       "      <th>risk_score_4</th>\n",
       "      <th>risk_score_5</th>\n",
       "      <th>ext_quality_score</th>\n",
       "      <th>ext_quality_score_2</th>\n",
       "      <th>inquiries_last_month</th>\n",
       "      <th>e_signed</th>\n",
       "      <th>total_months_employed</th>\n",
       "    </tr>\n",
       "  </thead>\n",
       "  <tbody>\n",
       "    <tr>\n",
       "      <th>1551</th>\n",
       "      <td>6911571</td>\n",
       "      <td>58</td>\n",
       "      <td>bi-weekly</td>\n",
       "      <td>1</td>\n",
       "      <td>5245</td>\n",
       "      <td>0</td>\n",
       "      <td>3</td>\n",
       "      <td>3</td>\n",
       "      <td>6</td>\n",
       "      <td>2</td>\n",
       "      <td>...</td>\n",
       "      <td>64350</td>\n",
       "      <td>0.752609</td>\n",
       "      <td>0.855304</td>\n",
       "      <td>0.633999</td>\n",
       "      <td>0.612072</td>\n",
       "      <td>0.476228</td>\n",
       "      <td>0.676228</td>\n",
       "      <td>4</td>\n",
       "      <td>0</td>\n",
       "      <td>36</td>\n",
       "    </tr>\n",
       "    <tr>\n",
       "      <th>7239</th>\n",
       "      <td>7406994</td>\n",
       "      <td>38</td>\n",
       "      <td>monthly</td>\n",
       "      <td>1</td>\n",
       "      <td>3220</td>\n",
       "      <td>5</td>\n",
       "      <td>0</td>\n",
       "      <td>3</td>\n",
       "      <td>1</td>\n",
       "      <td>4</td>\n",
       "      <td>...</td>\n",
       "      <td>91300</td>\n",
       "      <td>0.686306</td>\n",
       "      <td>0.925952</td>\n",
       "      <td>0.565320</td>\n",
       "      <td>0.740361</td>\n",
       "      <td>0.825401</td>\n",
       "      <td>0.925401</td>\n",
       "      <td>5</td>\n",
       "      <td>1</td>\n",
       "      <td>5</td>\n",
       "    </tr>\n",
       "    <tr>\n",
       "      <th>6119</th>\n",
       "      <td>1589947</td>\n",
       "      <td>72</td>\n",
       "      <td>semi-monthly</td>\n",
       "      <td>0</td>\n",
       "      <td>5015</td>\n",
       "      <td>0</td>\n",
       "      <td>5</td>\n",
       "      <td>6</td>\n",
       "      <td>6</td>\n",
       "      <td>2</td>\n",
       "      <td>...</td>\n",
       "      <td>51450</td>\n",
       "      <td>0.049926</td>\n",
       "      <td>0.869882</td>\n",
       "      <td>0.444520</td>\n",
       "      <td>0.815348</td>\n",
       "      <td>0.627790</td>\n",
       "      <td>0.527790</td>\n",
       "      <td>8</td>\n",
       "      <td>0</td>\n",
       "      <td>60</td>\n",
       "    </tr>\n",
       "  </tbody>\n",
       "</table>\n",
       "<p>3 rows × 22 columns</p>\n",
       "</div>"
      ],
      "text/plain": [
       "      Entry_id  age  pay_schedule  home_owner  income  months_employed  \\\n",
       "1551   6911571   58     bi-weekly           1    5245                0   \n",
       "7239   7406994   38       monthly           1    3220                5   \n",
       "6119   1589947   72  semi-monthly           0    5015                0   \n",
       "\n",
       "      years_employed  current_address_year  personal_account_m  \\\n",
       "1551               3                     3                   6   \n",
       "7239               0                     3                   1   \n",
       "6119               5                     6                   6   \n",
       "\n",
       "      personal_account_y  ...  risk_score  risk_score_2  risk_score_3  \\\n",
       "1551                   2  ...       64350      0.752609      0.855304   \n",
       "7239                   4  ...       91300      0.686306      0.925952   \n",
       "6119                   2  ...       51450      0.049926      0.869882   \n",
       "\n",
       "      risk_score_4  risk_score_5  ext_quality_score  ext_quality_score_2  \\\n",
       "1551      0.633999      0.612072           0.476228             0.676228   \n",
       "7239      0.565320      0.740361           0.825401             0.925401   \n",
       "6119      0.444520      0.815348           0.627790             0.527790   \n",
       "\n",
       "      inquiries_last_month  e_signed  total_months_employed  \n",
       "1551                     4         0                     36  \n",
       "7239                     5         1                      5  \n",
       "6119                     8         0                     60  \n",
       "\n",
       "[3 rows x 22 columns]"
      ]
     },
     "execution_count": 111,
     "metadata": {},
     "output_type": "execute_result"
    }
   ],
   "source": [
    "# confirmation\n",
    "train_copy.sample(3)"
   ]
  },
  {
   "cell_type": "markdown",
   "id": "b0f93c2f",
   "metadata": {},
   "source": [
    "#### The personal_account_m and personal_account_y columns should be merged into one.\n",
    "\n",
    "\n",
    "#### Define: The personal_account_m and personal_account_y columns should be merged to make it easier to work with them. This column will be represented in months"
   ]
  },
  {
   "cell_type": "markdown",
   "id": "8debf0d9",
   "metadata": {},
   "source": [
    "#### Code"
   ]
  },
  {
   "cell_type": "code",
   "execution_count": 112,
   "id": "631af6b8",
   "metadata": {},
   "outputs": [
    {
     "data": {
      "text/html": [
       "<div>\n",
       "<style scoped>\n",
       "    .dataframe tbody tr th:only-of-type {\n",
       "        vertical-align: middle;\n",
       "    }\n",
       "\n",
       "    .dataframe tbody tr th {\n",
       "        vertical-align: top;\n",
       "    }\n",
       "\n",
       "    .dataframe thead th {\n",
       "        text-align: right;\n",
       "    }\n",
       "</style>\n",
       "<table border=\"1\" class=\"dataframe\">\n",
       "  <thead>\n",
       "    <tr style=\"text-align: right;\">\n",
       "      <th></th>\n",
       "      <th>Entry_id</th>\n",
       "      <th>age</th>\n",
       "      <th>pay_schedule</th>\n",
       "      <th>home_owner</th>\n",
       "      <th>income</th>\n",
       "      <th>months_employed</th>\n",
       "      <th>years_employed</th>\n",
       "      <th>current_address_year</th>\n",
       "      <th>personal_account_m</th>\n",
       "      <th>personal_account_y</th>\n",
       "      <th>...</th>\n",
       "      <th>risk_score</th>\n",
       "      <th>risk_score_2</th>\n",
       "      <th>risk_score_3</th>\n",
       "      <th>risk_score_4</th>\n",
       "      <th>risk_score_5</th>\n",
       "      <th>ext_quality_score</th>\n",
       "      <th>ext_quality_score_2</th>\n",
       "      <th>inquiries_last_month</th>\n",
       "      <th>e_signed</th>\n",
       "      <th>total_months_employed</th>\n",
       "    </tr>\n",
       "  </thead>\n",
       "  <tbody>\n",
       "    <tr>\n",
       "      <th>9688</th>\n",
       "      <td>9626780</td>\n",
       "      <td>55</td>\n",
       "      <td>bi-weekly</td>\n",
       "      <td>0</td>\n",
       "      <td>3160</td>\n",
       "      <td>0</td>\n",
       "      <td>5</td>\n",
       "      <td>6</td>\n",
       "      <td>1</td>\n",
       "      <td>7</td>\n",
       "      <td>...</td>\n",
       "      <td>91150</td>\n",
       "      <td>0.693976</td>\n",
       "      <td>0.940474</td>\n",
       "      <td>0.627841</td>\n",
       "      <td>0.853910</td>\n",
       "      <td>0.861922</td>\n",
       "      <td>0.661922</td>\n",
       "      <td>6</td>\n",
       "      <td>0</td>\n",
       "      <td>60</td>\n",
       "    </tr>\n",
       "    <tr>\n",
       "      <th>2857</th>\n",
       "      <td>8024359</td>\n",
       "      <td>43</td>\n",
       "      <td>bi-weekly</td>\n",
       "      <td>1</td>\n",
       "      <td>6213</td>\n",
       "      <td>0</td>\n",
       "      <td>2</td>\n",
       "      <td>2</td>\n",
       "      <td>2</td>\n",
       "      <td>3</td>\n",
       "      <td>...</td>\n",
       "      <td>71200</td>\n",
       "      <td>0.822197</td>\n",
       "      <td>0.901385</td>\n",
       "      <td>0.665307</td>\n",
       "      <td>0.705898</td>\n",
       "      <td>0.875122</td>\n",
       "      <td>0.775122</td>\n",
       "      <td>7</td>\n",
       "      <td>1</td>\n",
       "      <td>24</td>\n",
       "    </tr>\n",
       "    <tr>\n",
       "      <th>3604</th>\n",
       "      <td>5395720</td>\n",
       "      <td>42</td>\n",
       "      <td>semi-monthly</td>\n",
       "      <td>0</td>\n",
       "      <td>2835</td>\n",
       "      <td>1</td>\n",
       "      <td>5</td>\n",
       "      <td>0</td>\n",
       "      <td>3</td>\n",
       "      <td>1</td>\n",
       "      <td>...</td>\n",
       "      <td>41850</td>\n",
       "      <td>0.657539</td>\n",
       "      <td>0.863250</td>\n",
       "      <td>0.634212</td>\n",
       "      <td>0.711376</td>\n",
       "      <td>0.605327</td>\n",
       "      <td>0.405327</td>\n",
       "      <td>4</td>\n",
       "      <td>0</td>\n",
       "      <td>61</td>\n",
       "    </tr>\n",
       "  </tbody>\n",
       "</table>\n",
       "<p>3 rows × 22 columns</p>\n",
       "</div>"
      ],
      "text/plain": [
       "      Entry_id  age  pay_schedule  home_owner  income  months_employed  \\\n",
       "9688   9626780   55     bi-weekly           0    3160                0   \n",
       "2857   8024359   43     bi-weekly           1    6213                0   \n",
       "3604   5395720   42  semi-monthly           0    2835                1   \n",
       "\n",
       "      years_employed  current_address_year  personal_account_m  \\\n",
       "9688               5                     6                   1   \n",
       "2857               2                     2                   2   \n",
       "3604               5                     0                   3   \n",
       "\n",
       "      personal_account_y  ...  risk_score  risk_score_2  risk_score_3  \\\n",
       "9688                   7  ...       91150      0.693976      0.940474   \n",
       "2857                   3  ...       71200      0.822197      0.901385   \n",
       "3604                   1  ...       41850      0.657539      0.863250   \n",
       "\n",
       "      risk_score_4  risk_score_5  ext_quality_score  ext_quality_score_2  \\\n",
       "9688      0.627841      0.853910           0.861922             0.661922   \n",
       "2857      0.665307      0.705898           0.875122             0.775122   \n",
       "3604      0.634212      0.711376           0.605327             0.405327   \n",
       "\n",
       "      inquiries_last_month  e_signed  total_months_employed  \n",
       "9688                     6         0                     60  \n",
       "2857                     7         1                     24  \n",
       "3604                     4         0                     61  \n",
       "\n",
       "[3 rows x 22 columns]"
      ]
     },
     "execution_count": 112,
     "metadata": {},
     "output_type": "execute_result"
    }
   ],
   "source": [
    "# test\n",
    "train_copy.sample(3)"
   ]
  },
  {
   "cell_type": "code",
   "execution_count": 113,
   "id": "c3562b84",
   "metadata": {},
   "outputs": [],
   "source": [
    "train_copy['personal_account_duration'] = (train_copy['personal_account_y']*12) + train_copy['personal_account_m']"
   ]
  },
  {
   "cell_type": "code",
   "execution_count": 114,
   "id": "c0964946",
   "metadata": {
    "scrolled": true
   },
   "outputs": [
    {
     "data": {
      "text/html": [
       "<div>\n",
       "<style scoped>\n",
       "    .dataframe tbody tr th:only-of-type {\n",
       "        vertical-align: middle;\n",
       "    }\n",
       "\n",
       "    .dataframe tbody tr th {\n",
       "        vertical-align: top;\n",
       "    }\n",
       "\n",
       "    .dataframe thead th {\n",
       "        text-align: right;\n",
       "    }\n",
       "</style>\n",
       "<table border=\"1\" class=\"dataframe\">\n",
       "  <thead>\n",
       "    <tr style=\"text-align: right;\">\n",
       "      <th></th>\n",
       "      <th>Entry_id</th>\n",
       "      <th>age</th>\n",
       "      <th>pay_schedule</th>\n",
       "      <th>home_owner</th>\n",
       "      <th>income</th>\n",
       "      <th>months_employed</th>\n",
       "      <th>years_employed</th>\n",
       "      <th>current_address_year</th>\n",
       "      <th>personal_account_m</th>\n",
       "      <th>personal_account_y</th>\n",
       "      <th>...</th>\n",
       "      <th>risk_score_2</th>\n",
       "      <th>risk_score_3</th>\n",
       "      <th>risk_score_4</th>\n",
       "      <th>risk_score_5</th>\n",
       "      <th>ext_quality_score</th>\n",
       "      <th>ext_quality_score_2</th>\n",
       "      <th>inquiries_last_month</th>\n",
       "      <th>e_signed</th>\n",
       "      <th>total_months_employed</th>\n",
       "      <th>personal_account_duration</th>\n",
       "    </tr>\n",
       "  </thead>\n",
       "  <tbody>\n",
       "    <tr>\n",
       "      <th>11427</th>\n",
       "      <td>5601584</td>\n",
       "      <td>27</td>\n",
       "      <td>bi-weekly</td>\n",
       "      <td>0</td>\n",
       "      <td>2565</td>\n",
       "      <td>0</td>\n",
       "      <td>1</td>\n",
       "      <td>0</td>\n",
       "      <td>9</td>\n",
       "      <td>1</td>\n",
       "      <td>...</td>\n",
       "      <td>0.758818</td>\n",
       "      <td>0.857593</td>\n",
       "      <td>0.408920</td>\n",
       "      <td>0.691904</td>\n",
       "      <td>0.471758</td>\n",
       "      <td>0.571758</td>\n",
       "      <td>7</td>\n",
       "      <td>0</td>\n",
       "      <td>12</td>\n",
       "      <td>21</td>\n",
       "    </tr>\n",
       "    <tr>\n",
       "      <th>5130</th>\n",
       "      <td>8559276</td>\n",
       "      <td>36</td>\n",
       "      <td>semi-monthly</td>\n",
       "      <td>0</td>\n",
       "      <td>2475</td>\n",
       "      <td>1</td>\n",
       "      <td>2</td>\n",
       "      <td>1</td>\n",
       "      <td>4</td>\n",
       "      <td>2</td>\n",
       "      <td>...</td>\n",
       "      <td>0.626974</td>\n",
       "      <td>0.742021</td>\n",
       "      <td>0.544362</td>\n",
       "      <td>0.540072</td>\n",
       "      <td>0.525042</td>\n",
       "      <td>0.625042</td>\n",
       "      <td>2</td>\n",
       "      <td>1</td>\n",
       "      <td>25</td>\n",
       "      <td>28</td>\n",
       "    </tr>\n",
       "    <tr>\n",
       "      <th>1879</th>\n",
       "      <td>6574405</td>\n",
       "      <td>31</td>\n",
       "      <td>bi-weekly</td>\n",
       "      <td>0</td>\n",
       "      <td>3050</td>\n",
       "      <td>0</td>\n",
       "      <td>4</td>\n",
       "      <td>1</td>\n",
       "      <td>3</td>\n",
       "      <td>2</td>\n",
       "      <td>...</td>\n",
       "      <td>0.634833</td>\n",
       "      <td>0.854227</td>\n",
       "      <td>0.562539</td>\n",
       "      <td>0.721075</td>\n",
       "      <td>0.654610</td>\n",
       "      <td>0.654610</td>\n",
       "      <td>7</td>\n",
       "      <td>0</td>\n",
       "      <td>48</td>\n",
       "      <td>27</td>\n",
       "    </tr>\n",
       "  </tbody>\n",
       "</table>\n",
       "<p>3 rows × 23 columns</p>\n",
       "</div>"
      ],
      "text/plain": [
       "       Entry_id  age  pay_schedule  home_owner  income  months_employed  \\\n",
       "11427   5601584   27     bi-weekly           0    2565                0   \n",
       "5130    8559276   36  semi-monthly           0    2475                1   \n",
       "1879    6574405   31     bi-weekly           0    3050                0   \n",
       "\n",
       "       years_employed  current_address_year  personal_account_m  \\\n",
       "11427               1                     0                   9   \n",
       "5130                2                     1                   4   \n",
       "1879                4                     1                   3   \n",
       "\n",
       "       personal_account_y  ...  risk_score_2  risk_score_3  risk_score_4  \\\n",
       "11427                   1  ...      0.758818      0.857593      0.408920   \n",
       "5130                    2  ...      0.626974      0.742021      0.544362   \n",
       "1879                    2  ...      0.634833      0.854227      0.562539   \n",
       "\n",
       "       risk_score_5  ext_quality_score  ext_quality_score_2  \\\n",
       "11427      0.691904           0.471758             0.571758   \n",
       "5130       0.540072           0.525042             0.625042   \n",
       "1879       0.721075           0.654610             0.654610   \n",
       "\n",
       "       inquiries_last_month  e_signed  total_months_employed  \\\n",
       "11427                     7         0                     12   \n",
       "5130                      2         1                     25   \n",
       "1879                      7         0                     48   \n",
       "\n",
       "       personal_account_duration  \n",
       "11427                         21  \n",
       "5130                          28  \n",
       "1879                          27  \n",
       "\n",
       "[3 rows x 23 columns]"
      ]
     },
     "execution_count": 114,
     "metadata": {},
     "output_type": "execute_result"
    }
   ],
   "source": [
    "# confirmation\n",
    "train_copy.sample(3)"
   ]
  },
  {
   "cell_type": "markdown",
   "id": "c7244c21",
   "metadata": {},
   "source": [
    "#### The datatype of the `entry_id` column needed to be changed to object."
   ]
  },
  {
   "cell_type": "markdown",
   "id": "79c5a602",
   "metadata": {},
   "source": [
    "#### Define: Changing the datatype of entry_id from integer to string."
   ]
  },
  {
   "cell_type": "markdown",
   "id": "f62369ff",
   "metadata": {},
   "source": [
    "#### Code"
   ]
  },
  {
   "cell_type": "code",
   "execution_count": 115,
   "id": "b7a7703c",
   "metadata": {},
   "outputs": [
    {
     "name": "stdout",
     "output_type": "stream",
     "text": [
      "<class 'pandas.core.series.Series'>\n",
      "Int64Index: 12510 entries, 0 to 12515\n",
      "Series name: Entry_id\n",
      "Non-Null Count  Dtype\n",
      "--------------  -----\n",
      "12510 non-null  int64\n",
      "dtypes: int64(1)\n",
      "memory usage: 195.5 KB\n"
     ]
    }
   ],
   "source": [
    "#test\n",
    "train_copy.Entry_id.info()"
   ]
  },
  {
   "cell_type": "code",
   "execution_count": 116,
   "id": "bacfe05a",
   "metadata": {},
   "outputs": [],
   "source": [
    "train_copy = train_copy.astype({'Entry_id':'object'})"
   ]
  },
  {
   "cell_type": "code",
   "execution_count": 117,
   "id": "288c4be8",
   "metadata": {},
   "outputs": [
    {
     "name": "stdout",
     "output_type": "stream",
     "text": [
      "<class 'pandas.core.series.Series'>\n",
      "Int64Index: 12510 entries, 0 to 12515\n",
      "Series name: Entry_id\n",
      "Non-Null Count  Dtype \n",
      "--------------  ----- \n",
      "12510 non-null  object\n",
      "dtypes: object(1)\n",
      "memory usage: 195.5+ KB\n"
     ]
    }
   ],
   "source": [
    "#confirmation\n",
    "train_copy.Entry_id.info()"
   ]
  },
  {
   "cell_type": "markdown",
   "id": "70341372",
   "metadata": {},
   "source": [
    "####  In `home_owner`, `has_debt`, and `e_signed` columns, we needed to replace 0 and 1 with yes and no respectively.\n",
    "\n",
    "#### Define: Replacing 0 and 1 in these 2 columns with yes or no"
   ]
  },
  {
   "cell_type": "markdown",
   "id": "749a19e0",
   "metadata": {},
   "source": [
    "#### Code"
   ]
  },
  {
   "cell_type": "code",
   "execution_count": 118,
   "id": "d72beb08",
   "metadata": {},
   "outputs": [
    {
     "data": {
      "text/html": [
       "<div>\n",
       "<style scoped>\n",
       "    .dataframe tbody tr th:only-of-type {\n",
       "        vertical-align: middle;\n",
       "    }\n",
       "\n",
       "    .dataframe tbody tr th {\n",
       "        vertical-align: top;\n",
       "    }\n",
       "\n",
       "    .dataframe thead th {\n",
       "        text-align: right;\n",
       "    }\n",
       "</style>\n",
       "<table border=\"1\" class=\"dataframe\">\n",
       "  <thead>\n",
       "    <tr style=\"text-align: right;\">\n",
       "      <th></th>\n",
       "      <th>Entry_id</th>\n",
       "      <th>age</th>\n",
       "      <th>pay_schedule</th>\n",
       "      <th>home_owner</th>\n",
       "      <th>income</th>\n",
       "      <th>months_employed</th>\n",
       "      <th>years_employed</th>\n",
       "      <th>current_address_year</th>\n",
       "      <th>personal_account_m</th>\n",
       "      <th>personal_account_y</th>\n",
       "      <th>...</th>\n",
       "      <th>risk_score_2</th>\n",
       "      <th>risk_score_3</th>\n",
       "      <th>risk_score_4</th>\n",
       "      <th>risk_score_5</th>\n",
       "      <th>ext_quality_score</th>\n",
       "      <th>ext_quality_score_2</th>\n",
       "      <th>inquiries_last_month</th>\n",
       "      <th>e_signed</th>\n",
       "      <th>total_months_employed</th>\n",
       "      <th>personal_account_duration</th>\n",
       "    </tr>\n",
       "  </thead>\n",
       "  <tbody>\n",
       "    <tr>\n",
       "      <th>7547</th>\n",
       "      <td>2720674</td>\n",
       "      <td>27</td>\n",
       "      <td>bi-weekly</td>\n",
       "      <td>1</td>\n",
       "      <td>3882</td>\n",
       "      <td>0</td>\n",
       "      <td>2</td>\n",
       "      <td>2</td>\n",
       "      <td>1</td>\n",
       "      <td>3</td>\n",
       "      <td>...</td>\n",
       "      <td>0.775332</td>\n",
       "      <td>0.839592</td>\n",
       "      <td>0.489145</td>\n",
       "      <td>0.585431</td>\n",
       "      <td>0.625731</td>\n",
       "      <td>0.725731</td>\n",
       "      <td>9</td>\n",
       "      <td>0</td>\n",
       "      <td>24</td>\n",
       "      <td>37</td>\n",
       "    </tr>\n",
       "    <tr>\n",
       "      <th>1943</th>\n",
       "      <td>2705429</td>\n",
       "      <td>45</td>\n",
       "      <td>bi-weekly</td>\n",
       "      <td>0</td>\n",
       "      <td>3785</td>\n",
       "      <td>0</td>\n",
       "      <td>4</td>\n",
       "      <td>2</td>\n",
       "      <td>2</td>\n",
       "      <td>4</td>\n",
       "      <td>...</td>\n",
       "      <td>0.763995</td>\n",
       "      <td>0.837291</td>\n",
       "      <td>0.664782</td>\n",
       "      <td>0.901701</td>\n",
       "      <td>0.580948</td>\n",
       "      <td>0.780948</td>\n",
       "      <td>10</td>\n",
       "      <td>0</td>\n",
       "      <td>48</td>\n",
       "      <td>50</td>\n",
       "    </tr>\n",
       "    <tr>\n",
       "      <th>4668</th>\n",
       "      <td>5076430</td>\n",
       "      <td>41</td>\n",
       "      <td>bi-weekly</td>\n",
       "      <td>1</td>\n",
       "      <td>3515</td>\n",
       "      <td>5</td>\n",
       "      <td>1</td>\n",
       "      <td>2</td>\n",
       "      <td>2</td>\n",
       "      <td>2</td>\n",
       "      <td>...</td>\n",
       "      <td>0.685012</td>\n",
       "      <td>0.855360</td>\n",
       "      <td>0.621476</td>\n",
       "      <td>0.785286</td>\n",
       "      <td>0.644537</td>\n",
       "      <td>0.444537</td>\n",
       "      <td>2</td>\n",
       "      <td>0</td>\n",
       "      <td>17</td>\n",
       "      <td>26</td>\n",
       "    </tr>\n",
       "  </tbody>\n",
       "</table>\n",
       "<p>3 rows × 23 columns</p>\n",
       "</div>"
      ],
      "text/plain": [
       "     Entry_id  age pay_schedule  home_owner  income  months_employed  \\\n",
       "7547  2720674   27    bi-weekly           1    3882                0   \n",
       "1943  2705429   45    bi-weekly           0    3785                0   \n",
       "4668  5076430   41    bi-weekly           1    3515                5   \n",
       "\n",
       "      years_employed  current_address_year  personal_account_m  \\\n",
       "7547               2                     2                   1   \n",
       "1943               4                     2                   2   \n",
       "4668               1                     2                   2   \n",
       "\n",
       "      personal_account_y  ...  risk_score_2  risk_score_3  risk_score_4  \\\n",
       "7547                   3  ...      0.775332      0.839592      0.489145   \n",
       "1943                   4  ...      0.763995      0.837291      0.664782   \n",
       "4668                   2  ...      0.685012      0.855360      0.621476   \n",
       "\n",
       "      risk_score_5  ext_quality_score  ext_quality_score_2  \\\n",
       "7547      0.585431           0.625731             0.725731   \n",
       "1943      0.901701           0.580948             0.780948   \n",
       "4668      0.785286           0.644537             0.444537   \n",
       "\n",
       "      inquiries_last_month  e_signed  total_months_employed  \\\n",
       "7547                     9         0                     24   \n",
       "1943                    10         0                     48   \n",
       "4668                     2         0                     17   \n",
       "\n",
       "      personal_account_duration  \n",
       "7547                         37  \n",
       "1943                         50  \n",
       "4668                         26  \n",
       "\n",
       "[3 rows x 23 columns]"
      ]
     },
     "execution_count": 118,
     "metadata": {},
     "output_type": "execute_result"
    }
   ],
   "source": [
    "#test\n",
    "train_copy.sample(3)"
   ]
  },
  {
   "cell_type": "code",
   "execution_count": 119,
   "id": "470017ef",
   "metadata": {},
   "outputs": [],
   "source": [
    "train_copy.home_owner.replace({0:'No', 1:'Yes'}, inplace=True)\n",
    "train_copy.has_debt.replace({0:'No', 1:'Yes'}, inplace=True)\n",
    "train_copy.e_signed.replace({0:'No', 1:'Yes'}, inplace=True)"
   ]
  },
  {
   "cell_type": "code",
   "execution_count": 120,
   "id": "29fdfb11",
   "metadata": {
    "scrolled": false
   },
   "outputs": [
    {
     "data": {
      "text/html": [
       "<div>\n",
       "<style scoped>\n",
       "    .dataframe tbody tr th:only-of-type {\n",
       "        vertical-align: middle;\n",
       "    }\n",
       "\n",
       "    .dataframe tbody tr th {\n",
       "        vertical-align: top;\n",
       "    }\n",
       "\n",
       "    .dataframe thead th {\n",
       "        text-align: right;\n",
       "    }\n",
       "</style>\n",
       "<table border=\"1\" class=\"dataframe\">\n",
       "  <thead>\n",
       "    <tr style=\"text-align: right;\">\n",
       "      <th></th>\n",
       "      <th>Entry_id</th>\n",
       "      <th>age</th>\n",
       "      <th>pay_schedule</th>\n",
       "      <th>home_owner</th>\n",
       "      <th>income</th>\n",
       "      <th>months_employed</th>\n",
       "      <th>years_employed</th>\n",
       "      <th>current_address_year</th>\n",
       "      <th>personal_account_m</th>\n",
       "      <th>personal_account_y</th>\n",
       "      <th>...</th>\n",
       "      <th>risk_score_2</th>\n",
       "      <th>risk_score_3</th>\n",
       "      <th>risk_score_4</th>\n",
       "      <th>risk_score_5</th>\n",
       "      <th>ext_quality_score</th>\n",
       "      <th>ext_quality_score_2</th>\n",
       "      <th>inquiries_last_month</th>\n",
       "      <th>e_signed</th>\n",
       "      <th>total_months_employed</th>\n",
       "      <th>personal_account_duration</th>\n",
       "    </tr>\n",
       "  </thead>\n",
       "  <tbody>\n",
       "    <tr>\n",
       "      <th>3585</th>\n",
       "      <td>5167885</td>\n",
       "      <td>66</td>\n",
       "      <td>bi-weekly</td>\n",
       "      <td>Yes</td>\n",
       "      <td>2630</td>\n",
       "      <td>7</td>\n",
       "      <td>1</td>\n",
       "      <td>1</td>\n",
       "      <td>6</td>\n",
       "      <td>1</td>\n",
       "      <td>...</td>\n",
       "      <td>0.691224</td>\n",
       "      <td>0.877727</td>\n",
       "      <td>0.662800</td>\n",
       "      <td>0.679272</td>\n",
       "      <td>0.584001</td>\n",
       "      <td>0.584001</td>\n",
       "      <td>2</td>\n",
       "      <td>No</td>\n",
       "      <td>19</td>\n",
       "      <td>18</td>\n",
       "    </tr>\n",
       "    <tr>\n",
       "      <th>8665</th>\n",
       "      <td>7519044</td>\n",
       "      <td>40</td>\n",
       "      <td>bi-weekly</td>\n",
       "      <td>No</td>\n",
       "      <td>2530</td>\n",
       "      <td>1</td>\n",
       "      <td>7</td>\n",
       "      <td>2</td>\n",
       "      <td>2</td>\n",
       "      <td>7</td>\n",
       "      <td>...</td>\n",
       "      <td>0.811907</td>\n",
       "      <td>0.941731</td>\n",
       "      <td>0.530128</td>\n",
       "      <td>0.764293</td>\n",
       "      <td>0.583876</td>\n",
       "      <td>0.583876</td>\n",
       "      <td>6</td>\n",
       "      <td>No</td>\n",
       "      <td>85</td>\n",
       "      <td>86</td>\n",
       "    </tr>\n",
       "    <tr>\n",
       "      <th>9508</th>\n",
       "      <td>6409514</td>\n",
       "      <td>41</td>\n",
       "      <td>weekly</td>\n",
       "      <td>Yes</td>\n",
       "      <td>8717</td>\n",
       "      <td>1</td>\n",
       "      <td>3</td>\n",
       "      <td>4</td>\n",
       "      <td>2</td>\n",
       "      <td>3</td>\n",
       "      <td>...</td>\n",
       "      <td>0.657751</td>\n",
       "      <td>0.795890</td>\n",
       "      <td>0.574316</td>\n",
       "      <td>0.634308</td>\n",
       "      <td>0.748096</td>\n",
       "      <td>0.448096</td>\n",
       "      <td>12</td>\n",
       "      <td>Yes</td>\n",
       "      <td>37</td>\n",
       "      <td>38</td>\n",
       "    </tr>\n",
       "  </tbody>\n",
       "</table>\n",
       "<p>3 rows × 23 columns</p>\n",
       "</div>"
      ],
      "text/plain": [
       "     Entry_id  age pay_schedule home_owner  income  months_employed  \\\n",
       "3585  5167885   66    bi-weekly        Yes    2630                7   \n",
       "8665  7519044   40    bi-weekly         No    2530                1   \n",
       "9508  6409514   41       weekly        Yes    8717                1   \n",
       "\n",
       "      years_employed  current_address_year  personal_account_m  \\\n",
       "3585               1                     1                   6   \n",
       "8665               7                     2                   2   \n",
       "9508               3                     4                   2   \n",
       "\n",
       "      personal_account_y  ... risk_score_2  risk_score_3  risk_score_4  \\\n",
       "3585                   1  ...     0.691224      0.877727      0.662800   \n",
       "8665                   7  ...     0.811907      0.941731      0.530128   \n",
       "9508                   3  ...     0.657751      0.795890      0.574316   \n",
       "\n",
       "      risk_score_5  ext_quality_score  ext_quality_score_2  \\\n",
       "3585      0.679272           0.584001             0.584001   \n",
       "8665      0.764293           0.583876             0.583876   \n",
       "9508      0.634308           0.748096             0.448096   \n",
       "\n",
       "      inquiries_last_month  e_signed  total_months_employed  \\\n",
       "3585                     2        No                     19   \n",
       "8665                     6        No                     85   \n",
       "9508                    12       Yes                     37   \n",
       "\n",
       "      personal_account_duration  \n",
       "3585                         18  \n",
       "8665                         86  \n",
       "9508                         38  \n",
       "\n",
       "[3 rows x 23 columns]"
      ]
     },
     "execution_count": 120,
     "metadata": {},
     "output_type": "execute_result"
    }
   ],
   "source": [
    "#confirmation\n",
    "train_copy.sample(3)"
   ]
  },
  {
   "cell_type": "markdown",
   "id": "547c5d48",
   "metadata": {},
   "source": [
    "#### risk_score column should be a float and not an integer.\n",
    "\n",
    "#### Define: This is to make the risk_score columns match up"
   ]
  },
  {
   "cell_type": "code",
   "execution_count": 129,
   "id": "277b83ce",
   "metadata": {},
   "outputs": [
    {
     "data": {
      "text/plain": [
       "2704    78600\n",
       "3093    57150\n",
       "9726    71450\n",
       "Name: risk_score, dtype: int64"
      ]
     },
     "execution_count": 129,
     "metadata": {},
     "output_type": "execute_result"
    }
   ],
   "source": [
    "#test\n",
    "train_copy.risk_score.sample(3)"
   ]
  },
  {
   "cell_type": "code",
   "execution_count": 130,
   "id": "ad0cfe44",
   "metadata": {},
   "outputs": [],
   "source": [
    "train_copy['risk_score_n'] = (train_copy.risk_score / 100000)"
   ]
  },
  {
   "cell_type": "code",
   "execution_count": 132,
   "id": "79797f03",
   "metadata": {},
   "outputs": [
    {
     "data": {
      "text/plain": [
       "3681     0.5445\n",
       "11864    0.3300\n",
       "820      0.8075\n",
       "Name: risk_score_n, dtype: float64"
      ]
     },
     "execution_count": 132,
     "metadata": {},
     "output_type": "execute_result"
    }
   ],
   "source": [
    "#confirmation\n",
    "train_copy.risk_score_n.sample(3)"
   ]
  },
  {
   "cell_type": "markdown",
   "id": "68caeef7",
   "metadata": {},
   "source": [
    "### Structure of the dataset\n",
    "\n",
    "The train dataset intially contained 12,516 rows, and 21 columns. After assessing and cleaning the data, it now contains 12,510 rows and 23 columns."
   ]
  },
  {
   "cell_type": "markdown",
   "id": "e982856a",
   "metadata": {},
   "source": [
    "<a id='eda'></a>\n",
    "## <u>Exploratory Data Analysis."
   ]
  },
  {
   "cell_type": "markdown",
   "id": "47e58c6a",
   "metadata": {},
   "source": [
    "In this section of the project, we are going to be exploring multiple variables from the train dataset.\n",
    "\n"
   ]
  },
  {
   "cell_type": "markdown",
   "id": "2e9c2b0c",
   "metadata": {},
   "source": [
    "## Univariate Exploration"
   ]
  },
  {
   "cell_type": "markdown",
   "id": "4d64d1ec",
   "metadata": {},
   "source": [
    "### Distribution of ages in the dataset."
   ]
  },
  {
   "cell_type": "code",
   "execution_count": 150,
   "id": "a360bc9b",
   "metadata": {},
   "outputs": [
    {
     "data": {
      "image/png": "[encoded data removed]",
      "text/plain": [
       "<Figure size 720x360 with 1 Axes>"
      ]
     },
     "metadata": {
      "needs_background": "light"
     },
     "output_type": "display_data"
    }
   ],
   "source": [
    "plt.figure(figsize=(10,5))\n",
    "plt.hist(train_copy.age, color = base_color, bins = 20);\n",
    "plt.yticks(fontsize=14)\n",
    "plt.xticks(fontsize=14)\n",
    "plt.xlabel('Age of Applicant', fontsize=12)\n",
    "plt.title('Distribution of Applicant Age', fontsize=20);"
   ]
  },
  {
   "cell_type": "markdown",
   "id": "097acdfc",
   "metadata": {},
   "source": [
    "The age distribution is slightly skewed right suggesting that there are more younger to middle aged customers i.e 30 to 40, than there are older customers i.e 50 to 90. \n",
    "\n",
    "To get a clearer picture of the distribution of ages, we will place them into age brackets."
   ]
  },
  {
   "cell_type": "code",
   "execution_count": 123,
   "id": "b9c49797",
   "metadata": {},
   "outputs": [],
   "source": [
    "def prop_(x):\n",
    "    \n",
    "    '''To calculate proportions of values in a column.\n",
    "    x will be df.col or df['col']'''\n",
    "    \n",
    "    max_var_count = x.value_counts()[0]\n",
    "    var_sum = x.value_counts().sum()\n",
    "    max_prop = max_var_count/var_sum\n",
    "    tick_props = np.arange(0,max_prop+0.05, 0.05)\n",
    "    tick_names = ['{:0.2f}'.format(v) for v in tick_props]\n",
    "    \n",
    "    return [tick_props, tick_names, var_sum]"
   ]
  },
  {
   "cell_type": "code",
   "execution_count": 169,
   "id": "c9b2d216",
   "metadata": {
    "scrolled": false
   },
   "outputs": [
    {
     "data": {
      "image/png": "[encoded data removed]",
      "text/plain": [
       "<Figure size 576x576 with 1 Axes>"
      ]
     },
     "metadata": {
      "needs_background": "light"
     },
     "output_type": "display_data"
    }
   ],
   "source": [
    "bins= [10,20,30,40,50,60,70,80,90]\n",
    "labels = ['10-20','21-30','31-40','41-50','51-60', '61-70','71-80', '81-90']\n",
    "train_copy['age_group'] = pd.cut(train_copy['age'], bins=bins, labels=labels, right=False)\n",
    "plt.figure(figsize=(8,8))\n",
    "\n",
    "tick_props, tick_names, var_sum = prop_(train_copy.age_group)\n",
    "sns.countplot(data=train_copy, x ='age_group', color=base_color);\n",
    "plt.ylabel('Proportion')\n",
    "plt.xlabel('Age Bracket', fontsize=12)\n",
    "plt.yticks(tick_props * var_sum, tick_names, fontsize=11);\n",
    "plt.xticks(fontsize=12);"
   ]
  },
  {
   "cell_type": "markdown",
   "id": "7c7ab000",
   "metadata": {},
   "source": [
    "The 10-20 age bracket contains 18 to 20 year olds as 18 is the legal age of employment."
   ]
  },
  {
   "cell_type": "markdown",
   "id": "1cf1429f",
   "metadata": {},
   "source": [
    "### Distribution of applicant income "
   ]
  },
  {
   "cell_type": "code",
   "execution_count": 178,
   "id": "6cdc464f",
   "metadata": {
    "scrolled": false
   },
   "outputs": [
    {
     "data": {
      "image/png": "[encoded data removed]",
      "text/plain": [
       "<Figure size 720x360 with 1 Axes>"
      ]
     },
     "metadata": {
      "needs_background": "light"
     },
     "output_type": "display_data"
    }
   ],
   "source": [
    "plt.figure(figsize=(10,5))\n",
    "plt.hist(train_copy.income, color = base_color, bins = 50);\n",
    "plt.yticks(fontsize=14)\n",
    "plt.xticks(fontsize=14)\n",
    "plt.xlabel('Income ($)', fontsize=12)\n",
    "plt.title('Distribution of Applicant Income', fontsize=20);"
   ]
  },
  {
   "cell_type": "markdown",
   "id": "f6b857b2",
   "metadata": {},
   "source": [
    "The distribution of applicant incomes is slightly skewed to the right suggesting that most applicants earn less 6000 per month.<br> The long tail of the histogram also suggests a few applicants earning far above the rest."
   ]
  },
  {
   "cell_type": "markdown",
   "id": "255272d8",
   "metadata": {},
   "source": [
    "### Distribution of amount_requested"
   ]
  },
  {
   "cell_type": "code",
   "execution_count": 179,
   "id": "b76abd8c",
   "metadata": {
    "scrolled": true
   },
   "outputs": [
    {
     "data": {
      "image/png": "[encoded data removed]",
      "text/plain": [
       "<Figure size 720x360 with 1 Axes>"
      ]
     },
     "metadata": {
      "needs_background": "light"
     },
     "output_type": "display_data"
    }
   ],
   "source": [
    "plt.figure(figsize=(10,5))\n",
    "plt.hist(train_copy.amount_requested, color = base_color, bins = 50);\n",
    "plt.yticks(fontsize=14)\n",
    "plt.xticks(fontsize=14)\n",
    "plt.xlabel('amount requested($)', fontsize=12)\n",
    "plt.title('Distribution of Amount Requested', fontsize=20);"
   ]
  },
  {
   "cell_type": "markdown",
   "id": "edf94865",
   "metadata": {},
   "source": [
    "As early stated, the distribution of amount requested is very imbalanced as it is very skewed to the right suggesting a lot amounts requested falling below 2000"
   ]
  },
  {
   "cell_type": "markdown",
   "id": "c2e169ad",
   "metadata": {},
   "source": [
    "### Distribution of risk_score"
   ]
  },
  {
   "cell_type": "code",
   "execution_count": 146,
   "id": "7f07188c",
   "metadata": {
    "scrolled": true
   },
   "outputs": [
    {
     "data": {
      "image/png": "[encoded data removed]",
      "text/plain": [
       "<Figure size 720x360 with 1 Axes>"
      ]
     },
     "metadata": {
      "needs_background": "light"
     },
     "output_type": "display_data"
    }
   ],
   "source": [
    "plt.figure(figsize=(10,5))\n",
    "plt.hist(train_copy.risk_score_n, color = base_color, bins = 50);\n",
    "plt.yticks(fontsize=14)\n",
    "plt.xticks(fontsize=14)\n",
    "plt.xlabel('Applicant risks score', fontsize=12)\n",
    "plt.title('Distribution of Risk Score', fontsize=20);"
   ]
  },
  {
   "cell_type": "markdown",
   "id": "0d56e23f",
   "metadata": {},
   "source": [
    "### Number of applicants that signed electronically."
   ]
  },
  {
   "cell_type": "code",
   "execution_count": 153,
   "id": "8a8645e3",
   "metadata": {},
   "outputs": [
    {
     "data": {
      "image/png": "[encoded data removed]",
      "text/plain": [
       "<Figure size 432x360 with 1 Axes>"
      ]
     },
     "metadata": {
      "needs_background": "light"
     },
     "output_type": "display_data"
    }
   ],
   "source": [
    "plt.figure(figsize=[6,5])\n",
    "\n",
    "freq = train_copy['e_signed'].value_counts()\n",
    "gen_order = freq.index\n",
    "\n",
    "ax = sns.countplot(data = train_copy, x = 'e_signed', color=sns.color_palette()[0], order = gen_order)\n",
    "plt.xticks()\n",
    "plt.xlabel('E-signed Status')\n",
    "plt.title('How Many Applicants Signed Electronically?');\n",
    "ax.bar_label(ax.containers[0], label_type='edge');"
   ]
  },
  {
   "cell_type": "markdown",
   "id": "0e40daca",
   "metadata": {},
   "source": [
    "It can be inferred that most applicants have risk scores of 0.7 or less, making them less of a possible liability to the company and more eligible for loans."
   ]
  },
  {
   "cell_type": "markdown",
   "id": "5fa68c54",
   "metadata": {},
   "source": [
    "## Bivariate Exploration\n",
    "\n",
    "For this section, we are going to explore the relationships between the e_signed column and the numerical variables in the dataset."
   ]
  },
  {
   "cell_type": "code",
   "execution_count": 151,
   "id": "b9c9b0c5",
   "metadata": {},
   "outputs": [],
   "source": [
    "# creating a variable that contains all applicants that signed electronically\n",
    "yes_electronic = train_copy.query('e_signed == \"Yes\"')"
   ]
  },
  {
   "cell_type": "markdown",
   "id": "014a0517",
   "metadata": {},
   "source": [
    "### Relationship between applicant age and e_signed column"
   ]
  },
  {
   "cell_type": "code",
   "execution_count": 160,
   "id": "cd50f5f1",
   "metadata": {},
   "outputs": [
    {
     "data": {
      "image/png": "[encoded data removed]",
      "text/plain": [
       "<Figure size 576x576 with 1 Axes>"
      ]
     },
     "metadata": {
      "needs_background": "light"
     },
     "output_type": "display_data"
    }
   ],
   "source": [
    "plt.figure(figsize=[8,8])\n",
    "\n",
    "freq = yes_electronic['age_group'].value_counts()\n",
    "gen_order = freq.index\n",
    "\n",
    "ax = sns.countplot(data = yes_electronic, x = 'age_group', color=sns.color_palette()[0], order = gen_order)\n",
    "plt.xticks()\n",
    "plt.xlabel('Age Groups', fontsize=12)\n",
    "plt.title('Age Groups of Applicants that Signed Electronically?', fontsize=20);\n",
    "ax.bar_label(ax.containers[0], label_type='edge');"
   ]
  },
  {
   "cell_type": "markdown",
   "id": "7b571332",
   "metadata": {},
   "source": [
    "### Relationship between amount requested and e_signed column"
   ]
  },
  {
   "cell_type": "code",
   "execution_count": 163,
   "id": "26c4a159",
   "metadata": {},
   "outputs": [
    {
     "data": {
      "image/png": "[encoded data removed]",
      "text/plain": [
       "<Figure size 576x576 with 1 Axes>"
      ]
     },
     "metadata": {
      "needs_background": "light"
     },
     "output_type": "display_data"
    }
   ],
   "source": [
    "bins = np.arange(0, yes_electronic['amount_requested'].max()+100, 100)\n",
    "\n",
    "plt.figure(figsize=[8, 8])\n",
    "plt.hist(data = yes_electronic, x = 'amount_requested', bins = bins)\n",
    "plt.xlabel('Amount Requested ($)', fontsize=12)\n",
    "plt.title('Distribution of Amount Requested Among Applicants that Signed Electronically', fontsize=20)\n",
    "plt.show()"
   ]
  },
  {
   "cell_type": "markdown",
   "id": "97db3002",
   "metadata": {},
   "source": [
    "It can be seen from the above histogram that we have a multimodal distribution that is strongly skewed to the right. Furthermore, applicants that signed electronically are mainly those that requested for a loan of about \\\\$1500 or less. It can therefore be inferred that applicants requesting for higher amounts are less likely to sign electronically.\n"
   ]
  },
  {
   "cell_type": "markdown",
   "id": "44565238",
   "metadata": {},
   "source": [
    "### Relationship between applicant income and e_signed column"
   ]
  },
  {
   "cell_type": "code",
   "execution_count": 165,
   "id": "ec3c466d",
   "metadata": {},
   "outputs": [
    {
     "data": {
      "image/png": "[encoded data removed]",
      "text/plain": [
       "<Figure size 576x576 with 1 Axes>"
      ]
     },
     "metadata": {
      "needs_background": "light"
     },
     "output_type": "display_data"
    }
   ],
   "source": [
    "bins = np.arange(0, yes_electronic['income'].max()+250, 250)\n",
    "\n",
    "plt.figure(figsize=[8, 8])\n",
    "plt.hist(data = yes_electronic, x = 'income', bins = bins)\n",
    "plt.xlabel('Income ($)', fontsize = 12)\n",
    "plt.title('Distribution of Income Among Applicants that Signed Electronically', fontsize = 20)\n",
    "plt.show()"
   ]
  },
  {
   "cell_type": "markdown",
   "id": "10aaecf9",
   "metadata": {},
   "source": [
    "We have a highly multimodal distribution that is also skewed to the right. Applicants that signed electronically are mainly those with an income of about \\\\$6000 or less. It can therefore be inferred that applicants with higher incomes are less likely to sign electronically."
   ]
  },
  {
   "cell_type": "markdown",
   "id": "4fb73f64",
   "metadata": {},
   "source": [
    "### Relationship between risk_score and e_signed column"
   ]
  },
  {
   "cell_type": "code",
   "execution_count": 168,
   "id": "46c58bb2",
   "metadata": {
    "scrolled": false
   },
   "outputs": [
    {
     "data": {
      "image/png": "[encoded data removed]",
      "text/plain": [
       "<Figure size 576x576 with 1 Axes>"
      ]
     },
     "metadata": {
      "needs_background": "light"
     },
     "output_type": "display_data"
    }
   ],
   "source": [
    "bins = np.arange(0, yes_electronic['risk_score_n'].max()+0.05, 0.05)\n",
    "\n",
    "plt.figure(figsize=[8, 8])\n",
    "plt.hist(data = yes_electronic, x = 'risk_score_n', bins = bins)\n",
    "plt.xlabel('Risk Score', fontsize=12)\n",
    "plt.title('Distribution of Risk Scores Among Applicants that Signed Electronically', fontsize=20)\n",
    "plt.show()\n"
   ]
  },
  {
   "cell_type": "markdown",
   "id": "83f4784c",
   "metadata": {},
   "source": [
    "The histogram is slightly skewed to the left suggesting that most of the applicants that signed up electronically are high risk individuals."
   ]
  },
  {
   "cell_type": "markdown",
   "id": "60ab594b",
   "metadata": {},
   "source": [
    "### How many home owners signed up electronically?"
   ]
  },
  {
   "cell_type": "code",
   "execution_count": 167,
   "id": "98fb57c2",
   "metadata": {},
   "outputs": [
    {
     "data": {
      "image/png": "[encoded data removed]",
      "text/plain": [
       "<Figure size 576x576 with 1 Axes>"
      ]
     },
     "metadata": {
      "needs_background": "light"
     },
     "output_type": "display_data"
    }
   ],
   "source": [
    "plt.figure(figsize=[8,8])\n",
    "\n",
    "freq = yes_electronic['home_owner'].value_counts()\n",
    "gen_order = freq.index\n",
    "\n",
    "ax = sns.countplot(data = yes_electronic, x = 'home_owner', color=sns.color_palette()[0], order = gen_order)\n",
    "plt.xticks()\n",
    "plt.xlabel('Homeowner Status', fontsize=12)\n",
    "plt.title('How Many Applicants Were Homeowners?', fontsize=20);\n",
    "ax.bar_label(ax.containers[0], label_type='edge');"
   ]
  },
  {
   "cell_type": "markdown",
   "id": "ed480793",
   "metadata": {},
   "source": [
    "The bar chart shows that **4,059 (60%)** of all applicants who signed electronically were _not_ homeowners."
   ]
  },
  {
   "cell_type": "markdown",
   "id": "75b3bc7d",
   "metadata": {},
   "source": [
    "<a id='ml'></a>\n",
    "## <u> Machine Learning Model"
   ]
  },
  {
   "cell_type": "markdown",
   "id": "2e7ae8a7",
   "metadata": {},
   "source": [
    "<a id='conclusions'></a>\n",
    "## <u> Conclusion"
   ]
  },
  {
   "cell_type": "markdown",
   "id": "82b7777b",
   "metadata": {},
   "source": [
    "After carrying out this exploratory data analysis, the following conclusions were made:<br>\n",
    "1. Most applicants fall within the age brackets of **41-50(3,575/28.58%)** and **31-40(3,499/27.97%)**\n",
    "1. **6,766/54.06%** of all applicants signed electronically.\n",
    "2. Applicants requesting for higher amounts (>\\\\$1500) are less likely to sign electronically.\n",
    "3. Applicants with higher incomes are less likely to sign electronically.\n",
    "4. **4,059 (60%)** of all applicants who signed electronically were _not_ homeowners."
   ]
  },
  {
   "cell_type": "markdown",
   "id": "d4e59d33",
   "metadata": {},
   "source": [
    "<a id='references'></a>\n",
    "## <u> References"
   ]
  },
  {
   "cell_type": "code",
   "execution_count": null,
   "id": "7d344cb5",
   "metadata": {},
   "outputs": [],
   "source": []
  }
 ],
 "metadata": {
  "kernelspec": {
   "display_name": "Python 3 (ipykernel)",
   "language": "python",
   "name": "python3"
  },
  "language_info": {
   "codemirror_mode": {
    "name": "ipython",
    "version": 3
   },
   "file_extension": ".py",
   "mimetype": "text/x-python",
   "name": "python",
   "nbconvert_exporter": "python",
   "pygments_lexer": "ipython3",
   "version": "3.9.12"
  },
  "toc": {
   "base_numbering": 1,
   "nav_menu": {},
   "number_sections": true,
   "sideBar": true,
   "skip_h1_title": false,
   "title_cell": "Table of Contents",
   "title_sidebar": "Contents",
   "toc_cell": false,
   "toc_position": {},
   "toc_section_display": true,
   "toc_window_display": false
  }
 },
 "nbformat": 4,
 "nbformat_minor": 5
}
