{
 "cells": [
  {
   "cell_type": "code",
   "execution_count": 2,
   "id": "9b1488f3",
   "metadata": {},
   "outputs": [],
   "source": [
    "# importing needed libraries\n",
    "import pandas as pd\n",
    "import numpy as np\n",
    "import matplotlib.pyplot as plt\n",
    "import seaborn as sns\n",
    "\n",
    "%matplotlib inline"
   ]
  },
  {
   "cell_type": "code",
<<<<<<< Updated upstream
   "execution_count": 3,
   "id": "08727204",
=======
   "execution_count": 198,
   "id": "75126ed4",
   "metadata": {},
   "outputs": [],
   "source": [
    "# downloading the datasets by importing them using the pandas library\n",
    "df_test = pd.read_csv('test.csv')\n",
    "df_train = pd.read_csv('train.csv')"
   ]
  },
  {
   "cell_type": "markdown",
   "id": "951e5ae3",
   "metadata": {},
   "source": [
    "We will be performing our wrangling on the train dataset."
   ]
  },
  {
   "cell_type": "markdown",
   "id": "f7f34b84",
   "metadata": {},
   "source": [
    "### Assessing"
   ]
  },
  {
   "cell_type": "markdown",
   "id": "4c2d30f8",
>>>>>>> Stashed changes
   "metadata": {},
   "outputs": [
    {
     "ename": "FileNotFoundError",
     "evalue": "[Errno 2] No such file or directory: 'C:\\\\Users\\\\PC\\\\Documents\\\\GitHub\\\\Datafest-2022-Datathon\\\\Datasets\\\\test.csv'",
     "output_type": "error",
     "traceback": [
      "\u001b[1;31m---------------------------------------------------------------------------\u001b[0m",
      "\u001b[1;31mFileNotFoundError\u001b[0m                         Traceback (most recent call last)",
      "Input \u001b[1;32mIn [3]\u001b[0m, in \u001b[0;36m<cell line: 2>\u001b[1;34m()\u001b[0m\n\u001b[0;32m      1\u001b[0m \u001b[38;5;66;03m# importing needed datasets\u001b[39;00m\n\u001b[1;32m----> 2\u001b[0m test \u001b[38;5;241m=\u001b[39m \u001b[43mpd\u001b[49m\u001b[38;5;241;43m.\u001b[39;49m\u001b[43mread_csv\u001b[49m\u001b[43m(\u001b[49m\u001b[38;5;124;43mr\u001b[39;49m\u001b[38;5;124;43m'\u001b[39;49m\u001b[38;5;124;43mC:\u001b[39;49m\u001b[38;5;124;43m\\\u001b[39;49m\u001b[38;5;124;43mUsers\u001b[39;49m\u001b[38;5;124;43m\\\u001b[39;49m\u001b[38;5;124;43mPC\u001b[39;49m\u001b[38;5;124;43m\\\u001b[39;49m\u001b[38;5;124;43mDocuments\u001b[39;49m\u001b[38;5;124;43m\\\u001b[39;49m\u001b[38;5;124;43mGitHub\u001b[39;49m\u001b[38;5;124;43m\\\u001b[39;49m\u001b[38;5;124;43mDatafest-2022-Datathon\u001b[39;49m\u001b[38;5;124;43m\\\u001b[39;49m\u001b[38;5;124;43mDatasets\u001b[39;49m\u001b[38;5;124;43m\\\u001b[39;49m\u001b[38;5;124;43mtest.csv\u001b[39;49m\u001b[38;5;124;43m'\u001b[39;49m\u001b[43m)\u001b[49m\n\u001b[0;32m      3\u001b[0m train \u001b[38;5;241m=\u001b[39m pd\u001b[38;5;241m.\u001b[39mread_csv(\u001b[38;5;124mr\u001b[39m\u001b[38;5;124m'\u001b[39m\u001b[38;5;124mC:\u001b[39m\u001b[38;5;124m\\\u001b[39m\u001b[38;5;124mUsers\u001b[39m\u001b[38;5;124m\\\u001b[39m\u001b[38;5;124mPC\u001b[39m\u001b[38;5;124m\\\u001b[39m\u001b[38;5;124mDocuments\u001b[39m\u001b[38;5;124m\\\u001b[39m\u001b[38;5;124mGitHub\u001b[39m\u001b[38;5;124m\\\u001b[39m\u001b[38;5;124mDatafest-2022-Datathon\u001b[39m\u001b[38;5;124m\\\u001b[39m\u001b[38;5;124mDatasets\u001b[39m\u001b[38;5;124m\\\u001b[39m\u001b[38;5;124mtrain.csv\u001b[39m\u001b[38;5;124m'\u001b[39m)\n",
      "File \u001b[1;32m~\\anaconda3\\lib\\site-packages\\pandas\\util\\_decorators.py:311\u001b[0m, in \u001b[0;36mdeprecate_nonkeyword_arguments.<locals>.decorate.<locals>.wrapper\u001b[1;34m(*args, **kwargs)\u001b[0m\n\u001b[0;32m    305\u001b[0m \u001b[38;5;28;01mif\u001b[39;00m \u001b[38;5;28mlen\u001b[39m(args) \u001b[38;5;241m>\u001b[39m num_allow_args:\n\u001b[0;32m    306\u001b[0m     warnings\u001b[38;5;241m.\u001b[39mwarn(\n\u001b[0;32m    307\u001b[0m         msg\u001b[38;5;241m.\u001b[39mformat(arguments\u001b[38;5;241m=\u001b[39marguments),\n\u001b[0;32m    308\u001b[0m         \u001b[38;5;167;01mFutureWarning\u001b[39;00m,\n\u001b[0;32m    309\u001b[0m         stacklevel\u001b[38;5;241m=\u001b[39mstacklevel,\n\u001b[0;32m    310\u001b[0m     )\n\u001b[1;32m--> 311\u001b[0m \u001b[38;5;28;01mreturn\u001b[39;00m \u001b[43mfunc\u001b[49m\u001b[43m(\u001b[49m\u001b[38;5;241;43m*\u001b[39;49m\u001b[43margs\u001b[49m\u001b[43m,\u001b[49m\u001b[43m \u001b[49m\u001b[38;5;241;43m*\u001b[39;49m\u001b[38;5;241;43m*\u001b[39;49m\u001b[43mkwargs\u001b[49m\u001b[43m)\u001b[49m\n",
      "File \u001b[1;32m~\\anaconda3\\lib\\site-packages\\pandas\\io\\parsers\\readers.py:680\u001b[0m, in \u001b[0;36mread_csv\u001b[1;34m(filepath_or_buffer, sep, delimiter, header, names, index_col, usecols, squeeze, prefix, mangle_dupe_cols, dtype, engine, converters, true_values, false_values, skipinitialspace, skiprows, skipfooter, nrows, na_values, keep_default_na, na_filter, verbose, skip_blank_lines, parse_dates, infer_datetime_format, keep_date_col, date_parser, dayfirst, cache_dates, iterator, chunksize, compression, thousands, decimal, lineterminator, quotechar, quoting, doublequote, escapechar, comment, encoding, encoding_errors, dialect, error_bad_lines, warn_bad_lines, on_bad_lines, delim_whitespace, low_memory, memory_map, float_precision, storage_options)\u001b[0m\n\u001b[0;32m    665\u001b[0m kwds_defaults \u001b[38;5;241m=\u001b[39m _refine_defaults_read(\n\u001b[0;32m    666\u001b[0m     dialect,\n\u001b[0;32m    667\u001b[0m     delimiter,\n\u001b[1;32m   (...)\u001b[0m\n\u001b[0;32m    676\u001b[0m     defaults\u001b[38;5;241m=\u001b[39m{\u001b[38;5;124m\"\u001b[39m\u001b[38;5;124mdelimiter\u001b[39m\u001b[38;5;124m\"\u001b[39m: \u001b[38;5;124m\"\u001b[39m\u001b[38;5;124m,\u001b[39m\u001b[38;5;124m\"\u001b[39m},\n\u001b[0;32m    677\u001b[0m )\n\u001b[0;32m    678\u001b[0m kwds\u001b[38;5;241m.\u001b[39mupdate(kwds_defaults)\n\u001b[1;32m--> 680\u001b[0m \u001b[38;5;28;01mreturn\u001b[39;00m \u001b[43m_read\u001b[49m\u001b[43m(\u001b[49m\u001b[43mfilepath_or_buffer\u001b[49m\u001b[43m,\u001b[49m\u001b[43m \u001b[49m\u001b[43mkwds\u001b[49m\u001b[43m)\u001b[49m\n",
      "File \u001b[1;32m~\\anaconda3\\lib\\site-packages\\pandas\\io\\parsers\\readers.py:575\u001b[0m, in \u001b[0;36m_read\u001b[1;34m(filepath_or_buffer, kwds)\u001b[0m\n\u001b[0;32m    572\u001b[0m _validate_names(kwds\u001b[38;5;241m.\u001b[39mget(\u001b[38;5;124m\"\u001b[39m\u001b[38;5;124mnames\u001b[39m\u001b[38;5;124m\"\u001b[39m, \u001b[38;5;28;01mNone\u001b[39;00m))\n\u001b[0;32m    574\u001b[0m \u001b[38;5;66;03m# Create the parser.\u001b[39;00m\n\u001b[1;32m--> 575\u001b[0m parser \u001b[38;5;241m=\u001b[39m \u001b[43mTextFileReader\u001b[49m\u001b[43m(\u001b[49m\u001b[43mfilepath_or_buffer\u001b[49m\u001b[43m,\u001b[49m\u001b[43m \u001b[49m\u001b[38;5;241;43m*\u001b[39;49m\u001b[38;5;241;43m*\u001b[39;49m\u001b[43mkwds\u001b[49m\u001b[43m)\u001b[49m\n\u001b[0;32m    577\u001b[0m \u001b[38;5;28;01mif\u001b[39;00m chunksize \u001b[38;5;129;01mor\u001b[39;00m iterator:\n\u001b[0;32m    578\u001b[0m     \u001b[38;5;28;01mreturn\u001b[39;00m parser\n",
      "File \u001b[1;32m~\\anaconda3\\lib\\site-packages\\pandas\\io\\parsers\\readers.py:934\u001b[0m, in \u001b[0;36mTextFileReader.__init__\u001b[1;34m(self, f, engine, **kwds)\u001b[0m\n\u001b[0;32m    931\u001b[0m     \u001b[38;5;28mself\u001b[39m\u001b[38;5;241m.\u001b[39moptions[\u001b[38;5;124m\"\u001b[39m\u001b[38;5;124mhas_index_names\u001b[39m\u001b[38;5;124m\"\u001b[39m] \u001b[38;5;241m=\u001b[39m kwds[\u001b[38;5;124m\"\u001b[39m\u001b[38;5;124mhas_index_names\u001b[39m\u001b[38;5;124m\"\u001b[39m]\n\u001b[0;32m    933\u001b[0m \u001b[38;5;28mself\u001b[39m\u001b[38;5;241m.\u001b[39mhandles: IOHandles \u001b[38;5;241m|\u001b[39m \u001b[38;5;28;01mNone\u001b[39;00m \u001b[38;5;241m=\u001b[39m \u001b[38;5;28;01mNone\u001b[39;00m\n\u001b[1;32m--> 934\u001b[0m \u001b[38;5;28mself\u001b[39m\u001b[38;5;241m.\u001b[39m_engine \u001b[38;5;241m=\u001b[39m \u001b[38;5;28;43mself\u001b[39;49m\u001b[38;5;241;43m.\u001b[39;49m\u001b[43m_make_engine\u001b[49m\u001b[43m(\u001b[49m\u001b[43mf\u001b[49m\u001b[43m,\u001b[49m\u001b[43m \u001b[49m\u001b[38;5;28;43mself\u001b[39;49m\u001b[38;5;241;43m.\u001b[39;49m\u001b[43mengine\u001b[49m\u001b[43m)\u001b[49m\n",
      "File \u001b[1;32m~\\anaconda3\\lib\\site-packages\\pandas\\io\\parsers\\readers.py:1218\u001b[0m, in \u001b[0;36mTextFileReader._make_engine\u001b[1;34m(self, f, engine)\u001b[0m\n\u001b[0;32m   1214\u001b[0m     mode \u001b[38;5;241m=\u001b[39m \u001b[38;5;124m\"\u001b[39m\u001b[38;5;124mrb\u001b[39m\u001b[38;5;124m\"\u001b[39m\n\u001b[0;32m   1215\u001b[0m \u001b[38;5;66;03m# error: No overload variant of \"get_handle\" matches argument types\u001b[39;00m\n\u001b[0;32m   1216\u001b[0m \u001b[38;5;66;03m# \"Union[str, PathLike[str], ReadCsvBuffer[bytes], ReadCsvBuffer[str]]\"\u001b[39;00m\n\u001b[0;32m   1217\u001b[0m \u001b[38;5;66;03m# , \"str\", \"bool\", \"Any\", \"Any\", \"Any\", \"Any\", \"Any\"\u001b[39;00m\n\u001b[1;32m-> 1218\u001b[0m \u001b[38;5;28mself\u001b[39m\u001b[38;5;241m.\u001b[39mhandles \u001b[38;5;241m=\u001b[39m \u001b[43mget_handle\u001b[49m\u001b[43m(\u001b[49m\u001b[43m  \u001b[49m\u001b[38;5;66;43;03m# type: ignore[call-overload]\u001b[39;49;00m\n\u001b[0;32m   1219\u001b[0m \u001b[43m    \u001b[49m\u001b[43mf\u001b[49m\u001b[43m,\u001b[49m\n\u001b[0;32m   1220\u001b[0m \u001b[43m    \u001b[49m\u001b[43mmode\u001b[49m\u001b[43m,\u001b[49m\n\u001b[0;32m   1221\u001b[0m \u001b[43m    \u001b[49m\u001b[43mencoding\u001b[49m\u001b[38;5;241;43m=\u001b[39;49m\u001b[38;5;28;43mself\u001b[39;49m\u001b[38;5;241;43m.\u001b[39;49m\u001b[43moptions\u001b[49m\u001b[38;5;241;43m.\u001b[39;49m\u001b[43mget\u001b[49m\u001b[43m(\u001b[49m\u001b[38;5;124;43m\"\u001b[39;49m\u001b[38;5;124;43mencoding\u001b[39;49m\u001b[38;5;124;43m\"\u001b[39;49m\u001b[43m,\u001b[49m\u001b[43m \u001b[49m\u001b[38;5;28;43;01mNone\u001b[39;49;00m\u001b[43m)\u001b[49m\u001b[43m,\u001b[49m\n\u001b[0;32m   1222\u001b[0m \u001b[43m    \u001b[49m\u001b[43mcompression\u001b[49m\u001b[38;5;241;43m=\u001b[39;49m\u001b[38;5;28;43mself\u001b[39;49m\u001b[38;5;241;43m.\u001b[39;49m\u001b[43moptions\u001b[49m\u001b[38;5;241;43m.\u001b[39;49m\u001b[43mget\u001b[49m\u001b[43m(\u001b[49m\u001b[38;5;124;43m\"\u001b[39;49m\u001b[38;5;124;43mcompression\u001b[39;49m\u001b[38;5;124;43m\"\u001b[39;49m\u001b[43m,\u001b[49m\u001b[43m \u001b[49m\u001b[38;5;28;43;01mNone\u001b[39;49;00m\u001b[43m)\u001b[49m\u001b[43m,\u001b[49m\n\u001b[0;32m   1223\u001b[0m \u001b[43m    \u001b[49m\u001b[43mmemory_map\u001b[49m\u001b[38;5;241;43m=\u001b[39;49m\u001b[38;5;28;43mself\u001b[39;49m\u001b[38;5;241;43m.\u001b[39;49m\u001b[43moptions\u001b[49m\u001b[38;5;241;43m.\u001b[39;49m\u001b[43mget\u001b[49m\u001b[43m(\u001b[49m\u001b[38;5;124;43m\"\u001b[39;49m\u001b[38;5;124;43mmemory_map\u001b[39;49m\u001b[38;5;124;43m\"\u001b[39;49m\u001b[43m,\u001b[49m\u001b[43m \u001b[49m\u001b[38;5;28;43;01mFalse\u001b[39;49;00m\u001b[43m)\u001b[49m\u001b[43m,\u001b[49m\n\u001b[0;32m   1224\u001b[0m \u001b[43m    \u001b[49m\u001b[43mis_text\u001b[49m\u001b[38;5;241;43m=\u001b[39;49m\u001b[43mis_text\u001b[49m\u001b[43m,\u001b[49m\n\u001b[0;32m   1225\u001b[0m \u001b[43m    \u001b[49m\u001b[43merrors\u001b[49m\u001b[38;5;241;43m=\u001b[39;49m\u001b[38;5;28;43mself\u001b[39;49m\u001b[38;5;241;43m.\u001b[39;49m\u001b[43moptions\u001b[49m\u001b[38;5;241;43m.\u001b[39;49m\u001b[43mget\u001b[49m\u001b[43m(\u001b[49m\u001b[38;5;124;43m\"\u001b[39;49m\u001b[38;5;124;43mencoding_errors\u001b[39;49m\u001b[38;5;124;43m\"\u001b[39;49m\u001b[43m,\u001b[49m\u001b[43m \u001b[49m\u001b[38;5;124;43m\"\u001b[39;49m\u001b[38;5;124;43mstrict\u001b[39;49m\u001b[38;5;124;43m\"\u001b[39;49m\u001b[43m)\u001b[49m\u001b[43m,\u001b[49m\n\u001b[0;32m   1226\u001b[0m \u001b[43m    \u001b[49m\u001b[43mstorage_options\u001b[49m\u001b[38;5;241;43m=\u001b[39;49m\u001b[38;5;28;43mself\u001b[39;49m\u001b[38;5;241;43m.\u001b[39;49m\u001b[43moptions\u001b[49m\u001b[38;5;241;43m.\u001b[39;49m\u001b[43mget\u001b[49m\u001b[43m(\u001b[49m\u001b[38;5;124;43m\"\u001b[39;49m\u001b[38;5;124;43mstorage_options\u001b[39;49m\u001b[38;5;124;43m\"\u001b[39;49m\u001b[43m,\u001b[49m\u001b[43m \u001b[49m\u001b[38;5;28;43;01mNone\u001b[39;49;00m\u001b[43m)\u001b[49m\u001b[43m,\u001b[49m\n\u001b[0;32m   1227\u001b[0m \u001b[43m\u001b[49m\u001b[43m)\u001b[49m\n\u001b[0;32m   1228\u001b[0m \u001b[38;5;28;01massert\u001b[39;00m \u001b[38;5;28mself\u001b[39m\u001b[38;5;241m.\u001b[39mhandles \u001b[38;5;129;01mis\u001b[39;00m \u001b[38;5;129;01mnot\u001b[39;00m \u001b[38;5;28;01mNone\u001b[39;00m\n\u001b[0;32m   1229\u001b[0m f \u001b[38;5;241m=\u001b[39m \u001b[38;5;28mself\u001b[39m\u001b[38;5;241m.\u001b[39mhandles\u001b[38;5;241m.\u001b[39mhandle\n",
      "File \u001b[1;32m~\\anaconda3\\lib\\site-packages\\pandas\\io\\common.py:786\u001b[0m, in \u001b[0;36mget_handle\u001b[1;34m(path_or_buf, mode, encoding, compression, memory_map, is_text, errors, storage_options)\u001b[0m\n\u001b[0;32m    781\u001b[0m \u001b[38;5;28;01melif\u001b[39;00m \u001b[38;5;28misinstance\u001b[39m(handle, \u001b[38;5;28mstr\u001b[39m):\n\u001b[0;32m    782\u001b[0m     \u001b[38;5;66;03m# Check whether the filename is to be opened in binary mode.\u001b[39;00m\n\u001b[0;32m    783\u001b[0m     \u001b[38;5;66;03m# Binary mode does not support 'encoding' and 'newline'.\u001b[39;00m\n\u001b[0;32m    784\u001b[0m     \u001b[38;5;28;01mif\u001b[39;00m ioargs\u001b[38;5;241m.\u001b[39mencoding \u001b[38;5;129;01mand\u001b[39;00m \u001b[38;5;124m\"\u001b[39m\u001b[38;5;124mb\u001b[39m\u001b[38;5;124m\"\u001b[39m \u001b[38;5;129;01mnot\u001b[39;00m \u001b[38;5;129;01min\u001b[39;00m ioargs\u001b[38;5;241m.\u001b[39mmode:\n\u001b[0;32m    785\u001b[0m         \u001b[38;5;66;03m# Encoding\u001b[39;00m\n\u001b[1;32m--> 786\u001b[0m         handle \u001b[38;5;241m=\u001b[39m \u001b[38;5;28;43mopen\u001b[39;49m\u001b[43m(\u001b[49m\n\u001b[0;32m    787\u001b[0m \u001b[43m            \u001b[49m\u001b[43mhandle\u001b[49m\u001b[43m,\u001b[49m\n\u001b[0;32m    788\u001b[0m \u001b[43m            \u001b[49m\u001b[43mioargs\u001b[49m\u001b[38;5;241;43m.\u001b[39;49m\u001b[43mmode\u001b[49m\u001b[43m,\u001b[49m\n\u001b[0;32m    789\u001b[0m \u001b[43m            \u001b[49m\u001b[43mencoding\u001b[49m\u001b[38;5;241;43m=\u001b[39;49m\u001b[43mioargs\u001b[49m\u001b[38;5;241;43m.\u001b[39;49m\u001b[43mencoding\u001b[49m\u001b[43m,\u001b[49m\n\u001b[0;32m    790\u001b[0m \u001b[43m            \u001b[49m\u001b[43merrors\u001b[49m\u001b[38;5;241;43m=\u001b[39;49m\u001b[43merrors\u001b[49m\u001b[43m,\u001b[49m\n\u001b[0;32m    791\u001b[0m \u001b[43m            \u001b[49m\u001b[43mnewline\u001b[49m\u001b[38;5;241;43m=\u001b[39;49m\u001b[38;5;124;43m\"\u001b[39;49m\u001b[38;5;124;43m\"\u001b[39;49m\u001b[43m,\u001b[49m\n\u001b[0;32m    792\u001b[0m \u001b[43m        \u001b[49m\u001b[43m)\u001b[49m\n\u001b[0;32m    793\u001b[0m     \u001b[38;5;28;01melse\u001b[39;00m:\n\u001b[0;32m    794\u001b[0m         \u001b[38;5;66;03m# Binary mode\u001b[39;00m\n\u001b[0;32m    795\u001b[0m         handle \u001b[38;5;241m=\u001b[39m \u001b[38;5;28mopen\u001b[39m(handle, ioargs\u001b[38;5;241m.\u001b[39mmode)\n",
      "\u001b[1;31mFileNotFoundError\u001b[0m: [Errno 2] No such file or directory: 'C:\\\\Users\\\\PC\\\\Documents\\\\GitHub\\\\Datafest-2022-Datathon\\\\Datasets\\\\test.csv'"
     ]
    }
   ],
   "source": [
    "# importing needed datasets\n",
    "test = pd.read_csv(r'C:\\Users\\PC\\Documents\\GitHub\\Datafest-2022-Datathon\\Datasets\\test.csv')\n",
    "train = pd.read_csv(r'C:\\Users\\PC\\Documents\\GitHub\\Datafest-2022-Datathon\\Datasets\\train.csv')"
   ]
  },
  {
   "cell_type": "code",
   "execution_count": 6,
   "id": "7ed13129",
   "metadata": {},
   "outputs": [
    {
     "data": {
      "text/html": [
       "<div>\n",
       "<style scoped>\n",
       "    .dataframe tbody tr th:only-of-type {\n",
       "        vertical-align: middle;\n",
       "    }\n",
       "\n",
       "    .dataframe tbody tr th {\n",
       "        vertical-align: top;\n",
       "    }\n",
       "\n",
       "    .dataframe thead th {\n",
       "        text-align: right;\n",
       "    }\n",
       "</style>\n",
       "<table border=\"1\" class=\"dataframe\">\n",
       "  <thead>\n",
       "    <tr style=\"text-align: right;\">\n",
       "      <th></th>\n",
       "      <th>Entry_id</th>\n",
       "      <th>age</th>\n",
       "      <th>pay_schedule</th>\n",
       "      <th>home_owner</th>\n",
       "      <th>income</th>\n",
       "      <th>months_employed</th>\n",
       "      <th>years_employed</th>\n",
       "      <th>current_address_year</th>\n",
       "      <th>personal_account_m</th>\n",
       "      <th>personal_account_y</th>\n",
       "      <th>has_debt</th>\n",
       "      <th>amount_requested</th>\n",
       "      <th>risk_score</th>\n",
       "      <th>risk_score_2</th>\n",
       "      <th>risk_score_3</th>\n",
       "      <th>risk_score_4</th>\n",
       "      <th>risk_score_5</th>\n",
       "      <th>ext_quality_score</th>\n",
       "      <th>ext_quality_score_2</th>\n",
       "      <th>inquiries_last_month</th>\n",
       "    </tr>\n",
       "  </thead>\n",
       "  <tbody>\n",
       "    <tr>\n",
       "      <th>0</th>\n",
       "      <td>3560428</td>\n",
       "      <td>61</td>\n",
       "      <td>weekly</td>\n",
       "      <td>0</td>\n",
       "      <td>3180</td>\n",
       "      <td>0</td>\n",
       "      <td>6</td>\n",
       "      <td>3</td>\n",
       "      <td>2</td>\n",
       "      <td>7</td>\n",
       "      <td>1</td>\n",
       "      <td>600</td>\n",
       "      <td>30150</td>\n",
       "      <td>0.738510</td>\n",
       "      <td>0.881027</td>\n",
       "      <td>0.713423</td>\n",
       "      <td>0.826402</td>\n",
       "      <td>0.730720</td>\n",
       "      <td>0.630720</td>\n",
       "      <td>9</td>\n",
       "    </tr>\n",
       "    <tr>\n",
       "      <th>1</th>\n",
       "      <td>6934997</td>\n",
       "      <td>23</td>\n",
       "      <td>weekly</td>\n",
       "      <td>0</td>\n",
       "      <td>1540</td>\n",
       "      <td>6</td>\n",
       "      <td>0</td>\n",
       "      <td>0</td>\n",
       "      <td>7</td>\n",
       "      <td>1</td>\n",
       "      <td>1</td>\n",
       "      <td>450</td>\n",
       "      <td>34550</td>\n",
       "      <td>0.642993</td>\n",
       "      <td>0.766554</td>\n",
       "      <td>0.595018</td>\n",
       "      <td>0.762284</td>\n",
       "      <td>0.531712</td>\n",
       "      <td>0.531712</td>\n",
       "      <td>7</td>\n",
       "    </tr>\n",
       "    <tr>\n",
       "      <th>2</th>\n",
       "      <td>5682812</td>\n",
       "      <td>40</td>\n",
       "      <td>bi-weekly</td>\n",
       "      <td>0</td>\n",
       "      <td>5230</td>\n",
       "      <td>0</td>\n",
       "      <td>6</td>\n",
       "      <td>1</td>\n",
       "      <td>2</td>\n",
       "      <td>7</td>\n",
       "      <td>1</td>\n",
       "      <td>700</td>\n",
       "      <td>42150</td>\n",
       "      <td>0.665224</td>\n",
       "      <td>0.960832</td>\n",
       "      <td>0.767828</td>\n",
       "      <td>0.778831</td>\n",
       "      <td>0.792552</td>\n",
       "      <td>0.592552</td>\n",
       "      <td>8</td>\n",
       "    </tr>\n",
       "    <tr>\n",
       "      <th>3</th>\n",
       "      <td>6493191</td>\n",
       "      <td>32</td>\n",
       "      <td>semi-monthly</td>\n",
       "      <td>0</td>\n",
       "      <td>5260</td>\n",
       "      <td>3</td>\n",
       "      <td>0</td>\n",
       "      <td>3</td>\n",
       "      <td>1</td>\n",
       "      <td>4</td>\n",
       "      <td>1</td>\n",
       "      <td>1150</td>\n",
       "      <td>64050</td>\n",
       "      <td>0.652429</td>\n",
       "      <td>0.802433</td>\n",
       "      <td>0.593816</td>\n",
       "      <td>0.560389</td>\n",
       "      <td>0.569459</td>\n",
       "      <td>0.369459</td>\n",
       "      <td>3</td>\n",
       "    </tr>\n",
       "    <tr>\n",
       "      <th>4</th>\n",
       "      <td>8990111</td>\n",
       "      <td>61</td>\n",
       "      <td>bi-weekly</td>\n",
       "      <td>1</td>\n",
       "      <td>3270</td>\n",
       "      <td>0</td>\n",
       "      <td>4</td>\n",
       "      <td>0</td>\n",
       "      <td>4</td>\n",
       "      <td>3</td>\n",
       "      <td>1</td>\n",
       "      <td>400</td>\n",
       "      <td>61700</td>\n",
       "      <td>0.659736</td>\n",
       "      <td>0.937287</td>\n",
       "      <td>0.852323</td>\n",
       "      <td>0.785698</td>\n",
       "      <td>0.632466</td>\n",
       "      <td>0.732466</td>\n",
       "      <td>7</td>\n",
       "    </tr>\n",
       "  </tbody>\n",
       "</table>\n",
       "</div>"
      ],
      "text/plain": [
       "   Entry_id  age  pay_schedule  home_owner  income  months_employed  \\\n",
       "0   3560428   61        weekly           0    3180                0   \n",
       "1   6934997   23        weekly           0    1540                6   \n",
       "2   5682812   40     bi-weekly           0    5230                0   \n",
       "3   6493191   32  semi-monthly           0    5260                3   \n",
       "4   8990111   61     bi-weekly           1    3270                0   \n",
       "\n",
       "   years_employed  current_address_year  personal_account_m  \\\n",
       "0               6                     3                   2   \n",
       "1               0                     0                   7   \n",
       "2               6                     1                   2   \n",
       "3               0                     3                   1   \n",
       "4               4                     0                   4   \n",
       "\n",
       "   personal_account_y  has_debt  amount_requested  risk_score  risk_score_2  \\\n",
       "0                   7         1               600       30150      0.738510   \n",
       "1                   1         1               450       34550      0.642993   \n",
       "2                   7         1               700       42150      0.665224   \n",
       "3                   4         1              1150       64050      0.652429   \n",
       "4                   3         1               400       61700      0.659736   \n",
       "\n",
       "   risk_score_3  risk_score_4  risk_score_5  ext_quality_score  \\\n",
       "0      0.881027      0.713423      0.826402           0.730720   \n",
       "1      0.766554      0.595018      0.762284           0.531712   \n",
       "2      0.960832      0.767828      0.778831           0.792552   \n",
       "3      0.802433      0.593816      0.560389           0.569459   \n",
       "4      0.937287      0.852323      0.785698           0.632466   \n",
       "\n",
       "   ext_quality_score_2  inquiries_last_month  \n",
       "0             0.630720                     9  \n",
       "1             0.531712                     7  \n",
       "2             0.592552                     8  \n",
       "3             0.369459                     3  \n",
       "4             0.732466                     7  "
      ]
     },
     "execution_count": 6,
     "metadata": {},
     "output_type": "execute_result"
    }
   ],
   "source": [
<<<<<<< Updated upstream
    "test.head()"
=======
    "# creating a simple function to return basic information on the dataset\n",
    "def info(df):\n",
    "    print(df.shape),\n",
    "    print('*' *40),\n",
    "    print(df.info())\n",
    "    print('*' *40)\n",
    "    print(df.nunique())\n",
    "    \n",
    "info(df_train)\n",
    "df_train.sample(5)"
>>>>>>> Stashed changes
   ]
  },
  {
   "cell_type": "code",
<<<<<<< Updated upstream
   "execution_count": 7,
   "id": "7e7245c1",
=======
   "execution_count": 200,
   "id": "481d2902",
   "metadata": {},
   "outputs": [],
   "source": [
    "# creating a dataframe to house key numerical variables in the dataset \n",
    "num_vars = pd.DataFrame()\n",
    "num_vars['age'] = df_train['age']\n",
    "num_vars['income'] = df_train['income']\n",
    "num_vars['amount_requested'] = df_train['amount_requested']\n",
    "num_vars['risk_score'] = df_train['risk_score']"
   ]
  },
  {
   "cell_type": "code",
   "execution_count": 201,
   "id": "9274d49e",
>>>>>>> Stashed changes
   "metadata": {},
   "outputs": [
    {
     "data": {
      "text/html": [
       "<div>\n",
       "<style scoped>\n",
       "    .dataframe tbody tr th:only-of-type {\n",
       "        vertical-align: middle;\n",
       "    }\n",
       "\n",
       "    .dataframe tbody tr th {\n",
       "        vertical-align: top;\n",
       "    }\n",
       "\n",
       "    .dataframe thead th {\n",
       "        text-align: right;\n",
       "    }\n",
       "</style>\n",
       "<table border=\"1\" class=\"dataframe\">\n",
       "  <thead>\n",
       "    <tr style=\"text-align: right;\">\n",
       "      <th></th>\n",
       "      <th>Entry_id</th>\n",
       "      <th>age</th>\n",
       "      <th>pay_schedule</th>\n",
       "      <th>home_owner</th>\n",
       "      <th>income</th>\n",
       "      <th>months_employed</th>\n",
       "      <th>years_employed</th>\n",
       "      <th>current_address_year</th>\n",
       "      <th>personal_account_m</th>\n",
       "      <th>personal_account_y</th>\n",
       "      <th>...</th>\n",
       "      <th>amount_requested</th>\n",
       "      <th>risk_score</th>\n",
       "      <th>risk_score_2</th>\n",
       "      <th>risk_score_3</th>\n",
       "      <th>risk_score_4</th>\n",
       "      <th>risk_score_5</th>\n",
       "      <th>ext_quality_score</th>\n",
       "      <th>ext_quality_score_2</th>\n",
       "      <th>inquiries_last_month</th>\n",
       "      <th>e_signed</th>\n",
       "    </tr>\n",
       "  </thead>\n",
       "  <tbody>\n",
       "    <tr>\n",
       "      <th>0</th>\n",
       "      <td>7629673</td>\n",
       "      <td>40</td>\n",
       "      <td>bi-weekly</td>\n",
       "      <td>1</td>\n",
       "      <td>3135</td>\n",
       "      <td>0</td>\n",
       "      <td>3</td>\n",
       "      <td>3</td>\n",
       "      <td>6</td>\n",
       "      <td>2</td>\n",
       "      <td>...</td>\n",
       "      <td>550</td>\n",
       "      <td>36200</td>\n",
       "      <td>0.737398</td>\n",
       "      <td>0.903517</td>\n",
       "      <td>0.487712</td>\n",
       "      <td>0.515977</td>\n",
       "      <td>0.580918</td>\n",
       "      <td>0.380918</td>\n",
       "      <td>10</td>\n",
       "      <td>1</td>\n",
       "    </tr>\n",
       "    <tr>\n",
       "      <th>1</th>\n",
       "      <td>5335819</td>\n",
       "      <td>33</td>\n",
       "      <td>semi-monthly</td>\n",
       "      <td>0</td>\n",
       "      <td>3590</td>\n",
       "      <td>0</td>\n",
       "      <td>5</td>\n",
       "      <td>2</td>\n",
       "      <td>2</td>\n",
       "      <td>8</td>\n",
       "      <td>...</td>\n",
       "      <td>1100</td>\n",
       "      <td>53850</td>\n",
       "      <td>0.617361</td>\n",
       "      <td>0.857560</td>\n",
       "      <td>0.613487</td>\n",
       "      <td>0.665523</td>\n",
       "      <td>0.744634</td>\n",
       "      <td>0.744634</td>\n",
       "      <td>12</td>\n",
       "      <td>0</td>\n",
       "    </tr>\n",
       "    <tr>\n",
       "      <th>2</th>\n",
       "      <td>8492423</td>\n",
       "      <td>21</td>\n",
       "      <td>weekly</td>\n",
       "      <td>0</td>\n",
       "      <td>2303</td>\n",
       "      <td>0</td>\n",
       "      <td>5</td>\n",
       "      <td>8</td>\n",
       "      <td>2</td>\n",
       "      <td>7</td>\n",
       "      <td>...</td>\n",
       "      <td>600</td>\n",
       "      <td>74850</td>\n",
       "      <td>0.677109</td>\n",
       "      <td>0.758765</td>\n",
       "      <td>0.495609</td>\n",
       "      <td>0.664762</td>\n",
       "      <td>0.592556</td>\n",
       "      <td>0.492556</td>\n",
       "      <td>6</td>\n",
       "      <td>1</td>\n",
       "    </tr>\n",
       "    <tr>\n",
       "      <th>3</th>\n",
       "      <td>7948313</td>\n",
       "      <td>26</td>\n",
       "      <td>bi-weekly</td>\n",
       "      <td>0</td>\n",
       "      <td>2795</td>\n",
       "      <td>0</td>\n",
       "      <td>4</td>\n",
       "      <td>4</td>\n",
       "      <td>1</td>\n",
       "      <td>6</td>\n",
       "      <td>...</td>\n",
       "      <td>800</td>\n",
       "      <td>50800</td>\n",
       "      <td>0.738055</td>\n",
       "      <td>0.873204</td>\n",
       "      <td>0.666437</td>\n",
       "      <td>0.700392</td>\n",
       "      <td>0.584130</td>\n",
       "      <td>0.684130</td>\n",
       "      <td>14</td>\n",
       "      <td>1</td>\n",
       "    </tr>\n",
       "    <tr>\n",
       "      <th>4</th>\n",
       "      <td>4297036</td>\n",
       "      <td>43</td>\n",
       "      <td>bi-weekly</td>\n",
       "      <td>0</td>\n",
       "      <td>5000</td>\n",
       "      <td>0</td>\n",
       "      <td>2</td>\n",
       "      <td>1</td>\n",
       "      <td>1</td>\n",
       "      <td>2</td>\n",
       "      <td>...</td>\n",
       "      <td>1100</td>\n",
       "      <td>69100</td>\n",
       "      <td>0.798303</td>\n",
       "      <td>0.841747</td>\n",
       "      <td>0.401971</td>\n",
       "      <td>0.568787</td>\n",
       "      <td>0.525905</td>\n",
       "      <td>0.725905</td>\n",
       "      <td>5</td>\n",
       "      <td>1</td>\n",
       "    </tr>\n",
       "  </tbody>\n",
       "</table>\n",
       "<p>5 rows × 21 columns</p>\n",
       "</div>"
      ],
      "text/plain": [
       "   Entry_id  age  pay_schedule  home_owner  income  months_employed  \\\n",
       "0   7629673   40     bi-weekly           1    3135                0   \n",
       "1   5335819   33  semi-monthly           0    3590                0   \n",
       "2   8492423   21        weekly           0    2303                0   \n",
       "3   7948313   26     bi-weekly           0    2795                0   \n",
       "4   4297036   43     bi-weekly           0    5000                0   \n",
       "\n",
       "   years_employed  current_address_year  personal_account_m  \\\n",
       "0               3                     3                   6   \n",
       "1               5                     2                   2   \n",
       "2               5                     8                   2   \n",
       "3               4                     4                   1   \n",
       "4               2                     1                   1   \n",
       "\n",
       "   personal_account_y  ...  amount_requested  risk_score  risk_score_2  \\\n",
       "0                   2  ...               550       36200      0.737398   \n",
       "1                   8  ...              1100       53850      0.617361   \n",
       "2                   7  ...               600       74850      0.677109   \n",
       "3                   6  ...               800       50800      0.738055   \n",
       "4                   2  ...              1100       69100      0.798303   \n",
       "\n",
       "   risk_score_3  risk_score_4  risk_score_5  ext_quality_score  \\\n",
       "0      0.903517      0.487712      0.515977           0.580918   \n",
       "1      0.857560      0.613487      0.665523           0.744634   \n",
       "2      0.758765      0.495609      0.664762           0.592556   \n",
       "3      0.873204      0.666437      0.700392           0.584130   \n",
       "4      0.841747      0.401971      0.568787           0.525905   \n",
       "\n",
       "   ext_quality_score_2  inquiries_last_month  e_signed  \n",
       "0             0.380918                    10         1  \n",
       "1             0.744634                    12         0  \n",
       "2             0.492556                     6         1  \n",
       "3             0.684130                    14         1  \n",
       "4             0.725905                     5         1  \n",
       "\n",
       "[5 rows x 21 columns]"
      ]
     },
     "execution_count": 7,
     "metadata": {},
     "output_type": "execute_result"
    }
   ],
   "source": [
    "train.head()"
   ]
  },
  {
   "cell_type": "code",
   "execution_count": 1,
   "id": "ce8a7dae",
   "metadata": {},
   "outputs": [
    {
     "ename": "NameError",
     "evalue": "name 'train' is not defined",
     "output_type": "error",
     "traceback": [
      "\u001b[1;31m---------------------------------------------------------------------------\u001b[0m",
      "\u001b[1;31mNameError\u001b[0m                                 Traceback (most recent call last)",
      "Input \u001b[1;32mIn [1]\u001b[0m, in \u001b[0;36m<cell line: 1>\u001b[1;34m()\u001b[0m\n\u001b[1;32m----> 1\u001b[0m \u001b[43mtrain\u001b[49m[\u001b[38;5;124m'\u001b[39m\u001b[38;5;124mincome\u001b[39m\u001b[38;5;124m'\u001b[39m]\u001b[38;5;241m.\u001b[39mhist()\n",
      "\u001b[1;31mNameError\u001b[0m: name 'train' is not defined"
     ]
    }
   ],
   "source": [
<<<<<<< Updated upstream
    "train['income'].hist()"
=======
    "# checking key columns for dulicate entries\n",
    "df_train.Entry_id.duplicated().value_counts()"
   ]
  },
  {
   "cell_type": "markdown",
   "id": "6ffa99b7",
   "metadata": {},
   "source": [
    "### Issues\n",
    "\n",
    "- Duplicate entries in the `Entry_id` column\n",
    "- The `months_employed` and `years_employed` columns should be merged into one.\n",
    "- The `personal_account_m` and `personal_account_y` columns should be merged into one.\n",
    "- The datatype of the `entry_id` column needed to be changed to object.\n",
    "- In `home_owner`, `has_debt`, and `e_signed` columns, we needed to replace 0 and 1 with no and yes respectively.\n",
    "- risk_score column should be a float and not an integer."
   ]
  },
  {
   "cell_type": "markdown",
   "id": "9b7ab0a2",
   "metadata": {},
   "source": [
    "### Cleaning\n",
    "\n",
    "Before we commence cleaning, it is best to create a copy of the dataset upon which the cleaning will be done."
   ]
  },
  {
   "cell_type": "code",
   "execution_count": 204,
   "id": "a7363ee5",
   "metadata": {},
   "outputs": [],
   "source": [
    "df_train_eda = df_train.copy()"
   ]
  },
  {
   "cell_type": "markdown",
   "id": "d5f4e358",
   "metadata": {},
   "source": [
    "#### 1. Duplicate entries in the Entry_id column\n",
    "\n",
    "#### Define: The entry id column contains some duplicate entries that need to be dropped."
   ]
  },
  {
   "cell_type": "markdown",
   "id": "5b3f9203",
   "metadata": {},
   "source": [
    "#### Code "
   ]
  },
  {
   "cell_type": "code",
   "execution_count": 205,
   "id": "6a41eeb6",
   "metadata": {},
   "outputs": [
    {
     "data": {
      "text/plain": [
       "6"
      ]
     },
     "execution_count": 205,
     "metadata": {},
     "output_type": "execute_result"
    }
   ],
   "source": [
    "#test\n",
    "sum(df_train_eda.Entry_id.duplicated())"
   ]
  },
  {
   "cell_type": "code",
   "execution_count": 206,
   "id": "e3b642db",
   "metadata": {},
   "outputs": [],
   "source": [
    "df_train_eda.drop_duplicates(subset= 'Entry_id', inplace = True)"
   ]
  },
  {
   "cell_type": "code",
   "execution_count": 207,
   "id": "96b4082c",
   "metadata": {},
   "outputs": [
    {
     "data": {
      "text/plain": [
       "0"
      ]
     },
     "execution_count": 207,
     "metadata": {},
     "output_type": "execute_result"
    }
   ],
   "source": [
    "# confirmation \n",
    "sum(df_train_eda.Entry_id.duplicated())"
   ]
  },
  {
   "cell_type": "markdown",
   "id": "41b6ebcf",
   "metadata": {},
   "source": [
    "#### 2. The months_employed and years_employed columns should be merged into one column.\n",
    "\n",
    "#### Define: The months_employed and years_employed columns should be merged to make it easier to work with them. This column will be represented in months"
   ]
  },
  {
   "cell_type": "markdown",
   "id": "98d0f89c",
   "metadata": {},
   "source": [
    "#### Code"
   ]
  },
  {
   "cell_type": "code",
   "execution_count": 208,
   "id": "66586fb7",
   "metadata": {},
   "outputs": [
    {
     "data": {
      "text/html": [
       "<div>\n",
       "<style scoped>\n",
       "    .dataframe tbody tr th:only-of-type {\n",
       "        vertical-align: middle;\n",
       "    }\n",
       "\n",
       "    .dataframe tbody tr th {\n",
       "        vertical-align: top;\n",
       "    }\n",
       "\n",
       "    .dataframe thead th {\n",
       "        text-align: right;\n",
       "    }\n",
       "</style>\n",
       "<table border=\"1\" class=\"dataframe\">\n",
       "  <thead>\n",
       "    <tr style=\"text-align: right;\">\n",
       "      <th></th>\n",
       "      <th>Entry_id</th>\n",
       "      <th>age</th>\n",
       "      <th>pay_schedule</th>\n",
       "      <th>home_owner</th>\n",
       "      <th>income</th>\n",
       "      <th>months_employed</th>\n",
       "      <th>years_employed</th>\n",
       "      <th>current_address_year</th>\n",
       "      <th>personal_account_m</th>\n",
       "      <th>personal_account_y</th>\n",
       "      <th>...</th>\n",
       "      <th>amount_requested</th>\n",
       "      <th>risk_score</th>\n",
       "      <th>risk_score_2</th>\n",
       "      <th>risk_score_3</th>\n",
       "      <th>risk_score_4</th>\n",
       "      <th>risk_score_5</th>\n",
       "      <th>ext_quality_score</th>\n",
       "      <th>ext_quality_score_2</th>\n",
       "      <th>inquiries_last_month</th>\n",
       "      <th>e_signed</th>\n",
       "    </tr>\n",
       "  </thead>\n",
       "  <tbody>\n",
       "    <tr>\n",
       "      <th>591</th>\n",
       "      <td>7130898</td>\n",
       "      <td>41</td>\n",
       "      <td>bi-weekly</td>\n",
       "      <td>0</td>\n",
       "      <td>3280</td>\n",
       "      <td>6</td>\n",
       "      <td>2</td>\n",
       "      <td>2</td>\n",
       "      <td>6</td>\n",
       "      <td>4</td>\n",
       "      <td>...</td>\n",
       "      <td>800</td>\n",
       "      <td>49500</td>\n",
       "      <td>0.867764</td>\n",
       "      <td>0.914830</td>\n",
       "      <td>0.606666</td>\n",
       "      <td>0.770432</td>\n",
       "      <td>0.525678</td>\n",
       "      <td>0.625678</td>\n",
       "      <td>16</td>\n",
       "      <td>0</td>\n",
       "    </tr>\n",
       "    <tr>\n",
       "      <th>7128</th>\n",
       "      <td>6039451</td>\n",
       "      <td>39</td>\n",
       "      <td>bi-weekly</td>\n",
       "      <td>1</td>\n",
       "      <td>3070</td>\n",
       "      <td>0</td>\n",
       "      <td>2</td>\n",
       "      <td>10</td>\n",
       "      <td>3</td>\n",
       "      <td>2</td>\n",
       "      <td>...</td>\n",
       "      <td>400</td>\n",
       "      <td>46700</td>\n",
       "      <td>0.625946</td>\n",
       "      <td>0.864361</td>\n",
       "      <td>0.468913</td>\n",
       "      <td>0.653569</td>\n",
       "      <td>0.686470</td>\n",
       "      <td>0.786470</td>\n",
       "      <td>13</td>\n",
       "      <td>0</td>\n",
       "    </tr>\n",
       "    <tr>\n",
       "      <th>6862</th>\n",
       "      <td>8336321</td>\n",
       "      <td>45</td>\n",
       "      <td>bi-weekly</td>\n",
       "      <td>1</td>\n",
       "      <td>3802</td>\n",
       "      <td>0</td>\n",
       "      <td>3</td>\n",
       "      <td>2</td>\n",
       "      <td>5</td>\n",
       "      <td>1</td>\n",
       "      <td>...</td>\n",
       "      <td>700</td>\n",
       "      <td>67050</td>\n",
       "      <td>0.722318</td>\n",
       "      <td>0.935065</td>\n",
       "      <td>0.500473</td>\n",
       "      <td>0.640189</td>\n",
       "      <td>0.821936</td>\n",
       "      <td>0.821936</td>\n",
       "      <td>5</td>\n",
       "      <td>0</td>\n",
       "    </tr>\n",
       "  </tbody>\n",
       "</table>\n",
       "<p>3 rows × 21 columns</p>\n",
       "</div>"
      ],
      "text/plain": [
       "      Entry_id  age pay_schedule  home_owner  income  months_employed  \\\n",
       "591    7130898   41    bi-weekly           0    3280                6   \n",
       "7128   6039451   39    bi-weekly           1    3070                0   \n",
       "6862   8336321   45    bi-weekly           1    3802                0   \n",
       "\n",
       "      years_employed  current_address_year  personal_account_m  \\\n",
       "591                2                     2                   6   \n",
       "7128               2                    10                   3   \n",
       "6862               3                     2                   5   \n",
       "\n",
       "      personal_account_y  ...  amount_requested  risk_score  risk_score_2  \\\n",
       "591                    4  ...               800       49500      0.867764   \n",
       "7128                   2  ...               400       46700      0.625946   \n",
       "6862                   1  ...               700       67050      0.722318   \n",
       "\n",
       "      risk_score_3  risk_score_4  risk_score_5  ext_quality_score  \\\n",
       "591       0.914830      0.606666      0.770432           0.525678   \n",
       "7128      0.864361      0.468913      0.653569           0.686470   \n",
       "6862      0.935065      0.500473      0.640189           0.821936   \n",
       "\n",
       "      ext_quality_score_2  inquiries_last_month  e_signed  \n",
       "591              0.625678                    16         0  \n",
       "7128             0.786470                    13         0  \n",
       "6862             0.821936                     5         0  \n",
       "\n",
       "[3 rows x 21 columns]"
      ]
     },
     "execution_count": 208,
     "metadata": {},
     "output_type": "execute_result"
    }
   ],
   "source": [
    "# test\n",
    "df_train_eda.sample(3)"
   ]
  },
  {
   "cell_type": "code",
   "execution_count": 209,
   "id": "21fc89ac",
   "metadata": {},
   "outputs": [],
   "source": [
    "df_train_eda['total_months_employed'] = (df_train_eda['years_employed']*12) + df_train_eda['months_employed']"
   ]
  },
  {
   "cell_type": "code",
   "execution_count": 210,
   "id": "72822b9e",
   "metadata": {
    "scrolled": false
   },
   "outputs": [
    {
     "data": {
      "text/html": [
       "<div>\n",
       "<style scoped>\n",
       "    .dataframe tbody tr th:only-of-type {\n",
       "        vertical-align: middle;\n",
       "    }\n",
       "\n",
       "    .dataframe tbody tr th {\n",
       "        vertical-align: top;\n",
       "    }\n",
       "\n",
       "    .dataframe thead th {\n",
       "        text-align: right;\n",
       "    }\n",
       "</style>\n",
       "<table border=\"1\" class=\"dataframe\">\n",
       "  <thead>\n",
       "    <tr style=\"text-align: right;\">\n",
       "      <th></th>\n",
       "      <th>Entry_id</th>\n",
       "      <th>age</th>\n",
       "      <th>pay_schedule</th>\n",
       "      <th>home_owner</th>\n",
       "      <th>income</th>\n",
       "      <th>months_employed</th>\n",
       "      <th>years_employed</th>\n",
       "      <th>current_address_year</th>\n",
       "      <th>personal_account_m</th>\n",
       "      <th>personal_account_y</th>\n",
       "      <th>...</th>\n",
       "      <th>risk_score</th>\n",
       "      <th>risk_score_2</th>\n",
       "      <th>risk_score_3</th>\n",
       "      <th>risk_score_4</th>\n",
       "      <th>risk_score_5</th>\n",
       "      <th>ext_quality_score</th>\n",
       "      <th>ext_quality_score_2</th>\n",
       "      <th>inquiries_last_month</th>\n",
       "      <th>e_signed</th>\n",
       "      <th>total_months_employed</th>\n",
       "    </tr>\n",
       "  </thead>\n",
       "  <tbody>\n",
       "    <tr>\n",
       "      <th>8535</th>\n",
       "      <td>2683051</td>\n",
       "      <td>45</td>\n",
       "      <td>weekly</td>\n",
       "      <td>1</td>\n",
       "      <td>4598</td>\n",
       "      <td>0</td>\n",
       "      <td>3</td>\n",
       "      <td>3</td>\n",
       "      <td>1</td>\n",
       "      <td>3</td>\n",
       "      <td>...</td>\n",
       "      <td>67950</td>\n",
       "      <td>0.755393</td>\n",
       "      <td>0.881038</td>\n",
       "      <td>0.749558</td>\n",
       "      <td>0.944964</td>\n",
       "      <td>0.628775</td>\n",
       "      <td>0.828775</td>\n",
       "      <td>5</td>\n",
       "      <td>0</td>\n",
       "      <td>36</td>\n",
       "    </tr>\n",
       "    <tr>\n",
       "      <th>8307</th>\n",
       "      <td>2231395</td>\n",
       "      <td>46</td>\n",
       "      <td>bi-weekly</td>\n",
       "      <td>1</td>\n",
       "      <td>2630</td>\n",
       "      <td>2</td>\n",
       "      <td>9</td>\n",
       "      <td>4</td>\n",
       "      <td>3</td>\n",
       "      <td>9</td>\n",
       "      <td>...</td>\n",
       "      <td>56150</td>\n",
       "      <td>0.627930</td>\n",
       "      <td>0.864260</td>\n",
       "      <td>0.415423</td>\n",
       "      <td>0.521583</td>\n",
       "      <td>0.608794</td>\n",
       "      <td>0.808794</td>\n",
       "      <td>6</td>\n",
       "      <td>0</td>\n",
       "      <td>110</td>\n",
       "    </tr>\n",
       "    <tr>\n",
       "      <th>1378</th>\n",
       "      <td>4494439</td>\n",
       "      <td>51</td>\n",
       "      <td>bi-weekly</td>\n",
       "      <td>0</td>\n",
       "      <td>1825</td>\n",
       "      <td>0</td>\n",
       "      <td>2</td>\n",
       "      <td>3</td>\n",
       "      <td>5</td>\n",
       "      <td>2</td>\n",
       "      <td>...</td>\n",
       "      <td>41250</td>\n",
       "      <td>0.674185</td>\n",
       "      <td>0.800357</td>\n",
       "      <td>0.659640</td>\n",
       "      <td>0.783552</td>\n",
       "      <td>0.776126</td>\n",
       "      <td>0.776126</td>\n",
       "      <td>5</td>\n",
       "      <td>0</td>\n",
       "      <td>24</td>\n",
       "    </tr>\n",
       "  </tbody>\n",
       "</table>\n",
       "<p>3 rows × 22 columns</p>\n",
       "</div>"
      ],
      "text/plain": [
       "      Entry_id  age pay_schedule  home_owner  income  months_employed  \\\n",
       "8535   2683051   45       weekly           1    4598                0   \n",
       "8307   2231395   46    bi-weekly           1    2630                2   \n",
       "1378   4494439   51    bi-weekly           0    1825                0   \n",
       "\n",
       "      years_employed  current_address_year  personal_account_m  \\\n",
       "8535               3                     3                   1   \n",
       "8307               9                     4                   3   \n",
       "1378               2                     3                   5   \n",
       "\n",
       "      personal_account_y  ...  risk_score  risk_score_2  risk_score_3  \\\n",
       "8535                   3  ...       67950      0.755393      0.881038   \n",
       "8307                   9  ...       56150      0.627930      0.864260   \n",
       "1378                   2  ...       41250      0.674185      0.800357   \n",
       "\n",
       "      risk_score_4  risk_score_5  ext_quality_score  ext_quality_score_2  \\\n",
       "8535      0.749558      0.944964           0.628775             0.828775   \n",
       "8307      0.415423      0.521583           0.608794             0.808794   \n",
       "1378      0.659640      0.783552           0.776126             0.776126   \n",
       "\n",
       "      inquiries_last_month  e_signed  total_months_employed  \n",
       "8535                     5         0                     36  \n",
       "8307                     6         0                    110  \n",
       "1378                     5         0                     24  \n",
       "\n",
       "[3 rows x 22 columns]"
      ]
     },
     "execution_count": 210,
     "metadata": {},
     "output_type": "execute_result"
    }
   ],
   "source": [
    "# confirmation\n",
    "df_train_eda.sample(3)"
   ]
  },
  {
   "cell_type": "markdown",
   "id": "b0f93c2f",
   "metadata": {},
   "source": [
    "#### The personal_account_m and personal_account_y columns should be merged into one.\n",
    "\n",
    "\n",
    "#### Define: The personal_account_m and personal_account_y columns should be merged to make it easier to work with them. This column will be represented in months"
   ]
  },
  {
   "cell_type": "markdown",
   "id": "8debf0d9",
   "metadata": {},
   "source": [
    "#### Code"
   ]
  },
  {
   "cell_type": "code",
   "execution_count": 211,
   "id": "631af6b8",
   "metadata": {},
   "outputs": [
    {
     "data": {
      "text/html": [
       "<div>\n",
       "<style scoped>\n",
       "    .dataframe tbody tr th:only-of-type {\n",
       "        vertical-align: middle;\n",
       "    }\n",
       "\n",
       "    .dataframe tbody tr th {\n",
       "        vertical-align: top;\n",
       "    }\n",
       "\n",
       "    .dataframe thead th {\n",
       "        text-align: right;\n",
       "    }\n",
       "</style>\n",
       "<table border=\"1\" class=\"dataframe\">\n",
       "  <thead>\n",
       "    <tr style=\"text-align: right;\">\n",
       "      <th></th>\n",
       "      <th>Entry_id</th>\n",
       "      <th>age</th>\n",
       "      <th>pay_schedule</th>\n",
       "      <th>home_owner</th>\n",
       "      <th>income</th>\n",
       "      <th>months_employed</th>\n",
       "      <th>years_employed</th>\n",
       "      <th>current_address_year</th>\n",
       "      <th>personal_account_m</th>\n",
       "      <th>personal_account_y</th>\n",
       "      <th>...</th>\n",
       "      <th>risk_score</th>\n",
       "      <th>risk_score_2</th>\n",
       "      <th>risk_score_3</th>\n",
       "      <th>risk_score_4</th>\n",
       "      <th>risk_score_5</th>\n",
       "      <th>ext_quality_score</th>\n",
       "      <th>ext_quality_score_2</th>\n",
       "      <th>inquiries_last_month</th>\n",
       "      <th>e_signed</th>\n",
       "      <th>total_months_employed</th>\n",
       "    </tr>\n",
       "  </thead>\n",
       "  <tbody>\n",
       "    <tr>\n",
       "      <th>12400</th>\n",
       "      <td>6398985</td>\n",
       "      <td>59</td>\n",
       "      <td>weekly</td>\n",
       "      <td>1</td>\n",
       "      <td>6000</td>\n",
       "      <td>5</td>\n",
       "      <td>2</td>\n",
       "      <td>9</td>\n",
       "      <td>2</td>\n",
       "      <td>3</td>\n",
       "      <td>...</td>\n",
       "      <td>56750</td>\n",
       "      <td>0.663445</td>\n",
       "      <td>0.902350</td>\n",
       "      <td>0.722856</td>\n",
       "      <td>0.780279</td>\n",
       "      <td>0.684032</td>\n",
       "      <td>0.684032</td>\n",
       "      <td>13</td>\n",
       "      <td>1</td>\n",
       "      <td>29</td>\n",
       "    </tr>\n",
       "    <tr>\n",
       "      <th>5908</th>\n",
       "      <td>9884994</td>\n",
       "      <td>61</td>\n",
       "      <td>monthly</td>\n",
       "      <td>1</td>\n",
       "      <td>2875</td>\n",
       "      <td>5</td>\n",
       "      <td>5</td>\n",
       "      <td>5</td>\n",
       "      <td>9</td>\n",
       "      <td>10</td>\n",
       "      <td>...</td>\n",
       "      <td>96000</td>\n",
       "      <td>0.698511</td>\n",
       "      <td>0.970989</td>\n",
       "      <td>0.613112</td>\n",
       "      <td>0.954627</td>\n",
       "      <td>0.666485</td>\n",
       "      <td>0.766485</td>\n",
       "      <td>3</td>\n",
       "      <td>0</td>\n",
       "      <td>65</td>\n",
       "    </tr>\n",
       "    <tr>\n",
       "      <th>2595</th>\n",
       "      <td>7237482</td>\n",
       "      <td>46</td>\n",
       "      <td>weekly</td>\n",
       "      <td>1</td>\n",
       "      <td>5702</td>\n",
       "      <td>0</td>\n",
       "      <td>1</td>\n",
       "      <td>3</td>\n",
       "      <td>3</td>\n",
       "      <td>4</td>\n",
       "      <td>...</td>\n",
       "      <td>48550</td>\n",
       "      <td>0.743718</td>\n",
       "      <td>0.880017</td>\n",
       "      <td>0.757482</td>\n",
       "      <td>0.868162</td>\n",
       "      <td>0.714572</td>\n",
       "      <td>0.714572</td>\n",
       "      <td>7</td>\n",
       "      <td>0</td>\n",
       "      <td>12</td>\n",
       "    </tr>\n",
       "  </tbody>\n",
       "</table>\n",
       "<p>3 rows × 22 columns</p>\n",
       "</div>"
      ],
      "text/plain": [
       "       Entry_id  age pay_schedule  home_owner  income  months_employed  \\\n",
       "12400   6398985   59       weekly           1    6000                5   \n",
       "5908    9884994   61      monthly           1    2875                5   \n",
       "2595    7237482   46       weekly           1    5702                0   \n",
       "\n",
       "       years_employed  current_address_year  personal_account_m  \\\n",
       "12400               2                     9                   2   \n",
       "5908                5                     5                   9   \n",
       "2595                1                     3                   3   \n",
       "\n",
       "       personal_account_y  ...  risk_score  risk_score_2  risk_score_3  \\\n",
       "12400                   3  ...       56750      0.663445      0.902350   \n",
       "5908                   10  ...       96000      0.698511      0.970989   \n",
       "2595                    4  ...       48550      0.743718      0.880017   \n",
       "\n",
       "       risk_score_4  risk_score_5  ext_quality_score  ext_quality_score_2  \\\n",
       "12400      0.722856      0.780279           0.684032             0.684032   \n",
       "5908       0.613112      0.954627           0.666485             0.766485   \n",
       "2595       0.757482      0.868162           0.714572             0.714572   \n",
       "\n",
       "       inquiries_last_month  e_signed  total_months_employed  \n",
       "12400                    13         1                     29  \n",
       "5908                      3         0                     65  \n",
       "2595                      7         0                     12  \n",
       "\n",
       "[3 rows x 22 columns]"
      ]
     },
     "execution_count": 211,
     "metadata": {},
     "output_type": "execute_result"
    }
   ],
   "source": [
    "# test\n",
    "df_train_eda.sample(3)"
   ]
  },
  {
   "cell_type": "code",
   "execution_count": 212,
   "id": "c3562b84",
   "metadata": {},
   "outputs": [],
   "source": [
    "df_train_eda['personal_account_duration'] = (df_train_eda['personal_account_y']*12) + df_train_eda['personal_account_m']"
   ]
  },
  {
   "cell_type": "code",
   "execution_count": 213,
   "id": "c0964946",
   "metadata": {
    "scrolled": true
   },
   "outputs": [
    {
     "data": {
      "text/html": [
       "<div>\n",
       "<style scoped>\n",
       "    .dataframe tbody tr th:only-of-type {\n",
       "        vertical-align: middle;\n",
       "    }\n",
       "\n",
       "    .dataframe tbody tr th {\n",
       "        vertical-align: top;\n",
       "    }\n",
       "\n",
       "    .dataframe thead th {\n",
       "        text-align: right;\n",
       "    }\n",
       "</style>\n",
       "<table border=\"1\" class=\"dataframe\">\n",
       "  <thead>\n",
       "    <tr style=\"text-align: right;\">\n",
       "      <th></th>\n",
       "      <th>Entry_id</th>\n",
       "      <th>age</th>\n",
       "      <th>pay_schedule</th>\n",
       "      <th>home_owner</th>\n",
       "      <th>income</th>\n",
       "      <th>months_employed</th>\n",
       "      <th>years_employed</th>\n",
       "      <th>current_address_year</th>\n",
       "      <th>personal_account_m</th>\n",
       "      <th>personal_account_y</th>\n",
       "      <th>...</th>\n",
       "      <th>risk_score_2</th>\n",
       "      <th>risk_score_3</th>\n",
       "      <th>risk_score_4</th>\n",
       "      <th>risk_score_5</th>\n",
       "      <th>ext_quality_score</th>\n",
       "      <th>ext_quality_score_2</th>\n",
       "      <th>inquiries_last_month</th>\n",
       "      <th>e_signed</th>\n",
       "      <th>total_months_employed</th>\n",
       "      <th>personal_account_duration</th>\n",
       "    </tr>\n",
       "  </thead>\n",
       "  <tbody>\n",
       "    <tr>\n",
       "      <th>11712</th>\n",
       "      <td>9818371</td>\n",
       "      <td>56</td>\n",
       "      <td>monthly</td>\n",
       "      <td>1</td>\n",
       "      <td>9045</td>\n",
       "      <td>0</td>\n",
       "      <td>3</td>\n",
       "      <td>2</td>\n",
       "      <td>2</td>\n",
       "      <td>3</td>\n",
       "      <td>...</td>\n",
       "      <td>0.767416</td>\n",
       "      <td>0.845102</td>\n",
       "      <td>0.414970</td>\n",
       "      <td>0.760763</td>\n",
       "      <td>0.740715</td>\n",
       "      <td>0.440715</td>\n",
       "      <td>8</td>\n",
       "      <td>1</td>\n",
       "      <td>36</td>\n",
       "      <td>38</td>\n",
       "    </tr>\n",
       "    <tr>\n",
       "      <th>8578</th>\n",
       "      <td>3460987</td>\n",
       "      <td>44</td>\n",
       "      <td>weekly</td>\n",
       "      <td>1</td>\n",
       "      <td>2215</td>\n",
       "      <td>3</td>\n",
       "      <td>4</td>\n",
       "      <td>2</td>\n",
       "      <td>2</td>\n",
       "      <td>7</td>\n",
       "      <td>...</td>\n",
       "      <td>0.792396</td>\n",
       "      <td>0.854114</td>\n",
       "      <td>0.619872</td>\n",
       "      <td>0.818995</td>\n",
       "      <td>0.801737</td>\n",
       "      <td>0.701737</td>\n",
       "      <td>8</td>\n",
       "      <td>0</td>\n",
       "      <td>51</td>\n",
       "      <td>86</td>\n",
       "    </tr>\n",
       "    <tr>\n",
       "      <th>11508</th>\n",
       "      <td>2463689</td>\n",
       "      <td>36</td>\n",
       "      <td>weekly</td>\n",
       "      <td>0</td>\n",
       "      <td>2790</td>\n",
       "      <td>0</td>\n",
       "      <td>4</td>\n",
       "      <td>4</td>\n",
       "      <td>6</td>\n",
       "      <td>3</td>\n",
       "      <td>...</td>\n",
       "      <td>0.625379</td>\n",
       "      <td>0.847336</td>\n",
       "      <td>0.279750</td>\n",
       "      <td>0.492636</td>\n",
       "      <td>0.384477</td>\n",
       "      <td>0.684477</td>\n",
       "      <td>7</td>\n",
       "      <td>0</td>\n",
       "      <td>48</td>\n",
       "      <td>42</td>\n",
       "    </tr>\n",
       "  </tbody>\n",
       "</table>\n",
       "<p>3 rows × 23 columns</p>\n",
       "</div>"
      ],
      "text/plain": [
       "       Entry_id  age pay_schedule  home_owner  income  months_employed  \\\n",
       "11712   9818371   56      monthly           1    9045                0   \n",
       "8578    3460987   44       weekly           1    2215                3   \n",
       "11508   2463689   36       weekly           0    2790                0   \n",
       "\n",
       "       years_employed  current_address_year  personal_account_m  \\\n",
       "11712               3                     2                   2   \n",
       "8578                4                     2                   2   \n",
       "11508               4                     4                   6   \n",
       "\n",
       "       personal_account_y  ...  risk_score_2  risk_score_3  risk_score_4  \\\n",
       "11712                   3  ...      0.767416      0.845102      0.414970   \n",
       "8578                    7  ...      0.792396      0.854114      0.619872   \n",
       "11508                   3  ...      0.625379      0.847336      0.279750   \n",
       "\n",
       "       risk_score_5  ext_quality_score  ext_quality_score_2  \\\n",
       "11712      0.760763           0.740715             0.440715   \n",
       "8578       0.818995           0.801737             0.701737   \n",
       "11508      0.492636           0.384477             0.684477   \n",
       "\n",
       "       inquiries_last_month  e_signed  total_months_employed  \\\n",
       "11712                     8         1                     36   \n",
       "8578                      8         0                     51   \n",
       "11508                     7         0                     48   \n",
       "\n",
       "       personal_account_duration  \n",
       "11712                         38  \n",
       "8578                          86  \n",
       "11508                         42  \n",
       "\n",
       "[3 rows x 23 columns]"
      ]
     },
     "execution_count": 213,
     "metadata": {},
     "output_type": "execute_result"
    }
   ],
   "source": [
    "# confirmation\n",
    "df_train_eda.sample(3)"
   ]
  },
  {
   "cell_type": "markdown",
   "id": "7b25e590",
   "metadata": {},
   "source": [
    "#### The datatype of the `entry_id` column needed to be changed to object."
   ]
  },
  {
   "cell_type": "markdown",
   "id": "bcce1dd1",
   "metadata": {},
   "source": [
    "#### Define: Changing the datatype of entry_id from integer to string."
   ]
  },
  {
   "cell_type": "markdown",
   "id": "5c03bdc8",
   "metadata": {},
   "source": [
    "#### Code"
   ]
  },
  {
   "cell_type": "code",
   "execution_count": 214,
   "id": "fc3d479b",
   "metadata": {},
   "outputs": [
    {
     "name": "stdout",
     "output_type": "stream",
     "text": [
      "<class 'pandas.core.series.Series'>\n",
      "Int64Index: 12510 entries, 0 to 12515\n",
      "Series name: Entry_id\n",
      "Non-Null Count  Dtype\n",
      "--------------  -----\n",
      "12510 non-null  int64\n",
      "dtypes: int64(1)\n",
      "memory usage: 195.5 KB\n"
     ]
    }
   ],
   "source": [
    "#test\n",
    "df_train_eda.Entry_id.info()"
   ]
  },
  {
   "cell_type": "code",
   "execution_count": 215,
   "id": "bacfe05a",
   "metadata": {},
   "outputs": [],
   "source": [
    "df_train_eda = df_train_eda.astype({'Entry_id':'object'})"
   ]
  },
  {
   "cell_type": "code",
   "execution_count": 216,
   "id": "a6e7df7b",
   "metadata": {},
   "outputs": [
    {
     "name": "stdout",
     "output_type": "stream",
     "text": [
      "<class 'pandas.core.series.Series'>\n",
      "Int64Index: 12510 entries, 0 to 12515\n",
      "Series name: Entry_id\n",
      "Non-Null Count  Dtype \n",
      "--------------  ----- \n",
      "12510 non-null  object\n",
      "dtypes: object(1)\n",
      "memory usage: 195.5+ KB\n"
     ]
    }
   ],
   "source": [
    "#confirmation\n",
    "df_train_eda.Entry_id.info()"
   ]
  },
  {
   "cell_type": "markdown",
   "id": "dd5ee5e3",
   "metadata": {},
   "source": [
    "####  In `home_owner`, `has_debt`, and `e_signed` columns, we needed to replace 0 and 1 with yes and no respectively.\n",
    "\n",
    "#### Define: Replacing 0 and 1 in these 2 columns with yes or no"
   ]
  },
  {
   "cell_type": "markdown",
   "id": "610878fa",
   "metadata": {},
   "source": [
    "#### Code"
   ]
  },
  {
   "cell_type": "code",
   "execution_count": 217,
   "id": "fc7042c7",
   "metadata": {},
   "outputs": [
    {
     "data": {
      "text/html": [
       "<div>\n",
       "<style scoped>\n",
       "    .dataframe tbody tr th:only-of-type {\n",
       "        vertical-align: middle;\n",
       "    }\n",
       "\n",
       "    .dataframe tbody tr th {\n",
       "        vertical-align: top;\n",
       "    }\n",
       "\n",
       "    .dataframe thead th {\n",
       "        text-align: right;\n",
       "    }\n",
       "</style>\n",
       "<table border=\"1\" class=\"dataframe\">\n",
       "  <thead>\n",
       "    <tr style=\"text-align: right;\">\n",
       "      <th></th>\n",
       "      <th>Entry_id</th>\n",
       "      <th>age</th>\n",
       "      <th>pay_schedule</th>\n",
       "      <th>home_owner</th>\n",
       "      <th>income</th>\n",
       "      <th>months_employed</th>\n",
       "      <th>years_employed</th>\n",
       "      <th>current_address_year</th>\n",
       "      <th>personal_account_m</th>\n",
       "      <th>personal_account_y</th>\n",
       "      <th>...</th>\n",
       "      <th>risk_score_2</th>\n",
       "      <th>risk_score_3</th>\n",
       "      <th>risk_score_4</th>\n",
       "      <th>risk_score_5</th>\n",
       "      <th>ext_quality_score</th>\n",
       "      <th>ext_quality_score_2</th>\n",
       "      <th>inquiries_last_month</th>\n",
       "      <th>e_signed</th>\n",
       "      <th>total_months_employed</th>\n",
       "      <th>personal_account_duration</th>\n",
       "    </tr>\n",
       "  </thead>\n",
       "  <tbody>\n",
       "    <tr>\n",
       "      <th>10885</th>\n",
       "      <td>6705281</td>\n",
       "      <td>60</td>\n",
       "      <td>bi-weekly</td>\n",
       "      <td>0</td>\n",
       "      <td>3075</td>\n",
       "      <td>1</td>\n",
       "      <td>3</td>\n",
       "      <td>3</td>\n",
       "      <td>4</td>\n",
       "      <td>2</td>\n",
       "      <td>...</td>\n",
       "      <td>0.654885</td>\n",
       "      <td>0.872217</td>\n",
       "      <td>0.614732</td>\n",
       "      <td>0.641821</td>\n",
       "      <td>0.457969</td>\n",
       "      <td>0.457969</td>\n",
       "      <td>4</td>\n",
       "      <td>0</td>\n",
       "      <td>37</td>\n",
       "      <td>28</td>\n",
       "    </tr>\n",
       "    <tr>\n",
       "      <th>12058</th>\n",
       "      <td>8742955</td>\n",
       "      <td>35</td>\n",
       "      <td>bi-weekly</td>\n",
       "      <td>0</td>\n",
       "      <td>3005</td>\n",
       "      <td>0</td>\n",
       "      <td>1</td>\n",
       "      <td>1</td>\n",
       "      <td>2</td>\n",
       "      <td>0</td>\n",
       "      <td>...</td>\n",
       "      <td>0.770029</td>\n",
       "      <td>0.858671</td>\n",
       "      <td>0.842659</td>\n",
       "      <td>0.804093</td>\n",
       "      <td>0.816470</td>\n",
       "      <td>0.816470</td>\n",
       "      <td>6</td>\n",
       "      <td>1</td>\n",
       "      <td>12</td>\n",
       "      <td>2</td>\n",
       "    </tr>\n",
       "    <tr>\n",
       "      <th>2320</th>\n",
       "      <td>9489379</td>\n",
       "      <td>51</td>\n",
       "      <td>bi-weekly</td>\n",
       "      <td>0</td>\n",
       "      <td>5115</td>\n",
       "      <td>0</td>\n",
       "      <td>6</td>\n",
       "      <td>4</td>\n",
       "      <td>7</td>\n",
       "      <td>3</td>\n",
       "      <td>...</td>\n",
       "      <td>0.476224</td>\n",
       "      <td>0.876504</td>\n",
       "      <td>0.687243</td>\n",
       "      <td>0.641370</td>\n",
       "      <td>0.760310</td>\n",
       "      <td>0.760310</td>\n",
       "      <td>11</td>\n",
       "      <td>1</td>\n",
       "      <td>72</td>\n",
       "      <td>43</td>\n",
       "    </tr>\n",
       "  </tbody>\n",
       "</table>\n",
       "<p>3 rows × 23 columns</p>\n",
       "</div>"
      ],
      "text/plain": [
       "      Entry_id  age pay_schedule  home_owner  income  months_employed  \\\n",
       "10885  6705281   60    bi-weekly           0    3075                1   \n",
       "12058  8742955   35    bi-weekly           0    3005                0   \n",
       "2320   9489379   51    bi-weekly           0    5115                0   \n",
       "\n",
       "       years_employed  current_address_year  personal_account_m  \\\n",
       "10885               3                     3                   4   \n",
       "12058               1                     1                   2   \n",
       "2320                6                     4                   7   \n",
       "\n",
       "       personal_account_y  ...  risk_score_2  risk_score_3  risk_score_4  \\\n",
       "10885                   2  ...      0.654885      0.872217      0.614732   \n",
       "12058                   0  ...      0.770029      0.858671      0.842659   \n",
       "2320                    3  ...      0.476224      0.876504      0.687243   \n",
       "\n",
       "       risk_score_5  ext_quality_score  ext_quality_score_2  \\\n",
       "10885      0.641821           0.457969             0.457969   \n",
       "12058      0.804093           0.816470             0.816470   \n",
       "2320       0.641370           0.760310             0.760310   \n",
       "\n",
       "       inquiries_last_month  e_signed  total_months_employed  \\\n",
       "10885                     4         0                     37   \n",
       "12058                     6         1                     12   \n",
       "2320                     11         1                     72   \n",
       "\n",
       "       personal_account_duration  \n",
       "10885                         28  \n",
       "12058                          2  \n",
       "2320                          43  \n",
       "\n",
       "[3 rows x 23 columns]"
      ]
     },
     "execution_count": 217,
     "metadata": {},
     "output_type": "execute_result"
    }
   ],
   "source": [
    "#test\n",
    "df_train_eda.sample(3)"
   ]
  },
  {
   "cell_type": "code",
   "execution_count": 218,
   "id": "6838242a",
   "metadata": {},
   "outputs": [],
   "source": [
    "df_train_eda.home_owner.replace({0:'No', 1:'Yes'}, inplace=True)\n",
    "df_train_eda.has_debt.replace({0:'No', 1:'Yes'}, inplace=True)\n",
    "df_train_eda.e_signed.replace({0:'No', 1:'Yes'}, inplace=True)"
   ]
  },
  {
   "cell_type": "code",
   "execution_count": 219,
   "id": "7fb3c064",
   "metadata": {
    "scrolled": false
   },
   "outputs": [
    {
     "data": {
      "text/html": [
       "<div>\n",
       "<style scoped>\n",
       "    .dataframe tbody tr th:only-of-type {\n",
       "        vertical-align: middle;\n",
       "    }\n",
       "\n",
       "    .dataframe tbody tr th {\n",
       "        vertical-align: top;\n",
       "    }\n",
       "\n",
       "    .dataframe thead th {\n",
       "        text-align: right;\n",
       "    }\n",
       "</style>\n",
       "<table border=\"1\" class=\"dataframe\">\n",
       "  <thead>\n",
       "    <tr style=\"text-align: right;\">\n",
       "      <th></th>\n",
       "      <th>Entry_id</th>\n",
       "      <th>age</th>\n",
       "      <th>pay_schedule</th>\n",
       "      <th>home_owner</th>\n",
       "      <th>income</th>\n",
       "      <th>months_employed</th>\n",
       "      <th>years_employed</th>\n",
       "      <th>current_address_year</th>\n",
       "      <th>personal_account_m</th>\n",
       "      <th>personal_account_y</th>\n",
       "      <th>...</th>\n",
       "      <th>risk_score_2</th>\n",
       "      <th>risk_score_3</th>\n",
       "      <th>risk_score_4</th>\n",
       "      <th>risk_score_5</th>\n",
       "      <th>ext_quality_score</th>\n",
       "      <th>ext_quality_score_2</th>\n",
       "      <th>inquiries_last_month</th>\n",
       "      <th>e_signed</th>\n",
       "      <th>total_months_employed</th>\n",
       "      <th>personal_account_duration</th>\n",
       "    </tr>\n",
       "  </thead>\n",
       "  <tbody>\n",
       "    <tr>\n",
       "      <th>5403</th>\n",
       "      <td>1735995</td>\n",
       "      <td>30</td>\n",
       "      <td>bi-weekly</td>\n",
       "      <td>No</td>\n",
       "      <td>2780</td>\n",
       "      <td>0</td>\n",
       "      <td>3</td>\n",
       "      <td>1</td>\n",
       "      <td>1</td>\n",
       "      <td>2</td>\n",
       "      <td>...</td>\n",
       "      <td>0.509576</td>\n",
       "      <td>0.841747</td>\n",
       "      <td>0.481038</td>\n",
       "      <td>0.763762</td>\n",
       "      <td>0.404960</td>\n",
       "      <td>0.304960</td>\n",
       "      <td>5</td>\n",
       "      <td>Yes</td>\n",
       "      <td>36</td>\n",
       "      <td>25</td>\n",
       "    </tr>\n",
       "    <tr>\n",
       "      <th>10826</th>\n",
       "      <td>6836546</td>\n",
       "      <td>56</td>\n",
       "      <td>bi-weekly</td>\n",
       "      <td>Yes</td>\n",
       "      <td>4625</td>\n",
       "      <td>0</td>\n",
       "      <td>5</td>\n",
       "      <td>10</td>\n",
       "      <td>6</td>\n",
       "      <td>1</td>\n",
       "      <td>...</td>\n",
       "      <td>0.676122</td>\n",
       "      <td>0.778977</td>\n",
       "      <td>0.560407</td>\n",
       "      <td>0.487677</td>\n",
       "      <td>0.549308</td>\n",
       "      <td>0.549308</td>\n",
       "      <td>7</td>\n",
       "      <td>Yes</td>\n",
       "      <td>60</td>\n",
       "      <td>18</td>\n",
       "    </tr>\n",
       "    <tr>\n",
       "      <th>2708</th>\n",
       "      <td>5317614</td>\n",
       "      <td>29</td>\n",
       "      <td>bi-weekly</td>\n",
       "      <td>No</td>\n",
       "      <td>5220</td>\n",
       "      <td>0</td>\n",
       "      <td>4</td>\n",
       "      <td>4</td>\n",
       "      <td>2</td>\n",
       "      <td>6</td>\n",
       "      <td>...</td>\n",
       "      <td>0.716299</td>\n",
       "      <td>0.859804</td>\n",
       "      <td>0.727551</td>\n",
       "      <td>0.740020</td>\n",
       "      <td>0.586700</td>\n",
       "      <td>0.586700</td>\n",
       "      <td>9</td>\n",
       "      <td>No</td>\n",
       "      <td>48</td>\n",
       "      <td>74</td>\n",
       "    </tr>\n",
       "  </tbody>\n",
       "</table>\n",
       "<p>3 rows × 23 columns</p>\n",
       "</div>"
      ],
      "text/plain": [
       "      Entry_id  age pay_schedule home_owner  income  months_employed  \\\n",
       "5403   1735995   30    bi-weekly         No    2780                0   \n",
       "10826  6836546   56    bi-weekly        Yes    4625                0   \n",
       "2708   5317614   29    bi-weekly         No    5220                0   \n",
       "\n",
       "       years_employed  current_address_year  personal_account_m  \\\n",
       "5403                3                     1                   1   \n",
       "10826               5                    10                   6   \n",
       "2708                4                     4                   2   \n",
       "\n",
       "       personal_account_y  ... risk_score_2  risk_score_3  risk_score_4  \\\n",
       "5403                    2  ...     0.509576      0.841747      0.481038   \n",
       "10826                   1  ...     0.676122      0.778977      0.560407   \n",
       "2708                    6  ...     0.716299      0.859804      0.727551   \n",
       "\n",
       "       risk_score_5  ext_quality_score  ext_quality_score_2  \\\n",
       "5403       0.763762           0.404960             0.304960   \n",
       "10826      0.487677           0.549308             0.549308   \n",
       "2708       0.740020           0.586700             0.586700   \n",
       "\n",
       "       inquiries_last_month  e_signed  total_months_employed  \\\n",
       "5403                      5       Yes                     36   \n",
       "10826                     7       Yes                     60   \n",
       "2708                      9        No                     48   \n",
       "\n",
       "       personal_account_duration  \n",
       "5403                          25  \n",
       "10826                         18  \n",
       "2708                          74  \n",
       "\n",
       "[3 rows x 23 columns]"
      ]
     },
     "execution_count": 219,
     "metadata": {},
     "output_type": "execute_result"
    }
   ],
   "source": [
    "#confirmation\n",
    "df_train_eda.sample(3)"
   ]
  },
  {
   "cell_type": "markdown",
   "id": "7353317b",
   "metadata": {},
   "source": [
    "#### risk_score column should be a float and not an integer.\n",
    "\n",
    "#### Define: This is to make the risk_score columns match up"
   ]
  },
  {
   "cell_type": "code",
   "execution_count": 220,
   "id": "aad8e212",
   "metadata": {},
   "outputs": [
    {
     "data": {
      "text/plain": [
       "5558     61950\n",
       "10838    78750\n",
       "1872     41050\n",
       "Name: risk_score, dtype: int64"
      ]
     },
     "execution_count": 220,
     "metadata": {},
     "output_type": "execute_result"
    }
   ],
   "source": [
    "#test\n",
    "df_train_eda.risk_score.sample(3)"
   ]
  },
  {
   "cell_type": "code",
   "execution_count": 221,
   "id": "8bc246d0",
   "metadata": {},
   "outputs": [],
   "source": [
    "df_train_eda['risk_score_n'] = (df_train_eda.risk_score / 100000)"
   ]
  },
  {
   "cell_type": "code",
   "execution_count": 222,
   "id": "3fce61f2",
   "metadata": {},
   "outputs": [
    {
     "data": {
      "text/plain": [
       "8310    0.4430\n",
       "1847    0.6560\n",
       "1547    0.6435\n",
       "Name: risk_score_n, dtype: float64"
      ]
     },
     "execution_count": 222,
     "metadata": {},
     "output_type": "execute_result"
    }
   ],
   "source": [
    "#confirmation\n",
    "df_train_eda.risk_score_n.sample(3)"
   ]
  },
  {
   "cell_type": "markdown",
   "id": "68caeef7",
   "metadata": {},
   "source": [
    "### Structure of the dataset\n",
    "\n",
    "The train dataset intially contained 12,516 rows, and 21 columns. After assessing and cleaning the data, it now contains 12,510 rows and 23 columns."
   ]
  },
  {
   "cell_type": "markdown",
   "id": "e982856a",
   "metadata": {},
   "source": [
    "<a id='eda'></a>\n",
    "## <u>Exploratory Data Analysis."
   ]
  },
  {
   "cell_type": "markdown",
   "id": "47e58c6a",
   "metadata": {},
   "source": [
    "In this section of the project, we are going to be exploring multiple variables from the train dataset.\n",
    "\n"
   ]
  },
  {
   "cell_type": "markdown",
   "id": "2e9c2b0c",
   "metadata": {},
   "source": [
    "## Univariate Exploration"
   ]
  },
  {
   "cell_type": "markdown",
   "id": "4d64d1ec",
   "metadata": {},
   "source": [
    "### Distribution of ages in the dataset."
   ]
  },
  {
   "cell_type": "code",
   "execution_count": 223,
   "id": "a360bc9b",
   "metadata": {},
   "outputs": [
    {
     "data": {
      "image/png": "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\n",
      "text/plain": [
       "<Figure size 720x360 with 1 Axes>"
      ]
     },
     "metadata": {
      "needs_background": "light"
     },
     "output_type": "display_data"
    }
   ],
   "source": [
    "plt.figure(figsize=(10,5))\n",
    "plt.hist(df_train_eda.age, color = base_color, bins = 20);\n",
    "plt.yticks(fontsize=14)\n",
    "plt.xticks(fontsize=14)\n",
    "plt.xlabel('Age of Applicant', fontsize=13)\n",
    "plt.title('Distribution of Applicant Age', fontsize=20);"
   ]
  },
  {
   "cell_type": "markdown",
   "id": "097acdfc",
   "metadata": {},
   "source": [
    "The age distribution is slightly skewed right suggesting that there are more younger to middle aged customers i.e 30 to 40, than there are older customers i.e 50 to 90. \n",
    "\n",
    "To get a clearer picture of the distribution of ages, we will place them into age brackets."
   ]
  },
  {
   "cell_type": "code",
   "execution_count": 224,
   "id": "b9c49797",
   "metadata": {},
   "outputs": [],
   "source": [
    "def prop_(x):\n",
    "    \n",
    "    '''To calculate proportions of values in a column.\n",
    "    x will be df.col or df['col']'''\n",
    "    \n",
    "    max_var_count = x.value_counts()[0]\n",
    "    var_sum = x.value_counts().sum()\n",
    "    max_prop = max_var_count/var_sum\n",
    "    tick_props = np.arange(0,max_prop+0.05, 0.05)\n",
    "    tick_names = ['{:0.2f}'.format(v) for v in tick_props]\n",
    "    \n",
    "    return [tick_props, tick_names, var_sum]"
   ]
  },
  {
   "cell_type": "code",
   "execution_count": 225,
   "id": "c9b2d216",
   "metadata": {
    "scrolled": false
   },
   "outputs": [
    {
     "data": {
      "image/png": "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\n",
      "text/plain": [
       "<Figure size 576x576 with 1 Axes>"
      ]
     },
     "metadata": {
      "needs_background": "light"
     },
     "output_type": "display_data"
    }
   ],
   "source": [
    "bins= [10,20,30,40,50,60,70,80,90]\n",
    "labels = ['10-20','21-30','31-40','41-50','51-60', '61-70','71-80', '81-90']\n",
    "df_train_eda['age_group'] = pd.cut(df_train_eda['age'], bins=bins, labels=labels, right=False)\n",
    "plt.figure(figsize=(8,8))\n",
    "\n",
    "tick_props, tick_names, var_sum = prop_(df_train_eda.age_group)\n",
    "sns.countplot(data=df_train_eda, x ='age_group', color=base_color);\n",
    "plt.ylabel('Proportion', fontsize=13)\n",
    "plt.xlabel('Age Bracket', fontsize=13)\n",
    "plt.yticks(tick_props * var_sum, tick_names, fontsize=11);\n",
    "plt.xticks(fontsize=12);"
   ]
  },
  {
   "cell_type": "markdown",
   "id": "ecf33155",
   "metadata": {},
   "source": [
    "The 10-20 age bracket contains 18 to 20 year olds as 18 is the legal age of employment."
   ]
  },
  {
   "cell_type": "markdown",
   "id": "1cf1429f",
   "metadata": {},
   "source": [
    "### Distribution of applicant income "
   ]
  },
  {
   "cell_type": "code",
   "execution_count": 226,
   "id": "6cdc464f",
   "metadata": {
    "scrolled": false
   },
   "outputs": [
    {
     "data": {
      "image/png": "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\n",
      "text/plain": [
       "<Figure size 720x360 with 1 Axes>"
      ]
     },
     "metadata": {
      "needs_background": "light"
     },
     "output_type": "display_data"
    }
   ],
   "source": [
    "plt.figure(figsize=(10,5))\n",
    "plt.hist(df_train_eda.income, color = base_color, bins = 50);\n",
    "plt.yticks(fontsize=14)\n",
    "plt.xticks(fontsize=14)\n",
    "plt.xlabel('Income ($)', fontsize=12)\n",
    "plt.title('Distribution of Applicant Income', fontsize=20);"
   ]
  },
  {
   "cell_type": "markdown",
   "id": "f793ef2f",
   "metadata": {},
   "source": [
    "The distribution of applicant incomes is slightly skewed to the right suggesting that most applicants earn less 6000 per month.<br> The long tail of the histogram also suggests a few applicants earning far above the rest."
   ]
  },
  {
   "cell_type": "markdown",
   "id": "9e44bcef",
   "metadata": {},
   "source": [
    "### Distribution of amount_requested"
   ]
  },
  {
   "cell_type": "code",
   "execution_count": 227,
   "id": "53c1dfa8",
   "metadata": {
    "scrolled": false
   },
   "outputs": [
    {
     "data": {
      "image/png": "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\n",
      "text/plain": [
       "<Figure size 720x360 with 1 Axes>"
      ]
     },
     "metadata": {
      "needs_background": "light"
     },
     "output_type": "display_data"
    }
   ],
   "source": [
    "plt.figure(figsize=(10,5))\n",
    "plt.hist(df_train_eda.amount_requested, color = base_color, bins = 50);\n",
    "plt.yticks(fontsize=14)\n",
    "plt.xticks(fontsize=14)\n",
    "plt.xlabel('Amount requested($)', fontsize=12)\n",
    "plt.title('Distribution of Amount Requested', fontsize=20);"
   ]
  },
  {
   "cell_type": "markdown",
   "id": "c47c212f",
   "metadata": {},
   "source": [
    "As early stated, the distribution of amount requested is very imbalanced as it is very skewed to the right suggesting a lot amounts requested falling below 2000"
   ]
  },
  {
   "cell_type": "markdown",
   "id": "3dfd271e",
   "metadata": {},
   "source": [
    "### Distribution of risk_score"
   ]
  },
  {
   "cell_type": "code",
   "execution_count": 228,
   "id": "64889cff",
   "metadata": {
    "scrolled": true
   },
   "outputs": [
    {
     "data": {
      "image/png": "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\n",
      "text/plain": [
       "<Figure size 720x360 with 1 Axes>"
      ]
     },
     "metadata": {
      "needs_background": "light"
     },
     "output_type": "display_data"
    }
   ],
   "source": [
    "plt.figure(figsize=(10,5))\n",
    "plt.hist(df_train_eda.risk_score_n, color = base_color, bins = 50);\n",
    "plt.yticks(fontsize=14)\n",
    "plt.xticks(fontsize=14)\n",
    "plt.xlabel('Applicant risks score', fontsize=12)\n",
    "plt.title('Distribution of Risk Score', fontsize=20);"
   ]
  },
  {
   "cell_type": "markdown",
   "id": "716f5df0",
   "metadata": {},
   "source": [
    "### Number of applicants that signed electronically."
   ]
  },
  {
   "cell_type": "code",
   "execution_count": 229,
   "id": "6fbeaf93",
   "metadata": {},
   "outputs": [
    {
     "data": {
      "image/png": "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\n",
      "text/plain": [
       "<Figure size 432x360 with 1 Axes>"
      ]
     },
     "metadata": {
      "needs_background": "light"
     },
     "output_type": "display_data"
    }
   ],
   "source": [
    "plt.figure(figsize=[6,5])\n",
    "\n",
    "freq = df_train_eda['e_signed'].value_counts()\n",
    "gen_order = freq.index\n",
    "\n",
    "ax = sns.countplot(data = df_train_eda, x = 'e_signed', color=sns.color_palette()[0], order = gen_order)\n",
    "plt.xticks()\n",
    "plt.xlabel('E-signed Status', font_size=13)\n",
    "plt.title('How Many Applicants Signed Electronically?', fontsize=18);\n",
    "ax.bar_label(ax.containers[0], label_type='edge');"
   ]
  },
  {
   "cell_type": "markdown",
   "id": "dbe9197a",
   "metadata": {},
   "source": [
    "It can be inferred that most applicants have risk scores of 0.7 or less, making them less of a possible liability to the company and more eligible for loans."
   ]
  },
  {
   "cell_type": "markdown",
   "id": "5fa68c54",
   "metadata": {},
   "source": [
    "## Bivariate Exploration\n",
    "\n",
    "For this section, we are going to explore the relationships between the e_signed column and the numerical variables in the dataset."
   ]
  },
  {
   "cell_type": "code",
   "execution_count": 230,
   "id": "b9c9b0c5",
   "metadata": {},
   "outputs": [],
   "source": [
    "# creating a variable that contains all applicants that signed electronically\n",
    "yes_electronic = df_train_eda.query('e_signed == \"Yes\"')"
   ]
  },
  {
   "cell_type": "markdown",
   "id": "98e89b59",
   "metadata": {},
   "source": [
    "### Relationship between applicant age and e_signed column"
   ]
  },
  {
   "cell_type": "code",
   "execution_count": 231,
   "id": "8bffd756",
   "metadata": {},
   "outputs": [
    {
     "data": {
      "image/png": "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\n",
      "text/plain": [
       "<Figure size 576x576 with 1 Axes>"
      ]
     },
     "metadata": {
      "needs_background": "light"
     },
     "output_type": "display_data"
    }
   ],
   "source": [
    "plt.figure(figsize=[8,8])\n",
    "\n",
    "freq = yes_electronic['age_group'].value_counts()\n",
    "gen_order = freq.index\n",
    "\n",
    "ax = sns.countplot(data = yes_electronic, x = 'age_group', color=sns.color_palette()[0], order = gen_order)\n",
    "plt.xticks(fontsize=11)\n",
    "plt.xlabel('Age Groups', fontsize=12)\n",
    "plt.title('Age Groups of Applicants that Signed Electronically?', fontsize=20);\n",
    "ax.bar_label(ax.containers[0], label_type='edge');"
   ]
  },
  {
   "cell_type": "markdown",
   "id": "17562f9a",
   "metadata": {},
   "source": [
    "### Relationship between amount requested and e_signed column"
   ]
  },
  {
   "cell_type": "code",
   "execution_count": 232,
   "id": "24680ba8",
   "metadata": {},
   "outputs": [
    {
     "data": {
      "image/png": "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\n",
      "text/plain": [
       "<Figure size 576x576 with 1 Axes>"
      ]
     },
     "metadata": {
      "needs_background": "light"
     },
     "output_type": "display_data"
    }
   ],
   "source": [
    "bins = np.arange(0, yes_electronic['amount_requested'].max()+100, 100)\n",
    "\n",
    "plt.figure(figsize=[8, 8])\n",
    "plt.hist(data = yes_electronic, x = 'amount_requested', bins = bins)\n",
    "plt.xlabel('Amount Requested ($)', fontsize=12)\n",
    "plt.title('Distribution of Amount Requested Among Applicants that Signed Electronically', fontsize=20)\n",
    "plt.show()"
   ]
  },
  {
   "cell_type": "markdown",
   "id": "3e68549f",
   "metadata": {},
   "source": [
    "It can be seen from the above histogram that we have a multimodal distribution that is strongly skewed to the right. Furthermore, applicants that signed electronically are mainly those that requested for a loan of about \\\\$1500 or less. It can therefore be inferred that applicants requesting for higher amounts are less likely to sign electronically.\n"
   ]
  },
  {
   "cell_type": "markdown",
   "id": "17d2c2ac",
   "metadata": {},
   "source": [
    "### Relationship between applicant income and e_signed column"
   ]
  },
  {
   "cell_type": "code",
   "execution_count": 233,
   "id": "57d484b1",
   "metadata": {},
   "outputs": [
    {
     "data": {
      "image/png": "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\n",
      "text/plain": [
       "<Figure size 576x576 with 1 Axes>"
      ]
     },
     "metadata": {
      "needs_background": "light"
     },
     "output_type": "display_data"
    }
   ],
   "source": [
    "bins = np.arange(0, yes_electronic['income'].max()+250, 250)\n",
    "\n",
    "plt.figure(figsize=[8, 8])\n",
    "plt.hist(data = yes_electronic, x = 'income', bins = bins)\n",
    "plt.xlabel('Income ($)', fontsize = 12)\n",
    "plt.title('Distribution of Income Among Applicants that Signed Electronically', fontsize = 20)\n",
    "plt.show()"
   ]
  },
  {
   "cell_type": "markdown",
   "id": "f0eb5a40",
   "metadata": {},
   "source": [
    "We have a highly multimodal distribution that is also skewed to the right. Applicants that signed electronically are mainly those with an income of about \\\\$6000 or less. It can therefore be inferred that applicants with higher incomes are less likely to sign electronically."
   ]
  },
  {
   "cell_type": "markdown",
   "id": "bbf24967",
   "metadata": {},
   "source": [
    "### Relationship between risk_score and e_signed column"
   ]
  },
  {
   "cell_type": "code",
   "execution_count": 234,
   "id": "339b3851",
   "metadata": {
    "scrolled": false
   },
   "outputs": [
    {
     "data": {
      "image/png": "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\n",
      "text/plain": [
       "<Figure size 576x576 with 1 Axes>"
      ]
     },
     "metadata": {
      "needs_background": "light"
     },
     "output_type": "display_data"
    }
   ],
   "source": [
    "bins = np.arange(0, yes_electronic['risk_score_n'].max()+0.05, 0.05)\n",
    "\n",
    "plt.figure(figsize=[8, 8])\n",
    "plt.hist(data = yes_electronic, x = 'risk_score_n', bins = bins)\n",
    "plt.xlabel('Risk Score', fontsize=12)\n",
    "plt.title('Distribution of Risk Scores Among Applicants that Signed Electronically', fontsize=20)\n",
    "plt.show()\n"
   ]
  },
  {
   "cell_type": "markdown",
   "id": "5b7d2b0a",
   "metadata": {},
   "source": [
    "The histogram is slightly skewed to the left suggesting that most of the applicants that signed up electronically are high risk individuals."
   ]
  },
  {
   "cell_type": "markdown",
   "id": "ec99f78d",
   "metadata": {},
   "source": [
    "### How many home owners signed up electronically?"
   ]
  },
  {
   "cell_type": "code",
   "execution_count": 235,
   "id": "bce25884",
   "metadata": {},
   "outputs": [
    {
     "data": {
      "image/png": "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\n",
      "text/plain": [
       "<Figure size 576x576 with 1 Axes>"
      ]
     },
     "metadata": {
      "needs_background": "light"
     },
     "output_type": "display_data"
    }
   ],
   "source": [
    "plt.figure(figsize=[8,8])\n",
    "\n",
    "freq = yes_electronic['home_owner'].value_counts()\n",
    "gen_order = freq.index\n",
    "\n",
    "ax = sns.countplot(data = yes_electronic, x = 'home_owner', color=sns.color_palette()[0], order = gen_order)\n",
    "plt.xticks()\n",
    "plt.xlabel('Homeowner Status', fontsize=12)\n",
    "plt.title('How Many Applicants Were Homeowners?', fontsize=20);\n",
    "ax.bar_label(ax.containers[0], label_type='edge');"
   ]
  },
  {
   "cell_type": "markdown",
   "id": "f210198c",
   "metadata": {},
   "source": [
    "The bar chart shows that **4,059 (60%)** of all applicants who signed electronically were _not_ homeowners."
   ]
  },
  {
   "cell_type": "markdown",
   "id": "fad0cdf1",
   "metadata": {},
   "source": [
    "<a id='ml'></a>\n",
    "## <u> Machine Learning Model"
   ]
  },
  {
   "cell_type": "markdown",
   "id": "58ba6d54",
   "metadata": {},
   "source": [
    "For the machine learning model, not all changes made for EDA will be applied here."
   ]
  },
  {
   "cell_type": "code",
   "execution_count": null,
   "id": "28bc1e64",
   "metadata": {},
   "outputs": [],
   "source": [
    "df_train_copy = df_train.copy()"
   ]
  },
  {
   "cell_type": "code",
   "execution_count": null,
   "id": "8f6a788f",
   "metadata": {},
   "outputs": [],
   "source": [
    "df_train_copy.drop_duplicates('Entry_id', inplace=True)\n",
    "df_train_copy = df_train_copy.reset_index(drop=True)"
   ]
  },
  {
   "cell_type": "code",
   "execution_count": null,
   "id": "07e29e2f",
   "metadata": {},
   "outputs": [],
   "source": []
  },
  {
   "cell_type": "code",
   "execution_count": null,
   "id": "feb02da6",
   "metadata": {},
   "outputs": [],
   "source": []
  },
  {
   "cell_type": "code",
   "execution_count": null,
   "id": "69c3c041",
   "metadata": {},
   "outputs": [],
   "source": []
  },
  {
   "cell_type": "code",
   "execution_count": null,
   "id": "58a43db0",
   "metadata": {},
   "outputs": [],
   "source": []
  },
  {
   "cell_type": "code",
   "execution_count": null,
   "id": "b59e8ab1",
   "metadata": {},
   "outputs": [],
   "source": []
  },
  {
   "cell_type": "markdown",
   "id": "417c136b",
   "metadata": {},
   "source": [
    "<a id='conclusions'></a>\n",
    "## <u> Conclusion"
   ]
  },
  {
   "cell_type": "markdown",
   "id": "5e31bb93",
   "metadata": {},
   "source": [
    "After carrying out this exploratory data analysis, the following conclusions were made:<br>\n",
    "1. Most applicants fall within the age brackets of **41-50(3,575/28.58%)** and **31-40(3,499/27.97%)**\n",
    "2. **6,766/54.06%** of all applicants signed electronically.\n",
    "3. Applicants requesting for higher amounts (>\\\\$1500) are less likely to sign electronically.\n",
    "4. Applicants with higher incomes are less likely to sign electronically.\n",
    "5. **4,059 (60%)** of all applicants who signed electronically were _not_ homeowners."
   ]
  },
  {
   "cell_type": "markdown",
   "id": "cac42f39",
   "metadata": {},
   "source": [
    "<a id='references'></a>\n",
    "## <u> References"
   ]
  },
  {
   "cell_type": "markdown",
   "id": "a25c1511",
   "metadata": {},
   "source": [
    "- [stackoverflow](https://stackoverflow.com/)"
>>>>>>> Stashed changes
   ]
  },
  {
   "cell_type": "code",
   "execution_count": null,
   "id": "ea17d8ce",
   "metadata": {},
   "outputs": [],
   "source": []
  }
 ],
 "metadata": {
  "kernelspec": {
   "display_name": "Python 3 (ipykernel)",
   "language": "python",
   "name": "python3"
  },
  "language_info": {
   "codemirror_mode": {
    "name": "ipython",
    "version": 3
   },
   "file_extension": ".py",
   "mimetype": "text/x-python",
   "name": "python",
   "nbconvert_exporter": "python",
   "pygments_lexer": "ipython3",
   "version": "3.8.13"
  },
  "toc": {
   "base_numbering": 1,
   "nav_menu": {},
   "number_sections": true,
   "sideBar": true,
   "skip_h1_title": false,
   "title_cell": "Table of Contents",
   "title_sidebar": "Contents",
   "toc_cell": false,
   "toc_position": {},
   "toc_section_display": true,
   "toc_window_display": false
  }
 },
 "nbformat": 4,
 "nbformat_minor": 5
}
