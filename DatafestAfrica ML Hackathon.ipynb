{
 "cells": [
  {
   "cell_type": "markdown",
   "id": "41313177",
   "metadata": {},
   "source": [
    "## DatafestAfrica ML Hackathon"
   ]
  },
  {
   "cell_type": "code",
   "execution_count": 23,
   "id": "6c2f8cb2",
   "metadata": {},
   "outputs": [],
   "source": [
    "# Importing libraries\n",
    "import numpy as np\n",
    "import pandas as pd\n",
    "import matplotlib.pyplot as plt\n",
    "import seaborn as sns\n",
    "sns.set_theme(style = 'darkgrid')\n",
    "sns.set_context('paper')\n",
    "base_color = sns.color_palette()[0]\n",
    "\n",
    "%matplotlib inline"
   ]
  },
  {
   "cell_type": "markdown",
   "id": "535f1d76",
   "metadata": {},
   "source": [
    "## Table of Content( to be worked on later)\n",
    "Abstract\n",
    "\n",
    "wrangling\n",
    "\n",
    "eda"
   ]
  },
  {
   "cell_type": "markdown",
   "id": "c24c9596",
   "metadata": {},
   "source": [
    "## Abstract\n",
    " The aim of this project is to train a Machine Learning model to help a Financial Industry predict who is likely to complete an E-process application."
   ]
  },
  {
   "cell_type": "markdown",
   "id": "892d5c3f",
   "metadata": {},
   "source": [
    "## Preliminary  Wrangling"
   ]
  },
  {
   "cell_type": "code",
   "execution_count": 2,
   "id": "75126ed4",
   "metadata": {},
   "outputs": [],
   "source": [
    "# downloading the datasets programmatically (from Zion)\n",
    "test = pd.read_csv('test.csv')\n",
    "train = pd.read_csv('train.csv')"
   ]
  },
  {
   "cell_type": "markdown",
   "id": "1e83f024",
   "metadata": {},
   "source": [
    "We will be performing our wrangling on the train dataset."
   ]
  },
  {
   "cell_type": "markdown",
   "id": "f7f34b84",
   "metadata": {},
   "source": [
    "### Assessing"
   ]
  },
  {
   "cell_type": "code",
   "execution_count": 21,
   "id": "94bbdaed",
   "metadata": {
    "scrolled": false
   },
   "outputs": [
    {
     "name": "stdout",
     "output_type": "stream",
     "text": [
      "(12510, 21)\n",
      "****************************************\n",
      "<class 'pandas.core.frame.DataFrame'>\n",
      "Int64Index: 12510 entries, 0 to 12515\n",
      "Data columns (total 21 columns):\n",
      " #   Column                Non-Null Count  Dtype  \n",
      "---  ------                --------------  -----  \n",
      " 0   Entry_id              12510 non-null  int64  \n",
      " 1   age                   12510 non-null  int64  \n",
      " 2   pay_schedule          12510 non-null  object \n",
      " 3   home_owner            12510 non-null  int64  \n",
      " 4   income                12510 non-null  int64  \n",
      " 5   months_employed       12510 non-null  int64  \n",
      " 6   years_employed        12510 non-null  int64  \n",
      " 7   current_address_year  12510 non-null  int64  \n",
      " 8   personal_account_m    12510 non-null  int64  \n",
      " 9   personal_account_y    12510 non-null  int64  \n",
      " 10  has_debt              12510 non-null  int64  \n",
      " 11  amount_requested      12510 non-null  int64  \n",
      " 12  risk_score            12510 non-null  int64  \n",
      " 13  risk_score_2          12510 non-null  float64\n",
      " 14  risk_score_3          12510 non-null  float64\n",
      " 15  risk_score_4          12510 non-null  float64\n",
      " 16  risk_score_5          12510 non-null  float64\n",
      " 17  ext_quality_score     12510 non-null  float64\n",
      " 18  ext_quality_score_2   12510 non-null  float64\n",
      " 19  inquiries_last_month  12510 non-null  int64  \n",
      " 20  e_signed              12510 non-null  int64  \n",
      "dtypes: float64(6), int64(14), object(1)\n",
      "memory usage: 2.1+ MB\n",
      "None\n",
      "****************************************\n",
      "Entry_id                12510\n",
      "age                        72\n",
      "pay_schedule                4\n",
      "home_owner                  2\n",
      "income                   1939\n",
      "months_employed            12\n",
      "years_employed             17\n",
      "current_address_year       13\n",
      "personal_account_m         12\n",
      "personal_account_y         15\n",
      "has_debt                    2\n",
      "amount_requested           93\n",
      "risk_score               1370\n",
      "risk_score_2            12301\n",
      "risk_score_3             3547\n",
      "risk_score_4            12382\n",
      "risk_score_5            12334\n",
      "ext_quality_score       12302\n",
      "ext_quality_score_2     12306\n",
      "inquiries_last_month       30\n",
      "e_signed                    2\n",
      "dtype: int64\n"
     ]
    },
    {
     "data": {
      "text/html": [
       "<div>\n",
       "<style scoped>\n",
       "    .dataframe tbody tr th:only-of-type {\n",
       "        vertical-align: middle;\n",
       "    }\n",
       "\n",
       "    .dataframe tbody tr th {\n",
       "        vertical-align: top;\n",
       "    }\n",
       "\n",
       "    .dataframe thead th {\n",
       "        text-align: right;\n",
       "    }\n",
       "</style>\n",
       "<table border=\"1\" class=\"dataframe\">\n",
       "  <thead>\n",
       "    <tr style=\"text-align: right;\">\n",
       "      <th></th>\n",
       "      <th>Entry_id</th>\n",
       "      <th>age</th>\n",
       "      <th>pay_schedule</th>\n",
       "      <th>home_owner</th>\n",
       "      <th>income</th>\n",
       "      <th>months_employed</th>\n",
       "      <th>years_employed</th>\n",
       "      <th>current_address_year</th>\n",
       "      <th>personal_account_m</th>\n",
       "      <th>personal_account_y</th>\n",
       "      <th>...</th>\n",
       "      <th>amount_requested</th>\n",
       "      <th>risk_score</th>\n",
       "      <th>risk_score_2</th>\n",
       "      <th>risk_score_3</th>\n",
       "      <th>risk_score_4</th>\n",
       "      <th>risk_score_5</th>\n",
       "      <th>ext_quality_score</th>\n",
       "      <th>ext_quality_score_2</th>\n",
       "      <th>inquiries_last_month</th>\n",
       "      <th>e_signed</th>\n",
       "    </tr>\n",
       "  </thead>\n",
       "  <tbody>\n",
       "    <tr>\n",
       "      <th>5001</th>\n",
       "      <td>3778238</td>\n",
       "      <td>29</td>\n",
       "      <td>bi-weekly</td>\n",
       "      <td>0</td>\n",
       "      <td>2645</td>\n",
       "      <td>0</td>\n",
       "      <td>1</td>\n",
       "      <td>9</td>\n",
       "      <td>2</td>\n",
       "      <td>2</td>\n",
       "      <td>...</td>\n",
       "      <td>1450</td>\n",
       "      <td>83350</td>\n",
       "      <td>0.680555</td>\n",
       "      <td>0.818190</td>\n",
       "      <td>0.677120</td>\n",
       "      <td>0.539353</td>\n",
       "      <td>0.375255</td>\n",
       "      <td>0.375255</td>\n",
       "      <td>5</td>\n",
       "      <td>0</td>\n",
       "    </tr>\n",
       "    <tr>\n",
       "      <th>4159</th>\n",
       "      <td>6853166</td>\n",
       "      <td>47</td>\n",
       "      <td>semi-monthly</td>\n",
       "      <td>1</td>\n",
       "      <td>5045</td>\n",
       "      <td>0</td>\n",
       "      <td>2</td>\n",
       "      <td>2</td>\n",
       "      <td>2</td>\n",
       "      <td>4</td>\n",
       "      <td>...</td>\n",
       "      <td>400</td>\n",
       "      <td>62700</td>\n",
       "      <td>0.642289</td>\n",
       "      <td>0.873182</td>\n",
       "      <td>0.637733</td>\n",
       "      <td>0.784113</td>\n",
       "      <td>0.697765</td>\n",
       "      <td>0.697765</td>\n",
       "      <td>20</td>\n",
       "      <td>0</td>\n",
       "    </tr>\n",
       "    <tr>\n",
       "      <th>8479</th>\n",
       "      <td>5929632</td>\n",
       "      <td>71</td>\n",
       "      <td>bi-weekly</td>\n",
       "      <td>0</td>\n",
       "      <td>3135</td>\n",
       "      <td>0</td>\n",
       "      <td>4</td>\n",
       "      <td>2</td>\n",
       "      <td>2</td>\n",
       "      <td>4</td>\n",
       "      <td>...</td>\n",
       "      <td>1000</td>\n",
       "      <td>80550</td>\n",
       "      <td>0.697808</td>\n",
       "      <td>0.914864</td>\n",
       "      <td>0.583012</td>\n",
       "      <td>0.794052</td>\n",
       "      <td>0.559500</td>\n",
       "      <td>0.659500</td>\n",
       "      <td>3</td>\n",
       "      <td>0</td>\n",
       "    </tr>\n",
       "    <tr>\n",
       "      <th>5269</th>\n",
       "      <td>3187854</td>\n",
       "      <td>56</td>\n",
       "      <td>bi-weekly</td>\n",
       "      <td>1</td>\n",
       "      <td>2770</td>\n",
       "      <td>0</td>\n",
       "      <td>5</td>\n",
       "      <td>8</td>\n",
       "      <td>3</td>\n",
       "      <td>7</td>\n",
       "      <td>...</td>\n",
       "      <td>2000</td>\n",
       "      <td>83050</td>\n",
       "      <td>0.731713</td>\n",
       "      <td>0.967465</td>\n",
       "      <td>0.685093</td>\n",
       "      <td>0.763353</td>\n",
       "      <td>0.550480</td>\n",
       "      <td>0.850480</td>\n",
       "      <td>9</td>\n",
       "      <td>1</td>\n",
       "    </tr>\n",
       "    <tr>\n",
       "      <th>9306</th>\n",
       "      <td>8185922</td>\n",
       "      <td>68</td>\n",
       "      <td>monthly</td>\n",
       "      <td>0</td>\n",
       "      <td>1520</td>\n",
       "      <td>0</td>\n",
       "      <td>5</td>\n",
       "      <td>5</td>\n",
       "      <td>2</td>\n",
       "      <td>4</td>\n",
       "      <td>...</td>\n",
       "      <td>900</td>\n",
       "      <td>82650</td>\n",
       "      <td>0.738939</td>\n",
       "      <td>0.901205</td>\n",
       "      <td>0.388359</td>\n",
       "      <td>0.607976</td>\n",
       "      <td>0.614008</td>\n",
       "      <td>0.614008</td>\n",
       "      <td>4</td>\n",
       "      <td>0</td>\n",
       "    </tr>\n",
       "  </tbody>\n",
       "</table>\n",
       "<p>5 rows × 21 columns</p>\n",
       "</div>"
      ],
      "text/plain": [
       "      Entry_id  age  pay_schedule  home_owner  income  months_employed  \\\n",
       "5001   3778238   29     bi-weekly           0    2645                0   \n",
       "4159   6853166   47  semi-monthly           1    5045                0   \n",
       "8479   5929632   71     bi-weekly           0    3135                0   \n",
       "5269   3187854   56     bi-weekly           1    2770                0   \n",
       "9306   8185922   68       monthly           0    1520                0   \n",
       "\n",
       "      years_employed  current_address_year  personal_account_m  \\\n",
       "5001               1                     9                   2   \n",
       "4159               2                     2                   2   \n",
       "8479               4                     2                   2   \n",
       "5269               5                     8                   3   \n",
       "9306               5                     5                   2   \n",
       "\n",
       "      personal_account_y  ...  amount_requested  risk_score  risk_score_2  \\\n",
       "5001                   2  ...              1450       83350      0.680555   \n",
       "4159                   4  ...               400       62700      0.642289   \n",
       "8479                   4  ...              1000       80550      0.697808   \n",
       "5269                   7  ...              2000       83050      0.731713   \n",
       "9306                   4  ...               900       82650      0.738939   \n",
       "\n",
       "      risk_score_3  risk_score_4  risk_score_5  ext_quality_score  \\\n",
       "5001      0.818190      0.677120      0.539353           0.375255   \n",
       "4159      0.873182      0.637733      0.784113           0.697765   \n",
       "8479      0.914864      0.583012      0.794052           0.559500   \n",
       "5269      0.967465      0.685093      0.763353           0.550480   \n",
       "9306      0.901205      0.388359      0.607976           0.614008   \n",
       "\n",
       "      ext_quality_score_2  inquiries_last_month  e_signed  \n",
       "5001             0.375255                     5         0  \n",
       "4159             0.697765                    20         0  \n",
       "8479             0.659500                     3         0  \n",
       "5269             0.850480                     9         1  \n",
       "9306             0.614008                     4         0  \n",
       "\n",
       "[5 rows x 21 columns]"
      ]
     },
     "execution_count": 21,
     "metadata": {},
     "output_type": "execute_result"
    }
   ],
   "source": [
    "# creating a simple function to return basic information on the dataset\n",
    "def info(df):\n",
    "    print(df.shape),\n",
    "    print('*' *40),\n",
    "    print(df.info())\n",
    "    print('*' *40)\n",
    "    print(df.nunique())\n",
    "    \n",
    "info(train)\n",
    "train.sample(5)"
   ]
  },
  {
   "cell_type": "code",
   "execution_count": 6,
   "id": "aa266afd",
   "metadata": {},
   "outputs": [],
   "source": [
    "# creating a dataframe to house key numerical variables in the dataset \n",
    "num_vars = pd.DataFrame()\n",
    "num_vars['age'] = train['age']\n",
    "num_vars['income'] = train['income']\n",
    "num_vars['amount_requested'] = train['amount_requested']\n",
    "num_vars['risk_score'] = train['risk_score']"
   ]
  },
  {
   "cell_type": "code",
   "execution_count": 7,
   "id": "9274d49e",
   "metadata": {},
   "outputs": [
    {
     "data": {
      "text/html": [
       "<div>\n",
       "<style scoped>\n",
       "    .dataframe tbody tr th:only-of-type {\n",
       "        vertical-align: middle;\n",
       "    }\n",
       "\n",
       "    .dataframe tbody tr th {\n",
       "        vertical-align: top;\n",
       "    }\n",
       "\n",
       "    .dataframe thead th {\n",
       "        text-align: right;\n",
       "    }\n",
       "</style>\n",
       "<table border=\"1\" class=\"dataframe\">\n",
       "  <thead>\n",
       "    <tr style=\"text-align: right;\">\n",
       "      <th></th>\n",
       "      <th>age</th>\n",
       "      <th>income</th>\n",
       "      <th>amount_requested</th>\n",
       "      <th>risk_score</th>\n",
       "    </tr>\n",
       "  </thead>\n",
       "  <tbody>\n",
       "    <tr>\n",
       "      <th>count</th>\n",
       "      <td>12516.000000</td>\n",
       "      <td>12516.000000</td>\n",
       "      <td>12516.000000</td>\n",
       "      <td>12516.000000</td>\n",
       "    </tr>\n",
       "    <tr>\n",
       "      <th>mean</th>\n",
       "      <td>43.026766</td>\n",
       "      <td>3654.110658</td>\n",
       "      <td>950.251518</td>\n",
       "      <td>61133.401246</td>\n",
       "    </tr>\n",
       "    <tr>\n",
       "      <th>std</th>\n",
       "      <td>11.865891</td>\n",
       "      <td>1508.072163</td>\n",
       "      <td>706.915146</td>\n",
       "      <td>15396.809340</td>\n",
       "    </tr>\n",
       "    <tr>\n",
       "      <th>min</th>\n",
       "      <td>18.000000</td>\n",
       "      <td>905.000000</td>\n",
       "      <td>350.000000</td>\n",
       "      <td>2100.000000</td>\n",
       "    </tr>\n",
       "    <tr>\n",
       "      <th>25%</th>\n",
       "      <td>34.000000</td>\n",
       "      <td>2575.000000</td>\n",
       "      <td>600.000000</td>\n",
       "      <td>49450.000000</td>\n",
       "    </tr>\n",
       "    <tr>\n",
       "      <th>50%</th>\n",
       "      <td>42.000000</td>\n",
       "      <td>3255.000000</td>\n",
       "      <td>700.000000</td>\n",
       "      <td>61200.000000</td>\n",
       "    </tr>\n",
       "    <tr>\n",
       "      <th>75%</th>\n",
       "      <td>51.000000</td>\n",
       "      <td>4661.250000</td>\n",
       "      <td>1100.000000</td>\n",
       "      <td>72750.000000</td>\n",
       "    </tr>\n",
       "    <tr>\n",
       "      <th>max</th>\n",
       "      <td>96.000000</td>\n",
       "      <td>9985.000000</td>\n",
       "      <td>10200.000000</td>\n",
       "      <td>99750.000000</td>\n",
       "    </tr>\n",
       "  </tbody>\n",
       "</table>\n",
       "</div>"
      ],
      "text/plain": [
       "                age        income  amount_requested    risk_score\n",
       "count  12516.000000  12516.000000      12516.000000  12516.000000\n",
       "mean      43.026766   3654.110658        950.251518  61133.401246\n",
       "std       11.865891   1508.072163        706.915146  15396.809340\n",
       "min       18.000000    905.000000        350.000000   2100.000000\n",
       "25%       34.000000   2575.000000        600.000000  49450.000000\n",
       "50%       42.000000   3255.000000        700.000000  61200.000000\n",
       "75%       51.000000   4661.250000       1100.000000  72750.000000\n",
       "max       96.000000   9985.000000      10200.000000  99750.000000"
      ]
     },
     "execution_count": 7,
     "metadata": {},
     "output_type": "execute_result"
    }
   ],
   "source": [
    "# this returns summary statistics on key numerical variables in the dataset.\n",
    "num_vars.describe()"
   ]
  },
  {
   "cell_type": "code",
   "execution_count": 8,
   "id": "12d463d6",
   "metadata": {
    "scrolled": false
   },
   "outputs": [
    {
     "data": {
      "image/png": "[encoded data removed]",
      "text/plain": [
       "<Figure size 1440x576 with 4 Axes>"
      ]
     },
     "metadata": {
      "needs_background": "light"
     },
     "output_type": "display_data"
    }
   ],
   "source": [
    "# creating a simple visualization of these numerical variables\n",
    "num_vars.hist(figsize=(20, 8));"
   ]
  },
  {
   "cell_type": "code",
   "execution_count": 22,
   "id": "f8d6d9f1",
   "metadata": {},
   "outputs": [
    {
     "data": {
      "text/plain": [
       "43    402\n",
       "37    392\n",
       "42    388\n",
       "39    384\n",
       "34    382\n",
       "     ... \n",
       "86      2\n",
       "96      1\n",
       "83      1\n",
       "89      1\n",
       "87      1\n",
       "Name: age, Length: 72, dtype: int64"
      ]
     },
     "execution_count": 22,
     "metadata": {},
     "output_type": "execute_result"
    }
   ],
   "source": [
    "train.age.value_counts()"
   ]
  },
  {
   "cell_type": "markdown",
   "id": "92062f55",
   "metadata": {},
   "source": [
    "### Quick Observations\n",
    "\n",
    "- Most customers appear to be middle aged, as the mean age is 43 years.\n",
    "- "
   ]
  },
  {
   "cell_type": "code",
   "execution_count": 14,
   "id": "b4c21560",
   "metadata": {},
   "outputs": [
    {
     "data": {
      "text/plain": [
       "False    12510\n",
       "True         6\n",
       "Name: Entry_id, dtype: int64"
      ]
     },
     "execution_count": 14,
     "metadata": {},
     "output_type": "execute_result"
    }
   ],
   "source": [
    "# checking key columns for dulicate entries\n",
    "train.Entry_id.duplicated().value_counts()"
   ]
  },
  {
   "cell_type": "markdown",
   "id": "6a8ae5b5",
   "metadata": {},
   "source": [
    "### Issues\n",
    "\n",
    "- duplicate entries in the Entry_id column"
   ]
  },
  {
   "cell_type": "markdown",
   "id": "8e92af04",
   "metadata": {},
   "source": [
    "### Cleaning\n",
    "\n",
    "#### 1. Duplicate entries in the Entry_id column\n",
    "\n",
    "#### Define: The entry id column contains some duplicate entries that need to be dropped."
   ]
  },
  {
   "cell_type": "markdown",
   "id": "f86be9f4",
   "metadata": {},
   "source": [
    "#### Code "
   ]
  },
  {
   "cell_type": "code",
   "execution_count": 16,
   "id": "074aa6be",
   "metadata": {},
   "outputs": [
    {
     "data": {
      "text/plain": [
       "6"
      ]
     },
     "execution_count": 16,
     "metadata": {},
     "output_type": "execute_result"
    }
   ],
   "source": [
    "#test\n",
    "sum(train.Entry_id.duplicated())"
   ]
  },
  {
   "cell_type": "code",
   "execution_count": 17,
   "id": "9f1a6ee8",
   "metadata": {},
   "outputs": [],
   "source": [
    "train.drop_duplicates(subset= 'Entry_id', inplace = True)"
   ]
  },
  {
   "cell_type": "code",
   "execution_count": 18,
   "id": "3e2de237",
   "metadata": {},
   "outputs": [
    {
     "data": {
      "text/plain": [
       "0"
      ]
     },
     "execution_count": 18,
     "metadata": {},
     "output_type": "execute_result"
    }
   ],
   "source": [
    "# confirmation \n",
    "sum(train.Entry_id.duplicated())"
   ]
  },
  {
   "cell_type": "code",
   "execution_count": 25,
   "id": "52a8e7bc",
   "metadata": {},
   "outputs": [
    {
     "name": "stdout",
     "output_type": "stream",
     "text": [
      "<class 'pandas.core.frame.DataFrame'>\n",
      "Int64Index: 12510 entries, 0 to 12515\n",
      "Data columns (total 21 columns):\n",
      " #   Column                Non-Null Count  Dtype  \n",
      "---  ------                --------------  -----  \n",
      " 0   Entry_id              12510 non-null  int64  \n",
      " 1   age                   12510 non-null  int64  \n",
      " 2   pay_schedule          12510 non-null  object \n",
      " 3   home_owner            12510 non-null  int64  \n",
      " 4   income                12510 non-null  int64  \n",
      " 5   months_employed       12510 non-null  int64  \n",
      " 6   years_employed        12510 non-null  int64  \n",
      " 7   current_address_year  12510 non-null  int64  \n",
      " 8   personal_account_m    12510 non-null  int64  \n",
      " 9   personal_account_y    12510 non-null  int64  \n",
      " 10  has_debt              12510 non-null  int64  \n",
      " 11  amount_requested      12510 non-null  int64  \n",
      " 12  risk_score            12510 non-null  int64  \n",
      " 13  risk_score_2          12510 non-null  float64\n",
      " 14  risk_score_3          12510 non-null  float64\n",
      " 15  risk_score_4          12510 non-null  float64\n",
      " 16  risk_score_5          12510 non-null  float64\n",
      " 17  ext_quality_score     12510 non-null  float64\n",
      " 18  ext_quality_score_2   12510 non-null  float64\n",
      " 19  inquiries_last_month  12510 non-null  int64  \n",
      " 20  e_signed              12510 non-null  int64  \n",
      "dtypes: float64(6), int64(14), object(1)\n",
      "memory usage: 2.1+ MB\n"
     ]
    }
   ],
   "source": [
    "train.info()"
   ]
  },
  {
   "cell_type": "markdown",
   "id": "b544bc3b",
   "metadata": {},
   "source": [
    "### Structure of the dataset\n",
    "\n",
    "The train dataset intially contained 12,516 rows, and 21 columns. After assessing and cleaning the data, it now contains 12,510 rows and 21 columns."
   ]
  },
  {
   "cell_type": "markdown",
   "id": "308f6eaf",
   "metadata": {},
   "source": [
    "## <u>Exploratory Data Analysis."
   ]
  },
  {
   "cell_type": "markdown",
   "id": "b271cb08",
   "metadata": {},
   "source": [
    "In this section of the project, we are going to be exploring multiple variables from the train dataset."
   ]
  },
  {
   "cell_type": "markdown",
   "id": "3d22fbcb",
   "metadata": {},
   "source": [
    "## Univariate Exploration"
   ]
  },
  {
   "cell_type": "markdown",
   "id": "57df8243",
   "metadata": {},
   "source": [
    "### Distribution of ages in the dataset."
   ]
  },
  {
   "cell_type": "code",
   "execution_count": 28,
   "id": "c79511f6",
   "metadata": {},
   "outputs": [
    {
     "data": {
      "image/png": "[encoded data removed]",
      "text/plain": [
       "<Figure size 720x360 with 1 Axes>"
      ]
     },
     "metadata": {
      "needs_background": "light"
     },
     "output_type": "display_data"
    }
   ],
   "source": [
    "plt.figure(figsize=(10,5))\n",
    "plt.hist(train.age, color = base_color, bins = 20);\n",
    "plt.yticks(fontsize=14)\n",
    "plt.xticks(fontsize=14);"
   ]
  },
  {
   "cell_type": "markdown",
   "id": "01004be8",
   "metadata": {},
   "source": [
    "The age distribution is slightly skewed right "
   ]
  },
  {
   "cell_type": "code",
   "execution_count": null,
   "id": "dc8c3a1f",
   "metadata": {},
   "outputs": [],
   "source": []
  }
 ],
 "metadata": {
  "kernelspec": {
   "display_name": "Python 3 (ipykernel)",
   "language": "python",
   "name": "python3"
  },
  "language_info": {
   "codemirror_mode": {
    "name": "ipython",
    "version": 3
   },
   "file_extension": ".py",
   "mimetype": "text/x-python",
   "name": "python",
   "nbconvert_exporter": "python",
   "pygments_lexer": "ipython3",
   "version": "3.9.12"
  },
  "toc": {
   "base_numbering": 1,
   "nav_menu": {},
   "number_sections": true,
   "sideBar": true,
   "skip_h1_title": false,
   "title_cell": "Table of Contents",
   "title_sidebar": "Contents",
   "toc_cell": false,
   "toc_position": {},
   "toc_section_display": true,
   "toc_window_display": false
  }
 },
 "nbformat": 4,
 "nbformat_minor": 5
}
