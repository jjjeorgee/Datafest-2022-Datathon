{
 "cells": [
  {
   "cell_type": "markdown",
   "id": "41313177",
   "metadata": {},
   "source": [
    "# DatafestAfrica ML Hackathon Submission for Analytical Minds\n",
    "\n",
    "### Zion Oluwasegun, Neto Anyama and Oladimeji Olaniyan\n",
    "\n"
   ]
  },
  {
   "cell_type": "code",
   "execution_count": 1,
   "id": "6c2f8cb2",
   "metadata": {},
   "outputs": [
    {
     "ename": "ModuleNotFoundError",
     "evalue": "No module named 'lightgbm'",
     "output_type": "error",
     "traceback": [
      "\u001b[1;31m---------------------------------------------------------------------------\u001b[0m",
      "\u001b[1;31mModuleNotFoundError\u001b[0m                       Traceback (most recent call last)",
      "Input \u001b[1;32mIn [1]\u001b[0m, in \u001b[0;36m<cell line: 9>\u001b[1;34m()\u001b[0m\n\u001b[0;32m      7\u001b[0m \u001b[38;5;28;01mfrom\u001b[39;00m \u001b[38;5;21;01msklearn\u001b[39;00m\u001b[38;5;21;01m.\u001b[39;00m\u001b[38;5;21;01mmetrics\u001b[39;00m \u001b[38;5;28;01mimport\u001b[39;00m roc_auc_score\n\u001b[0;32m      8\u001b[0m \u001b[38;5;28;01mfrom\u001b[39;00m \u001b[38;5;21;01msklearn\u001b[39;00m\u001b[38;5;21;01m.\u001b[39;00m\u001b[38;5;21;01mmodel_selection\u001b[39;00m \u001b[38;5;28;01mimport\u001b[39;00m KFold\n\u001b[1;32m----> 9\u001b[0m \u001b[38;5;28;01mimport\u001b[39;00m \u001b[38;5;21;01mlightgbm\u001b[39;00m\n\u001b[0;32m     10\u001b[0m \u001b[38;5;28;01mfrom\u001b[39;00m \u001b[38;5;21;01mlightgbm\u001b[39;00m \u001b[38;5;28;01mimport\u001b[39;00m LGBMClassifier\n\u001b[0;32m     12\u001b[0m \u001b[38;5;66;03m# set plot style\u001b[39;00m\n",
      "\u001b[1;31mModuleNotFoundError\u001b[0m: No module named 'lightgbm'"
     ]
    }
   ],
   "source": [
    "# Importing libraries\n",
    "import numpy as np\n",
    "import pandas as pd\n",
    "import matplotlib.pyplot as plt\n",
    "import seaborn as sns\n",
    "\n",
    "from sklearn.metrics import roc_auc_score\n",
    "from sklearn.model_selection import KFold\n",
    "import lightgbm\n",
    "from lightgbm import LGBMClassifier\n",
    "\n",
    "# set plot style\n",
    "sns.set_theme(style = 'darkgrid')\n",
    "sns.set_context('paper')\n",
    "base_color = sns.color_palette()[0]\n",
    "\n",
    "%matplotlib inline\n",
    "\n",
    "# To suppress all warnings\n",
    "import warnings\n",
    "warnings.filterwarnings('ignore')"
   ]
  },
  {
   "cell_type": "markdown",
   "id": "63da3ea2",
   "metadata": {},
   "source": [
    "## Table of Contents\n",
    "\n",
    "<ul>\n",
    "<li><a href=\"#intro\">Abstract</a></li>\n",
    "<li><a href=\"#wrangling\">Data Wrangling</a></li>\n",
    "<li><a href=\"#eda\">Exploratory Data Analysis</a></li>\n",
    "<li><a href=\"#ml\">Machine Learning Model</a></li>\n",
    "<li><a href=\"#conclusions\">Conclusions</a></li>\n",
    "<li><a href=\"#references\">References</a></li>\n",
    "</ul>\n"
   ]
  },
  {
   "cell_type": "markdown",
   "id": "c24c9596",
   "metadata": {},
   "source": [
    "<a id='intro'></a>\n",
    "\n",
    "## Abstract\n",
    " The aim of this project is to train a Machine Learning model to help a Financial Industry predict who is likely to complete an E-process application."
   ]
  },
  {
   "cell_type": "markdown",
   "id": "892d5c3f",
   "metadata": {},
   "source": [
    "<a id='wrangling'></a>\n",
    "## Data  Wrangling\n",
    "\n",
    "To gather the data used, we downloaded the train and test datasets from [here](https://www.kaggle.com/competitions/datafestafrica-ml-hackathon/data). Afterwards, we read the csv file using pandas.\n"
   ]
  },
  {
   "cell_type": "code",
   "execution_count": 2,
   "id": "75126ed4",
   "metadata": {},
   "outputs": [],
   "source": [
    "# downloading the datasets by importing them using the pandas library\n",
    "df_test = pd.read_csv('test.csv')\n",
    "df_train = pd.read_csv('train.csv')"
   ]
  },
  {
   "cell_type": "markdown",
   "id": "951e5ae3",
   "metadata": {},
   "source": [
    "We will be performing our wrangling on the train dataset."
   ]
  },
  {
   "cell_type": "markdown",
   "id": "f7f34b84",
   "metadata": {},
   "source": [
    "### Assessing"
   ]
  },
  {
   "cell_type": "markdown",
   "id": "4c2d30f8",
   "metadata": {},
   "source": [
    " We employed visual and programmatic assessments to review the dataset and check for errors. Programmatic methods we used were: `info`, `duplicated`, `head`, `describe`."
   ]
  },
  {
   "cell_type": "code",
   "execution_count": 3,
   "id": "94bbdaed",
   "metadata": {
    "scrolled": false
   },
   "outputs": [
    {
     "name": "stdout",
     "output_type": "stream",
     "text": [
      "(12516, 21)\n",
      "****************************************\n",
      "<class 'pandas.core.frame.DataFrame'>\n",
      "RangeIndex: 12516 entries, 0 to 12515\n",
      "Data columns (total 21 columns):\n",
      " #   Column                Non-Null Count  Dtype  \n",
      "---  ------                --------------  -----  \n",
      " 0   Entry_id              12516 non-null  int64  \n",
      " 1   age                   12516 non-null  int64  \n",
      " 2   pay_schedule          12516 non-null  object \n",
      " 3   home_owner            12516 non-null  int64  \n",
      " 4   income                12516 non-null  int64  \n",
      " 5   months_employed       12516 non-null  int64  \n",
      " 6   years_employed        12516 non-null  int64  \n",
      " 7   current_address_year  12516 non-null  int64  \n",
      " 8   personal_account_m    12516 non-null  int64  \n",
      " 9   personal_account_y    12516 non-null  int64  \n",
      " 10  has_debt              12516 non-null  int64  \n",
      " 11  amount_requested      12516 non-null  int64  \n",
      " 12  risk_score            12516 non-null  int64  \n",
      " 13  risk_score_2          12516 non-null  float64\n",
      " 14  risk_score_3          12516 non-null  float64\n",
      " 15  risk_score_4          12516 non-null  float64\n",
      " 16  risk_score_5          12516 non-null  float64\n",
      " 17  ext_quality_score     12516 non-null  float64\n",
      " 18  ext_quality_score_2   12516 non-null  float64\n",
      " 19  inquiries_last_month  12516 non-null  int64  \n",
      " 20  e_signed              12516 non-null  int64  \n",
      "dtypes: float64(6), int64(14), object(1)\n",
      "memory usage: 2.0+ MB\n",
      "None\n",
      "****************************************\n",
      "Entry_id                12510\n",
      "age                        72\n",
      "pay_schedule                4\n",
      "home_owner                  2\n",
      "income                   1940\n",
      "months_employed            12\n",
      "years_employed             17\n",
      "current_address_year       13\n",
      "personal_account_m         12\n",
      "personal_account_y         15\n",
      "has_debt                    2\n",
      "amount_requested           93\n",
      "risk_score               1370\n",
      "risk_score_2            12307\n",
      "risk_score_3             3548\n",
      "risk_score_4            12388\n",
      "risk_score_5            12339\n",
      "ext_quality_score       12308\n",
      "ext_quality_score_2     12312\n",
      "inquiries_last_month       30\n",
      "e_signed                    2\n",
      "dtype: int64\n"
     ]
    },
    {
     "data": {
      "text/html": [
       "<div>\n",
       "<style scoped>\n",
       "    .dataframe tbody tr th:only-of-type {\n",
       "        vertical-align: middle;\n",
       "    }\n",
       "\n",
       "    .dataframe tbody tr th {\n",
       "        vertical-align: top;\n",
       "    }\n",
       "\n",
       "    .dataframe thead th {\n",
       "        text-align: right;\n",
       "    }\n",
       "</style>\n",
       "<table border=\"1\" class=\"dataframe\">\n",
       "  <thead>\n",
       "    <tr style=\"text-align: right;\">\n",
       "      <th></th>\n",
       "      <th>Entry_id</th>\n",
       "      <th>age</th>\n",
       "      <th>pay_schedule</th>\n",
       "      <th>home_owner</th>\n",
       "      <th>income</th>\n",
       "      <th>months_employed</th>\n",
       "      <th>years_employed</th>\n",
       "      <th>current_address_year</th>\n",
       "      <th>personal_account_m</th>\n",
       "      <th>personal_account_y</th>\n",
       "      <th>...</th>\n",
       "      <th>amount_requested</th>\n",
       "      <th>risk_score</th>\n",
       "      <th>risk_score_2</th>\n",
       "      <th>risk_score_3</th>\n",
       "      <th>risk_score_4</th>\n",
       "      <th>risk_score_5</th>\n",
       "      <th>ext_quality_score</th>\n",
       "      <th>ext_quality_score_2</th>\n",
       "      <th>inquiries_last_month</th>\n",
       "      <th>e_signed</th>\n",
       "    </tr>\n",
       "  </thead>\n",
       "  <tbody>\n",
       "    <tr>\n",
       "      <th>4590</th>\n",
       "      <td>8823195</td>\n",
       "      <td>47</td>\n",
       "      <td>bi-weekly</td>\n",
       "      <td>0</td>\n",
       "      <td>4070</td>\n",
       "      <td>1</td>\n",
       "      <td>5</td>\n",
       "      <td>6</td>\n",
       "      <td>3</td>\n",
       "      <td>6</td>\n",
       "      <td>...</td>\n",
       "      <td>500</td>\n",
       "      <td>41750</td>\n",
       "      <td>0.307236</td>\n",
       "      <td>0.876526</td>\n",
       "      <td>0.504627</td>\n",
       "      <td>0.751078</td>\n",
       "      <td>0.586747</td>\n",
       "      <td>0.486747</td>\n",
       "      <td>9</td>\n",
       "      <td>0</td>\n",
       "    </tr>\n",
       "    <tr>\n",
       "      <th>11246</th>\n",
       "      <td>5305529</td>\n",
       "      <td>42</td>\n",
       "      <td>monthly</td>\n",
       "      <td>1</td>\n",
       "      <td>6730</td>\n",
       "      <td>0</td>\n",
       "      <td>6</td>\n",
       "      <td>10</td>\n",
       "      <td>6</td>\n",
       "      <td>4</td>\n",
       "      <td>...</td>\n",
       "      <td>2800</td>\n",
       "      <td>80750</td>\n",
       "      <td>0.824238</td>\n",
       "      <td>0.904673</td>\n",
       "      <td>0.640654</td>\n",
       "      <td>0.700397</td>\n",
       "      <td>0.669352</td>\n",
       "      <td>0.769352</td>\n",
       "      <td>3</td>\n",
       "      <td>1</td>\n",
       "    </tr>\n",
       "    <tr>\n",
       "      <th>9755</th>\n",
       "      <td>4735178</td>\n",
       "      <td>56</td>\n",
       "      <td>monthly</td>\n",
       "      <td>0</td>\n",
       "      <td>3090</td>\n",
       "      <td>0</td>\n",
       "      <td>6</td>\n",
       "      <td>2</td>\n",
       "      <td>3</td>\n",
       "      <td>2</td>\n",
       "      <td>...</td>\n",
       "      <td>600</td>\n",
       "      <td>74850</td>\n",
       "      <td>0.730770</td>\n",
       "      <td>0.793466</td>\n",
       "      <td>0.549562</td>\n",
       "      <td>0.604988</td>\n",
       "      <td>0.475722</td>\n",
       "      <td>0.575722</td>\n",
       "      <td>2</td>\n",
       "      <td>1</td>\n",
       "    </tr>\n",
       "    <tr>\n",
       "      <th>10621</th>\n",
       "      <td>6407288</td>\n",
       "      <td>63</td>\n",
       "      <td>bi-weekly</td>\n",
       "      <td>0</td>\n",
       "      <td>1625</td>\n",
       "      <td>1</td>\n",
       "      <td>2</td>\n",
       "      <td>2</td>\n",
       "      <td>5</td>\n",
       "      <td>1</td>\n",
       "      <td>...</td>\n",
       "      <td>400</td>\n",
       "      <td>50400</td>\n",
       "      <td>0.705397</td>\n",
       "      <td>0.881128</td>\n",
       "      <td>0.673633</td>\n",
       "      <td>0.875690</td>\n",
       "      <td>0.832834</td>\n",
       "      <td>0.732834</td>\n",
       "      <td>5</td>\n",
       "      <td>0</td>\n",
       "    </tr>\n",
       "    <tr>\n",
       "      <th>3789</th>\n",
       "      <td>4759038</td>\n",
       "      <td>45</td>\n",
       "      <td>bi-weekly</td>\n",
       "      <td>0</td>\n",
       "      <td>2665</td>\n",
       "      <td>0</td>\n",
       "      <td>3</td>\n",
       "      <td>5</td>\n",
       "      <td>4</td>\n",
       "      <td>7</td>\n",
       "      <td>...</td>\n",
       "      <td>1150</td>\n",
       "      <td>61100</td>\n",
       "      <td>0.610519</td>\n",
       "      <td>0.910172</td>\n",
       "      <td>0.475336</td>\n",
       "      <td>0.602884</td>\n",
       "      <td>0.625195</td>\n",
       "      <td>0.525195</td>\n",
       "      <td>10</td>\n",
       "      <td>0</td>\n",
       "    </tr>\n",
       "  </tbody>\n",
       "</table>\n",
       "<p>5 rows × 21 columns</p>\n",
       "</div>"
      ],
      "text/plain": [
       "       Entry_id  age pay_schedule  home_owner  income  months_employed  \\\n",
       "4590    8823195   47    bi-weekly           0    4070                1   \n",
       "11246   5305529   42      monthly           1    6730                0   \n",
       "9755    4735178   56      monthly           0    3090                0   \n",
       "10621   6407288   63    bi-weekly           0    1625                1   \n",
       "3789    4759038   45    bi-weekly           0    2665                0   \n",
       "\n",
       "       years_employed  current_address_year  personal_account_m  \\\n",
       "4590                5                     6                   3   \n",
       "11246               6                    10                   6   \n",
       "9755                6                     2                   3   \n",
       "10621               2                     2                   5   \n",
       "3789                3                     5                   4   \n",
       "\n",
       "       personal_account_y  ...  amount_requested  risk_score  risk_score_2  \\\n",
       "4590                    6  ...               500       41750      0.307236   \n",
       "11246                   4  ...              2800       80750      0.824238   \n",
       "9755                    2  ...               600       74850      0.730770   \n",
       "10621                   1  ...               400       50400      0.705397   \n",
       "3789                    7  ...              1150       61100      0.610519   \n",
       "\n",
       "       risk_score_3  risk_score_4  risk_score_5  ext_quality_score  \\\n",
       "4590       0.876526      0.504627      0.751078           0.586747   \n",
       "11246      0.904673      0.640654      0.700397           0.669352   \n",
       "9755       0.793466      0.549562      0.604988           0.475722   \n",
       "10621      0.881128      0.673633      0.875690           0.832834   \n",
       "3789       0.910172      0.475336      0.602884           0.625195   \n",
       "\n",
       "       ext_quality_score_2  inquiries_last_month  e_signed  \n",
       "4590              0.486747                     9         0  \n",
       "11246             0.769352                     3         1  \n",
       "9755              0.575722                     2         1  \n",
       "10621             0.732834                     5         0  \n",
       "3789              0.525195                    10         0  \n",
       "\n",
       "[5 rows x 21 columns]"
      ]
     },
     "execution_count": 3,
     "metadata": {},
     "output_type": "execute_result"
    }
   ],
   "source": [
    "# creating a simple function to return basic information on the dataset\n",
    "def info(df):\n",
    "    print(df.shape),\n",
    "    print('*' *40),\n",
    "    print(df.info())\n",
    "    print('*' *40)\n",
    "    print(df.nunique())\n",
    "    \n",
    "info(df_train)\n",
    "df_train.sample(5)"
   ]
  },
  {
   "cell_type": "code",
   "execution_count": 4,
   "id": "481d2902",
   "metadata": {},
   "outputs": [],
   "source": [
    "# creating a dataframe to house key numerical variables in the dataset \n",
    "num_vars = pd.DataFrame()\n",
    "num_vars['age'] = df_train['age']\n",
    "num_vars['income'] = df_train['income']\n",
    "num_vars['amount_requested'] = df_train['amount_requested']\n",
    "num_vars['risk_score'] = df_train['risk_score']"
   ]
  },
  {
   "cell_type": "code",
   "execution_count": 5,
   "id": "9274d49e",
   "metadata": {},
   "outputs": [
    {
     "data": {
      "text/html": [
       "<div>\n",
       "<style scoped>\n",
       "    .dataframe tbody tr th:only-of-type {\n",
       "        vertical-align: middle;\n",
       "    }\n",
       "\n",
       "    .dataframe tbody tr th {\n",
       "        vertical-align: top;\n",
       "    }\n",
       "\n",
       "    .dataframe thead th {\n",
       "        text-align: right;\n",
       "    }\n",
       "</style>\n",
       "<table border=\"1\" class=\"dataframe\">\n",
       "  <thead>\n",
       "    <tr style=\"text-align: right;\">\n",
       "      <th></th>\n",
       "      <th>age</th>\n",
       "      <th>income</th>\n",
       "      <th>amount_requested</th>\n",
       "      <th>risk_score</th>\n",
       "    </tr>\n",
       "  </thead>\n",
       "  <tbody>\n",
       "    <tr>\n",
       "      <th>count</th>\n",
       "      <td>12516.000000</td>\n",
       "      <td>12516.000000</td>\n",
       "      <td>12516.000000</td>\n",
       "      <td>12516.000000</td>\n",
       "    </tr>\n",
       "    <tr>\n",
       "      <th>mean</th>\n",
       "      <td>43.026766</td>\n",
       "      <td>3654.110658</td>\n",
       "      <td>950.251518</td>\n",
       "      <td>61133.401246</td>\n",
       "    </tr>\n",
       "    <tr>\n",
       "      <th>std</th>\n",
       "      <td>11.865891</td>\n",
       "      <td>1508.072163</td>\n",
       "      <td>706.915146</td>\n",
       "      <td>15396.809340</td>\n",
       "    </tr>\n",
       "    <tr>\n",
       "      <th>min</th>\n",
       "      <td>18.000000</td>\n",
       "      <td>905.000000</td>\n",
       "      <td>350.000000</td>\n",
       "      <td>2100.000000</td>\n",
       "    </tr>\n",
       "    <tr>\n",
       "      <th>25%</th>\n",
       "      <td>34.000000</td>\n",
       "      <td>2575.000000</td>\n",
       "      <td>600.000000</td>\n",
       "      <td>49450.000000</td>\n",
       "    </tr>\n",
       "    <tr>\n",
       "      <th>50%</th>\n",
       "      <td>42.000000</td>\n",
       "      <td>3255.000000</td>\n",
       "      <td>700.000000</td>\n",
       "      <td>61200.000000</td>\n",
       "    </tr>\n",
       "    <tr>\n",
       "      <th>75%</th>\n",
       "      <td>51.000000</td>\n",
       "      <td>4661.250000</td>\n",
       "      <td>1100.000000</td>\n",
       "      <td>72750.000000</td>\n",
       "    </tr>\n",
       "    <tr>\n",
       "      <th>max</th>\n",
       "      <td>96.000000</td>\n",
       "      <td>9985.000000</td>\n",
       "      <td>10200.000000</td>\n",
       "      <td>99750.000000</td>\n",
       "    </tr>\n",
       "  </tbody>\n",
       "</table>\n",
       "</div>"
      ],
      "text/plain": [
       "                age        income  amount_requested    risk_score\n",
       "count  12516.000000  12516.000000      12516.000000  12516.000000\n",
       "mean      43.026766   3654.110658        950.251518  61133.401246\n",
       "std       11.865891   1508.072163        706.915146  15396.809340\n",
       "min       18.000000    905.000000        350.000000   2100.000000\n",
       "25%       34.000000   2575.000000        600.000000  49450.000000\n",
       "50%       42.000000   3255.000000        700.000000  61200.000000\n",
       "75%       51.000000   4661.250000       1100.000000  72750.000000\n",
       "max       96.000000   9985.000000      10200.000000  99750.000000"
      ]
     },
     "execution_count": 5,
     "metadata": {},
     "output_type": "execute_result"
    }
   ],
   "source": [
    "# this returns summary statistics on key numerical variables in the dataset.\n",
    "num_vars.describe()"
   ]
  },
  {
   "cell_type": "code",
   "execution_count": 6,
   "id": "12d463d6",
   "metadata": {
    "scrolled": false
   },
   "outputs": [
    {
     "data": {
      "image/png": "[encoded data removed]",
      "text/plain": [
       "<Figure size 1440x576 with 4 Axes>"
      ]
     },
     "metadata": {
      "needs_background": "light"
     },
     "output_type": "display_data"
    }
   ],
   "source": [
    "# creating a simple visualization of these numerical variables\n",
    "num_vars.hist(figsize=(20, 8));"
   ]
  },
  {
   "cell_type": "markdown",
   "id": "340926f4",
   "metadata": {},
   "source": [
    "### Quick Observations\n",
    "\n",
    "- Most customers appear to be middle aged, as the mean age is 43 years.\n",
    "- The distribution of income is slightly skewed to the right and has a long tail, suggesting potential ouliers.\n",
    "- There is some imbalance in the distribution of amount_requested.\n",
    "- The risk_score is slightly skewed to the left"
   ]
  },
  {
   "cell_type": "code",
   "execution_count": 7,
   "id": "ca2f5bf3",
   "metadata": {},
   "outputs": [
    {
     "data": {
      "text/plain": [
       "False    12510\n",
       "True         6\n",
       "Name: Entry_id, dtype: int64"
      ]
     },
     "execution_count": 7,
     "metadata": {},
     "output_type": "execute_result"
    }
   ],
   "source": [
    "# checking key columns for dulicate entries\n",
    "df_train.Entry_id.duplicated().value_counts()"
   ]
  },
  {
   "cell_type": "markdown",
   "id": "6ffa99b7",
   "metadata": {},
   "source": [
    "### Issues\n",
    "\n",
    "1. Duplicate entries in the `Entry_id` column\n",
    "2. The `months_employed` and `years_employed` columns should be merged into one.\n",
    "3. The `personal_account_m` and `personal_account_y` columns should be merged into one.\n",
    "4. The datatype of the `entry_id` column needed to be changed to object.\n",
    "5. In `home_owner`, `has_debt`, and `e_signed` columns, we needed to replace 0 and 1 with no and yes respectively.\n",
    "6. risk_score column should be a float and not an integer."
   ]
  },
  {
   "cell_type": "markdown",
   "id": "9b7ab0a2",
   "metadata": {},
   "source": [
    "### Cleaning\n",
    "\n",
    "Before we commence cleaning, it is best to create a copy of the dataset upon which the cleaning will be done."
   ]
  },
  {
   "cell_type": "code",
   "execution_count": 8,
   "id": "a7363ee5",
   "metadata": {},
   "outputs": [],
   "source": [
    "df_train_eda = df_train.copy()"
   ]
  },
  {
   "cell_type": "markdown",
   "id": "d5f4e358",
   "metadata": {},
   "source": [
    "#### Issue 1:\n",
    "Duplicate entries in the Entry_id column\n",
    "\n",
    "#### Define: \n",
    "The entry id column contains some duplicate entries that need to be dropped."
   ]
  },
  {
   "cell_type": "markdown",
   "id": "5b3f9203",
   "metadata": {},
   "source": [
    "#### Code "
   ]
  },
  {
   "cell_type": "code",
   "execution_count": 9,
   "id": "6a41eeb6",
   "metadata": {},
   "outputs": [
    {
     "data": {
      "text/plain": [
       "6"
      ]
     },
     "execution_count": 9,
     "metadata": {},
     "output_type": "execute_result"
    }
   ],
   "source": [
    "#test\n",
    "sum(df_train_eda.Entry_id.duplicated())"
   ]
  },
  {
   "cell_type": "code",
   "execution_count": 10,
   "id": "e3b642db",
   "metadata": {},
   "outputs": [],
   "source": [
    "df_train_eda.drop_duplicates(subset= 'Entry_id', inplace = True)"
   ]
  },
  {
   "cell_type": "code",
   "execution_count": 11,
   "id": "96b4082c",
   "metadata": {},
   "outputs": [
    {
     "data": {
      "text/plain": [
       "0"
      ]
     },
     "execution_count": 11,
     "metadata": {},
     "output_type": "execute_result"
    }
   ],
   "source": [
    "# confirmation \n",
    "sum(df_train_eda.Entry_id.duplicated())"
   ]
  },
  {
   "cell_type": "markdown",
   "id": "41b6ebcf",
   "metadata": {},
   "source": [
    "#### Issue 2: \n",
    "The months_employed and years_employed columns should be merged into one column.\n",
    "\n",
    "#### Define:\n",
    "The months_employed and years_employed columns should be merged to make it easier to work with them. This column will be represented in months"
   ]
  },
  {
   "cell_type": "markdown",
   "id": "98d0f89c",
   "metadata": {},
   "source": [
    "#### Code"
   ]
  },
  {
   "cell_type": "code",
   "execution_count": 12,
   "id": "66586fb7",
   "metadata": {},
   "outputs": [
    {
     "data": {
      "text/html": [
       "<div>\n",
       "<style scoped>\n",
       "    .dataframe tbody tr th:only-of-type {\n",
       "        vertical-align: middle;\n",
       "    }\n",
       "\n",
       "    .dataframe tbody tr th {\n",
       "        vertical-align: top;\n",
       "    }\n",
       "\n",
       "    .dataframe thead th {\n",
       "        text-align: right;\n",
       "    }\n",
       "</style>\n",
       "<table border=\"1\" class=\"dataframe\">\n",
       "  <thead>\n",
       "    <tr style=\"text-align: right;\">\n",
       "      <th></th>\n",
       "      <th>Entry_id</th>\n",
       "      <th>age</th>\n",
       "      <th>pay_schedule</th>\n",
       "      <th>home_owner</th>\n",
       "      <th>income</th>\n",
       "      <th>months_employed</th>\n",
       "      <th>years_employed</th>\n",
       "      <th>current_address_year</th>\n",
       "      <th>personal_account_m</th>\n",
       "      <th>personal_account_y</th>\n",
       "      <th>...</th>\n",
       "      <th>amount_requested</th>\n",
       "      <th>risk_score</th>\n",
       "      <th>risk_score_2</th>\n",
       "      <th>risk_score_3</th>\n",
       "      <th>risk_score_4</th>\n",
       "      <th>risk_score_5</th>\n",
       "      <th>ext_quality_score</th>\n",
       "      <th>ext_quality_score_2</th>\n",
       "      <th>inquiries_last_month</th>\n",
       "      <th>e_signed</th>\n",
       "    </tr>\n",
       "  </thead>\n",
       "  <tbody>\n",
       "    <tr>\n",
       "      <th>4928</th>\n",
       "      <td>2865882</td>\n",
       "      <td>19</td>\n",
       "      <td>weekly</td>\n",
       "      <td>0</td>\n",
       "      <td>3245</td>\n",
       "      <td>0</td>\n",
       "      <td>4</td>\n",
       "      <td>3</td>\n",
       "      <td>1</td>\n",
       "      <td>5</td>\n",
       "      <td>...</td>\n",
       "      <td>1000</td>\n",
       "      <td>36300</td>\n",
       "      <td>0.727911</td>\n",
       "      <td>0.950653</td>\n",
       "      <td>0.588519</td>\n",
       "      <td>0.917357</td>\n",
       "      <td>0.748769</td>\n",
       "      <td>0.548769</td>\n",
       "      <td>7</td>\n",
       "      <td>0</td>\n",
       "    </tr>\n",
       "    <tr>\n",
       "      <th>237</th>\n",
       "      <td>2778619</td>\n",
       "      <td>39</td>\n",
       "      <td>weekly</td>\n",
       "      <td>0</td>\n",
       "      <td>1660</td>\n",
       "      <td>9</td>\n",
       "      <td>4</td>\n",
       "      <td>2</td>\n",
       "      <td>4</td>\n",
       "      <td>3</td>\n",
       "      <td>...</td>\n",
       "      <td>500</td>\n",
       "      <td>34650</td>\n",
       "      <td>0.541355</td>\n",
       "      <td>0.884461</td>\n",
       "      <td>0.674737</td>\n",
       "      <td>0.793233</td>\n",
       "      <td>0.500755</td>\n",
       "      <td>0.800755</td>\n",
       "      <td>10</td>\n",
       "      <td>1</td>\n",
       "    </tr>\n",
       "    <tr>\n",
       "      <th>1247</th>\n",
       "      <td>7807172</td>\n",
       "      <td>42</td>\n",
       "      <td>bi-weekly</td>\n",
       "      <td>1</td>\n",
       "      <td>2579</td>\n",
       "      <td>4</td>\n",
       "      <td>4</td>\n",
       "      <td>1</td>\n",
       "      <td>1</td>\n",
       "      <td>4</td>\n",
       "      <td>...</td>\n",
       "      <td>900</td>\n",
       "      <td>50250</td>\n",
       "      <td>0.550836</td>\n",
       "      <td>0.868693</td>\n",
       "      <td>0.403718</td>\n",
       "      <td>0.663956</td>\n",
       "      <td>0.469954</td>\n",
       "      <td>0.469954</td>\n",
       "      <td>6</td>\n",
       "      <td>0</td>\n",
       "    </tr>\n",
       "  </tbody>\n",
       "</table>\n",
       "<p>3 rows × 21 columns</p>\n",
       "</div>"
      ],
      "text/plain": [
       "      Entry_id  age pay_schedule  home_owner  income  months_employed  \\\n",
       "4928   2865882   19       weekly           0    3245                0   \n",
       "237    2778619   39       weekly           0    1660                9   \n",
       "1247   7807172   42    bi-weekly           1    2579                4   \n",
       "\n",
       "      years_employed  current_address_year  personal_account_m  \\\n",
       "4928               4                     3                   1   \n",
       "237                4                     2                   4   \n",
       "1247               4                     1                   1   \n",
       "\n",
       "      personal_account_y  ...  amount_requested  risk_score  risk_score_2  \\\n",
       "4928                   5  ...              1000       36300      0.727911   \n",
       "237                    3  ...               500       34650      0.541355   \n",
       "1247                   4  ...               900       50250      0.550836   \n",
       "\n",
       "      risk_score_3  risk_score_4  risk_score_5  ext_quality_score  \\\n",
       "4928      0.950653      0.588519      0.917357           0.748769   \n",
       "237       0.884461      0.674737      0.793233           0.500755   \n",
       "1247      0.868693      0.403718      0.663956           0.469954   \n",
       "\n",
       "      ext_quality_score_2  inquiries_last_month  e_signed  \n",
       "4928             0.548769                     7         0  \n",
       "237              0.800755                    10         1  \n",
       "1247             0.469954                     6         0  \n",
       "\n",
       "[3 rows x 21 columns]"
      ]
     },
     "execution_count": 12,
     "metadata": {},
     "output_type": "execute_result"
    }
   ],
   "source": [
    "# test\n",
    "df_train_eda.sample(3)"
   ]
  },
  {
   "cell_type": "code",
   "execution_count": 13,
   "id": "21fc89ac",
   "metadata": {},
   "outputs": [],
   "source": [
    "df_train_eda['total_months_employed'] = (df_train_eda['years_employed']*12) + df_train_eda['months_employed']"
   ]
  },
  {
   "cell_type": "code",
   "execution_count": 14,
   "id": "72822b9e",
   "metadata": {
    "scrolled": false
   },
   "outputs": [
    {
     "data": {
      "text/html": [
       "<div>\n",
       "<style scoped>\n",
       "    .dataframe tbody tr th:only-of-type {\n",
       "        vertical-align: middle;\n",
       "    }\n",
       "\n",
       "    .dataframe tbody tr th {\n",
       "        vertical-align: top;\n",
       "    }\n",
       "\n",
       "    .dataframe thead th {\n",
       "        text-align: right;\n",
       "    }\n",
       "</style>\n",
       "<table border=\"1\" class=\"dataframe\">\n",
       "  <thead>\n",
       "    <tr style=\"text-align: right;\">\n",
       "      <th></th>\n",
       "      <th>Entry_id</th>\n",
       "      <th>age</th>\n",
       "      <th>pay_schedule</th>\n",
       "      <th>home_owner</th>\n",
       "      <th>income</th>\n",
       "      <th>months_employed</th>\n",
       "      <th>years_employed</th>\n",
       "      <th>current_address_year</th>\n",
       "      <th>personal_account_m</th>\n",
       "      <th>personal_account_y</th>\n",
       "      <th>...</th>\n",
       "      <th>risk_score</th>\n",
       "      <th>risk_score_2</th>\n",
       "      <th>risk_score_3</th>\n",
       "      <th>risk_score_4</th>\n",
       "      <th>risk_score_5</th>\n",
       "      <th>ext_quality_score</th>\n",
       "      <th>ext_quality_score_2</th>\n",
       "      <th>inquiries_last_month</th>\n",
       "      <th>e_signed</th>\n",
       "      <th>total_months_employed</th>\n",
       "    </tr>\n",
       "  </thead>\n",
       "  <tbody>\n",
       "    <tr>\n",
       "      <th>12515</th>\n",
       "      <td>1498559</td>\n",
       "      <td>29</td>\n",
       "      <td>weekly</td>\n",
       "      <td>1</td>\n",
       "      <td>2665</td>\n",
       "      <td>0</td>\n",
       "      <td>4</td>\n",
       "      <td>10</td>\n",
       "      <td>4</td>\n",
       "      <td>1</td>\n",
       "      <td>...</td>\n",
       "      <td>64950</td>\n",
       "      <td>0.720889</td>\n",
       "      <td>0.874372</td>\n",
       "      <td>0.505565</td>\n",
       "      <td>0.631619</td>\n",
       "      <td>0.846163</td>\n",
       "      <td>0.846163</td>\n",
       "      <td>4</td>\n",
       "      <td>1</td>\n",
       "      <td>48</td>\n",
       "    </tr>\n",
       "    <tr>\n",
       "      <th>11620</th>\n",
       "      <td>5950792</td>\n",
       "      <td>47</td>\n",
       "      <td>bi-weekly</td>\n",
       "      <td>0</td>\n",
       "      <td>3060</td>\n",
       "      <td>5</td>\n",
       "      <td>1</td>\n",
       "      <td>1</td>\n",
       "      <td>2</td>\n",
       "      <td>4</td>\n",
       "      <td>...</td>\n",
       "      <td>77200</td>\n",
       "      <td>0.601427</td>\n",
       "      <td>0.860859</td>\n",
       "      <td>0.660260</td>\n",
       "      <td>0.613357</td>\n",
       "      <td>0.706565</td>\n",
       "      <td>0.506565</td>\n",
       "      <td>7</td>\n",
       "      <td>0</td>\n",
       "      <td>17</td>\n",
       "    </tr>\n",
       "    <tr>\n",
       "      <th>471</th>\n",
       "      <td>5483512</td>\n",
       "      <td>56</td>\n",
       "      <td>weekly</td>\n",
       "      <td>1</td>\n",
       "      <td>5000</td>\n",
       "      <td>0</td>\n",
       "      <td>3</td>\n",
       "      <td>1</td>\n",
       "      <td>6</td>\n",
       "      <td>2</td>\n",
       "      <td>...</td>\n",
       "      <td>58950</td>\n",
       "      <td>0.773954</td>\n",
       "      <td>0.877693</td>\n",
       "      <td>0.644469</td>\n",
       "      <td>0.847034</td>\n",
       "      <td>0.606736</td>\n",
       "      <td>0.406736</td>\n",
       "      <td>4</td>\n",
       "      <td>0</td>\n",
       "      <td>36</td>\n",
       "    </tr>\n",
       "  </tbody>\n",
       "</table>\n",
       "<p>3 rows × 22 columns</p>\n",
       "</div>"
      ],
      "text/plain": [
       "       Entry_id  age pay_schedule  home_owner  income  months_employed  \\\n",
       "12515   1498559   29       weekly           1    2665                0   \n",
       "11620   5950792   47    bi-weekly           0    3060                5   \n",
       "471     5483512   56       weekly           1    5000                0   \n",
       "\n",
       "       years_employed  current_address_year  personal_account_m  \\\n",
       "12515               4                    10                   4   \n",
       "11620               1                     1                   2   \n",
       "471                 3                     1                   6   \n",
       "\n",
       "       personal_account_y  ...  risk_score  risk_score_2  risk_score_3  \\\n",
       "12515                   1  ...       64950      0.720889      0.874372   \n",
       "11620                   4  ...       77200      0.601427      0.860859   \n",
       "471                     2  ...       58950      0.773954      0.877693   \n",
       "\n",
       "       risk_score_4  risk_score_5  ext_quality_score  ext_quality_score_2  \\\n",
       "12515      0.505565      0.631619           0.846163             0.846163   \n",
       "11620      0.660260      0.613357           0.706565             0.506565   \n",
       "471        0.644469      0.847034           0.606736             0.406736   \n",
       "\n",
       "       inquiries_last_month  e_signed  total_months_employed  \n",
       "12515                     4         1                     48  \n",
       "11620                     7         0                     17  \n",
       "471                       4         0                     36  \n",
       "\n",
       "[3 rows x 22 columns]"
      ]
     },
     "execution_count": 14,
     "metadata": {},
     "output_type": "execute_result"
    }
   ],
   "source": [
    "# confirmation\n",
    "df_train_eda.sample(3)"
   ]
  },
  {
   "cell_type": "markdown",
   "id": "b0f93c2f",
   "metadata": {},
   "source": [
    "#### Issue 3: \n",
    "The personal_account_m and personal_account_y columns should be merged into one.\n",
    "\n",
    "\n",
    "#### Define:\n",
    "The personal_account_m and personal_account_y columns should be merged to make it easier to work with them. This column will be represented in months"
   ]
  },
  {
   "cell_type": "markdown",
   "id": "8debf0d9",
   "metadata": {},
   "source": [
    "#### Code"
   ]
  },
  {
   "cell_type": "code",
   "execution_count": 15,
   "id": "631af6b8",
   "metadata": {},
   "outputs": [
    {
     "data": {
      "text/html": [
       "<div>\n",
       "<style scoped>\n",
       "    .dataframe tbody tr th:only-of-type {\n",
       "        vertical-align: middle;\n",
       "    }\n",
       "\n",
       "    .dataframe tbody tr th {\n",
       "        vertical-align: top;\n",
       "    }\n",
       "\n",
       "    .dataframe thead th {\n",
       "        text-align: right;\n",
       "    }\n",
       "</style>\n",
       "<table border=\"1\" class=\"dataframe\">\n",
       "  <thead>\n",
       "    <tr style=\"text-align: right;\">\n",
       "      <th></th>\n",
       "      <th>Entry_id</th>\n",
       "      <th>age</th>\n",
       "      <th>pay_schedule</th>\n",
       "      <th>home_owner</th>\n",
       "      <th>income</th>\n",
       "      <th>months_employed</th>\n",
       "      <th>years_employed</th>\n",
       "      <th>current_address_year</th>\n",
       "      <th>personal_account_m</th>\n",
       "      <th>personal_account_y</th>\n",
       "      <th>...</th>\n",
       "      <th>risk_score</th>\n",
       "      <th>risk_score_2</th>\n",
       "      <th>risk_score_3</th>\n",
       "      <th>risk_score_4</th>\n",
       "      <th>risk_score_5</th>\n",
       "      <th>ext_quality_score</th>\n",
       "      <th>ext_quality_score_2</th>\n",
       "      <th>inquiries_last_month</th>\n",
       "      <th>e_signed</th>\n",
       "      <th>total_months_employed</th>\n",
       "    </tr>\n",
       "  </thead>\n",
       "  <tbody>\n",
       "    <tr>\n",
       "      <th>5496</th>\n",
       "      <td>4366560</td>\n",
       "      <td>41</td>\n",
       "      <td>bi-weekly</td>\n",
       "      <td>0</td>\n",
       "      <td>2170</td>\n",
       "      <td>0</td>\n",
       "      <td>6</td>\n",
       "      <td>2</td>\n",
       "      <td>3</td>\n",
       "      <td>2</td>\n",
       "      <td>...</td>\n",
       "      <td>34350</td>\n",
       "      <td>0.617172</td>\n",
       "      <td>0.864316</td>\n",
       "      <td>0.505323</td>\n",
       "      <td>0.656251</td>\n",
       "      <td>0.722883</td>\n",
       "      <td>0.622883</td>\n",
       "      <td>10</td>\n",
       "      <td>1</td>\n",
       "      <td>72</td>\n",
       "    </tr>\n",
       "    <tr>\n",
       "      <th>11865</th>\n",
       "      <td>1806499</td>\n",
       "      <td>35</td>\n",
       "      <td>bi-weekly</td>\n",
       "      <td>1</td>\n",
       "      <td>1925</td>\n",
       "      <td>0</td>\n",
       "      <td>3</td>\n",
       "      <td>1</td>\n",
       "      <td>5</td>\n",
       "      <td>2</td>\n",
       "      <td>...</td>\n",
       "      <td>79800</td>\n",
       "      <td>0.642523</td>\n",
       "      <td>0.859714</td>\n",
       "      <td>0.653797</td>\n",
       "      <td>0.782189</td>\n",
       "      <td>0.761382</td>\n",
       "      <td>0.461382</td>\n",
       "      <td>5</td>\n",
       "      <td>0</td>\n",
       "      <td>36</td>\n",
       "    </tr>\n",
       "    <tr>\n",
       "      <th>6425</th>\n",
       "      <td>9123155</td>\n",
       "      <td>42</td>\n",
       "      <td>semi-monthly</td>\n",
       "      <td>1</td>\n",
       "      <td>2045</td>\n",
       "      <td>0</td>\n",
       "      <td>3</td>\n",
       "      <td>1</td>\n",
       "      <td>4</td>\n",
       "      <td>2</td>\n",
       "      <td>...</td>\n",
       "      <td>71050</td>\n",
       "      <td>0.808053</td>\n",
       "      <td>0.921395</td>\n",
       "      <td>0.662679</td>\n",
       "      <td>0.896744</td>\n",
       "      <td>0.713696</td>\n",
       "      <td>0.613696</td>\n",
       "      <td>5</td>\n",
       "      <td>1</td>\n",
       "      <td>36</td>\n",
       "    </tr>\n",
       "  </tbody>\n",
       "</table>\n",
       "<p>3 rows × 22 columns</p>\n",
       "</div>"
      ],
      "text/plain": [
       "       Entry_id  age  pay_schedule  home_owner  income  months_employed  \\\n",
       "5496    4366560   41     bi-weekly           0    2170                0   \n",
       "11865   1806499   35     bi-weekly           1    1925                0   \n",
       "6425    9123155   42  semi-monthly           1    2045                0   \n",
       "\n",
       "       years_employed  current_address_year  personal_account_m  \\\n",
       "5496                6                     2                   3   \n",
       "11865               3                     1                   5   \n",
       "6425                3                     1                   4   \n",
       "\n",
       "       personal_account_y  ...  risk_score  risk_score_2  risk_score_3  \\\n",
       "5496                    2  ...       34350      0.617172      0.864316   \n",
       "11865                   2  ...       79800      0.642523      0.859714   \n",
       "6425                    2  ...       71050      0.808053      0.921395   \n",
       "\n",
       "       risk_score_4  risk_score_5  ext_quality_score  ext_quality_score_2  \\\n",
       "5496       0.505323      0.656251           0.722883             0.622883   \n",
       "11865      0.653797      0.782189           0.761382             0.461382   \n",
       "6425       0.662679      0.896744           0.713696             0.613696   \n",
       "\n",
       "       inquiries_last_month  e_signed  total_months_employed  \n",
       "5496                     10         1                     72  \n",
       "11865                     5         0                     36  \n",
       "6425                      5         1                     36  \n",
       "\n",
       "[3 rows x 22 columns]"
      ]
     },
     "execution_count": 15,
     "metadata": {},
     "output_type": "execute_result"
    }
   ],
   "source": [
    "# test\n",
    "df_train_eda.sample(3)"
   ]
  },
  {
   "cell_type": "code",
   "execution_count": 16,
   "id": "c3562b84",
   "metadata": {},
   "outputs": [],
   "source": [
    "df_train_eda['personal_account_duration'] = (df_train_eda['personal_account_y']*12) + df_train_eda['personal_account_m']"
   ]
  },
  {
   "cell_type": "code",
   "execution_count": 17,
   "id": "c0964946",
   "metadata": {
    "scrolled": true
   },
   "outputs": [
    {
     "data": {
      "text/html": [
       "<div>\n",
       "<style scoped>\n",
       "    .dataframe tbody tr th:only-of-type {\n",
       "        vertical-align: middle;\n",
       "    }\n",
       "\n",
       "    .dataframe tbody tr th {\n",
       "        vertical-align: top;\n",
       "    }\n",
       "\n",
       "    .dataframe thead th {\n",
       "        text-align: right;\n",
       "    }\n",
       "</style>\n",
       "<table border=\"1\" class=\"dataframe\">\n",
       "  <thead>\n",
       "    <tr style=\"text-align: right;\">\n",
       "      <th></th>\n",
       "      <th>Entry_id</th>\n",
       "      <th>age</th>\n",
       "      <th>pay_schedule</th>\n",
       "      <th>home_owner</th>\n",
       "      <th>income</th>\n",
       "      <th>months_employed</th>\n",
       "      <th>years_employed</th>\n",
       "      <th>current_address_year</th>\n",
       "      <th>personal_account_m</th>\n",
       "      <th>personal_account_y</th>\n",
       "      <th>...</th>\n",
       "      <th>risk_score_2</th>\n",
       "      <th>risk_score_3</th>\n",
       "      <th>risk_score_4</th>\n",
       "      <th>risk_score_5</th>\n",
       "      <th>ext_quality_score</th>\n",
       "      <th>ext_quality_score_2</th>\n",
       "      <th>inquiries_last_month</th>\n",
       "      <th>e_signed</th>\n",
       "      <th>total_months_employed</th>\n",
       "      <th>personal_account_duration</th>\n",
       "    </tr>\n",
       "  </thead>\n",
       "  <tbody>\n",
       "    <tr>\n",
       "      <th>6013</th>\n",
       "      <td>3167513</td>\n",
       "      <td>52</td>\n",
       "      <td>weekly</td>\n",
       "      <td>1</td>\n",
       "      <td>3165</td>\n",
       "      <td>7</td>\n",
       "      <td>1</td>\n",
       "      <td>2</td>\n",
       "      <td>7</td>\n",
       "      <td>4</td>\n",
       "      <td>...</td>\n",
       "      <td>0.664219</td>\n",
       "      <td>0.910240</td>\n",
       "      <td>0.666370</td>\n",
       "      <td>0.848403</td>\n",
       "      <td>0.406619</td>\n",
       "      <td>0.506619</td>\n",
       "      <td>10</td>\n",
       "      <td>1</td>\n",
       "      <td>19</td>\n",
       "      <td>55</td>\n",
       "    </tr>\n",
       "    <tr>\n",
       "      <th>12481</th>\n",
       "      <td>7997931</td>\n",
       "      <td>65</td>\n",
       "      <td>semi-monthly</td>\n",
       "      <td>0</td>\n",
       "      <td>4615</td>\n",
       "      <td>0</td>\n",
       "      <td>3</td>\n",
       "      <td>1</td>\n",
       "      <td>4</td>\n",
       "      <td>1</td>\n",
       "      <td>...</td>\n",
       "      <td>0.750322</td>\n",
       "      <td>0.903517</td>\n",
       "      <td>0.597211</td>\n",
       "      <td>0.608444</td>\n",
       "      <td>0.698397</td>\n",
       "      <td>0.698397</td>\n",
       "      <td>8</td>\n",
       "      <td>0</td>\n",
       "      <td>36</td>\n",
       "      <td>16</td>\n",
       "    </tr>\n",
       "    <tr>\n",
       "      <th>7668</th>\n",
       "      <td>1930975</td>\n",
       "      <td>54</td>\n",
       "      <td>bi-weekly</td>\n",
       "      <td>1</td>\n",
       "      <td>3005</td>\n",
       "      <td>0</td>\n",
       "      <td>2</td>\n",
       "      <td>3</td>\n",
       "      <td>7</td>\n",
       "      <td>3</td>\n",
       "      <td>...</td>\n",
       "      <td>0.706942</td>\n",
       "      <td>0.890061</td>\n",
       "      <td>0.553328</td>\n",
       "      <td>0.660309</td>\n",
       "      <td>0.629831</td>\n",
       "      <td>0.629831</td>\n",
       "      <td>11</td>\n",
       "      <td>0</td>\n",
       "      <td>24</td>\n",
       "      <td>43</td>\n",
       "    </tr>\n",
       "  </tbody>\n",
       "</table>\n",
       "<p>3 rows × 23 columns</p>\n",
       "</div>"
      ],
      "text/plain": [
       "       Entry_id  age  pay_schedule  home_owner  income  months_employed  \\\n",
       "6013    3167513   52        weekly           1    3165                7   \n",
       "12481   7997931   65  semi-monthly           0    4615                0   \n",
       "7668    1930975   54     bi-weekly           1    3005                0   \n",
       "\n",
       "       years_employed  current_address_year  personal_account_m  \\\n",
       "6013                1                     2                   7   \n",
       "12481               3                     1                   4   \n",
       "7668                2                     3                   7   \n",
       "\n",
       "       personal_account_y  ...  risk_score_2  risk_score_3  risk_score_4  \\\n",
       "6013                    4  ...      0.664219      0.910240      0.666370   \n",
       "12481                   1  ...      0.750322      0.903517      0.597211   \n",
       "7668                    3  ...      0.706942      0.890061      0.553328   \n",
       "\n",
       "       risk_score_5  ext_quality_score  ext_quality_score_2  \\\n",
       "6013       0.848403           0.406619             0.506619   \n",
       "12481      0.608444           0.698397             0.698397   \n",
       "7668       0.660309           0.629831             0.629831   \n",
       "\n",
       "       inquiries_last_month  e_signed  total_months_employed  \\\n",
       "6013                     10         1                     19   \n",
       "12481                     8         0                     36   \n",
       "7668                     11         0                     24   \n",
       "\n",
       "       personal_account_duration  \n",
       "6013                          55  \n",
       "12481                         16  \n",
       "7668                          43  \n",
       "\n",
       "[3 rows x 23 columns]"
      ]
     },
     "execution_count": 17,
     "metadata": {},
     "output_type": "execute_result"
    }
   ],
   "source": [
    "# confirmation\n",
    "df_train_eda.sample(3)"
   ]
  },
  {
   "cell_type": "markdown",
   "id": "bcce1dd1",
   "metadata": {},
   "source": [
    "#### Issue 4:\n",
    "The datatype of the `entry_id` column needed to be changed to object.\n",
    "\n",
    "#### Define:\n",
    "Changing the datatype of entry_id from integer to string."
   ]
  },
  {
   "cell_type": "markdown",
   "id": "5c03bdc8",
   "metadata": {},
   "source": [
    "#### Code"
   ]
  },
  {
   "cell_type": "code",
   "execution_count": 18,
   "id": "fc3d479b",
   "metadata": {},
   "outputs": [
    {
     "name": "stdout",
     "output_type": "stream",
     "text": [
      "<class 'pandas.core.series.Series'>\n",
      "Int64Index: 12510 entries, 0 to 12515\n",
      "Series name: Entry_id\n",
      "Non-Null Count  Dtype\n",
      "--------------  -----\n",
      "12510 non-null  int64\n",
      "dtypes: int64(1)\n",
      "memory usage: 195.5 KB\n"
     ]
    }
   ],
   "source": [
    "#test\n",
    "df_train_eda.Entry_id.info()"
   ]
  },
  {
   "cell_type": "code",
   "execution_count": 19,
   "id": "bacfe05a",
   "metadata": {},
   "outputs": [],
   "source": [
    "df_train_eda = df_train_eda.astype({'Entry_id':'object'})"
   ]
  },
  {
   "cell_type": "code",
   "execution_count": 20,
   "id": "a6e7df7b",
   "metadata": {},
   "outputs": [
    {
     "name": "stdout",
     "output_type": "stream",
     "text": [
      "<class 'pandas.core.series.Series'>\n",
      "Int64Index: 12510 entries, 0 to 12515\n",
      "Series name: Entry_id\n",
      "Non-Null Count  Dtype \n",
      "--------------  ----- \n",
      "12510 non-null  object\n",
      "dtypes: object(1)\n",
      "memory usage: 195.5+ KB\n"
     ]
    }
   ],
   "source": [
    "#confirmation\n",
    "df_train_eda.Entry_id.info()"
   ]
  },
  {
   "cell_type": "markdown",
   "id": "dd5ee5e3",
   "metadata": {},
   "source": [
    "#### Issue 5:\n",
    "In `home_owner`, `has_debt`, and `e_signed` columns, we needed to replace 0 and 1 with yes and no respectively.\n",
    "\n",
    "#### Define:\n",
    "Replacing 0 and 1 in these 2 columns with yes or no"
   ]
  },
  {
   "cell_type": "markdown",
   "id": "610878fa",
   "metadata": {},
   "source": [
    "#### Code"
   ]
  },
  {
   "cell_type": "code",
   "execution_count": 21,
   "id": "fc7042c7",
   "metadata": {},
   "outputs": [
    {
     "data": {
      "text/html": [
       "<div>\n",
       "<style scoped>\n",
       "    .dataframe tbody tr th:only-of-type {\n",
       "        vertical-align: middle;\n",
       "    }\n",
       "\n",
       "    .dataframe tbody tr th {\n",
       "        vertical-align: top;\n",
       "    }\n",
       "\n",
       "    .dataframe thead th {\n",
       "        text-align: right;\n",
       "    }\n",
       "</style>\n",
       "<table border=\"1\" class=\"dataframe\">\n",
       "  <thead>\n",
       "    <tr style=\"text-align: right;\">\n",
       "      <th></th>\n",
       "      <th>Entry_id</th>\n",
       "      <th>age</th>\n",
       "      <th>pay_schedule</th>\n",
       "      <th>home_owner</th>\n",
       "      <th>income</th>\n",
       "      <th>months_employed</th>\n",
       "      <th>years_employed</th>\n",
       "      <th>current_address_year</th>\n",
       "      <th>personal_account_m</th>\n",
       "      <th>personal_account_y</th>\n",
       "      <th>...</th>\n",
       "      <th>risk_score_2</th>\n",
       "      <th>risk_score_3</th>\n",
       "      <th>risk_score_4</th>\n",
       "      <th>risk_score_5</th>\n",
       "      <th>ext_quality_score</th>\n",
       "      <th>ext_quality_score_2</th>\n",
       "      <th>inquiries_last_month</th>\n",
       "      <th>e_signed</th>\n",
       "      <th>total_months_employed</th>\n",
       "      <th>personal_account_duration</th>\n",
       "    </tr>\n",
       "  </thead>\n",
       "  <tbody>\n",
       "    <tr>\n",
       "      <th>6203</th>\n",
       "      <td>2324856</td>\n",
       "      <td>51</td>\n",
       "      <td>weekly</td>\n",
       "      <td>0</td>\n",
       "      <td>2610</td>\n",
       "      <td>5</td>\n",
       "      <td>3</td>\n",
       "      <td>2</td>\n",
       "      <td>7</td>\n",
       "      <td>2</td>\n",
       "      <td>...</td>\n",
       "      <td>0.603768</td>\n",
       "      <td>0.819290</td>\n",
       "      <td>0.773481</td>\n",
       "      <td>0.791970</td>\n",
       "      <td>0.696943</td>\n",
       "      <td>0.496943</td>\n",
       "      <td>13</td>\n",
       "      <td>0</td>\n",
       "      <td>41</td>\n",
       "      <td>31</td>\n",
       "    </tr>\n",
       "    <tr>\n",
       "      <th>8263</th>\n",
       "      <td>9204962</td>\n",
       "      <td>34</td>\n",
       "      <td>bi-weekly</td>\n",
       "      <td>0</td>\n",
       "      <td>3875</td>\n",
       "      <td>0</td>\n",
       "      <td>6</td>\n",
       "      <td>6</td>\n",
       "      <td>2</td>\n",
       "      <td>6</td>\n",
       "      <td>...</td>\n",
       "      <td>0.770100</td>\n",
       "      <td>0.869882</td>\n",
       "      <td>0.414789</td>\n",
       "      <td>0.601676</td>\n",
       "      <td>0.599700</td>\n",
       "      <td>0.499700</td>\n",
       "      <td>4</td>\n",
       "      <td>1</td>\n",
       "      <td>72</td>\n",
       "      <td>74</td>\n",
       "    </tr>\n",
       "    <tr>\n",
       "      <th>7428</th>\n",
       "      <td>2690625</td>\n",
       "      <td>30</td>\n",
       "      <td>bi-weekly</td>\n",
       "      <td>0</td>\n",
       "      <td>3710</td>\n",
       "      <td>0</td>\n",
       "      <td>1</td>\n",
       "      <td>1</td>\n",
       "      <td>9</td>\n",
       "      <td>2</td>\n",
       "      <td>...</td>\n",
       "      <td>0.757824</td>\n",
       "      <td>0.904640</td>\n",
       "      <td>0.599967</td>\n",
       "      <td>0.845246</td>\n",
       "      <td>0.753587</td>\n",
       "      <td>0.853587</td>\n",
       "      <td>3</td>\n",
       "      <td>0</td>\n",
       "      <td>12</td>\n",
       "      <td>33</td>\n",
       "    </tr>\n",
       "  </tbody>\n",
       "</table>\n",
       "<p>3 rows × 23 columns</p>\n",
       "</div>"
      ],
      "text/plain": [
       "     Entry_id  age pay_schedule  home_owner  income  months_employed  \\\n",
       "6203  2324856   51       weekly           0    2610                5   \n",
       "8263  9204962   34    bi-weekly           0    3875                0   \n",
       "7428  2690625   30    bi-weekly           0    3710                0   \n",
       "\n",
       "      years_employed  current_address_year  personal_account_m  \\\n",
       "6203               3                     2                   7   \n",
       "8263               6                     6                   2   \n",
       "7428               1                     1                   9   \n",
       "\n",
       "      personal_account_y  ...  risk_score_2  risk_score_3  risk_score_4  \\\n",
       "6203                   2  ...      0.603768      0.819290      0.773481   \n",
       "8263                   6  ...      0.770100      0.869882      0.414789   \n",
       "7428                   2  ...      0.757824      0.904640      0.599967   \n",
       "\n",
       "      risk_score_5  ext_quality_score  ext_quality_score_2  \\\n",
       "6203      0.791970           0.696943             0.496943   \n",
       "8263      0.601676           0.599700             0.499700   \n",
       "7428      0.845246           0.753587             0.853587   \n",
       "\n",
       "      inquiries_last_month  e_signed  total_months_employed  \\\n",
       "6203                    13         0                     41   \n",
       "8263                     4         1                     72   \n",
       "7428                     3         0                     12   \n",
       "\n",
       "      personal_account_duration  \n",
       "6203                         31  \n",
       "8263                         74  \n",
       "7428                         33  \n",
       "\n",
       "[3 rows x 23 columns]"
      ]
     },
     "execution_count": 21,
     "metadata": {},
     "output_type": "execute_result"
    }
   ],
   "source": [
    "#test\n",
    "df_train_eda.sample(3)"
   ]
  },
  {
   "cell_type": "code",
   "execution_count": 22,
   "id": "6838242a",
   "metadata": {},
   "outputs": [],
   "source": [
    "df_train_eda.home_owner.replace({0:'No', 1:'Yes'}, inplace=True)\n",
    "df_train_eda.has_debt.replace({0:'No', 1:'Yes'}, inplace=True)\n",
    "df_train_eda.e_signed.replace({0:'No', 1:'Yes'}, inplace=True)"
   ]
  },
  {
   "cell_type": "code",
   "execution_count": 23,
   "id": "7fb3c064",
   "metadata": {
    "scrolled": false
   },
   "outputs": [
    {
     "data": {
      "text/html": [
       "<div>\n",
       "<style scoped>\n",
       "    .dataframe tbody tr th:only-of-type {\n",
       "        vertical-align: middle;\n",
       "    }\n",
       "\n",
       "    .dataframe tbody tr th {\n",
       "        vertical-align: top;\n",
       "    }\n",
       "\n",
       "    .dataframe thead th {\n",
       "        text-align: right;\n",
       "    }\n",
       "</style>\n",
       "<table border=\"1\" class=\"dataframe\">\n",
       "  <thead>\n",
       "    <tr style=\"text-align: right;\">\n",
       "      <th></th>\n",
       "      <th>Entry_id</th>\n",
       "      <th>age</th>\n",
       "      <th>pay_schedule</th>\n",
       "      <th>home_owner</th>\n",
       "      <th>income</th>\n",
       "      <th>months_employed</th>\n",
       "      <th>years_employed</th>\n",
       "      <th>current_address_year</th>\n",
       "      <th>personal_account_m</th>\n",
       "      <th>personal_account_y</th>\n",
       "      <th>...</th>\n",
       "      <th>risk_score_2</th>\n",
       "      <th>risk_score_3</th>\n",
       "      <th>risk_score_4</th>\n",
       "      <th>risk_score_5</th>\n",
       "      <th>ext_quality_score</th>\n",
       "      <th>ext_quality_score_2</th>\n",
       "      <th>inquiries_last_month</th>\n",
       "      <th>e_signed</th>\n",
       "      <th>total_months_employed</th>\n",
       "      <th>personal_account_duration</th>\n",
       "    </tr>\n",
       "  </thead>\n",
       "  <tbody>\n",
       "    <tr>\n",
       "      <th>2831</th>\n",
       "      <td>4848509</td>\n",
       "      <td>31</td>\n",
       "      <td>bi-weekly</td>\n",
       "      <td>No</td>\n",
       "      <td>3700</td>\n",
       "      <td>0</td>\n",
       "      <td>5</td>\n",
       "      <td>3</td>\n",
       "      <td>5</td>\n",
       "      <td>2</td>\n",
       "      <td>...</td>\n",
       "      <td>0.780984</td>\n",
       "      <td>0.980966</td>\n",
       "      <td>0.741341</td>\n",
       "      <td>0.846847</td>\n",
       "      <td>0.864408</td>\n",
       "      <td>0.864408</td>\n",
       "      <td>2</td>\n",
       "      <td>No</td>\n",
       "      <td>60</td>\n",
       "      <td>29</td>\n",
       "    </tr>\n",
       "    <tr>\n",
       "      <th>4826</th>\n",
       "      <td>6093196</td>\n",
       "      <td>27</td>\n",
       "      <td>semi-monthly</td>\n",
       "      <td>Yes</td>\n",
       "      <td>2715</td>\n",
       "      <td>1</td>\n",
       "      <td>3</td>\n",
       "      <td>1</td>\n",
       "      <td>4</td>\n",
       "      <td>3</td>\n",
       "      <td>...</td>\n",
       "      <td>0.700813</td>\n",
       "      <td>0.876538</td>\n",
       "      <td>0.573224</td>\n",
       "      <td>0.695368</td>\n",
       "      <td>0.538012</td>\n",
       "      <td>0.538012</td>\n",
       "      <td>3</td>\n",
       "      <td>No</td>\n",
       "      <td>37</td>\n",
       "      <td>40</td>\n",
       "    </tr>\n",
       "    <tr>\n",
       "      <th>9169</th>\n",
       "      <td>4641390</td>\n",
       "      <td>52</td>\n",
       "      <td>weekly</td>\n",
       "      <td>Yes</td>\n",
       "      <td>3650</td>\n",
       "      <td>0</td>\n",
       "      <td>4</td>\n",
       "      <td>3</td>\n",
       "      <td>1</td>\n",
       "      <td>3</td>\n",
       "      <td>...</td>\n",
       "      <td>0.707103</td>\n",
       "      <td>0.823891</td>\n",
       "      <td>0.777461</td>\n",
       "      <td>0.637282</td>\n",
       "      <td>0.438897</td>\n",
       "      <td>0.638897</td>\n",
       "      <td>4</td>\n",
       "      <td>Yes</td>\n",
       "      <td>48</td>\n",
       "      <td>37</td>\n",
       "    </tr>\n",
       "  </tbody>\n",
       "</table>\n",
       "<p>3 rows × 23 columns</p>\n",
       "</div>"
      ],
      "text/plain": [
       "     Entry_id  age  pay_schedule home_owner  income  months_employed  \\\n",
       "2831  4848509   31     bi-weekly         No    3700                0   \n",
       "4826  6093196   27  semi-monthly        Yes    2715                1   \n",
       "9169  4641390   52        weekly        Yes    3650                0   \n",
       "\n",
       "      years_employed  current_address_year  personal_account_m  \\\n",
       "2831               5                     3                   5   \n",
       "4826               3                     1                   4   \n",
       "9169               4                     3                   1   \n",
       "\n",
       "      personal_account_y  ... risk_score_2  risk_score_3  risk_score_4  \\\n",
       "2831                   2  ...     0.780984      0.980966      0.741341   \n",
       "4826                   3  ...     0.700813      0.876538      0.573224   \n",
       "9169                   3  ...     0.707103      0.823891      0.777461   \n",
       "\n",
       "      risk_score_5  ext_quality_score  ext_quality_score_2  \\\n",
       "2831      0.846847           0.864408             0.864408   \n",
       "4826      0.695368           0.538012             0.538012   \n",
       "9169      0.637282           0.438897             0.638897   \n",
       "\n",
       "      inquiries_last_month  e_signed  total_months_employed  \\\n",
       "2831                     2        No                     60   \n",
       "4826                     3        No                     37   \n",
       "9169                     4       Yes                     48   \n",
       "\n",
       "      personal_account_duration  \n",
       "2831                         29  \n",
       "4826                         40  \n",
       "9169                         37  \n",
       "\n",
       "[3 rows x 23 columns]"
      ]
     },
     "execution_count": 23,
     "metadata": {},
     "output_type": "execute_result"
    }
   ],
   "source": [
    "#confirmation\n",
    "df_train_eda.sample(3)"
   ]
  },
  {
   "cell_type": "markdown",
   "id": "7353317b",
   "metadata": {},
   "source": [
    "#### Issue 6:\n",
    "`risk_score` column should be a float and not an integer.\n",
    "\n",
    "#### Define:\n",
    "This is to make the risk_score columns match up"
   ]
  },
  {
   "cell_type": "code",
   "execution_count": 24,
   "id": "aad8e212",
   "metadata": {},
   "outputs": [
    {
     "data": {
      "text/plain": [
       "313     56050\n",
       "5152    59400\n",
       "185     48250\n",
       "Name: risk_score, dtype: int64"
      ]
     },
     "execution_count": 24,
     "metadata": {},
     "output_type": "execute_result"
    }
   ],
   "source": [
    "#test\n",
    "df_train_eda.risk_score.sample(3)"
   ]
  },
  {
   "cell_type": "code",
   "execution_count": 25,
   "id": "8bc246d0",
   "metadata": {},
   "outputs": [],
   "source": [
    "df_train_eda['risk_score_n'] = (df_train_eda.risk_score / 100000)"
   ]
  },
  {
   "cell_type": "code",
   "execution_count": 26,
   "id": "3fce61f2",
   "metadata": {},
   "outputs": [
    {
     "data": {
      "text/plain": [
       "9871    0.7840\n",
       "9581    0.8995\n",
       "2392    0.6600\n",
       "Name: risk_score_n, dtype: float64"
      ]
     },
     "execution_count": 26,
     "metadata": {},
     "output_type": "execute_result"
    }
   ],
   "source": [
    "#confirmation\n",
    "df_train_eda.risk_score_n.sample(3)"
   ]
  },
  {
   "cell_type": "markdown",
   "id": "68caeef7",
   "metadata": {},
   "source": [
    "### Structure of the dataset\n",
    "\n",
    "The train dataset intially contained 12,516 rows, and 21 columns. After assessing and cleaning the data, it now contains 12,510 rows and 23 columns."
   ]
  },
  {
   "cell_type": "markdown",
   "id": "e982856a",
   "metadata": {},
   "source": [
    "<a id='eda'></a>\n",
    "## <u>Exploratory Data Analysis."
   ]
  },
  {
   "cell_type": "markdown",
   "id": "47e58c6a",
   "metadata": {},
   "source": [
    "In this section of the project, we are going to be exploring multiple variables from the train dataset.\n",
    "\n"
   ]
  },
  {
   "cell_type": "markdown",
   "id": "2e9c2b0c",
   "metadata": {},
   "source": [
    "## Univariate Exploration"
   ]
  },
  {
   "cell_type": "markdown",
   "id": "4d64d1ec",
   "metadata": {},
   "source": [
    "### Distribution of ages in the dataset."
   ]
  },
  {
   "cell_type": "code",
   "execution_count": 83,
   "id": "a360bc9b",
   "metadata": {},
   "outputs": [
    {
     "data": {
      "image/png": "[encoded data removed]",
      "text/plain": [
       "<Figure size 1000x500 with 1 Axes>"
      ]
     },
     "metadata": {},
     "output_type": "display_data"
    }
   ],
   "source": [
    "plt.figure(figsize=(10,5))\n",
    "plt.hist(df_train_eda.age, color = base_color, bins = 20);\n",
    "plt.yticks(fontsize=14)\n",
    "plt.xticks(fontsize=14)\n",
    "plt.xlabel('Age of Applicant', fontsize=13)\n",
    "plt.title('Distribution of Applicant Age', fontsize=20);"
   ]
  },
  {
   "cell_type": "markdown",
   "id": "097acdfc",
   "metadata": {},
   "source": [
    "The age distribution is slightly skewed right suggesting that there are more younger to middle aged customers i.e 30 to 40, than there are older customers i.e 50 to 90. \n",
    "\n",
    "To get a clearer picture of the distribution of ages, we will place them into age brackets."
   ]
  },
  {
   "cell_type": "code",
   "execution_count": 84,
   "id": "b9c49797",
   "metadata": {},
   "outputs": [],
   "source": [
    "def prop_(x):\n",
    "    \n",
    "    '''To calculate proportions of values in a column.\n",
    "    x will be df.col or df['col']'''\n",
    "    \n",
    "    max_var_count = x.value_counts()[0]\n",
    "    var_sum = x.value_counts().sum()\n",
    "    max_prop = max_var_count/var_sum\n",
    "    tick_props = np.arange(0,max_prop+0.05, 0.05)\n",
    "    tick_names = ['{:0.2f}'.format(v) for v in tick_props]\n",
    "    \n",
    "    return [tick_props, tick_names, var_sum]"
   ]
  },
  {
   "cell_type": "code",
   "execution_count": 85,
   "id": "c9b2d216",
   "metadata": {
    "scrolled": false
   },
   "outputs": [
    {
     "data": {
      "image/png": "[encoded data removed]",
      "text/plain": [
       "<Figure size 800x800 with 1 Axes>"
      ]
     },
     "metadata": {},
     "output_type": "display_data"
    }
   ],
   "source": [
    "bins= [10,20,30,40,50,60,70,80,90]\n",
    "labels = ['10-20','21-30','31-40','41-50','51-60', '61-70','71-80', '81-90']\n",
    "df_train_eda['age_group'] = pd.cut(df_train_eda['age'], bins=bins, labels=labels, right=False)\n",
    "plt.figure(figsize=(8,8))\n",
    "\n",
    "tick_props, tick_names, var_sum = prop_(df_train_eda.age_group)\n",
    "sns.countplot(data=df_train_eda, x ='age_group', color=base_color);\n",
    "plt.ylabel('Proportion', fontsize=13)\n",
    "plt.xlabel('Age Bracket', fontsize=13)\n",
    "plt.yticks(tick_props * var_sum, tick_names, fontsize=11);\n",
    "plt.xticks(fontsize=12);"
   ]
  },
  {
   "cell_type": "markdown",
   "id": "ecf33155",
   "metadata": {},
   "source": [
    "The 10-20 age bracket contains 18 to 20 year olds as 18 is the legal age of employment."
   ]
  },
  {
   "cell_type": "markdown",
   "id": "1cf1429f",
   "metadata": {},
   "source": [
    "### Distribution of applicant income "
   ]
  },
  {
   "cell_type": "code",
   "execution_count": 86,
   "id": "6cdc464f",
   "metadata": {
    "scrolled": false
   },
   "outputs": [
    {
     "data": {
      "image/png": "[encoded data removed]",
      "text/plain": [
       "<Figure size 1000x500 with 1 Axes>"
      ]
     },
     "metadata": {},
     "output_type": "display_data"
    }
   ],
   "source": [
    "plt.figure(figsize=(10,5))\n",
    "plt.hist(df_train_eda.income, color = base_color, bins = 50);\n",
    "plt.yticks(fontsize=14)\n",
    "plt.xticks(fontsize=14)\n",
    "plt.xlabel('Income ($)', fontsize=12)\n",
    "plt.title('Distribution of Applicant Income', fontsize=20);"
   ]
  },
  {
   "cell_type": "markdown",
   "id": "f793ef2f",
   "metadata": {},
   "source": [
    "The distribution of applicant incomes is slightly skewed to the right suggesting that most applicants earn less 6000 per month.<br> The long tail of the histogram also suggests a few applicants earning far above the rest."
   ]
  },
  {
   "cell_type": "markdown",
   "id": "9e44bcef",
   "metadata": {},
   "source": [
    "### Distribution of amount_requested"
   ]
  },
  {
   "cell_type": "code",
   "execution_count": 87,
   "id": "53c1dfa8",
   "metadata": {
    "scrolled": false
   },
   "outputs": [
    {
     "data": {
      "image/png": "[encoded data removed]",
      "text/plain": [
       "<Figure size 1000x500 with 1 Axes>"
      ]
     },
     "metadata": {},
     "output_type": "display_data"
    }
   ],
   "source": [
    "plt.figure(figsize=(10,5))\n",
    "plt.hist(df_train_eda.amount_requested, color = base_color, bins = 50);\n",
    "plt.yticks(fontsize=14)\n",
    "plt.xticks(fontsize=14)\n",
    "plt.xlabel('Amount requested($)', fontsize=12)\n",
    "plt.title('Distribution of Amount Requested', fontsize=20);"
   ]
  },
  {
   "cell_type": "markdown",
   "id": "c47c212f",
   "metadata": {},
   "source": [
    "As early stated, the distribution of amount requested is very imbalanced as it is very skewed to the right suggesting a lot amounts requested falling below 2000"
   ]
  },
  {
   "cell_type": "markdown",
   "id": "3dfd271e",
   "metadata": {},
   "source": [
    "### Distribution of risk_score"
   ]
  },
  {
   "cell_type": "code",
   "execution_count": 88,
   "id": "64889cff",
   "metadata": {
    "scrolled": false
   },
   "outputs": [
    {
     "data": {
      "image/png": "[encoded data removed]",
      "text/plain": [
       "<Figure size 1000x500 with 1 Axes>"
      ]
     },
     "metadata": {},
     "output_type": "display_data"
    }
   ],
   "source": [
    "plt.figure(figsize=(10,5))\n",
    "plt.hist(df_train_eda.risk_score_n, color = base_color, bins = 50);\n",
    "plt.yticks(fontsize=14)\n",
    "plt.xticks(fontsize=14)\n",
    "plt.xlabel('Applicant risks score', fontsize=12)\n",
    "plt.title('Distribution of Risk Score', fontsize=20);"
   ]
  },
  {
   "cell_type": "markdown",
   "id": "716f5df0",
   "metadata": {},
   "source": [
    "### Number of applicants that signed electronically."
   ]
  },
  {
   "cell_type": "code",
   "execution_count": 89,
   "id": "6fbeaf93",
   "metadata": {},
   "outputs": [
    {
     "data": {
      "image/png": "[encoded data removed]",
      "text/plain": [
       "<Figure size 600x500 with 1 Axes>"
      ]
     },
     "metadata": {},
     "output_type": "display_data"
    }
   ],
   "source": [
    "plt.figure(figsize=[6,5])\n",
    "\n",
    "freq = df_train_eda['e_signed'].value_counts()\n",
    "gen_order = freq.index\n",
    "\n",
    "ax = sns.countplot(data = df_train_eda, x = 'e_signed', color=sns.color_palette()[0], order = gen_order)\n",
    "plt.xticks()\n",
    "plt.xlabel('E-signed Status', fontsize=13)\n",
    "plt.title('How Many Applicants Signed Electronically', fontsize=18);\n",
    "ax.bar_label(ax.containers[0], label_type='edge');"
   ]
  },
  {
   "cell_type": "markdown",
   "id": "dbe9197a",
   "metadata": {},
   "source": [
    "It can be inferred that most applicants have risk scores of 0.7 or less, making them less of a possible liability to the company and more eligible for loans."
   ]
  },
  {
   "cell_type": "markdown",
   "id": "5fa68c54",
   "metadata": {},
   "source": [
    "## Bivariate Exploration\n",
    "\n",
    "For this section, we are going to explore the relationships between the e_signed column and the numerical variables in the dataset."
   ]
  },
  {
   "cell_type": "code",
   "execution_count": 90,
   "id": "b9c9b0c5",
   "metadata": {},
   "outputs": [],
   "source": [
    "# creating a variable that contains all applicants that signed electronically\n",
    "yes_electronic = df_train_eda.query('e_signed == \"Yes\"')"
   ]
  },
  {
   "cell_type": "markdown",
   "id": "98e89b59",
   "metadata": {},
   "source": [
    "### Relationship between applicant age and e_signed column"
   ]
  },
  {
   "cell_type": "code",
   "execution_count": 91,
   "id": "8bffd756",
   "metadata": {},
   "outputs": [
    {
     "data": {
      "image/png": "[encoded data removed]",
      "text/plain": [
       "<Figure size 800x800 with 1 Axes>"
      ]
     },
     "metadata": {},
     "output_type": "display_data"
    }
   ],
   "source": [
    "plt.figure(figsize=[8,8])\n",
    "\n",
    "freq = yes_electronic['age_group'].value_counts()\n",
    "gen_order = freq.index\n",
    "\n",
    "ax = sns.countplot(data = yes_electronic, x = 'age_group', color=sns.color_palette()[0], order = gen_order)\n",
    "plt.xticks(fontsize=11)\n",
    "plt.xlabel('Age Groups', fontsize=12)\n",
    "plt.title('Age Groups of Applicants that Signed Electronically?', fontsize=20);\n",
    "ax.bar_label(ax.containers[0], label_type='edge');"
   ]
  },
  {
   "cell_type": "markdown",
   "id": "17562f9a",
   "metadata": {},
   "source": [
    "### Relationship between amount requested and e_signed column"
   ]
  },
  {
   "cell_type": "code",
   "execution_count": 92,
   "id": "24680ba8",
   "metadata": {},
   "outputs": [
    {
     "data": {
      "image/png": "[encoded data removed]",
      "text/plain": [
       "<Figure size 800x800 with 1 Axes>"
      ]
     },
     "metadata": {},
     "output_type": "display_data"
    }
   ],
   "source": [
    "bins = np.arange(0, yes_electronic['amount_requested'].max()+100, 100)\n",
    "\n",
    "plt.figure(figsize=[8, 8])\n",
    "plt.hist(data = yes_electronic, x = 'amount_requested', bins = bins)\n",
    "plt.xlabel('Amount Requested ($)', fontsize=12)\n",
    "plt.title('Distribution of Amount Requested Among Applicants that Signed Electronically', fontsize=20)\n",
    "plt.show()"
   ]
  },
  {
   "cell_type": "markdown",
   "id": "3e68549f",
   "metadata": {},
   "source": [
    "It can be seen from the above histogram that we have a multimodal distribution that is strongly skewed to the right. Furthermore, applicants that signed electronically are mainly those that requested for a loan of about \\\\$1500 or less. It can therefore be inferred that applicants requesting for higher amounts are less likely to sign electronically.\n"
   ]
  },
  {
   "cell_type": "markdown",
   "id": "17d2c2ac",
   "metadata": {},
   "source": [
    "### Relationship between applicant income and e_signed column"
   ]
  },
  {
   "cell_type": "code",
   "execution_count": 93,
   "id": "57d484b1",
   "metadata": {},
   "outputs": [
    {
     "data": {
      "image/png": "[encoded data removed]",
      "text/plain": [
       "<Figure size 800x800 with 1 Axes>"
      ]
     },
     "metadata": {},
     "output_type": "display_data"
    }
   ],
   "source": [
    "bins = np.arange(0, yes_electronic['income'].max()+250, 250)\n",
    "\n",
    "plt.figure(figsize=[8, 8])\n",
    "plt.hist(data = yes_electronic, x = 'income', bins = bins)\n",
    "plt.xlabel('Income ($)', fontsize = 12)\n",
    "plt.title('Distribution of Income Among Applicants that Signed Electronically', fontsize = 20)\n",
    "plt.show()"
   ]
  },
  {
   "cell_type": "markdown",
   "id": "f0eb5a40",
   "metadata": {},
   "source": [
    "We have a highly multimodal distribution that is also skewed to the right. Applicants that signed electronically are mainly those with an income of about \\\\$6000 or less. It can therefore be inferred that applicants with higher incomes are less likely to sign electronically."
   ]
  },
  {
   "cell_type": "markdown",
   "id": "bbf24967",
   "metadata": {},
   "source": [
    "### Relationship between risk_score and e_signed column"
   ]
  },
  {
   "cell_type": "code",
   "execution_count": 94,
   "id": "339b3851",
   "metadata": {
    "scrolled": false
   },
   "outputs": [
    {
     "data": {
      "image/png": "[encoded data removed]",
      "text/plain": [
       "<Figure size 800x800 with 1 Axes>"
      ]
     },
     "metadata": {},
     "output_type": "display_data"
    }
   ],
   "source": [
    "bins = np.arange(0, yes_electronic['risk_score_n'].max()+0.05, 0.05)\n",
    "\n",
    "plt.figure(figsize=[8, 8])\n",
    "plt.hist(data = yes_electronic, x = 'risk_score_n', bins = bins)\n",
    "plt.xlabel('Risk Score', fontsize=12)\n",
    "plt.title('Distribution of Risk Scores Among Applicants that Signed Electronically', fontsize=20)\n",
    "plt.show()\n"
   ]
  },
  {
   "cell_type": "markdown",
   "id": "5b7d2b0a",
   "metadata": {},
   "source": [
    "The histogram is slightly skewed to the left suggesting that most of the applicants that signed up electronically are high risk individuals."
   ]
  },
  {
   "cell_type": "markdown",
   "id": "ec99f78d",
   "metadata": {},
   "source": [
    "### How many home owners signed up electronically?"
   ]
  },
  {
   "cell_type": "code",
   "execution_count": 95,
   "id": "bce25884",
   "metadata": {},
   "outputs": [
    {
     "data": {
      "image/png": "[encoded data removed]",
      "text/plain": [
       "<Figure size 800x800 with 1 Axes>"
      ]
     },
     "metadata": {},
     "output_type": "display_data"
    }
   ],
   "source": [
    "plt.figure(figsize=[8,8])\n",
    "\n",
    "freq = yes_electronic['home_owner'].value_counts()\n",
    "gen_order = freq.index\n",
    "\n",
    "ax = sns.countplot(data = yes_electronic, x = 'home_owner', color=sns.color_palette()[0], order = gen_order)\n",
    "plt.xticks()\n",
    "plt.xlabel('Homeowner Status', fontsize=12)\n",
    "plt.title('How Many Applicants Were Homeowners?', fontsize=20);\n",
    "ax.bar_label(ax.containers[0], label_type='edge');"
   ]
  },
  {
   "cell_type": "markdown",
   "id": "f210198c",
   "metadata": {},
   "source": [
    "The bar chart shows that **4,059 (60%)** of all applicants who signed electronically were _not_ homeowners."
   ]
  },
  {
   "cell_type": "markdown",
   "id": "fad0cdf1",
   "metadata": {},
   "source": [
    "<a id='ml'></a>\n",
    "## <u> Machine Learning Model"
   ]
  },
  {
   "cell_type": "markdown",
   "id": "58ba6d54",
   "metadata": {},
   "source": [
    "For the machine learning model, not all changes made for EDA will be applied here, so we preprocess the train and test datasets again."
   ]
  },
  {
   "cell_type": "code",
   "execution_count": 96,
   "id": "28bc1e64",
   "metadata": {},
   "outputs": [],
   "source": [
    "df_train_copy = df_train.copy()"
   ]
  },
  {
   "cell_type": "code",
   "execution_count": 97,
   "id": "8f6a788f",
   "metadata": {},
   "outputs": [],
   "source": [
    "# Drop duplicate Entry IDs\n",
    "df_train_copy.drop_duplicates('Entry_id', inplace=True)\n",
    "df_train_copy = df_train_copy.reset_index(drop=True)"
   ]
  },
  {
   "cell_type": "code",
   "execution_count": 98,
   "id": "07e29e2f",
   "metadata": {},
   "outputs": [],
   "source": [
    "# Merge years_employed and months_employed\n",
    "df_train_copy['total_months_employed'] = (df_train_copy['years_employed']*12) + df_train_copy['months_employed']\n",
    "df_train_copy=df_train_copy.drop(['years_employed', 'months_employed'], axis=1)"
   ]
  },
  {
   "cell_type": "code",
   "execution_count": 99,
   "id": "69c3c041",
   "metadata": {},
   "outputs": [],
   "source": [
    "# Merge personal_account_y and personal_account_m\n",
    "df_train_copy['personal_account_duration'] = (df_train_copy['personal_account_y']*12) + df_train_copy['personal_account_m']\n",
    "df_train_copy=df_train_copy.drop(['personal_account_y', 'personal_account_m'], axis=1)"
   ]
  },
  {
   "cell_type": "markdown",
   "id": "10383474",
   "metadata": {},
   "source": [
    "For the model, we'll need only numerical variables, so string values of categorical variables won't work here. To fix this, we can OneHotEncode the categorical variable, or create dummy columns of the categoriacl variable. For this project, we'll be using dummy columns."
   ]
  },
  {
   "cell_type": "code",
   "execution_count": 100,
   "id": "b59e8ab1",
   "metadata": {},
   "outputs": [
    {
     "data": {
      "text/html": [
       "<div>\n",
       "<style scoped>\n",
       "    .dataframe tbody tr th:only-of-type {\n",
       "        vertical-align: middle;\n",
       "    }\n",
       "\n",
       "    .dataframe tbody tr th {\n",
       "        vertical-align: top;\n",
       "    }\n",
       "\n",
       "    .dataframe thead th {\n",
       "        text-align: right;\n",
       "    }\n",
       "</style>\n",
       "<table border=\"1\" class=\"dataframe\">\n",
       "  <thead>\n",
       "    <tr style=\"text-align: right;\">\n",
       "      <th></th>\n",
       "      <th>bi-weekly</th>\n",
       "      <th>monthly</th>\n",
       "      <th>semi-monthly</th>\n",
       "      <th>weekly</th>\n",
       "    </tr>\n",
       "  </thead>\n",
       "  <tbody>\n",
       "    <tr>\n",
       "      <th>0</th>\n",
       "      <td>1</td>\n",
       "      <td>0</td>\n",
       "      <td>0</td>\n",
       "      <td>0</td>\n",
       "    </tr>\n",
       "    <tr>\n",
       "      <th>1</th>\n",
       "      <td>0</td>\n",
       "      <td>0</td>\n",
       "      <td>1</td>\n",
       "      <td>0</td>\n",
       "    </tr>\n",
       "    <tr>\n",
       "      <th>2</th>\n",
       "      <td>0</td>\n",
       "      <td>0</td>\n",
       "      <td>0</td>\n",
       "      <td>1</td>\n",
       "    </tr>\n",
       "    <tr>\n",
       "      <th>3</th>\n",
       "      <td>1</td>\n",
       "      <td>0</td>\n",
       "      <td>0</td>\n",
       "      <td>0</td>\n",
       "    </tr>\n",
       "    <tr>\n",
       "      <th>4</th>\n",
       "      <td>1</td>\n",
       "      <td>0</td>\n",
       "      <td>0</td>\n",
       "      <td>0</td>\n",
       "    </tr>\n",
       "  </tbody>\n",
       "</table>\n",
       "</div>"
      ],
      "text/plain": [
       "   bi-weekly  monthly  semi-monthly  weekly\n",
       "0          1        0             0       0\n",
       "1          0        0             1       0\n",
       "2          0        0             0       1\n",
       "3          1        0             0       0\n",
       "4          1        0             0       0"
      ]
     },
     "execution_count": 100,
     "metadata": {},
     "output_type": "execute_result"
    }
   ],
   "source": [
    "# To create dummy columns for the categorical variable pay_schedule\n",
    "dummies = pd.get_dummies(df_train_copy['pay_schedule'])\n",
    "dummies.head()"
   ]
  },
  {
   "cell_type": "code",
   "execution_count": 101,
   "id": "13b99a92",
   "metadata": {},
   "outputs": [
    {
     "data": {
      "text/html": [
       "<div>\n",
       "<style scoped>\n",
       "    .dataframe tbody tr th:only-of-type {\n",
       "        vertical-align: middle;\n",
       "    }\n",
       "\n",
       "    .dataframe tbody tr th {\n",
       "        vertical-align: top;\n",
       "    }\n",
       "\n",
       "    .dataframe thead th {\n",
       "        text-align: right;\n",
       "    }\n",
       "</style>\n",
       "<table border=\"1\" class=\"dataframe\">\n",
       "  <thead>\n",
       "    <tr style=\"text-align: right;\">\n",
       "      <th></th>\n",
       "      <th>Entry_id</th>\n",
       "      <th>age</th>\n",
       "      <th>home_owner</th>\n",
       "      <th>income</th>\n",
       "      <th>current_address_year</th>\n",
       "      <th>has_debt</th>\n",
       "      <th>amount_requested</th>\n",
       "      <th>risk_score</th>\n",
       "      <th>risk_score_2</th>\n",
       "      <th>risk_score_3</th>\n",
       "      <th>...</th>\n",
       "      <th>risk_score_5</th>\n",
       "      <th>ext_quality_score</th>\n",
       "      <th>ext_quality_score_2</th>\n",
       "      <th>inquiries_last_month</th>\n",
       "      <th>e_signed</th>\n",
       "      <th>total_months_employed</th>\n",
       "      <th>personal_account_duration</th>\n",
       "      <th>bi-weekly</th>\n",
       "      <th>semi-monthly</th>\n",
       "      <th>weekly</th>\n",
       "    </tr>\n",
       "  </thead>\n",
       "  <tbody>\n",
       "    <tr>\n",
       "      <th>0</th>\n",
       "      <td>7629673</td>\n",
       "      <td>40</td>\n",
       "      <td>1</td>\n",
       "      <td>3135</td>\n",
       "      <td>3</td>\n",
       "      <td>1</td>\n",
       "      <td>550</td>\n",
       "      <td>36200</td>\n",
       "      <td>0.737398</td>\n",
       "      <td>0.903517</td>\n",
       "      <td>...</td>\n",
       "      <td>0.515977</td>\n",
       "      <td>0.580918</td>\n",
       "      <td>0.380918</td>\n",
       "      <td>10</td>\n",
       "      <td>1</td>\n",
       "      <td>36</td>\n",
       "      <td>30</td>\n",
       "      <td>1</td>\n",
       "      <td>0</td>\n",
       "      <td>0</td>\n",
       "    </tr>\n",
       "    <tr>\n",
       "      <th>1</th>\n",
       "      <td>5335819</td>\n",
       "      <td>33</td>\n",
       "      <td>0</td>\n",
       "      <td>3590</td>\n",
       "      <td>2</td>\n",
       "      <td>1</td>\n",
       "      <td>1100</td>\n",
       "      <td>53850</td>\n",
       "      <td>0.617361</td>\n",
       "      <td>0.857560</td>\n",
       "      <td>...</td>\n",
       "      <td>0.665523</td>\n",
       "      <td>0.744634</td>\n",
       "      <td>0.744634</td>\n",
       "      <td>12</td>\n",
       "      <td>0</td>\n",
       "      <td>60</td>\n",
       "      <td>98</td>\n",
       "      <td>0</td>\n",
       "      <td>1</td>\n",
       "      <td>0</td>\n",
       "    </tr>\n",
       "    <tr>\n",
       "      <th>2</th>\n",
       "      <td>8492423</td>\n",
       "      <td>21</td>\n",
       "      <td>0</td>\n",
       "      <td>2303</td>\n",
       "      <td>8</td>\n",
       "      <td>1</td>\n",
       "      <td>600</td>\n",
       "      <td>74850</td>\n",
       "      <td>0.677109</td>\n",
       "      <td>0.758765</td>\n",
       "      <td>...</td>\n",
       "      <td>0.664762</td>\n",
       "      <td>0.592556</td>\n",
       "      <td>0.492556</td>\n",
       "      <td>6</td>\n",
       "      <td>1</td>\n",
       "      <td>60</td>\n",
       "      <td>86</td>\n",
       "      <td>0</td>\n",
       "      <td>0</td>\n",
       "      <td>1</td>\n",
       "    </tr>\n",
       "    <tr>\n",
       "      <th>3</th>\n",
       "      <td>7948313</td>\n",
       "      <td>26</td>\n",
       "      <td>0</td>\n",
       "      <td>2795</td>\n",
       "      <td>4</td>\n",
       "      <td>1</td>\n",
       "      <td>800</td>\n",
       "      <td>50800</td>\n",
       "      <td>0.738055</td>\n",
       "      <td>0.873204</td>\n",
       "      <td>...</td>\n",
       "      <td>0.700392</td>\n",
       "      <td>0.584130</td>\n",
       "      <td>0.684130</td>\n",
       "      <td>14</td>\n",
       "      <td>1</td>\n",
       "      <td>48</td>\n",
       "      <td>73</td>\n",
       "      <td>1</td>\n",
       "      <td>0</td>\n",
       "      <td>0</td>\n",
       "    </tr>\n",
       "    <tr>\n",
       "      <th>4</th>\n",
       "      <td>4297036</td>\n",
       "      <td>43</td>\n",
       "      <td>0</td>\n",
       "      <td>5000</td>\n",
       "      <td>1</td>\n",
       "      <td>1</td>\n",
       "      <td>1100</td>\n",
       "      <td>69100</td>\n",
       "      <td>0.798303</td>\n",
       "      <td>0.841747</td>\n",
       "      <td>...</td>\n",
       "      <td>0.568787</td>\n",
       "      <td>0.525905</td>\n",
       "      <td>0.725905</td>\n",
       "      <td>5</td>\n",
       "      <td>1</td>\n",
       "      <td>24</td>\n",
       "      <td>25</td>\n",
       "      <td>1</td>\n",
       "      <td>0</td>\n",
       "      <td>0</td>\n",
       "    </tr>\n",
       "  </tbody>\n",
       "</table>\n",
       "<p>5 rows × 21 columns</p>\n",
       "</div>"
      ],
      "text/plain": [
       "   Entry_id  age  home_owner  income  current_address_year  has_debt  \\\n",
       "0   7629673   40           1    3135                     3         1   \n",
       "1   5335819   33           0    3590                     2         1   \n",
       "2   8492423   21           0    2303                     8         1   \n",
       "3   7948313   26           0    2795                     4         1   \n",
       "4   4297036   43           0    5000                     1         1   \n",
       "\n",
       "   amount_requested  risk_score  risk_score_2  risk_score_3  ...  \\\n",
       "0               550       36200      0.737398      0.903517  ...   \n",
       "1              1100       53850      0.617361      0.857560  ...   \n",
       "2               600       74850      0.677109      0.758765  ...   \n",
       "3               800       50800      0.738055      0.873204  ...   \n",
       "4              1100       69100      0.798303      0.841747  ...   \n",
       "\n",
       "   risk_score_5  ext_quality_score  ext_quality_score_2  inquiries_last_month  \\\n",
       "0      0.515977           0.580918             0.380918                    10   \n",
       "1      0.665523           0.744634             0.744634                    12   \n",
       "2      0.664762           0.592556             0.492556                     6   \n",
       "3      0.700392           0.584130             0.684130                    14   \n",
       "4      0.568787           0.525905             0.725905                     5   \n",
       "\n",
       "   e_signed  total_months_employed  personal_account_duration  bi-weekly  \\\n",
       "0         1                     36                         30          1   \n",
       "1         0                     60                         98          0   \n",
       "2         1                     60                         86          0   \n",
       "3         1                     48                         73          1   \n",
       "4         1                     24                         25          1   \n",
       "\n",
       "   semi-monthly  weekly  \n",
       "0             0       0  \n",
       "1             1       0  \n",
       "2             0       1  \n",
       "3             0       0  \n",
       "4             0       0  \n",
       "\n",
       "[5 rows x 21 columns]"
      ]
     },
     "execution_count": 101,
     "metadata": {},
     "output_type": "execute_result"
    }
   ],
   "source": [
    "# Merge dummy to original dataframe\n",
    "df_train_dummy = pd.concat([df_train_copy, dummies],axis='columns')\n",
    "\n",
    "# Drop original categorical variable and anyone of the dummy columns; 'monthly' in this case\n",
    "df_train_dummy = df_train_dummy.drop(['pay_schedule', 'monthly'],axis='columns')\n",
    "df_train_dummy.head()"
   ]
  },
  {
   "cell_type": "markdown",
   "id": "a3c1e114",
   "metadata": {},
   "source": [
    "###### Perform similar operations on the test data"
   ]
  },
  {
   "cell_type": "code",
   "execution_count": 102,
   "id": "6255518b",
   "metadata": {},
   "outputs": [],
   "source": [
    "df_test_copy = df_test.copy()"
   ]
  },
  {
   "cell_type": "code",
   "execution_count": 103,
   "id": "fd7a8dd6",
   "metadata": {},
   "outputs": [],
   "source": [
    "df_test_copy['total_months_employed'] = (df_test_copy['years_employed']*12) + df_test_copy['months_employed']\n",
    "df_test_copy=df_test_copy.drop(['years_employed', 'months_employed'], axis=1)"
   ]
  },
  {
   "cell_type": "code",
   "execution_count": 104,
   "id": "5f941306",
   "metadata": {},
   "outputs": [],
   "source": [
    "df_test_copy['personal_account_duration'] = (df_test_copy['personal_account_y']*12) + df_test_copy['personal_account_m']\n",
    "df_test_copy=df_test_copy.drop(['personal_account_y', 'personal_account_m'], axis=1)"
   ]
  },
  {
   "cell_type": "code",
   "execution_count": 105,
   "id": "a902e240",
   "metadata": {},
   "outputs": [
    {
     "data": {
      "text/html": [
       "<div>\n",
       "<style scoped>\n",
       "    .dataframe tbody tr th:only-of-type {\n",
       "        vertical-align: middle;\n",
       "    }\n",
       "\n",
       "    .dataframe tbody tr th {\n",
       "        vertical-align: top;\n",
       "    }\n",
       "\n",
       "    .dataframe thead th {\n",
       "        text-align: right;\n",
       "    }\n",
       "</style>\n",
       "<table border=\"1\" class=\"dataframe\">\n",
       "  <thead>\n",
       "    <tr style=\"text-align: right;\">\n",
       "      <th></th>\n",
       "      <th>bi-weekly</th>\n",
       "      <th>monthly</th>\n",
       "      <th>semi-monthly</th>\n",
       "      <th>weekly</th>\n",
       "    </tr>\n",
       "  </thead>\n",
       "  <tbody>\n",
       "    <tr>\n",
       "      <th>0</th>\n",
       "      <td>0</td>\n",
       "      <td>0</td>\n",
       "      <td>0</td>\n",
       "      <td>1</td>\n",
       "    </tr>\n",
       "    <tr>\n",
       "      <th>1</th>\n",
       "      <td>0</td>\n",
       "      <td>0</td>\n",
       "      <td>0</td>\n",
       "      <td>1</td>\n",
       "    </tr>\n",
       "    <tr>\n",
       "      <th>2</th>\n",
       "      <td>1</td>\n",
       "      <td>0</td>\n",
       "      <td>0</td>\n",
       "      <td>0</td>\n",
       "    </tr>\n",
       "    <tr>\n",
       "      <th>3</th>\n",
       "      <td>0</td>\n",
       "      <td>0</td>\n",
       "      <td>1</td>\n",
       "      <td>0</td>\n",
       "    </tr>\n",
       "    <tr>\n",
       "      <th>4</th>\n",
       "      <td>1</td>\n",
       "      <td>0</td>\n",
       "      <td>0</td>\n",
       "      <td>0</td>\n",
       "    </tr>\n",
       "  </tbody>\n",
       "</table>\n",
       "</div>"
      ],
      "text/plain": [
       "   bi-weekly  monthly  semi-monthly  weekly\n",
       "0          0        0             0       1\n",
       "1          0        0             0       1\n",
       "2          1        0             0       0\n",
       "3          0        0             1       0\n",
       "4          1        0             0       0"
      ]
     },
     "execution_count": 105,
     "metadata": {},
     "output_type": "execute_result"
    }
   ],
   "source": [
    "dummies = pd.get_dummies(df_test_copy['pay_schedule'])\n",
    "dummies.head()"
   ]
  },
  {
   "cell_type": "code",
   "execution_count": 106,
   "id": "fe07a05c",
   "metadata": {},
   "outputs": [
    {
     "data": {
      "text/html": [
       "<div>\n",
       "<style scoped>\n",
       "    .dataframe tbody tr th:only-of-type {\n",
       "        vertical-align: middle;\n",
       "    }\n",
       "\n",
       "    .dataframe tbody tr th {\n",
       "        vertical-align: top;\n",
       "    }\n",
       "\n",
       "    .dataframe thead th {\n",
       "        text-align: right;\n",
       "    }\n",
       "</style>\n",
       "<table border=\"1\" class=\"dataframe\">\n",
       "  <thead>\n",
       "    <tr style=\"text-align: right;\">\n",
       "      <th></th>\n",
       "      <th>Entry_id</th>\n",
       "      <th>age</th>\n",
       "      <th>home_owner</th>\n",
       "      <th>income</th>\n",
       "      <th>current_address_year</th>\n",
       "      <th>has_debt</th>\n",
       "      <th>amount_requested</th>\n",
       "      <th>risk_score</th>\n",
       "      <th>risk_score_2</th>\n",
       "      <th>risk_score_3</th>\n",
       "      <th>risk_score_4</th>\n",
       "      <th>risk_score_5</th>\n",
       "      <th>ext_quality_score</th>\n",
       "      <th>ext_quality_score_2</th>\n",
       "      <th>inquiries_last_month</th>\n",
       "      <th>total_months_employed</th>\n",
       "      <th>personal_account_duration</th>\n",
       "      <th>bi-weekly</th>\n",
       "      <th>semi-monthly</th>\n",
       "      <th>weekly</th>\n",
       "    </tr>\n",
       "  </thead>\n",
       "  <tbody>\n",
       "    <tr>\n",
       "      <th>0</th>\n",
       "      <td>3560428</td>\n",
       "      <td>61</td>\n",
       "      <td>0</td>\n",
       "      <td>3180</td>\n",
       "      <td>3</td>\n",
       "      <td>1</td>\n",
       "      <td>600</td>\n",
       "      <td>30150</td>\n",
       "      <td>0.738510</td>\n",
       "      <td>0.881027</td>\n",
       "      <td>0.713423</td>\n",
       "      <td>0.826402</td>\n",
       "      <td>0.730720</td>\n",
       "      <td>0.630720</td>\n",
       "      <td>9</td>\n",
       "      <td>72</td>\n",
       "      <td>86</td>\n",
       "      <td>0</td>\n",
       "      <td>0</td>\n",
       "      <td>1</td>\n",
       "    </tr>\n",
       "    <tr>\n",
       "      <th>1</th>\n",
       "      <td>6934997</td>\n",
       "      <td>23</td>\n",
       "      <td>0</td>\n",
       "      <td>1540</td>\n",
       "      <td>0</td>\n",
       "      <td>1</td>\n",
       "      <td>450</td>\n",
       "      <td>34550</td>\n",
       "      <td>0.642993</td>\n",
       "      <td>0.766554</td>\n",
       "      <td>0.595018</td>\n",
       "      <td>0.762284</td>\n",
       "      <td>0.531712</td>\n",
       "      <td>0.531712</td>\n",
       "      <td>7</td>\n",
       "      <td>6</td>\n",
       "      <td>19</td>\n",
       "      <td>0</td>\n",
       "      <td>0</td>\n",
       "      <td>1</td>\n",
       "    </tr>\n",
       "    <tr>\n",
       "      <th>2</th>\n",
       "      <td>5682812</td>\n",
       "      <td>40</td>\n",
       "      <td>0</td>\n",
       "      <td>5230</td>\n",
       "      <td>1</td>\n",
       "      <td>1</td>\n",
       "      <td>700</td>\n",
       "      <td>42150</td>\n",
       "      <td>0.665224</td>\n",
       "      <td>0.960832</td>\n",
       "      <td>0.767828</td>\n",
       "      <td>0.778831</td>\n",
       "      <td>0.792552</td>\n",
       "      <td>0.592552</td>\n",
       "      <td>8</td>\n",
       "      <td>72</td>\n",
       "      <td>86</td>\n",
       "      <td>1</td>\n",
       "      <td>0</td>\n",
       "      <td>0</td>\n",
       "    </tr>\n",
       "    <tr>\n",
       "      <th>3</th>\n",
       "      <td>6493191</td>\n",
       "      <td>32</td>\n",
       "      <td>0</td>\n",
       "      <td>5260</td>\n",
       "      <td>3</td>\n",
       "      <td>1</td>\n",
       "      <td>1150</td>\n",
       "      <td>64050</td>\n",
       "      <td>0.652429</td>\n",
       "      <td>0.802433</td>\n",
       "      <td>0.593816</td>\n",
       "      <td>0.560389</td>\n",
       "      <td>0.569459</td>\n",
       "      <td>0.369459</td>\n",
       "      <td>3</td>\n",
       "      <td>3</td>\n",
       "      <td>49</td>\n",
       "      <td>0</td>\n",
       "      <td>1</td>\n",
       "      <td>0</td>\n",
       "    </tr>\n",
       "    <tr>\n",
       "      <th>4</th>\n",
       "      <td>8990111</td>\n",
       "      <td>61</td>\n",
       "      <td>1</td>\n",
       "      <td>3270</td>\n",
       "      <td>0</td>\n",
       "      <td>1</td>\n",
       "      <td>400</td>\n",
       "      <td>61700</td>\n",
       "      <td>0.659736</td>\n",
       "      <td>0.937287</td>\n",
       "      <td>0.852323</td>\n",
       "      <td>0.785698</td>\n",
       "      <td>0.632466</td>\n",
       "      <td>0.732466</td>\n",
       "      <td>7</td>\n",
       "      <td>48</td>\n",
       "      <td>40</td>\n",
       "      <td>1</td>\n",
       "      <td>0</td>\n",
       "      <td>0</td>\n",
       "    </tr>\n",
       "  </tbody>\n",
       "</table>\n",
       "</div>"
      ],
      "text/plain": [
       "   Entry_id  age  home_owner  income  current_address_year  has_debt  \\\n",
       "0   3560428   61           0    3180                     3         1   \n",
       "1   6934997   23           0    1540                     0         1   \n",
       "2   5682812   40           0    5230                     1         1   \n",
       "3   6493191   32           0    5260                     3         1   \n",
       "4   8990111   61           1    3270                     0         1   \n",
       "\n",
       "   amount_requested  risk_score  risk_score_2  risk_score_3  risk_score_4  \\\n",
       "0               600       30150      0.738510      0.881027      0.713423   \n",
       "1               450       34550      0.642993      0.766554      0.595018   \n",
       "2               700       42150      0.665224      0.960832      0.767828   \n",
       "3              1150       64050      0.652429      0.802433      0.593816   \n",
       "4               400       61700      0.659736      0.937287      0.852323   \n",
       "\n",
       "   risk_score_5  ext_quality_score  ext_quality_score_2  inquiries_last_month  \\\n",
       "0      0.826402           0.730720             0.630720                     9   \n",
       "1      0.762284           0.531712             0.531712                     7   \n",
       "2      0.778831           0.792552             0.592552                     8   \n",
       "3      0.560389           0.569459             0.369459                     3   \n",
       "4      0.785698           0.632466             0.732466                     7   \n",
       "\n",
       "   total_months_employed  personal_account_duration  bi-weekly  semi-monthly  \\\n",
       "0                     72                         86          0             0   \n",
       "1                      6                         19          0             0   \n",
       "2                     72                         86          1             0   \n",
       "3                      3                         49          0             1   \n",
       "4                     48                         40          1             0   \n",
       "\n",
       "   weekly  \n",
       "0       1  \n",
       "1       1  \n",
       "2       0  \n",
       "3       0  \n",
       "4       0  "
      ]
     },
     "execution_count": 106,
     "metadata": {},
     "output_type": "execute_result"
    }
   ],
   "source": [
    "df_test_dummy = pd.concat([df_test_copy, dummies],axis='columns')\n",
    "df_test_dummy = df_test_dummy.drop(['pay_schedule', 'monthly'],axis='columns')\n",
    "df_test_dummy.head()"
   ]
  },
  {
   "cell_type": "markdown",
   "id": "596d2710",
   "metadata": {},
   "source": [
    "### Using cross validation with LighthGBM"
   ]
  },
  {
   "cell_type": "code",
   "execution_count": 107,
   "id": "c0740649",
   "metadata": {},
   "outputs": [],
   "source": [
    "df_train_dummy['kfold'] = -1"
   ]
  },
  {
   "cell_type": "code",
   "execution_count": 108,
   "id": "b96bfbac",
   "metadata": {},
   "outputs": [],
   "source": [
    "kf = KFold(n_splits = 6, shuffle = True, random_state = 50)\n",
    "for fold, (train_indices, valid_indices) in enumerate(kf.split(X = df_train_dummy)):\n",
    "    df_train_dummy.loc[valid_indices, 'kfold'] = fold"
   ]
  },
  {
   "cell_type": "code",
   "execution_count": 109,
   "id": "a0b0fd32",
   "metadata": {},
   "outputs": [],
   "source": [
    "useful_features = df_train_dummy.columns.difference(['Entry_id', 'risk_score_4', 'risk_score_5',\n",
    "                                                     'e_signed', 'total_months_employed','kfold'])\n",
    "test = df_test_dummy[df_test_dummy.columns.difference(['Entry_id','risk_score_4', 'risk_score_5',\n",
    "                                                       'e_signed', 'total_months_employed', 'kfold'])]\n",
    "predictions = []"
   ]
  },
  {
   "cell_type": "code",
   "execution_count": 110,
   "id": "9fd03891",
   "metadata": {},
   "outputs": [
    {
     "name": "stdout",
     "output_type": "stream",
     "text": [
      "0 0.7086579515760892\n",
      "1 0.6971319318720783\n",
      "2 0.6928242225592235\n",
      "3 0.7170228623150022\n",
      "4 0.7069782802968488\n",
      "5 0.7075509259259259\n",
      "0.7050276957575279\n"
     ]
    }
   ],
   "source": [
    "lgb_score = []\n",
    "for fold in range(6):\n",
    "    x_train = df_train_dummy[df_train_dummy['kfold'] != fold].reset_index(drop = True)\n",
    "    x_valid = df_train_dummy[df_train_dummy['kfold'] == fold].reset_index(drop = True)\n",
    "    \n",
    "    y_train = x_train['e_signed']\n",
    "    y_valid = x_valid['e_signed']\n",
    "    \n",
    "    x_train = x_train[useful_features]\n",
    "    x_valid = x_valid[useful_features]\n",
    "\n",
    "    \n",
    "    model = LGBMClassifier(random_state = 42, n_jobs = -1, n_estimators = 1474, learning_rate = 0.03372831097120445,\n",
    "                           colsample_bytree = 0.7257259813712209, max_depth = 6)\n",
    "    model.fit(x_train, y_train, early_stopping_rounds = 300, eval_set = [(x_valid, y_valid)], verbose = 1000)\n",
    "    y_pred = model.predict_proba(x_valid)\n",
    "    test_pred = model.predict_proba(test)\n",
    "    predictions.append(test_pred[:, -1])\n",
    "    score = roc_auc_score( y_valid, y_pred[:,-1])\n",
    "    lgb_score.append(score)\n",
    "    print(fold, score)\n",
    "print(np.mean(lgb_score))"
   ]
  },
  {
   "cell_type": "code",
   "execution_count": 111,
   "id": "9c5de711",
   "metadata": {},
   "outputs": [],
   "source": [
    "final_prediction = np.mean(np.column_stack(predictions), axis = 1)\n",
    "\n",
    "final_prediction = np.where(final_prediction >= 0.5, 1,0)\n",
    "\n",
    "Entry_id = df_test[['Entry_id']]\n",
    "e_signed = pd.DataFrame({'e_signed' : final_prediction})\n",
    "\n",
    "lgbm_cv_sub = pd.concat([Entry_id, e_signed], axis = 1)"
   ]
  },
  {
   "cell_type": "code",
   "execution_count": 112,
   "id": "53e41cd6",
   "metadata": {},
   "outputs": [],
   "source": [
    "lgbm_cv_sub.to_csv('lgbm_CV_sub.csv', index = False)"
   ]
  },
  {
   "cell_type": "markdown",
   "id": "417c136b",
   "metadata": {},
   "source": [
    "<a id='conclusions'></a>\n",
    "## <u> Conclusion"
   ]
  },
  {
   "cell_type": "markdown",
   "id": "5e31bb93",
   "metadata": {},
   "source": [
    "After carrying out this exploratory data analysis, the following conclusions were made:<br>\n",
    "1. Most applicants fall within the age brackets of **41-50(3,575/28.58%)** and **31-40(3,499/27.97%)**\n",
    "2. **1979** of all applicants who signed electronically are in the 31-40 age group, making it the highest occurring age group. \n",
    "3. **6,766/54.06%** of all applicants signed electronically.\n",
    "4. Applicants requesting for higher amounts (>\\\\$1500) are less likely to sign electronically.\n",
    "5. Applicants with higher incomes are less likely to sign electronically.\n",
    "6. **4,059 (60%)** of all applicants who signed electronically were _not_ homeowners."
   ]
  },
  {
   "cell_type": "markdown",
   "id": "cac42f39",
   "metadata": {},
   "source": [
    "<a id='references'></a>\n",
    "## <u> References"
   ]
  },
  {
   "cell_type": "markdown",
   "id": "a25c1511",
   "metadata": {},
   "source": [
    "- [Stackoverflow](https://stackoverflow.com/)\n",
    "- [Youtube](https://youtube.com)\n",
    "- [Lightgbm](https://lightgbm.readthedocs.io/en/v3.3.2/)"
   ]
  },
  {
   "cell_type": "code",
   "execution_count": null,
   "id": "fe46e149",
   "metadata": {},
   "outputs": [],
   "source": []
  }
 ],
 "metadata": {
  "kernelspec": {
   "display_name": "Python 3 (ipykernel)",
   "language": "python",
   "name": "python3"
  },
  "language_info": {
   "codemirror_mode": {
    "name": "ipython",
    "version": 3
   },
   "file_extension": ".py",
   "mimetype": "text/x-python",
   "name": "python",
   "nbconvert_exporter": "python",
   "pygments_lexer": "ipython3",
   "version": "3.9.12"
  },
  "toc": {
   "base_numbering": 1,
   "nav_menu": {},
   "number_sections": true,
   "sideBar": true,
   "skip_h1_title": false,
   "title_cell": "Table of Contents",
   "title_sidebar": "Contents",
   "toc_cell": false,
   "toc_position": {},
   "toc_section_display": true,
   "toc_window_display": false
  }
 },
 "nbformat": 4,
 "nbformat_minor": 5
}
