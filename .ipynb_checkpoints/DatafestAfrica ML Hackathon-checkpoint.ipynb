{
 "cells": [
  {
   "cell_type": "markdown",
   "id": "41313177",
   "metadata": {},
   "source": [
    "## DatafestAfrica ML Hackathon"
   ]
  },
  {
   "cell_type": "code",
   "execution_count": 14,
   "id": "6c2f8cb2",
   "metadata": {},
   "outputs": [],
   "source": [
    "# Importing libraries\n",
    "import numpy as np\n",
    "import pandas as pd\n",
    "import matplotlib.pyplot as plt\n",
    "import seaborn as sns\n",
    "sns.set_theme(style = 'darkgrid')\n",
    "sns.set_context('paper')\n",
    "base_color = sns.color_palette()[0]\n",
    "\n",
    "%matplotlib inline"
   ]
  },
  {
   "cell_type": "markdown",
   "id": "63da3ea2",
   "metadata": {},
   "source": [
    "## Table of Content( to be worked on later)\n",
    "Abstract\n",
    "\n",
    "wrangling\n",
    "\n",
    "eda"
   ]
  },
  {
   "cell_type": "markdown",
   "id": "c24c9596",
   "metadata": {},
   "source": [
    "## Abstract\n",
    " The aim of this project is to train a Machine Learning model to help a Financial Industry predict who is likely to complete an E-process application."
   ]
  },
  {
   "cell_type": "markdown",
   "id": "892d5c3f",
   "metadata": {},
   "source": [
    "## Preliminary  Wrangling"
   ]
  },
  {
   "cell_type": "code",
   "execution_count": 15,
   "id": "75126ed4",
   "metadata": {},
   "outputs": [],
   "source": [
    "# downloading the datasets programmatically (from Zion)\n",
    "test = pd.read_csv('test.csv')\n",
    "train = pd.read_csv('train.csv')"
   ]
  },
  {
   "cell_type": "markdown",
   "id": "1e83f024",
   "metadata": {},
   "source": [
    "We will be performing our wrangling on the train dataset."
   ]
  },
  {
   "cell_type": "markdown",
   "id": "f7f34b84",
   "metadata": {},
   "source": [
    "### Assessing"
   ]
  },
  {
   "cell_type": "code",
   "execution_count": 16,
   "id": "94bbdaed",
   "metadata": {
    "scrolled": false
   },
   "outputs": [
    {
     "name": "stdout",
     "output_type": "stream",
     "text": [
      "(12516, 21)\n",
      "****************************************\n",
      "<class 'pandas.core.frame.DataFrame'>\n",
      "RangeIndex: 12516 entries, 0 to 12515\n",
      "Data columns (total 21 columns):\n",
      " #   Column                Non-Null Count  Dtype  \n",
      "---  ------                --------------  -----  \n",
      " 0   Entry_id              12516 non-null  int64  \n",
      " 1   age                   12516 non-null  int64  \n",
      " 2   pay_schedule          12516 non-null  object \n",
      " 3   home_owner            12516 non-null  int64  \n",
      " 4   income                12516 non-null  int64  \n",
      " 5   months_employed       12516 non-null  int64  \n",
      " 6   years_employed        12516 non-null  int64  \n",
      " 7   current_address_year  12516 non-null  int64  \n",
      " 8   personal_account_m    12516 non-null  int64  \n",
      " 9   personal_account_y    12516 non-null  int64  \n",
      " 10  has_debt              12516 non-null  int64  \n",
      " 11  amount_requested      12516 non-null  int64  \n",
      " 12  risk_score            12516 non-null  int64  \n",
      " 13  risk_score_2          12516 non-null  float64\n",
      " 14  risk_score_3          12516 non-null  float64\n",
      " 15  risk_score_4          12516 non-null  float64\n",
      " 16  risk_score_5          12516 non-null  float64\n",
      " 17  ext_quality_score     12516 non-null  float64\n",
      " 18  ext_quality_score_2   12516 non-null  float64\n",
      " 19  inquiries_last_month  12516 non-null  int64  \n",
      " 20  e_signed              12516 non-null  int64  \n",
      "dtypes: float64(6), int64(14), object(1)\n",
      "memory usage: 2.0+ MB\n",
      "None\n",
      "****************************************\n",
      "Entry_id                12510\n",
      "age                        72\n",
      "pay_schedule                4\n",
      "home_owner                  2\n",
      "income                   1940\n",
      "months_employed            12\n",
      "years_employed             17\n",
      "current_address_year       13\n",
      "personal_account_m         12\n",
      "personal_account_y         15\n",
      "has_debt                    2\n",
      "amount_requested           93\n",
      "risk_score               1370\n",
      "risk_score_2            12307\n",
      "risk_score_3             3548\n",
      "risk_score_4            12388\n",
      "risk_score_5            12339\n",
      "ext_quality_score       12308\n",
      "ext_quality_score_2     12312\n",
      "inquiries_last_month       30\n",
      "e_signed                    2\n",
      "dtype: int64\n"
     ]
    },
    {
     "data": {
      "text/html": [
       "<div>\n",
       "<style scoped>\n",
       "    .dataframe tbody tr th:only-of-type {\n",
       "        vertical-align: middle;\n",
       "    }\n",
       "\n",
       "    .dataframe tbody tr th {\n",
       "        vertical-align: top;\n",
       "    }\n",
       "\n",
       "    .dataframe thead th {\n",
       "        text-align: right;\n",
       "    }\n",
       "</style>\n",
       "<table border=\"1\" class=\"dataframe\">\n",
       "  <thead>\n",
       "    <tr style=\"text-align: right;\">\n",
       "      <th></th>\n",
       "      <th>Entry_id</th>\n",
       "      <th>age</th>\n",
       "      <th>pay_schedule</th>\n",
       "      <th>home_owner</th>\n",
       "      <th>income</th>\n",
       "      <th>months_employed</th>\n",
       "      <th>years_employed</th>\n",
       "      <th>current_address_year</th>\n",
       "      <th>personal_account_m</th>\n",
       "      <th>personal_account_y</th>\n",
       "      <th>...</th>\n",
       "      <th>amount_requested</th>\n",
       "      <th>risk_score</th>\n",
       "      <th>risk_score_2</th>\n",
       "      <th>risk_score_3</th>\n",
       "      <th>risk_score_4</th>\n",
       "      <th>risk_score_5</th>\n",
       "      <th>ext_quality_score</th>\n",
       "      <th>ext_quality_score_2</th>\n",
       "      <th>inquiries_last_month</th>\n",
       "      <th>e_signed</th>\n",
       "    </tr>\n",
       "  </thead>\n",
       "  <tbody>\n",
       "    <tr>\n",
       "      <th>4175</th>\n",
       "      <td>2849543</td>\n",
       "      <td>50</td>\n",
       "      <td>weekly</td>\n",
       "      <td>1</td>\n",
       "      <td>3710</td>\n",
       "      <td>0</td>\n",
       "      <td>4</td>\n",
       "      <td>1</td>\n",
       "      <td>1</td>\n",
       "      <td>3</td>\n",
       "      <td>...</td>\n",
       "      <td>900</td>\n",
       "      <td>62500</td>\n",
       "      <td>0.773731</td>\n",
       "      <td>0.884539</td>\n",
       "      <td>0.644390</td>\n",
       "      <td>0.794508</td>\n",
       "      <td>0.725098</td>\n",
       "      <td>0.425098</td>\n",
       "      <td>3</td>\n",
       "      <td>1</td>\n",
       "    </tr>\n",
       "    <tr>\n",
       "      <th>4174</th>\n",
       "      <td>4203470</td>\n",
       "      <td>58</td>\n",
       "      <td>bi-weekly</td>\n",
       "      <td>1</td>\n",
       "      <td>3515</td>\n",
       "      <td>0</td>\n",
       "      <td>2</td>\n",
       "      <td>2</td>\n",
       "      <td>1</td>\n",
       "      <td>3</td>\n",
       "      <td>...</td>\n",
       "      <td>500</td>\n",
       "      <td>63150</td>\n",
       "      <td>0.692906</td>\n",
       "      <td>0.951719</td>\n",
       "      <td>0.791394</td>\n",
       "      <td>0.769415</td>\n",
       "      <td>0.767963</td>\n",
       "      <td>0.767963</td>\n",
       "      <td>9</td>\n",
       "      <td>0</td>\n",
       "    </tr>\n",
       "    <tr>\n",
       "      <th>268</th>\n",
       "      <td>1115491</td>\n",
       "      <td>32</td>\n",
       "      <td>bi-weekly</td>\n",
       "      <td>1</td>\n",
       "      <td>2150</td>\n",
       "      <td>0</td>\n",
       "      <td>4</td>\n",
       "      <td>5</td>\n",
       "      <td>2</td>\n",
       "      <td>4</td>\n",
       "      <td>...</td>\n",
       "      <td>500</td>\n",
       "      <td>45350</td>\n",
       "      <td>0.678445</td>\n",
       "      <td>0.875494</td>\n",
       "      <td>0.321949</td>\n",
       "      <td>0.388685</td>\n",
       "      <td>0.520434</td>\n",
       "      <td>0.320434</td>\n",
       "      <td>4</td>\n",
       "      <td>1</td>\n",
       "    </tr>\n",
       "    <tr>\n",
       "      <th>7059</th>\n",
       "      <td>8813284</td>\n",
       "      <td>44</td>\n",
       "      <td>weekly</td>\n",
       "      <td>1</td>\n",
       "      <td>2600</td>\n",
       "      <td>0</td>\n",
       "      <td>5</td>\n",
       "      <td>6</td>\n",
       "      <td>0</td>\n",
       "      <td>0</td>\n",
       "      <td>...</td>\n",
       "      <td>1200</td>\n",
       "      <td>60600</td>\n",
       "      <td>0.673059</td>\n",
       "      <td>0.935065</td>\n",
       "      <td>0.567890</td>\n",
       "      <td>0.773975</td>\n",
       "      <td>0.580461</td>\n",
       "      <td>0.680461</td>\n",
       "      <td>11</td>\n",
       "      <td>1</td>\n",
       "    </tr>\n",
       "    <tr>\n",
       "      <th>767</th>\n",
       "      <td>2525287</td>\n",
       "      <td>43</td>\n",
       "      <td>semi-monthly</td>\n",
       "      <td>0</td>\n",
       "      <td>4085</td>\n",
       "      <td>0</td>\n",
       "      <td>3</td>\n",
       "      <td>1</td>\n",
       "      <td>3</td>\n",
       "      <td>2</td>\n",
       "      <td>...</td>\n",
       "      <td>900</td>\n",
       "      <td>53300</td>\n",
       "      <td>0.554636</td>\n",
       "      <td>0.911340</td>\n",
       "      <td>0.576491</td>\n",
       "      <td>0.525849</td>\n",
       "      <td>0.276971</td>\n",
       "      <td>0.576971</td>\n",
       "      <td>12</td>\n",
       "      <td>1</td>\n",
       "    </tr>\n",
       "  </tbody>\n",
       "</table>\n",
       "<p>5 rows × 21 columns</p>\n",
       "</div>"
      ],
      "text/plain": [
       "      Entry_id  age  pay_schedule  home_owner  income  months_employed  \\\n",
       "4175   2849543   50        weekly           1    3710                0   \n",
       "4174   4203470   58     bi-weekly           1    3515                0   \n",
       "268    1115491   32     bi-weekly           1    2150                0   \n",
       "7059   8813284   44        weekly           1    2600                0   \n",
       "767    2525287   43  semi-monthly           0    4085                0   \n",
       "\n",
       "      years_employed  current_address_year  personal_account_m  \\\n",
       "4175               4                     1                   1   \n",
       "4174               2                     2                   1   \n",
       "268                4                     5                   2   \n",
       "7059               5                     6                   0   \n",
       "767                3                     1                   3   \n",
       "\n",
       "      personal_account_y  ...  amount_requested  risk_score  risk_score_2  \\\n",
       "4175                   3  ...               900       62500      0.773731   \n",
       "4174                   3  ...               500       63150      0.692906   \n",
       "268                    4  ...               500       45350      0.678445   \n",
       "7059                   0  ...              1200       60600      0.673059   \n",
       "767                    2  ...               900       53300      0.554636   \n",
       "\n",
       "      risk_score_3  risk_score_4  risk_score_5  ext_quality_score  \\\n",
       "4175      0.884539      0.644390      0.794508           0.725098   \n",
       "4174      0.951719      0.791394      0.769415           0.767963   \n",
       "268       0.875494      0.321949      0.388685           0.520434   \n",
       "7059      0.935065      0.567890      0.773975           0.580461   \n",
       "767       0.911340      0.576491      0.525849           0.276971   \n",
       "\n",
       "      ext_quality_score_2  inquiries_last_month  e_signed  \n",
       "4175             0.425098                     3         1  \n",
       "4174             0.767963                     9         0  \n",
       "268              0.320434                     4         1  \n",
       "7059             0.680461                    11         1  \n",
       "767              0.576971                    12         1  \n",
       "\n",
       "[5 rows x 21 columns]"
      ]
     },
     "execution_count": 16,
     "metadata": {},
     "output_type": "execute_result"
    }
   ],
   "source": [
    "# creating a simple function to return basic information on the dataset\n",
    "def info(df):\n",
    "    print(df.shape),\n",
    "    print('*' *40),\n",
    "    print(df.info())\n",
    "    print('*' *40)\n",
    "    print(df.nunique())\n",
    "    \n",
    "info(train)\n",
    "train.sample(5)"
   ]
  },
  {
   "cell_type": "code",
   "execution_count": 17,
   "id": "481d2902",
   "metadata": {},
   "outputs": [],
   "source": [
    "# creating a dataframe to house key numerical variables in the dataset \n",
    "num_vars = pd.DataFrame()\n",
    "num_vars['age'] = train['age']\n",
    "num_vars['income'] = train['income']\n",
    "num_vars['amount_requested'] = train['amount_requested']\n",
    "num_vars['risk_score'] = train['risk_score']"
   ]
  },
  {
   "cell_type": "code",
   "execution_count": 18,
   "id": "9274d49e",
   "metadata": {},
   "outputs": [
    {
     "data": {
      "text/html": [
       "<div>\n",
       "<style scoped>\n",
       "    .dataframe tbody tr th:only-of-type {\n",
       "        vertical-align: middle;\n",
       "    }\n",
       "\n",
       "    .dataframe tbody tr th {\n",
       "        vertical-align: top;\n",
       "    }\n",
       "\n",
       "    .dataframe thead th {\n",
       "        text-align: right;\n",
       "    }\n",
       "</style>\n",
       "<table border=\"1\" class=\"dataframe\">\n",
       "  <thead>\n",
       "    <tr style=\"text-align: right;\">\n",
       "      <th></th>\n",
       "      <th>age</th>\n",
       "      <th>income</th>\n",
       "      <th>amount_requested</th>\n",
       "      <th>risk_score</th>\n",
       "    </tr>\n",
       "  </thead>\n",
       "  <tbody>\n",
       "    <tr>\n",
       "      <th>count</th>\n",
       "      <td>12516.000000</td>\n",
       "      <td>12516.000000</td>\n",
       "      <td>12516.000000</td>\n",
       "      <td>12516.000000</td>\n",
       "    </tr>\n",
       "    <tr>\n",
       "      <th>mean</th>\n",
       "      <td>43.026766</td>\n",
       "      <td>3654.110658</td>\n",
       "      <td>950.251518</td>\n",
       "      <td>61133.401246</td>\n",
       "    </tr>\n",
       "    <tr>\n",
       "      <th>std</th>\n",
       "      <td>11.865891</td>\n",
       "      <td>1508.072163</td>\n",
       "      <td>706.915146</td>\n",
       "      <td>15396.809340</td>\n",
       "    </tr>\n",
       "    <tr>\n",
       "      <th>min</th>\n",
       "      <td>18.000000</td>\n",
       "      <td>905.000000</td>\n",
       "      <td>350.000000</td>\n",
       "      <td>2100.000000</td>\n",
       "    </tr>\n",
       "    <tr>\n",
       "      <th>25%</th>\n",
       "      <td>34.000000</td>\n",
       "      <td>2575.000000</td>\n",
       "      <td>600.000000</td>\n",
       "      <td>49450.000000</td>\n",
       "    </tr>\n",
       "    <tr>\n",
       "      <th>50%</th>\n",
       "      <td>42.000000</td>\n",
       "      <td>3255.000000</td>\n",
       "      <td>700.000000</td>\n",
       "      <td>61200.000000</td>\n",
       "    </tr>\n",
       "    <tr>\n",
       "      <th>75%</th>\n",
       "      <td>51.000000</td>\n",
       "      <td>4661.250000</td>\n",
       "      <td>1100.000000</td>\n",
       "      <td>72750.000000</td>\n",
       "    </tr>\n",
       "    <tr>\n",
       "      <th>max</th>\n",
       "      <td>96.000000</td>\n",
       "      <td>9985.000000</td>\n",
       "      <td>10200.000000</td>\n",
       "      <td>99750.000000</td>\n",
       "    </tr>\n",
       "  </tbody>\n",
       "</table>\n",
       "</div>"
      ],
      "text/plain": [
       "                age        income  amount_requested    risk_score\n",
       "count  12516.000000  12516.000000      12516.000000  12516.000000\n",
       "mean      43.026766   3654.110658        950.251518  61133.401246\n",
       "std       11.865891   1508.072163        706.915146  15396.809340\n",
       "min       18.000000    905.000000        350.000000   2100.000000\n",
       "25%       34.000000   2575.000000        600.000000  49450.000000\n",
       "50%       42.000000   3255.000000        700.000000  61200.000000\n",
       "75%       51.000000   4661.250000       1100.000000  72750.000000\n",
       "max       96.000000   9985.000000      10200.000000  99750.000000"
      ]
     },
     "execution_count": 18,
     "metadata": {},
     "output_type": "execute_result"
    }
   ],
   "source": [
    "# this returns summary statistics on key numerical variables in the dataset.\n",
    "num_vars.describe()"
   ]
  },
  {
   "cell_type": "code",
   "execution_count": 19,
   "id": "12d463d6",
   "metadata": {
    "scrolled": false
   },
   "outputs": [
    {
     "data": {
      "image/png": "[encoded data removed]",
      "text/plain": [
       "<Figure size 1440x576 with 4 Axes>"
      ]
     },
     "metadata": {
      "needs_background": "light"
     },
     "output_type": "display_data"
    }
   ],
   "source": [
    "# creating a simple visualization of these numerical variables\n",
    "num_vars.hist(figsize=(20, 8));"
   ]
  },
  {
   "cell_type": "code",
   "execution_count": 20,
   "id": "2cebfb66",
   "metadata": {},
   "outputs": [
    {
     "data": {
      "text/plain": [
       "43    402\n",
       "37    392\n",
       "42    388\n",
       "39    384\n",
       "34    382\n",
       "     ... \n",
       "86      2\n",
       "96      1\n",
       "83      1\n",
       "89      1\n",
       "87      1\n",
       "Name: age, Length: 72, dtype: int64"
      ]
     },
     "execution_count": 20,
     "metadata": {},
     "output_type": "execute_result"
    }
   ],
   "source": [
    "train.age.value_counts()"
   ]
  },
  {
   "cell_type": "markdown",
   "id": "340926f4",
   "metadata": {},
   "source": [
    "### Quick Observations\n",
    "\n",
    "- Most customers appear to be middle aged, as the mean age is 43 years."
   ]
  },
  {
   "cell_type": "code",
   "execution_count": 21,
   "id": "ca2f5bf3",
   "metadata": {},
   "outputs": [
    {
     "data": {
      "text/plain": [
       "False    12510\n",
       "True         6\n",
       "Name: Entry_id, dtype: int64"
      ]
     },
     "execution_count": 21,
     "metadata": {},
     "output_type": "execute_result"
    }
   ],
   "source": [
    "# checking key columns for dulicate entries\n",
    "train.Entry_id.duplicated().value_counts()"
   ]
  },
  {
   "cell_type": "markdown",
   "id": "6ffa99b7",
   "metadata": {},
   "source": [
    "### Issues\n",
    "\n",
    "- duplicate entries in the Entry_id column\n",
    "- The months_employed and years_employed columns should be merged into 1"
   ]
  },
  {
   "cell_type": "markdown",
   "id": "c6283c96",
   "metadata": {},
   "source": [
    "### Cleaning\n",
    "\n",
    "Before we commence cleaning, it is best to create a copy of the dataset upon which the cleaning will be done."
   ]
  },
  {
   "cell_type": "code",
   "execution_count": 22,
   "id": "d1cd4833",
   "metadata": {},
   "outputs": [],
   "source": [
    "train_copy = train.copy()"
   ]
  },
  {
   "cell_type": "markdown",
   "id": "d5f4e358",
   "metadata": {},
   "source": [
    "#### 1. Duplicate entries in the Entry_id column\n",
    "\n",
    "#### Define: The entry id column contains some duplicate entries that need to be dropped."
   ]
  },
  {
   "cell_type": "markdown",
   "id": "5b3f9203",
   "metadata": {},
   "source": [
    "#### Code "
   ]
  },
  {
   "cell_type": "code",
   "execution_count": 23,
   "id": "6a41eeb6",
   "metadata": {},
   "outputs": [
    {
     "data": {
      "text/plain": [
       "6"
      ]
     },
     "execution_count": 23,
     "metadata": {},
     "output_type": "execute_result"
    }
   ],
   "source": [
    "#test\n",
    "sum(train_copy.Entry_id.duplicated())"
   ]
  },
  {
   "cell_type": "code",
   "execution_count": 24,
   "id": "e3b642db",
   "metadata": {},
   "outputs": [],
   "source": [
    "train_copy.drop_duplicates(subset= 'Entry_id', inplace = True)"
   ]
  },
  {
   "cell_type": "code",
   "execution_count": 25,
   "id": "96b4082c",
   "metadata": {},
   "outputs": [
    {
     "data": {
      "text/plain": [
       "0"
      ]
     },
     "execution_count": 25,
     "metadata": {},
     "output_type": "execute_result"
    }
   ],
   "source": [
    "# confirmation \n",
    "sum(train_copy.Entry_id.duplicated())"
   ]
  },
  {
   "cell_type": "markdown",
   "id": "9836469f",
   "metadata": {},
   "source": [
    "#### 2. The months_employed and years_employed columns should be merged into 1\n",
    "\n",
    "#### Define: The columns should be merged to make it easier to work with them."
   ]
  },
  {
   "cell_type": "markdown",
   "id": "ca8a86e6",
   "metadata": {},
   "source": [
    "#### Code"
   ]
  },
  {
   "cell_type": "code",
   "execution_count": 33,
   "id": "356f85d9",
   "metadata": {},
   "outputs": [
    {
     "data": {
      "text/html": [
       "<div>\n",
       "<style scoped>\n",
       "    .dataframe tbody tr th:only-of-type {\n",
       "        vertical-align: middle;\n",
       "    }\n",
       "\n",
       "    .dataframe tbody tr th {\n",
       "        vertical-align: top;\n",
       "    }\n",
       "\n",
       "    .dataframe thead th {\n",
       "        text-align: right;\n",
       "    }\n",
       "</style>\n",
       "<table border=\"1\" class=\"dataframe\">\n",
       "  <thead>\n",
       "    <tr style=\"text-align: right;\">\n",
       "      <th></th>\n",
       "      <th>Entry_id</th>\n",
       "      <th>age</th>\n",
       "      <th>pay_schedule</th>\n",
       "      <th>home_owner</th>\n",
       "      <th>income</th>\n",
       "      <th>months_employed</th>\n",
       "      <th>years_employed</th>\n",
       "      <th>current_address_year</th>\n",
       "      <th>personal_account_m</th>\n",
       "      <th>personal_account_y</th>\n",
       "      <th>...</th>\n",
       "      <th>amount_requested</th>\n",
       "      <th>risk_score</th>\n",
       "      <th>risk_score_2</th>\n",
       "      <th>risk_score_3</th>\n",
       "      <th>risk_score_4</th>\n",
       "      <th>risk_score_5</th>\n",
       "      <th>ext_quality_score</th>\n",
       "      <th>ext_quality_score_2</th>\n",
       "      <th>inquiries_last_month</th>\n",
       "      <th>e_signed</th>\n",
       "    </tr>\n",
       "  </thead>\n",
       "  <tbody>\n",
       "    <tr>\n",
       "      <th>8806</th>\n",
       "      <td>4545029</td>\n",
       "      <td>63</td>\n",
       "      <td>bi-weekly</td>\n",
       "      <td>0</td>\n",
       "      <td>4220</td>\n",
       "      <td>0</td>\n",
       "      <td>5</td>\n",
       "      <td>9</td>\n",
       "      <td>4</td>\n",
       "      <td>8</td>\n",
       "      <td>...</td>\n",
       "      <td>3100</td>\n",
       "      <td>85700</td>\n",
       "      <td>0.732344</td>\n",
       "      <td>0.848660</td>\n",
       "      <td>0.664430</td>\n",
       "      <td>0.667411</td>\n",
       "      <td>0.712388</td>\n",
       "      <td>0.412388</td>\n",
       "      <td>6</td>\n",
       "      <td>0</td>\n",
       "    </tr>\n",
       "    <tr>\n",
       "      <th>3208</th>\n",
       "      <td>2636355</td>\n",
       "      <td>35</td>\n",
       "      <td>weekly</td>\n",
       "      <td>0</td>\n",
       "      <td>5205</td>\n",
       "      <td>0</td>\n",
       "      <td>3</td>\n",
       "      <td>2</td>\n",
       "      <td>3</td>\n",
       "      <td>1</td>\n",
       "      <td>...</td>\n",
       "      <td>900</td>\n",
       "      <td>63000</td>\n",
       "      <td>0.748060</td>\n",
       "      <td>0.882239</td>\n",
       "      <td>0.722196</td>\n",
       "      <td>0.752083</td>\n",
       "      <td>0.580816</td>\n",
       "      <td>0.680816</td>\n",
       "      <td>11</td>\n",
       "      <td>0</td>\n",
       "    </tr>\n",
       "    <tr>\n",
       "      <th>3054</th>\n",
       "      <td>5604122</td>\n",
       "      <td>56</td>\n",
       "      <td>bi-weekly</td>\n",
       "      <td>0</td>\n",
       "      <td>2075</td>\n",
       "      <td>0</td>\n",
       "      <td>2</td>\n",
       "      <td>0</td>\n",
       "      <td>2</td>\n",
       "      <td>2</td>\n",
       "      <td>...</td>\n",
       "      <td>600</td>\n",
       "      <td>62500</td>\n",
       "      <td>0.588714</td>\n",
       "      <td>0.921564</td>\n",
       "      <td>0.488205</td>\n",
       "      <td>0.667612</td>\n",
       "      <td>0.777674</td>\n",
       "      <td>0.677674</td>\n",
       "      <td>5</td>\n",
       "      <td>0</td>\n",
       "    </tr>\n",
       "  </tbody>\n",
       "</table>\n",
       "<p>3 rows × 21 columns</p>\n",
       "</div>"
      ],
      "text/plain": [
       "      Entry_id  age pay_schedule  home_owner  income  months_employed  \\\n",
       "8806   4545029   63    bi-weekly           0    4220                0   \n",
       "3208   2636355   35       weekly           0    5205                0   \n",
       "3054   5604122   56    bi-weekly           0    2075                0   \n",
       "\n",
       "      years_employed  current_address_year  personal_account_m  \\\n",
       "8806               5                     9                   4   \n",
       "3208               3                     2                   3   \n",
       "3054               2                     0                   2   \n",
       "\n",
       "      personal_account_y  ...  amount_requested  risk_score  risk_score_2  \\\n",
       "8806                   8  ...              3100       85700      0.732344   \n",
       "3208                   1  ...               900       63000      0.748060   \n",
       "3054                   2  ...               600       62500      0.588714   \n",
       "\n",
       "      risk_score_3  risk_score_4  risk_score_5  ext_quality_score  \\\n",
       "8806      0.848660      0.664430      0.667411           0.712388   \n",
       "3208      0.882239      0.722196      0.752083           0.580816   \n",
       "3054      0.921564      0.488205      0.667612           0.777674   \n",
       "\n",
       "      ext_quality_score_2  inquiries_last_month  e_signed  \n",
       "8806             0.412388                     6         0  \n",
       "3208             0.680816                    11         0  \n",
       "3054             0.677674                     5         0  \n",
       "\n",
       "[3 rows x 21 columns]"
      ]
     },
     "execution_count": 33,
     "metadata": {},
     "output_type": "execute_result"
    }
   ],
   "source": [
    "# test\n",
    "train_copy.sample(3)"
   ]
  },
  {
   "cell_type": "code",
   "execution_count": 28,
   "id": "2425f7f0",
   "metadata": {},
   "outputs": [],
   "source": [
    "train_copy['total_months_employed'] = (train_copy['years_employed']*12) + train_copy['months_employed']"
   ]
  },
  {
   "cell_type": "code",
   "execution_count": 34,
   "id": "72822b9e",
   "metadata": {},
   "outputs": [
    {
     "data": {
      "text/html": [
       "<div>\n",
       "<style scoped>\n",
       "    .dataframe tbody tr th:only-of-type {\n",
       "        vertical-align: middle;\n",
       "    }\n",
       "\n",
       "    .dataframe tbody tr th {\n",
       "        vertical-align: top;\n",
       "    }\n",
       "\n",
       "    .dataframe thead th {\n",
       "        text-align: right;\n",
       "    }\n",
       "</style>\n",
       "<table border=\"1\" class=\"dataframe\">\n",
       "  <thead>\n",
       "    <tr style=\"text-align: right;\">\n",
       "      <th></th>\n",
       "      <th>Entry_id</th>\n",
       "      <th>age</th>\n",
       "      <th>pay_schedule</th>\n",
       "      <th>home_owner</th>\n",
       "      <th>income</th>\n",
       "      <th>months_employed</th>\n",
       "      <th>years_employed</th>\n",
       "      <th>current_address_year</th>\n",
       "      <th>personal_account_m</th>\n",
       "      <th>personal_account_y</th>\n",
       "      <th>...</th>\n",
       "      <th>risk_score</th>\n",
       "      <th>risk_score_2</th>\n",
       "      <th>risk_score_3</th>\n",
       "      <th>risk_score_4</th>\n",
       "      <th>risk_score_5</th>\n",
       "      <th>ext_quality_score</th>\n",
       "      <th>ext_quality_score_2</th>\n",
       "      <th>inquiries_last_month</th>\n",
       "      <th>e_signed</th>\n",
       "      <th>total_months_employed</th>\n",
       "    </tr>\n",
       "  </thead>\n",
       "  <tbody>\n",
       "    <tr>\n",
       "      <th>12328</th>\n",
       "      <td>4417759</td>\n",
       "      <td>34</td>\n",
       "      <td>bi-weekly</td>\n",
       "      <td>0</td>\n",
       "      <td>2560</td>\n",
       "      <td>0</td>\n",
       "      <td>10</td>\n",
       "      <td>5</td>\n",
       "      <td>6</td>\n",
       "      <td>2</td>\n",
       "      <td>...</td>\n",
       "      <td>86000</td>\n",
       "      <td>0.734487</td>\n",
       "      <td>0.876594</td>\n",
       "      <td>0.838331</td>\n",
       "      <td>0.943895</td>\n",
       "      <td>0.713173</td>\n",
       "      <td>0.713173</td>\n",
       "      <td>3</td>\n",
       "      <td>1</td>\n",
       "      <td>120</td>\n",
       "    </tr>\n",
       "    <tr>\n",
       "      <th>2530</th>\n",
       "      <td>4422193</td>\n",
       "      <td>31</td>\n",
       "      <td>monthly</td>\n",
       "      <td>0</td>\n",
       "      <td>3130</td>\n",
       "      <td>0</td>\n",
       "      <td>2</td>\n",
       "      <td>0</td>\n",
       "      <td>3</td>\n",
       "      <td>3</td>\n",
       "      <td>...</td>\n",
       "      <td>61900</td>\n",
       "      <td>0.663225</td>\n",
       "      <td>0.864237</td>\n",
       "      <td>0.427233</td>\n",
       "      <td>0.614095</td>\n",
       "      <td>0.377773</td>\n",
       "      <td>0.377773</td>\n",
       "      <td>11</td>\n",
       "      <td>1</td>\n",
       "      <td>24</td>\n",
       "    </tr>\n",
       "    <tr>\n",
       "      <th>9929</th>\n",
       "      <td>8611218</td>\n",
       "      <td>28</td>\n",
       "      <td>semi-monthly</td>\n",
       "      <td>0</td>\n",
       "      <td>2785</td>\n",
       "      <td>0</td>\n",
       "      <td>2</td>\n",
       "      <td>4</td>\n",
       "      <td>7</td>\n",
       "      <td>2</td>\n",
       "      <td>...</td>\n",
       "      <td>56100</td>\n",
       "      <td>0.634571</td>\n",
       "      <td>0.855304</td>\n",
       "      <td>0.552783</td>\n",
       "      <td>0.763507</td>\n",
       "      <td>0.567187</td>\n",
       "      <td>0.767187</td>\n",
       "      <td>13</td>\n",
       "      <td>1</td>\n",
       "      <td>24</td>\n",
       "    </tr>\n",
       "  </tbody>\n",
       "</table>\n",
       "<p>3 rows × 22 columns</p>\n",
       "</div>"
      ],
      "text/plain": [
       "       Entry_id  age  pay_schedule  home_owner  income  months_employed  \\\n",
       "12328   4417759   34     bi-weekly           0    2560                0   \n",
       "2530    4422193   31       monthly           0    3130                0   \n",
       "9929    8611218   28  semi-monthly           0    2785                0   \n",
       "\n",
       "       years_employed  current_address_year  personal_account_m  \\\n",
       "12328              10                     5                   6   \n",
       "2530                2                     0                   3   \n",
       "9929                2                     4                   7   \n",
       "\n",
       "       personal_account_y  ...  risk_score  risk_score_2  risk_score_3  \\\n",
       "12328                   2  ...       86000      0.734487      0.876594   \n",
       "2530                    3  ...       61900      0.663225      0.864237   \n",
       "9929                    2  ...       56100      0.634571      0.855304   \n",
       "\n",
       "       risk_score_4  risk_score_5  ext_quality_score  ext_quality_score_2  \\\n",
       "12328      0.838331      0.943895           0.713173             0.713173   \n",
       "2530       0.427233      0.614095           0.377773             0.377773   \n",
       "9929       0.552783      0.763507           0.567187             0.767187   \n",
       "\n",
       "       inquiries_last_month  e_signed  total_months_employed  \n",
       "12328                     3         1                    120  \n",
       "2530                     11         1                     24  \n",
       "9929                     13         1                     24  \n",
       "\n",
       "[3 rows x 22 columns]"
      ]
     },
     "execution_count": 34,
     "metadata": {},
     "output_type": "execute_result"
    }
   ],
   "source": [
    "# confirmation\n",
    "train_copy.sample(3)"
   ]
  },
  {
   "cell_type": "markdown",
   "id": "68caeef7",
   "metadata": {},
   "source": [
    "### Structure of the dataset\n",
    "\n",
    "The train dataset intially contained 12,516 rows, and 21 columns. After assessing and cleaning the data, it now contains 12,510 rows and 21 columns."
   ]
  },
  {
   "cell_type": "markdown",
   "id": "e982856a",
   "metadata": {},
   "source": [
    "## <u>Exploratory Data Analysis."
   ]
  },
  {
   "cell_type": "markdown",
   "id": "47e58c6a",
   "metadata": {},
   "source": [
    "In this section of the project, we are going to be exploring multiple variables from the train dataset."
   ]
  },
  {
   "cell_type": "markdown",
   "id": "2e9c2b0c",
   "metadata": {},
   "source": [
    "## Univariate Exploration"
   ]
  },
  {
   "cell_type": "markdown",
   "id": "4d64d1ec",
   "metadata": {},
   "source": [
    "### Distribution of ages in the dataset."
   ]
  },
  {
   "cell_type": "code",
   "execution_count": 27,
   "id": "a360bc9b",
   "metadata": {},
   "outputs": [
    {
     "data": {
      "image/png": "[encoded data removed]",
      "text/plain": [
       "<Figure size 720x360 with 1 Axes>"
      ]
     },
     "metadata": {
      "needs_background": "light"
     },
     "output_type": "display_data"
    }
   ],
   "source": [
    "plt.figure(figsize=(10,5))\n",
    "plt.hist(train.age, color = base_color, bins = 20);\n",
    "plt.yticks(fontsize=14)\n",
    "plt.xticks(fontsize=14);"
   ]
  },
  {
   "cell_type": "markdown",
   "id": "097acdfc",
   "metadata": {},
   "source": [
    "The age distribution is slightly skewed right suggesting that there are more younger to middle aged customers i.e 20 to 40, than there are older customers i.e 50 to 90"
   ]
  },
  {
   "cell_type": "code",
   "execution_count": null,
   "id": "b9fa36dd",
   "metadata": {},
   "outputs": [],
   "source": []
  }
 ],
 "metadata": {
  "kernelspec": {
   "display_name": "Python 3 (ipykernel)",
   "language": "python",
   "name": "python3"
  },
  "language_info": {
   "codemirror_mode": {
    "name": "ipython",
    "version": 3
   },
   "file_extension": ".py",
   "mimetype": "text/x-python",
   "name": "python",
   "nbconvert_exporter": "python",
   "pygments_lexer": "ipython3",
   "version": "3.9.12"
  },
  "toc": {
   "base_numbering": 1,
   "nav_menu": {},
   "number_sections": true,
   "sideBar": true,
   "skip_h1_title": false,
   "title_cell": "Table of Contents",
   "title_sidebar": "Contents",
   "toc_cell": false,
   "toc_position": {},
   "toc_section_display": true,
   "toc_window_display": false
  }
 },
 "nbformat": 4,
 "nbformat_minor": 5
}
